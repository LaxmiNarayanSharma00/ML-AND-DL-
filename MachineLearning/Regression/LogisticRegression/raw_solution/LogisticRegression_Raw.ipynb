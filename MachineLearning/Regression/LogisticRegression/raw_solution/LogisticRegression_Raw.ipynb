{
 "cells": [
  {
   "cell_type": "code",
   "execution_count": 72,
   "metadata": {
    "collapsed": true
   },
   "outputs": [],
   "source": [
    "import os\n",
    "import itertools\n",
    "import numpy as np\n",
    "import pandas as pd\n",
    "import matplotlib.pyplot as plt\n",
    "\n",
    "from IPython.display import Image\n",
    "from tqdm import tnrange, tqdm_notebook\n",
    "from time import sleep\n",
    "from random import shuffle\n",
    "\n",
    "pd.options.mode.chained_assignment = None\n",
    "\n",
    "%matplotlib inline"
   ]
  },
  {
   "cell_type": "markdown",
   "metadata": {},
   "source": [
    "### Constants"
   ]
  },
  {
   "cell_type": "code",
   "execution_count": 73,
   "metadata": {
    "collapsed": true
   },
   "outputs": [],
   "source": [
    "DATASET_DIR = \"./TytanicDisasterData/\"\n",
    "TRAIN_DATA_FILE = \"train.csv\"\n",
    "TEST_DATA_FILE = \"test.csv\"\n",
    "\n",
    "TRAIN_SAMPLES = 891\n",
    "TEST_SAMPLES = 418"
   ]
  },
  {
   "cell_type": "markdown",
   "metadata": {},
   "source": [
    "### Dataset info\n",
    "\n",
    "- **Survived**: Outcome of survival (0 = No; 1 = Yes)\n",
    "- **Pclass**: Socio-economic class (1 = Upper class; 2 = Middle class; 3 = Lower class)\n",
    "- **Name**: Name of passenger\n",
    "- **Sex**: Sex of the passenger\n",
    "- **Age**: Age of the passenger (Some entries contain NaN)\n",
    "- **SibSp**: Number of siblings and spouses of the passenger aboard\n",
    "- **Parch**: Number of parents and children of the passenger aboard\n",
    "- **Ticket**: Ticket number of the passenger\n",
    "- **Fare**: Fare paid by the passenger\n",
    "- **Cabin**: Cabin number of the passenger (Some entries contain NaN)\n",
    "- **Embarked**: Port of embarkation of the passenger (C = Cherbourg; Q = Queenstown; S = Southampton)\n"
   ]
  },
  {
   "cell_type": "markdown",
   "metadata": {},
   "source": [
    "### Load data"
   ]
  },
  {
   "cell_type": "code",
   "execution_count": 74,
   "metadata": {
    "collapsed": true
   },
   "outputs": [],
   "source": [
    "df_train_raw = pd.read_csv(DATASET_DIR + TRAIN_DATA_FILE, engine=\"python\")\n",
    "df_test_raw = pd.read_csv(DATASET_DIR + TEST_DATA_FILE, engine=\"python\")"
   ]
  },
  {
   "cell_type": "markdown",
   "metadata": {},
   "source": [
    "I will merge the data to improve preprocessing and feature engineering process."
   ]
  },
  {
   "cell_type": "code",
   "execution_count": 75,
   "metadata": {},
   "outputs": [],
   "source": [
    "# Extracting survived data\n",
    "df_survived = df_train_raw[\"Survived\"].copy()\n",
    "df_train_raw.drop(\"Survived\", inplace=True, axis=1)\n",
    "\n",
    "# Creating dataframe with combined data\n",
    "df_combined = df_train_raw.append(df_test_raw)\n",
    "df_combined.reset_index(inplace=True)\n",
    "df_combined.drop(\"index\", inplace=True, axis=1)\n",
    "\n",
    "# Restoring extracted Survived parameter\n",
    "df_train_raw[\"Survived\"] = df_survived"
   ]
  },
  {
   "cell_type": "markdown",
   "metadata": {},
   "source": [
    "### Analyze data"
   ]
  },
  {
   "cell_type": "markdown",
   "metadata": {},
   "source": [
    "Checking num of samples and features"
   ]
  },
  {
   "cell_type": "code",
   "execution_count": 76,
   "metadata": {},
   "outputs": [
    {
     "name": "stdout",
     "output_type": "stream",
     "text": [
      "All Samples: 1309\n",
      "Train Samples: 891\n",
      "Test Samples: 418\n",
      "Features: ['PassengerId', 'Pclass', 'Name', 'Sex', 'Age', 'SibSp', 'Parch', 'Ticket', 'Fare', 'Cabin', 'Embarked']\n"
     ]
    }
   ],
   "source": [
    "print(\"All Samples: {}\".format(df_combined.shape[0]))\n",
    "print(\"Train Samples: {}\".format(df_train_raw.shape[0]))\n",
    "print(\"Test Samples: {}\".format(df_test_raw.shape[0]))\n",
    "print(\"Features: {}\".format(list(df_combined.columns)))"
   ]
  },
  {
   "cell_type": "code",
   "execution_count": 77,
   "metadata": {},
   "outputs": [
    {
     "data": {
      "text/html": [
       "<div>\n",
       "<style>\n",
       "    .dataframe thead tr:only-child th {\n",
       "        text-align: right;\n",
       "    }\n",
       "\n",
       "    .dataframe thead th {\n",
       "        text-align: left;\n",
       "    }\n",
       "\n",
       "    .dataframe tbody tr th {\n",
       "        vertical-align: top;\n",
       "    }\n",
       "</style>\n",
       "<table border=\"1\" class=\"dataframe\">\n",
       "  <thead>\n",
       "    <tr style=\"text-align: right;\">\n",
       "      <th></th>\n",
       "      <th>PassengerId</th>\n",
       "      <th>Pclass</th>\n",
       "      <th>Name</th>\n",
       "      <th>Sex</th>\n",
       "      <th>Age</th>\n",
       "      <th>SibSp</th>\n",
       "      <th>Parch</th>\n",
       "      <th>Ticket</th>\n",
       "      <th>Fare</th>\n",
       "      <th>Cabin</th>\n",
       "      <th>Embarked</th>\n",
       "    </tr>\n",
       "  </thead>\n",
       "  <tbody>\n",
       "    <tr>\n",
       "      <th>0</th>\n",
       "      <td>1</td>\n",
       "      <td>3</td>\n",
       "      <td>Braund, Mr. Owen Harris</td>\n",
       "      <td>male</td>\n",
       "      <td>22.0</td>\n",
       "      <td>1</td>\n",
       "      <td>0</td>\n",
       "      <td>A/5 21171</td>\n",
       "      <td>7.2500</td>\n",
       "      <td>NaN</td>\n",
       "      <td>S</td>\n",
       "    </tr>\n",
       "    <tr>\n",
       "      <th>1</th>\n",
       "      <td>2</td>\n",
       "      <td>1</td>\n",
       "      <td>Cumings, Mrs. John Bradley (Florence Briggs Th...</td>\n",
       "      <td>female</td>\n",
       "      <td>38.0</td>\n",
       "      <td>1</td>\n",
       "      <td>0</td>\n",
       "      <td>PC 17599</td>\n",
       "      <td>71.2833</td>\n",
       "      <td>C85</td>\n",
       "      <td>C</td>\n",
       "    </tr>\n",
       "    <tr>\n",
       "      <th>2</th>\n",
       "      <td>3</td>\n",
       "      <td>3</td>\n",
       "      <td>Heikkinen, Miss. Laina</td>\n",
       "      <td>female</td>\n",
       "      <td>26.0</td>\n",
       "      <td>0</td>\n",
       "      <td>0</td>\n",
       "      <td>STON/O2. 3101282</td>\n",
       "      <td>7.9250</td>\n",
       "      <td>NaN</td>\n",
       "      <td>S</td>\n",
       "    </tr>\n",
       "    <tr>\n",
       "      <th>3</th>\n",
       "      <td>4</td>\n",
       "      <td>1</td>\n",
       "      <td>Futrelle, Mrs. Jacques Heath (Lily May Peel)</td>\n",
       "      <td>female</td>\n",
       "      <td>35.0</td>\n",
       "      <td>1</td>\n",
       "      <td>0</td>\n",
       "      <td>113803</td>\n",
       "      <td>53.1000</td>\n",
       "      <td>C123</td>\n",
       "      <td>S</td>\n",
       "    </tr>\n",
       "    <tr>\n",
       "      <th>4</th>\n",
       "      <td>5</td>\n",
       "      <td>3</td>\n",
       "      <td>Allen, Mr. William Henry</td>\n",
       "      <td>male</td>\n",
       "      <td>35.0</td>\n",
       "      <td>0</td>\n",
       "      <td>0</td>\n",
       "      <td>373450</td>\n",
       "      <td>8.0500</td>\n",
       "      <td>NaN</td>\n",
       "      <td>S</td>\n",
       "    </tr>\n",
       "  </tbody>\n",
       "</table>\n",
       "</div>"
      ],
      "text/plain": [
       "   PassengerId  Pclass                                               Name  \\\n",
       "0            1       3                            Braund, Mr. Owen Harris   \n",
       "1            2       1  Cumings, Mrs. John Bradley (Florence Briggs Th...   \n",
       "2            3       3                             Heikkinen, Miss. Laina   \n",
       "3            4       1       Futrelle, Mrs. Jacques Heath (Lily May Peel)   \n",
       "4            5       3                           Allen, Mr. William Henry   \n",
       "\n",
       "      Sex   Age  SibSp  Parch            Ticket     Fare Cabin Embarked  \n",
       "0    male  22.0      1      0         A/5 21171   7.2500   NaN        S  \n",
       "1  female  38.0      1      0          PC 17599  71.2833   C85        C  \n",
       "2  female  26.0      0      0  STON/O2. 3101282   7.9250   NaN        S  \n",
       "3  female  35.0      1      0            113803  53.1000  C123        S  \n",
       "4    male  35.0      0      0            373450   8.0500   NaN        S  "
      ]
     },
     "execution_count": 77,
     "metadata": {},
     "output_type": "execute_result"
    }
   ],
   "source": [
    "df_combined.head()"
   ]
  },
  {
   "cell_type": "markdown",
   "metadata": {},
   "source": [
    "#### PassengerId\n",
    "I believe number of passenger had nothing to do with survival probability."
   ]
  },
  {
   "cell_type": "markdown",
   "metadata": {},
   "source": [
    "#### Pclass\n",
    "If we assume that rooms of specific class was located in part of ship closer to boats then this parameter could had some connection with survival probability. Rich people could have more \"power\" to survive."
   ]
  },
  {
   "cell_type": "code",
   "execution_count": 78,
   "metadata": {},
   "outputs": [],
   "source": [
    "# Checking for NaN values in dataframe\n",
    "assert df_combined[\"Pclass\"].isnull().values.any() == False"
   ]
  },
  {
   "cell_type": "code",
   "execution_count": 79,
   "metadata": {},
   "outputs": [
    {
     "name": "stdout",
     "output_type": "stream",
     "text": [
      "Unique values of Pclass parameter: {1, 2, 3}\n"
     ]
    }
   ],
   "source": [
    "print(\"Unique values of Pclass parameter: {}\".format(set(df_combined[\"Pclass\"].tolist())))"
   ]
  },
  {
   "cell_type": "code",
   "execution_count": 80,
   "metadata": {},
   "outputs": [],
   "source": [
    "df_pclass_survived = pd.concat([df_train_raw.loc[(df_train_raw[\"Pclass\"] == 1)][\"Survived\"],\n",
    "                                df_train_raw.loc[(df_train_raw[\"Pclass\"] == 2)][\"Survived\"],\n",
    "                                df_train_raw.loc[(df_train_raw[\"Pclass\"] == 3)][\"Survived\"]],\n",
    "                               axis=1, keys=[\"Class 1 Survival\", \"Class 2 Survival\", \"Class 3 Survival\"])\n"
   ]
  },
  {
   "cell_type": "code",
   "execution_count": 81,
   "metadata": {},
   "outputs": [
    {
     "data": {
      "text/plain": [
       "<matplotlib.text.Text at 0x10e513da0>"
      ]
     },
     "execution_count": 81,
     "metadata": {},
     "output_type": "execute_result"
    },
    {
     "data": {
      "image/png": "[encoded data removed]",
      "text/plain": [
       "<matplotlib.figure.Figure at 0x10e5044a8>"
      ]
     },
     "metadata": {},
     "output_type": "display_data"
    }
   ],
   "source": [
    "ax = df_pclass_survived[[\"Class 1 Survival\", \"Class 2 Survival\", \"Class 3 Survival\"]].plot.hist(\n",
    "         bins=np.arange(len(set(df_train_raw[\"Survived\"].tolist())) + 1) - 0.5, \n",
    "         stacked=True, xticks=range(0, int(df_train_raw[\"Survived\"].max() + 1)), \n",
    "         title=\"Survivability by wealth class\", colormap=\"Set1\")\n",
    "\n",
    "ax.set_xlabel(\"0 - Death, 1 - Survival\")\n",
    "ax.set_ylabel(\"Number of people\")"
   ]
  },
  {
   "cell_type": "markdown",
   "metadata": {},
   "source": [
    "We can clearly see that the richer class the larger percent of whole group has survived."
   ]
  },
  {
   "cell_type": "markdown",
   "metadata": {},
   "source": [
    "#### Name\n"
   ]
  },
  {
   "cell_type": "code",
   "execution_count": 82,
   "metadata": {},
   "outputs": [
    {
     "data": {
      "text/plain": [
       "0                               Braund, Mr. Owen Harris\n",
       "1     Cumings, Mrs. John Bradley (Florence Briggs Th...\n",
       "2                                Heikkinen, Miss. Laina\n",
       "3          Futrelle, Mrs. Jacques Heath (Lily May Peel)\n",
       "4                              Allen, Mr. William Henry\n",
       "5                                      Moran, Mr. James\n",
       "6                               McCarthy, Mr. Timothy J\n",
       "7                        Palsson, Master. Gosta Leonard\n",
       "8     Johnson, Mrs. Oscar W (Elisabeth Vilhelmina Berg)\n",
       "9                   Nasser, Mrs. Nicholas (Adele Achem)\n",
       "10                      Sandstrom, Miss. Marguerite Rut\n",
       "11                             Bonnell, Miss. Elizabeth\n",
       "12                       Saundercock, Mr. William Henry\n",
       "13                          Andersson, Mr. Anders Johan\n",
       "14                 Vestrom, Miss. Hulda Amanda Adolfina\n",
       "15                     Hewlett, Mrs. (Mary D Kingcome) \n",
       "16                                 Rice, Master. Eugene\n",
       "17                         Williams, Mr. Charles Eugene\n",
       "18    Vander Planke, Mrs. Julius (Emelia Maria Vande...\n",
       "19                              Masselmani, Mrs. Fatima\n",
       "Name: Name, dtype: object"
      ]
     },
     "execution_count": 82,
     "metadata": {},
     "output_type": "execute_result"
    }
   ],
   "source": [
    "df_combined[\"Name\"].head(20)"
   ]
  },
  {
   "cell_type": "markdown",
   "metadata": {},
   "source": [
    "Names should probably have some connection with survival probability - yet there is no information about those people in this dataset. It would need additional research on each persons history. \n",
    "\n",
    "But actually there might be another hint here. We have titles like \"Master\", \"Mr\", \"Miss\", \"Don\". We can get death ratio per class and average age of group."
   ]
  },
  {
   "cell_type": "code",
   "execution_count": 83,
   "metadata": {
    "collapsed": true
   },
   "outputs": [],
   "source": [
    "df_combined[\"Title\"] = df_combined[\"Name\"].apply(\n",
    "    lambda word: [w for w in word.split() if \".\" in w][0].replace(\".\", \"\"))"
   ]
  },
  {
   "cell_type": "code",
   "execution_count": 84,
   "metadata": {},
   "outputs": [
    {
     "name": "stdout",
     "output_type": "stream",
     "text": [
      "Unique values of Title parameter: {'Mme', 'Lady', 'Mr', 'Dona', 'Sir', 'Col', 'Jonkheer', 'Miss', 'Mrs', 'Countess', 'Ms', 'Mlle', 'Capt', 'Rev', 'Dr', 'Major', 'Don', 'Master'}\n"
     ]
    }
   ],
   "source": [
    "print(\"Unique values of Title parameter: {}\".format(set(df_combined[\"Title\"])))"
   ]
  },
  {
   "cell_type": "markdown",
   "metadata": {},
   "source": [
    "I will calculate average Age per Title values:"
   ]
  },
  {
   "cell_type": "code",
   "execution_count": 85,
   "metadata": {},
   "outputs": [],
   "source": [
    "df_title_age = df_combined.groupby(\"Title\", as_index=False)[\"Age\"].median()"
   ]
  },
  {
   "cell_type": "code",
   "execution_count": 86,
   "metadata": {},
   "outputs": [
    {
     "data": {
      "text/html": [
       "<div>\n",
       "<style>\n",
       "    .dataframe thead tr:only-child th {\n",
       "        text-align: right;\n",
       "    }\n",
       "\n",
       "    .dataframe thead th {\n",
       "        text-align: left;\n",
       "    }\n",
       "\n",
       "    .dataframe tbody tr th {\n",
       "        vertical-align: top;\n",
       "    }\n",
       "</style>\n",
       "<table border=\"1\" class=\"dataframe\">\n",
       "  <thead>\n",
       "    <tr style=\"text-align: right;\">\n",
       "      <th></th>\n",
       "      <th>Title</th>\n",
       "      <th>Age</th>\n",
       "    </tr>\n",
       "  </thead>\n",
       "  <tbody>\n",
       "    <tr>\n",
       "      <th>0</th>\n",
       "      <td>Capt</td>\n",
       "      <td>70.0</td>\n",
       "    </tr>\n",
       "    <tr>\n",
       "      <th>1</th>\n",
       "      <td>Col</td>\n",
       "      <td>54.5</td>\n",
       "    </tr>\n",
       "    <tr>\n",
       "      <th>2</th>\n",
       "      <td>Countess</td>\n",
       "      <td>33.0</td>\n",
       "    </tr>\n",
       "    <tr>\n",
       "      <th>3</th>\n",
       "      <td>Don</td>\n",
       "      <td>40.0</td>\n",
       "    </tr>\n",
       "    <tr>\n",
       "      <th>4</th>\n",
       "      <td>Dona</td>\n",
       "      <td>39.0</td>\n",
       "    </tr>\n",
       "    <tr>\n",
       "      <th>5</th>\n",
       "      <td>Dr</td>\n",
       "      <td>49.0</td>\n",
       "    </tr>\n",
       "    <tr>\n",
       "      <th>6</th>\n",
       "      <td>Jonkheer</td>\n",
       "      <td>38.0</td>\n",
       "    </tr>\n",
       "    <tr>\n",
       "      <th>7</th>\n",
       "      <td>Lady</td>\n",
       "      <td>48.0</td>\n",
       "    </tr>\n",
       "    <tr>\n",
       "      <th>8</th>\n",
       "      <td>Major</td>\n",
       "      <td>48.5</td>\n",
       "    </tr>\n",
       "    <tr>\n",
       "      <th>9</th>\n",
       "      <td>Master</td>\n",
       "      <td>4.0</td>\n",
       "    </tr>\n",
       "    <tr>\n",
       "      <th>10</th>\n",
       "      <td>Miss</td>\n",
       "      <td>22.0</td>\n",
       "    </tr>\n",
       "    <tr>\n",
       "      <th>11</th>\n",
       "      <td>Mlle</td>\n",
       "      <td>24.0</td>\n",
       "    </tr>\n",
       "    <tr>\n",
       "      <th>12</th>\n",
       "      <td>Mme</td>\n",
       "      <td>24.0</td>\n",
       "    </tr>\n",
       "    <tr>\n",
       "      <th>13</th>\n",
       "      <td>Mr</td>\n",
       "      <td>29.0</td>\n",
       "    </tr>\n",
       "    <tr>\n",
       "      <th>14</th>\n",
       "      <td>Mrs</td>\n",
       "      <td>35.5</td>\n",
       "    </tr>\n",
       "    <tr>\n",
       "      <th>15</th>\n",
       "      <td>Ms</td>\n",
       "      <td>28.0</td>\n",
       "    </tr>\n",
       "    <tr>\n",
       "      <th>16</th>\n",
       "      <td>Rev</td>\n",
       "      <td>41.5</td>\n",
       "    </tr>\n",
       "    <tr>\n",
       "      <th>17</th>\n",
       "      <td>Sir</td>\n",
       "      <td>49.0</td>\n",
       "    </tr>\n",
       "  </tbody>\n",
       "</table>\n",
       "</div>"
      ],
      "text/plain": [
       "       Title   Age\n",
       "0       Capt  70.0\n",
       "1        Col  54.5\n",
       "2   Countess  33.0\n",
       "3        Don  40.0\n",
       "4       Dona  39.0\n",
       "5         Dr  49.0\n",
       "6   Jonkheer  38.0\n",
       "7       Lady  48.0\n",
       "8      Major  48.5\n",
       "9     Master   4.0\n",
       "10      Miss  22.0\n",
       "11      Mlle  24.0\n",
       "12       Mme  24.0\n",
       "13        Mr  29.0\n",
       "14       Mrs  35.5\n",
       "15        Ms  28.0\n",
       "16       Rev  41.5\n",
       "17       Sir  49.0"
      ]
     },
     "execution_count": 86,
     "metadata": {},
     "output_type": "execute_result"
    }
   ],
   "source": [
    "df_title_age"
   ]
  },
  {
   "cell_type": "code",
   "execution_count": 87,
   "metadata": {},
   "outputs": [],
   "source": [
    "title_age_map = dict()\n",
    "for index, row in df_title_age.iterrows():\n",
    "    title_age_map[row[\"Title\"]] = row[\"Age\"]"
   ]
  },
  {
   "cell_type": "markdown",
   "metadata": {},
   "source": [
    "#### Sex \n",
    "Should have impact on survivability. Men body from biological perspective is stronger. Taking cultural aspect into consideraction gentelmen prioritized safety of women. Additionaly in history - whenever there was some disaster/war, children and women were protected first."
   ]
  },
  {
   "cell_type": "code",
   "execution_count": 88,
   "metadata": {
    "collapsed": true
   },
   "outputs": [],
   "source": [
    "# Checking for NaN values in dataframe\n",
    "assert df_combined[\"Sex\"].isnull().values.any() == False"
   ]
  },
  {
   "cell_type": "code",
   "execution_count": 89,
   "metadata": {},
   "outputs": [
    {
     "name": "stdout",
     "output_type": "stream",
     "text": [
      "Unique values of Sex parameter: {'male', 'female'}\n"
     ]
    }
   ],
   "source": [
    "print(\"Unique values of Sex parameter: {}\".format(set(df_combined[\"Sex\"].tolist())))"
   ]
  },
  {
   "cell_type": "code",
   "execution_count": 90,
   "metadata": {
    "collapsed": true
   },
   "outputs": [],
   "source": [
    "df_sex_survived = pd.concat([df_train_raw.loc[(df_train_raw[\"Sex\"] == \"female\")][\"Survived\"],\n",
    "                             df_train_raw.loc[(df_train_raw[\"Sex\"] == \"male\")][\"Survived\"]],\n",
    "                            axis=1, keys=[\"Female\", \"Male\"])"
   ]
  },
  {
   "cell_type": "code",
   "execution_count": 91,
   "metadata": {},
   "outputs": [
    {
     "data": {
      "text/plain": [
       "<matplotlib.text.Text at 0x109912320>"
      ]
     },
     "execution_count": 91,
     "metadata": {},
     "output_type": "execute_result"
    },
    {
     "data": {
      "image/png": "[encoded data removed]",
      "text/plain": [
       "<matplotlib.figure.Figure at 0x10e59ebe0>"
      ]
     },
     "metadata": {},
     "output_type": "display_data"
    }
   ],
   "source": [
    "ax = df_sex_survived[[\"Female\", \"Male\"]].plot.hist(\n",
    "         bins=np.arange(len(set(df_train_raw[\"Survived\"].tolist())) + 1) - 0.5, stacked=True, \n",
    "         xticks=range(0, int(df_train_raw[\"Survived\"].max() + 1)), title=\"Survivability by sex\", \n",
    "         colormap=\"Set1\")\n",
    "\n",
    "ax.set_xlabel(\"0 - Death, 1 - Survival\")\n",
    "ax.set_ylabel(\"Number of people\")"
   ]
  },
  {
   "cell_type": "markdown",
   "metadata": {},
   "source": [
    "It is very clear that majority of women survived and men died. Therefore we can assume that women were given priority during evacuation."
   ]
  },
  {
   "cell_type": "markdown",
   "metadata": {},
   "source": [
    "#### Age\n",
    "Older people and children has less stamina, and power to push their way through or survive in running crowd. Age should be good parameter for predicting survival probability."
   ]
  },
  {
   "cell_type": "code",
   "execution_count": 92,
   "metadata": {
    "collapsed": true
   },
   "outputs": [],
   "source": [
    "# Checking for NaN values in dataframe\n",
    "# assert df_combined[\"Age\"].isnull().values.any() == False"
   ]
  },
  {
   "cell_type": "markdown",
   "metadata": {},
   "source": [
    "There are null values in \"Age\" column. Perfoming dataset cleaning."
   ]
  },
  {
   "cell_type": "code",
   "execution_count": 93,
   "metadata": {},
   "outputs": [
    {
     "name": "stdout",
     "output_type": "stream",
     "text": [
      "Number of Nan values in Age column: 263\n"
     ]
    }
   ],
   "source": [
    "print(\"Number of Nan values in Age column: {}\".format(df_combined[\"Age\"].isnull().sum()))"
   ]
  },
  {
   "cell_type": "markdown",
   "metadata": {},
   "source": [
    "I will refill Age values with data retrieved from Title analysis."
   ]
  },
  {
   "cell_type": "code",
   "execution_count": 94,
   "metadata": {},
   "outputs": [
    {
     "name": "stdout",
     "output_type": "stream",
     "text": [
      "Number of Nan values in Age column: 0\n"
     ]
    }
   ],
   "source": [
    "# Refilling values in combined data\n",
    "for index, row in df_combined.iterrows():\n",
    "    if np.isnan(row[\"Age\"]):\n",
    "        df_combined.set_value(index, \"Age\", title_age_map[row[\"Title\"]])\n",
    "\n",
    "# Refilling values in train data for visualisation purposes\n",
    "df_train_raw[\"Age\"] = df_combined[\"Age\"].iloc[:TRAIN_SAMPLES]\n",
    "        \n",
    "print(\"Number of Nan values in Age column: {}\".format(df_combined[\"Age\"].isnull().sum()))"
   ]
  },
  {
   "cell_type": "code",
   "execution_count": 95,
   "metadata": {
    "collapsed": true
   },
   "outputs": [],
   "source": [
    "df_age_survived = pd.concat([df_train_raw.loc[(df_train_raw[\"Survived\"] == 0)][\"Age\"],\n",
    "                             df_train_raw.loc[(df_train_raw[\"Survived\"] == 1)][\"Age\"]],\n",
    "                            axis=1, keys=[\"Died\", \"Survived\"])"
   ]
  },
  {
   "cell_type": "code",
   "execution_count": 96,
   "metadata": {},
   "outputs": [
    {
     "data": {
      "text/plain": [
       "<matplotlib.text.Text at 0x10e779cc0>"
      ]
     },
     "execution_count": 96,
     "metadata": {},
     "output_type": "execute_result"
    },
    {
     "data": {
      "image/png": "[encoded data removed]",
      "text/plain": [
       "<matplotlib.figure.Figure at 0x10e59ef28>"
      ]
     },
     "metadata": {},
     "output_type": "display_data"
    }
   ],
   "source": [
    "ax = df_age_survived[[\"Died\", \"Survived\"]].plot.hist(\n",
    "         bins=np.arange(int(df_train_raw[\"Age\"].max()) + 1) - 0.5, stacked=True, \n",
    "         xticks=range(0, int(df_train_raw[\"Age\"].max()) + 1), title=\"Survivability by Age\", colormap=\"Set1\",\n",
    "         figsize=(20,10))\n",
    "\n",
    "ax.set_xlabel(\"Age\")\n",
    "ax.set_ylabel(\"Number of people\")"
   ]
  },
  {
   "cell_type": "code",
   "execution_count": 97,
   "metadata": {
    "collapsed": true
   },
   "outputs": [],
   "source": [
    "deaths_in_percents_per_age = list()\n",
    "age_list = list(range(0, int(df_train_raw[\"Age\"].max()), 10))\n",
    "for i, age in enumerate(age_list):\n",
    "    if i == len(age_list) - 1:\n",
    "        deaths_per_age = df_age_survived.loc[(df_age_survived[\"Died\"] >= age_list[i])].shape[0]\n",
    "        people_num_per_age = df_train_raw.loc[(df_train_raw[\"Age\"] >= age_list[i])].shape[0]\n",
    "    else:\n",
    "        deaths_per_age = df_age_survived.loc[(df_age_survived[\"Died\"] >= age_list[i]) \n",
    "                                            & (df_age_survived[\"Died\"] < age_list[i+1])].shape[0]\n",
    "        people_num_per_age = df_train_raw.loc[(df_train_raw[\"Age\"] >= age_list[i])\n",
    "                                              & (df_train_raw[\"Age\"] < age_list[i+1])].shape[0]\n",
    "    \n",
    "    if people_num_per_age > 0:\n",
    "        percent = deaths_per_age * 100 / people_num_per_age\n",
    "    else:\n",
    "        percent = 0\n",
    "\n",
    "    deaths_in_percents_per_age.append(percent)"
   ]
  },
  {
   "cell_type": "code",
   "execution_count": 98,
   "metadata": {},
   "outputs": [
    {
     "data": {
      "text/plain": [
       "<matplotlib.text.Text at 0x10ea01d68>"
      ]
     },
     "execution_count": 98,
     "metadata": {},
     "output_type": "execute_result"
    },
    {
     "data": {
      "image/png": "[encoded data removed]",
      "text/plain": [
       "<matplotlib.figure.Figure at 0x10e8e4748>"
      ]
     },
     "metadata": {},
     "output_type": "display_data"
    }
   ],
   "source": [
    "plt.plot(age_list, deaths_in_percents_per_age)\n",
    "plt.title(\"% of people died per age bucket\")\n",
    "plt.xlabel(\"Age\")\n",
    "plt.ylabel(\"% of people dead\")"
   ]
  },
  {
   "cell_type": "markdown",
   "metadata": {},
   "source": [
    "According to following graphs, we can say that death rate is much lower for people below 20 and much higher for people after 50 years old. "
   ]
  },
  {
   "cell_type": "markdown",
   "metadata": {},
   "source": [
    "#### SibSp - number of siblings and spouses"
   ]
  },
  {
   "cell_type": "markdown",
   "metadata": {},
   "source": [
    "I have no idea if this could have connection or not. Maybe if someone was in larger group then they helped each other rather than fighting to survive."
   ]
  },
  {
   "cell_type": "code",
   "execution_count": 99,
   "metadata": {
    "collapsed": true
   },
   "outputs": [],
   "source": [
    "# Checking for NaN values in dataframe\n",
    "assert df_combined[\"SibSp\"].isnull().values.any() == False"
   ]
  },
  {
   "cell_type": "code",
   "execution_count": 100,
   "metadata": {},
   "outputs": [
    {
     "name": "stdout",
     "output_type": "stream",
     "text": [
      "SibSp values: {0, 1, 2, 3, 4, 5, 8}\n"
     ]
    }
   ],
   "source": [
    "print(\"SibSp values: {}\".format(set(df_combined[\"SibSp\"].tolist())))"
   ]
  },
  {
   "cell_type": "code",
   "execution_count": 101,
   "metadata": {
    "collapsed": true
   },
   "outputs": [],
   "source": [
    "df_sibsp_survived = pd.concat([df_train_raw.loc[(df_train_raw[\"Survived\"] == 0)][\"SibSp\"],\n",
    "                               df_train_raw.loc[(df_train_raw[\"Survived\"] == 1)][\"SibSp\"]],\n",
    "                              axis=1, keys=[\"Died\", \"Survived\"])"
   ]
  },
  {
   "cell_type": "code",
   "execution_count": 102,
   "metadata": {},
   "outputs": [
    {
     "data": {
      "text/plain": [
       "<matplotlib.text.Text at 0x10f021240>"
      ]
     },
     "execution_count": 102,
     "metadata": {},
     "output_type": "execute_result"
    },
    {
     "data": {
      "image/png": "[encoded data removed]",
      "text/plain": [
       "<matplotlib.figure.Figure at 0x10ea25400>"
      ]
     },
     "metadata": {},
     "output_type": "display_data"
    }
   ],
   "source": [
    "ax = df_sibsp_survived[[\"Died\", \"Survived\"]].plot.hist(\n",
    "         bins=np.arange(len(set(df_train_raw[\"SibSp\"].tolist())) + 1) - 0.5, stacked=True, \n",
    "         xticks=range(0, int(df_train_raw[\"SibSp\"].max() + 1)), title=\"Survivability by SibSp\", colormap=\"Set1\")\n",
    "\n",
    "ax.set_xlabel(\"Number of siblings and spouses\")\n",
    "ax.set_ylabel(\"Number of people\")"
   ]
  },
  {
   "cell_type": "markdown",
   "metadata": {},
   "source": [
    "People with less siblings/spouses has smaller death ratio than those in larger families. "
   ]
  },
  {
   "cell_type": "markdown",
   "metadata": {},
   "source": [
    "#### Parch\n",
    "Maybe someone wanted rather their children to be saved or parents rather than himself."
   ]
  },
  {
   "cell_type": "code",
   "execution_count": 103,
   "metadata": {
    "collapsed": true
   },
   "outputs": [],
   "source": [
    "# Checking for NaN values in dataframe\n",
    "assert df_combined[\"Parch\"].isnull().values.any() == False"
   ]
  },
  {
   "cell_type": "code",
   "execution_count": 104,
   "metadata": {
    "collapsed": true
   },
   "outputs": [],
   "source": [
    "df_parch_survived = pd.concat([df_train_raw.loc[(df_train_raw[\"Survived\"] == 0)][\"Parch\"],\n",
    "                               df_train_raw.loc[(df_train_raw[\"Survived\"] == 1)][\"Parch\"]],\n",
    "                              axis=1, keys=[\"Died\", \"Survived\"])"
   ]
  },
  {
   "cell_type": "code",
   "execution_count": 105,
   "metadata": {},
   "outputs": [
    {
     "data": {
      "text/plain": [
       "<matplotlib.text.Text at 0x10f171630>"
      ]
     },
     "execution_count": 105,
     "metadata": {},
     "output_type": "execute_result"
    },
    {
     "data": {
      "image/png": "[encoded data removed]",
      "text/plain": [
       "<matplotlib.figure.Figure at 0x10f14fd30>"
      ]
     },
     "metadata": {},
     "output_type": "display_data"
    }
   ],
   "source": [
    "ax = df_parch_survived[[\"Died\", \"Survived\"]].plot.hist(\n",
    "         bins=np.arange(len(set(df_train_raw[\"Parch\"].tolist())) + 1) - 0.5, stacked=True, \n",
    "         xticks=range(0, int(df_train_raw[\"Parch\"].max() + 1)), title=\"Survivability by Parch\", colormap=\"Set1\")\n",
    "\n",
    "ax.set_xlabel(\"Number of parents and children abroad\")\n",
    "ax.set_ylabel(\"Number of people\")"
   ]
  },
  {
   "cell_type": "markdown",
   "metadata": {},
   "source": [
    "Again the larger group of pepople the smaller survivability ratio."
   ]
  },
  {
   "cell_type": "markdown",
   "metadata": {},
   "source": [
    "#### Companion"
   ]
  },
  {
   "cell_type": "markdown",
   "metadata": {},
   "source": [
    "Actually SibSp and Parch can be reduced to single parameter which says if someone was alone or not. Someone without parents/children/sibling/spouses was simply alone. And we can see in both parameters Parch and SibSp that the larger group of connected people the higher chance of death."
   ]
  },
  {
   "cell_type": "code",
   "execution_count": 106,
   "metadata": {
    "collapsed": true
   },
   "outputs": [],
   "source": [
    "df_combined[\"Companion\"] = df_combined[\"Parch\"] + df_combined[\"SibSp\"]"
   ]
  },
  {
   "cell_type": "markdown",
   "metadata": {},
   "source": [
    "#### Family Size"
   ]
  },
  {
   "cell_type": "markdown",
   "metadata": {},
   "source": [
    "It is also possible to higlight some info about family size. Those with family size larger than 3 has much higher death ratio."
   ]
  },
  {
   "cell_type": "code",
   "execution_count": 107,
   "metadata": {
    "collapsed": true
   },
   "outputs": [],
   "source": [
    "df_combined[\"SmallFamily\"] = df_combined[\"Companion\"].apply(lambda x: 1 if 1 <= x <= 2 else 0)\n",
    "df_combined[\"LargeFamily\"] = df_combined[\"Companion\"].apply(lambda x: 1 if 3 <= x else 0)"
   ]
  },
  {
   "cell_type": "markdown",
   "metadata": {},
   "source": [
    "#### Alone"
   ]
  },
  {
   "cell_type": "markdown",
   "metadata": {},
   "source": [
    "Another parameter possible to be engineered."
   ]
  },
  {
   "cell_type": "code",
   "execution_count": 108,
   "metadata": {
    "collapsed": true
   },
   "outputs": [],
   "source": [
    "df_combined[\"Alone\"] = df_combined[\"Companion\"].apply(lambda x: 1 if x == 0 else 0)"
   ]
  },
  {
   "cell_type": "markdown",
   "metadata": {},
   "source": [
    "#### Ticket & Fare\n",
    "There are only ticket names and prices. It won't probably be any use - but I wonder if staff of Titanic had any special ticket names or fares. There might be possibility that hey had to enter boats as last - because they help with saving people and that lead to their death."
   ]
  },
  {
   "cell_type": "code",
   "execution_count": 109,
   "metadata": {},
   "outputs": [],
   "source": [
    "# Checking for NaN values in dataframe\n",
    "assert df_combined[\"Ticket\"].isnull().values.any() == False\n",
    "# assert df_combined[\"Fare\"].isnull().values.any() == False"
   ]
  },
  {
   "cell_type": "markdown",
   "metadata": {},
   "source": [
    "Data has \"Nan\" values in \"Fare\" field. Replacing with mean."
   ]
  },
  {
   "cell_type": "code",
   "execution_count": 110,
   "metadata": {},
   "outputs": [
    {
     "name": "stdout",
     "output_type": "stream",
     "text": [
      "Number of Nan values in Fare column: 1\n"
     ]
    }
   ],
   "source": [
    "print(\"Number of Nan values in Fare column: {}\".format(df_combined[\"Fare\"].isnull().sum()))"
   ]
  },
  {
   "cell_type": "code",
   "execution_count": 111,
   "metadata": {},
   "outputs": [
    {
     "name": "stdout",
     "output_type": "stream",
     "text": [
      "Number of Nan values in Fare column: 0\n"
     ]
    }
   ],
   "source": [
    "df_combined[\"Fare\"].fillna(df_combined[\"Fare\"].mean(), inplace=True)\n",
    "\n",
    "print(\"Number of Nan values in Fare column: {}\".format(df_combined[\"Fare\"].isnull().sum()))"
   ]
  },
  {
   "cell_type": "code",
   "execution_count": 112,
   "metadata": {},
   "outputs": [
    {
     "name": "stdout",
     "output_type": "stream",
     "text": [
      "Ticket values: {'STON/O 2. 3101289', 'A/5 2466', 'W./C. 6609', '349231', '2678', 'SOTON/O.Q. 3101306', '33638', '2628', 'PC 17755', 'PC 17760', '240261', 'A/5 21173', '236854', 'SOTON/O.Q. 3101305', 'PC 17603', '371060', '2674', '334915', '110564', 'PC 17596', '237393', 'W./C. 6608', '4134', '347089', 'A/5 2817', 'C.A. 37671', 'A/5. 851', '368702', '244252', 'C.A. 18723', '345773', '248734', 'PC 17607', '11753', '17474', '111320', '347090', 'S.W./PP 752', '31418', '334912', 'C.A. 34260', '350408', '113791', 'SC/PARIS 2159', '244360', '345764', '5727', 'W./C. 6607', '112053', '2692', 'SC/AH 3085', '2641', '364498', '236171', '315092', '343120', '28664', '2683', '250649', '31027', '2689', 'SC/PARIS 2166', '382649', '11765', 'SOTON/OQ 3101317', '312991', '349212', 'A.5. 11206', 'SOTON/O.Q. 392078', 'STON/O 2. 3101268', '7935', '330932', '237216', '19928', '350404', '364516', 'SC/PARIS 2167', '248747', '110152', '349222', '236853', '29750', '2223', '350060', '2665', '31028', 'PP 9549', 'SC/PARIS 2133', '364499', 'C.A. 29178', '2657', '349241', '34218', 'A/5. 3337', '11767', '392096', '2660', 'A/5 1478', '16988', '359306', '349208', '244346', '315085', '382652', '350409', '28403', '2661', '19988', '345498', '350043', '234818', 'SC/PARIS 2168', 'STON/O 2. 3101274', '345781', '335432', '113038', '112051', '244373', 'PC 17610', '2688', '2621', 'SOTON/O2 3101284', '6563', '35851', '237789', '14313', '14312', '2675', '335677', '348121', 'PC 17591', '368573', '8475', 'F.C.C. 13529', 'A/5 3594', '65305', '3101267', '330844', '17770', '367230', '237736', '2651', '345768', '13049', 'SC/PARIS 2146', '2662', '231919', '113796', '347471', '371110', '113503', '250644', '36209', '2677', '239853', '376563', '113505', '7553', 'C.A. 34050', 'PC 17605', '19877', '368402', 'A4. 54510', 'PC 17611', 'F.C.C. 13531', '350047', '113780', '367655', '350045', '237798', '7598', '342684', 'STON/O 2. 3101292', '350406', '19950', '113054', '368783', '347071', '367226', '365222', '13508', 'W./C. 14263', '347066', '29106', 'PC 17572', '230080', '13509', '348122', 'C.A. 34644', '343095', '2684', '250652', 'C.A. 31921', '14311', '367229', '384461', '244270', '13213', 'SOTON/OQ 392082', 'SOTON/OQ 392083', '17475', '11771', '345780', '242963', '2926', '113028', '324669', 'C.A. 31030', '28665', '21228', '695', '315094', '113794', '368703', 'S.O.P. 1166', 'S.O./P.P. 3', '3101265', 'SOTON/O.Q. 3101315', '2673', '350046', '376566', '27042', '347061', '347742', '113807', '2668', '29103', '2543', '2687', '364500', '3101296', 'PC 17582', '237249', '347080', '248746', '349216', '347466', '11967', '113800', '347087', '370365', '2667', '3701', '347075', '113044', '29011', '226875', '8471', '3101298', 'PC 17590', '7534', '349229', 'SC/PARIS 2147', '111428', 'C.A. 31029', '3101266', 'A/4 48871', '347060', '347082', '226593', '341826', '36866', '349255', '239865', '4133', '315152', '312992', '230136', 'PC 17477', '220844', '4138', 'STON/O 2. 3101288', 'SOTON/O.Q. 392087', 'A/5 21172', '239855', '3470', '250643', '2696', '349209', '345783', '383162', '2698', '13050', 'WE/P 5735', 'PC 17593', '14973', '228414', '349244', '350054', '363611', 'F.C.C. 13534', 'C.A. 17248', 'PC 17580', '330959', '349912', '349245', '349249', '17453', '244368', '349202', '347069', '359309', 'A.5. 18509', '365237', 'PC 17558', 'C.A. 33595', '2625', '347077', '1222', 'A.5. 3236', '2690', '248733', '363291', '350034', '392091', '370371', 'C.A. 31026', '382651', 'SC/Paris 2163', '364512', '349254', '112050', '364859', '374746', 'STON/O 2. 3101275', '347465', '113050', 'C.A. 30769', 'PC 17531', '250653', '345572', '35852', '349215', 'C.A. 2673', '347074', '345765', '383123', '383121', 'AQ/3. 30631', '350410', '349257', '110489', 'PC 17761', '112377', '367228', 'PC 17608', '36973', 'SOTON/O.Q. 3101262', 'W./C. 14260', '36947', '349214', 'C.A. 5547', '330963', '113760', '349207', '244278', '330972', '334914', '113781', '36967', '349240', 'S.O.C. 14879', '17764', '28551', '229236', '211536', '350405', '220845', '348125', '113776', '392092', '365235', '13905', '1601', 'PC 17318', 'A/5 3540', '349250', '315086', '4136', '349236', 'F.C.C. 13540', '349223', '113787', 'PC 17562', '7267', 'PC 17482', '11774', '345767', '237670', 'STON/O2. 3101271', 'CA. 2343', '211535', '315154', 'SC/A.3 2861', '330958', 'PC 17473', '11778', 'A/4 31416', 'STON/O 2. 3101280', '2669', '9232', '113792', '35281', 'SOTON/OQ 392089', '11752', 'PC 17595', 'PC 17475', '345771', '345763', '218629', '250647', '315089', '2656', '330910', '13568', '364856', 'A/5. 3336', 'STON/O2. 3101290', '2679', 'C.A. 34651', '24065', '330919', '364848', '347062', '2676', '235509', '248698', 'C 7076', 'A. 2. 39186', '231945', '2648', 'PC 17597', 'PC 17594', '7548', '54636', '364506', 'C 7075', 'SC/AH 29037', '370374', '28206', 'W./C. 14266', '2655', '371109', '248731', '370375', 'A/4. 39886', 'SW/PP 751', 'PC 17613', 'CA. 2314', '2671', '348124', '364851', '113795', 'SOTON/O.Q. 3101310', '230433', '250651', '32302', 'PC 17569', '233866', '2670', '349201', '3410', '113514', '2631', '12460', 'PC 17474', 'PC 17599', 'C 17368', '7266', '113509', '248744', '3460', '365226', '19943', 'PC 17600', 'SOTON/O.Q. 3101314', '13502', '244310', 'PC 17609', '111426', '2659', 'STON/O 2. 3101293', '342441', '374910', '2691', '364511', '370376', '113806', '347470', 'SOTON/O.Q. 3101263', 'PC 17483', '28666', 'A/S 2816', '680', '2654', '349910', '113788', 'SC 1748', 'LINE', '28424', '17464', 'SOTON/OQ 3101316', 'A/5 3536', '111369', '113572', 'A/5 21175', '113510', '315095', '315083', '349237', '240929', '113059', '350048', '350029', '236852', '350033', '244361', '113783', 'PC 17585', '386525', '26707', 'STON/O 2. 3101273', '349210', 'A/5. 13032', '330920', '394140', 'STON/O 2. 3101285', 'P/PP 3381', '323951', '250650', '350036', '315088', 'PC 17754', '349252', '315087', '24160', '2629', '345778', '330935', 'C.A./SOTON 34068', 'PC 17592', 'W/C 14208', '349238', '113786', '2624', 'S.O./P.P. 751', '343276', 'A./5. 3338', '7545', '347070', '330979', '364858', '371362', 'C 17369', '113778', '28221', '363294', 'STON/O2. 3101282', '364849', 'S.P. 3464', 'PC 17485', '250655', 'A/4. 20589', 'SC/A4 23568', '11769', '113790', '237668', 'STON/O 2. 3101269', '345364', '349909', '693', '349911', '347467', '315153', '28404', '28220', '343275', '237735', '112052', 'C 7077', '243880', 'SC/Paris 2123', 'F.C. 12750', '112379', 'C.A. 33112', '112059', '7552', '347073', '370377', '239856', 'S.C./PARIS 2079', 'SOTON/O.Q. 3101308', '2652', '342712', '234360', 'SOTON/O2 3101287', '345777', 'W.E.P. 5734', '350042', '347072', 'SOTON/OQ 392076', '17465', '315091', '315084', '11755', '349253', '349205', '17421', '2697', '27267', '2672', '237565', '248706', '392095', 'C.A. 29566', '312993', 'SOTON/OQ 392086', '16966', '350035', '2620', '347063', 'F.C.C. 13528', '370368', '13214', '111163', '349256', 'W./C. 14258', 'SC/AH Basle 541', 'Fa 265302', '28004', 'SOTON/O.Q. 3101311', '370129', '2627', '113784', '349203', '113801', '329944', 'SOTON/O.Q. 3101309', '248726', '345774', '2680', '7538', '370369', 'PC 17598', '237734', '12233', '347469', '239059', '349218', 'C.A. 24579', '350026', '349235', '112058', '19947', '347079', '2685', '367227', '36568', '110813', '349221', '358585', '234686', '350052', 'A/5 21174', '2681', '3101264', 'PC 17612', '349232', 'PC 17604', '112378', 'A/4. 34244', 'F.C. 12998', '36865', '373450', '2650', '219533', '347468', 'STON/O2. 3101270', '363272', '233639', '315037', '239854', '370370', '345769', '113055', 'PC 17757', '364846', '367232', '349246', '19972', '3101276', '244367', '323592', '111361', '349230', '335097', '349243', '370372', '111427', '349225', '2686', '349213', 'SCO/W 1585', '110465', '382650', 'C.A. 42795', '349220', 'CA 2144', '113773', 'S.O./P.P. 752', '367231', '330980', '243847', '113803', '112901', '3101297', 'PC 17606', 'SOTON/OQ 392090', '36864', 'SO/C 14885', '13695', '347065', '4135', '336439', '330968', '350053', 'PC 17759', 'SC/PARIS 2131', '348123', '349247', '2695', 'AQ/4 3130', '347068', '113056', 'A./5. 3235', 'C.A. 24580', 'S.C./A.4. 23567', '345779', '250648', '2666', '349211', '345770', '11813', '17466', '248659', '3101278', '2694', '347083', '2647', '26360', '2626', '65304', '349228', '2663', '11751', '376564', '19924', '113798', '248740', 'A/5 21171', '3411', '65306', 'STON/O2. 3101279', 'C.A. 33111', '12749', '330923', '347064', '2658', '21440', '349227', '113767', '2693', '28425', '349234', '4137', '349226', 'PC 17601', '350417', '347086', 'C 4001', '347078', '28133', 'PP 4348', '349251', '350403', '3101281', '28034', '36928', 'S.O./P.P. 251', '230434', '315093', '347081', '347743', '113051', '330931', 'SOTON/O2 3101272', '374887', '113789', '11668', 'A/5 3902', 'PC 17476', '315151', '315082', 'C.A. 6212', '28134', '349239', '233734', '330911', 'A/5. 10482', '29751', '2653', '13567', '234604', 'STON/OQ. 369943', 'STON/O2. 3101283', '28228', '3101277', '237442', '27849', 'STON/O 2. 3101294', 'CA 31352', '28213', '113501', '350416', '248723', '694', '363592', 'SC/PARIS 2148', '13236', '2699', '382653', 'SOTON/O.Q. 3101307', '349233', '347067', '349219', 'PC 17756', '370373', 'SOTON/O.Q. 3101312', '220367', '347088', '2623', '4579', '13507', '2003', '315096', 'STON/O 2. 3101286', '2908', '248738', '349206', '21332', '2700', '2649', '19952', '347091', '19996', '7540', '347085', '110413', 'SC/PARIS 2149', '362316', '347054', '113804', '223596', '368323', '345775', 'SC 14888', '347076', '244358', '250646', '350025', '350050', '368364', '110469', '237671', 'A/5. 2151', '17463', '3474', '349204', 'LP 1588', '343271', '233478', '330971', 'A/4 45380', '349224', '315098', '347464', '29105', '315097', 'C.A. 2315', 'C.A. 49867', '2622', 'PC 17758', '248727', '345501', 'A./5. 2152', '113043', '330924', '364850', '350407', '111240', '36963', '240276', '372622', '349248', '342826', '366713', '17765', '29104', 'A/4 48873', '11770', '7546', '35273', '29107', '65303', '330877', '349217', 'C.A. 29395', 'C.A. 15185', '315090', 'STON/O 2. 3101291', '9234', '2682', '349242', '112277', 'S.O./P.P. 2', '330909', '3101295', '29108', '2664'}\n"
     ]
    }
   ],
   "source": [
    "print(\"Ticket values: {}\".format(set(df_combined[\"Ticket\"].tolist())))"
   ]
  },
  {
   "cell_type": "code",
   "execution_count": 113,
   "metadata": {},
   "outputs": [
    {
     "name": "stdout",
     "output_type": "stream",
     "text": [
      "Ticket values: [0.0, 3.1708, 4.0125, 5.0, 6.2375, 6.4375, 6.45, 6.4958, 6.75, 6.8583, 6.95, 6.975, 7.0, 7.0458, 7.05, 7.0542, 7.125, 7.1417, 7.225, 7.2292, 7.25, 7.2833, 7.3125, 7.4958, 7.5208, 7.55, 7.575, 7.5792, 7.6292, 7.65, 7.7208, 7.725, 7.7292, 7.7333, 7.7375, 7.7417, 7.75, 7.775, 7.7792, 7.7875, 7.7958, 7.8, 7.8208, 7.8292, 7.85, 7.8542, 7.875, 7.8792, 7.8875, 7.8958, 7.925, 8.0292, 8.05, 8.1125, 8.1375, 8.1583, 8.3, 8.3625, 8.4042, 8.4333, 8.4583, 8.5167, 8.6542, 8.6625, 8.6833, 8.7125, 8.85, 8.9625, 9.0, 9.2167, 9.225, 9.325, 9.35, 9.475, 9.4833, 9.5, 9.5875, 9.6875, 9.825, 9.8375, 9.8417, 9.8458, 10.1708, 10.4625, 10.5, 10.5167, 10.7083, 11.1333, 11.2417, 11.5, 12.0, 12.1833, 12.275, 12.2875, 12.35, 12.475, 12.525, 12.65, 12.7375, 12.875, 13.0, 13.4167, 13.5, 13.775, 13.7917, 13.8583, 13.8625, 13.9, 14.0, 14.1083, 14.4, 14.4542, 14.4583, 14.5, 15.0, 15.0333, 15.0458, 15.05, 15.1, 15.2458, 15.5, 15.55, 15.5792, 15.7417, 15.75, 15.85, 15.9, 16.0, 16.1, 16.7, 17.4, 17.8, 18.0, 18.75, 18.7875, 19.2583, 19.5, 19.9667, 20.2125, 20.25, 20.525, 20.575, 21.0, 21.075, 21.6792, 22.025, 22.3583, 22.525, 23.0, 23.25, 23.45, 24.0, 24.15, 25.4667, 25.5875, 25.7, 25.7417, 25.925, 25.9292, 26.0, 26.25, 26.2833, 26.2875, 26.3875, 26.55, 27.0, 27.4458, 27.7208, 27.75, 27.9, 28.5, 28.5375, 28.7125, 29.0, 29.125, 29.7, 30.0, 30.0708, 30.5, 30.6958, 31.0, 31.275, 31.3875, 31.5, 31.6792, 31.6833, 32.3208, 32.5, 33.0, 33.29547928134557, 33.5, 34.0208, 34.375, 34.6542, 35.0, 35.5, 36.75, 37.0042, 38.5, 39.0, 39.4, 39.6, 39.6875, 40.125, 41.5792, 42.4, 42.5, 45.5, 46.9, 47.1, 49.5, 49.5042, 50.0, 50.4958, 51.4792, 51.8625, 52.0, 52.5542, 53.1, 55.0, 55.4417, 55.9, 56.4958, 56.9292, 57.0, 57.75, 57.9792, 59.4, 60.0, 61.175, 61.3792, 61.9792, 63.3583, 65.0, 66.6, 69.3, 69.55, 71.0, 71.2833, 73.5, 75.2417, 75.25, 76.2917, 76.7292, 77.2875, 77.9583, 78.2667, 78.85, 79.2, 79.65, 80.0, 81.8583, 82.1708, 82.2667, 83.1583, 83.475, 86.5, 89.1042, 90.0, 91.0792, 93.5, 106.425, 108.9, 110.8833, 113.275, 120.0, 133.65, 134.5, 135.6333, 136.7792, 146.5208, 151.55, 153.4625, 164.8667, 211.3375, 211.5, 221.7792, 227.525, 247.5208, 262.375, 263.0, 512.3292]\n"
     ]
    }
   ],
   "source": [
    "print(\"Ticket values: {}\".format(sorted(set(df_combined[\"Fare\"].tolist()))))"
   ]
  },
  {
   "cell_type": "code",
   "execution_count": 114,
   "metadata": {
    "collapsed": true
   },
   "outputs": [],
   "source": [
    "df_fare_survived = pd.concat([df_train_raw.loc[(df_train_raw[\"Survived\"] == 0)][\"Fare\"],\n",
    "                               df_train_raw.loc[(df_train_raw[\"Survived\"] == 1)][\"Fare\"]],\n",
    "                              axis=1, keys=[\"Died\", \"Survived\"])"
   ]
  },
  {
   "cell_type": "code",
   "execution_count": 115,
   "metadata": {},
   "outputs": [
    {
     "data": {
      "text/plain": [
       "<matplotlib.text.Text at 0x10f011dd8>"
      ]
     },
     "execution_count": 115,
     "metadata": {},
     "output_type": "execute_result"
    },
    {
     "data": {
      "image/png": "[encoded data removed]",
      "text/plain": [
       "<matplotlib.figure.Figure at 0x109608438>"
      ]
     },
     "metadata": {},
     "output_type": "display_data"
    }
   ],
   "source": [
    "ax = df_fare_survived[[\"Died\", \"Survived\"]].plot.hist(\n",
    "         bins=50, stacked=True, title=\"Survivability by Fare\", colormap=\"Set1\", figsize=(20,10),\n",
    "         xticks=range(0, int(df_train_raw[\"Fare\"].max()), round(int(df_train_raw[\"Fare\"].max())/50)))\n",
    "\n",
    "ax.set_xlabel(\"Fare Value\")\n",
    "ax.set_ylabel(\"Number of people\")"
   ]
  },
  {
   "cell_type": "markdown",
   "metadata": {},
   "source": [
    "We can see that highest number of deaths can be observed for cheaper tickets."
   ]
  },
  {
   "cell_type": "markdown",
   "metadata": {},
   "source": [
    "#### Cabin"
   ]
  },
  {
   "cell_type": "markdown",
   "metadata": {},
   "source": [
    "We could say that people from cabins closer to rescue boats have higher probability to be saved."
   ]
  },
  {
   "cell_type": "code",
   "execution_count": 116,
   "metadata": {
    "collapsed": true
   },
   "outputs": [],
   "source": [
    "# Checking for NaN values in dataframe\n",
    "# assert df_combined[\"Cabin\"].isnull().values.any() == False"
   ]
  },
  {
   "cell_type": "markdown",
   "metadata": {},
   "source": [
    "There are NaN values in \"Cabin\" column."
   ]
  },
  {
   "cell_type": "code",
   "execution_count": 117,
   "metadata": {},
   "outputs": [
    {
     "name": "stdout",
     "output_type": "stream",
     "text": [
      "Number of Nan values in Cabin column: 1014\n"
     ]
    }
   ],
   "source": [
    "print(\"Number of Nan values in Cabin column: {}\".format(df_combined[\"Cabin\"].isnull().sum()))"
   ]
  },
  {
   "cell_type": "code",
   "execution_count": 118,
   "metadata": {},
   "outputs": [
    {
     "name": "stdout",
     "output_type": "stream",
     "text": [
      "Unique values of Cabin: {nan, 'B49', 'D36', 'D11', 'A18', 'E36', 'B26', 'F4', 'C110', 'D17', 'B41', 'B42', 'B57 B59 B63 B66', 'B58 B60', 'D20', 'C78', 'C128', 'C99', 'D45', 'F2', 'C54', 'C148', 'A32', 'C82', 'E63', 'A16', 'B30', 'E46', 'B4', 'D', 'B22', 'F G73', 'C50', 'C46', 'E24', 'D21', 'A11', 'A31', 'E10', 'B35', 'C68', 'A10', 'A9', 'B3', 'C80', 'A20', 'C132', 'F E57', 'B24', 'B86', 'B80', 'C53', 'E58', 'E52', 'C130', 'E40', 'B39', 'F E69', 'B11', 'E121', 'B71', 'E25', 'E33', 'C49', 'E101', 'E45', 'C55 C57', 'D33', 'A5', 'C124', 'C31', 'B38', 'C28', 'D26', 'D56', 'D37', 'C22 C26', 'E38', 'C23 C25 C27', 'C70', 'D47', 'F E46', 'E44', 'B5', 'A19', 'D50', 'B101', 'C87', 'C125', 'B79', 'D7', 'E67', 'C52', 'C111', 'C95', 'C105', 'C93', 'D46', 'B102', 'B50', 'F', 'E17', 'C97', 'B94', 'D6', 'D48', 'B61', 'A7', 'D9', 'C45', 'E34', 'D35', 'C91', 'D43', 'D49', 'E60', 'D40', 'B10', 'C104', 'B96 B98', 'B20', 'C6', 'D30', 'D28', 'C51', 'C90', 'C39', 'B82 B84', 'C47', 'C106', 'A34', 'C2', 'A23', 'B36', 'C103', 'C65', 'C30', 'E77', 'G6', 'A26', 'C126', 'E8', 'F38', 'D19', 'C32', 'B18', 'A36', 'E49', 'C123', 'B19', 'A29', 'D38', 'E68', 'B28', 'F G63', 'D34', 'D15', 'E50', 'B69', 'C116', 'C85', 'C62 C64', 'C89', 'E31', 'A24', 'B77', 'C83', 'A6', 'B37', 'C118', 'E12', 'D10 D12', 'C86', 'B45', 'A21', 'C101', 'T', 'F33', 'C7', 'B51 B53 B55', 'D22', 'C92', 'B78', 'A14', 'B73', 'B52 B54 B56', 'E39 E41'}\n"
     ]
    }
   ],
   "source": [
    "print(\"Unique values of Cabin: {}\".format(set(df_combined[\"Cabin\"].values)))"
   ]
  },
  {
   "cell_type": "markdown",
   "metadata": {},
   "source": [
    "We will leave first letter of Cabin as type and repleace all Nan values with \"U\" which means unknown."
   ]
  },
  {
   "cell_type": "code",
   "execution_count": 119,
   "metadata": {},
   "outputs": [
    {
     "name": "stdout",
     "output_type": "stream",
     "text": [
      "Number of Nan values in Cabin column: 0\n"
     ]
    }
   ],
   "source": [
    "df_combined[\"Cabin\"].fillna(\"U\", inplace=True)\n",
    "print(\"Number of Nan values in Cabin column: {}\".format(df_combined[\"Cabin\"].isnull().sum()))"
   ]
  },
  {
   "cell_type": "code",
   "execution_count": 120,
   "metadata": {},
   "outputs": [
    {
     "name": "stdout",
     "output_type": "stream",
     "text": [
      "Unique values of Cabin: {'C', 'T', 'U', 'G', 'D', 'B', 'E', 'F', 'A'}\n"
     ]
    }
   ],
   "source": [
    "df_combined[\"Cabin\"] = df_combined[\"Cabin\"].apply(lambda x: x[0])\n",
    "print(\"Unique values of Cabin: {}\".format(set(df_combined[\"Cabin\"].values)))"
   ]
  },
  {
   "cell_type": "markdown",
   "metadata": {
    "collapsed": true
   },
   "source": [
    "#### Embarked"
   ]
  },
  {
   "cell_type": "code",
   "execution_count": 121,
   "metadata": {
    "collapsed": true
   },
   "outputs": [],
   "source": [
    "# Checking for NaN values in dataframe\n",
    "# assert df_combined[\"Embarked\"].isnull().values.any() == False"
   ]
  },
  {
   "cell_type": "code",
   "execution_count": 122,
   "metadata": {},
   "outputs": [
    {
     "name": "stdout",
     "output_type": "stream",
     "text": [
      "Number of Nan values in Embarked column: 2\n"
     ]
    }
   ],
   "source": [
    "print(\"Number of Nan values in Embarked column: {}\".format(df_combined[\"Embarked\"].isnull().sum()))"
   ]
  },
  {
   "cell_type": "code",
   "execution_count": 123,
   "metadata": {},
   "outputs": [
    {
     "data": {
      "text/plain": [
       "S    914\n",
       "C    270\n",
       "Q    123\n",
       "Name: Embarked, dtype: int64"
      ]
     },
     "execution_count": 123,
     "metadata": {},
     "output_type": "execute_result"
    }
   ],
   "source": [
    "df_combined[\"Embarked\"].value_counts()"
   ]
  },
  {
   "cell_type": "markdown",
   "metadata": {},
   "source": [
    "Fill embarked values by most recent appearing embarkment"
   ]
  },
  {
   "cell_type": "code",
   "execution_count": 124,
   "metadata": {},
   "outputs": [
    {
     "name": "stdout",
     "output_type": "stream",
     "text": [
      "Number of Nan values in Embarked column: 0\n"
     ]
    }
   ],
   "source": [
    "df_combined[\"Embarked\"].fillna(\"S\", inplace=True)\n",
    "print(\"Number of Nan values in Embarked column: {}\".format(df_combined[\"Embarked\"].isnull().sum()))"
   ]
  },
  {
   "cell_type": "code",
   "execution_count": 125,
   "metadata": {
    "collapsed": true
   },
   "outputs": [],
   "source": [
    "df_embarked_survived = pd.concat([df_train_raw.loc[(df_train_raw[\"Embarked\"] == \"C\")][\"Survived\"],\n",
    "                                  df_train_raw.loc[(df_train_raw[\"Embarked\"] == \"S\")][\"Survived\"],\n",
    "                                  df_train_raw.loc[(df_train_raw[\"Embarked\"] == \"Q\")][\"Survived\"]],\n",
    "                                 axis=1, keys=[\"C\", \"S\", \"Q\"])"
   ]
  },
  {
   "cell_type": "code",
   "execution_count": 126,
   "metadata": {},
   "outputs": [
    {
     "data": {
      "text/plain": [
       "<matplotlib.text.Text at 0x10f5b26d8>"
      ]
     },
     "execution_count": 126,
     "metadata": {},
     "output_type": "execute_result"
    },
    {
     "data": {
      "image/png": "[encoded data removed]",
      "text/plain": [
       "<matplotlib.figure.Figure at 0x10ec2aba8>"
      ]
     },
     "metadata": {},
     "output_type": "display_data"
    }
   ],
   "source": [
    "ax = df_embarked_survived[[\"C\", \"S\", \"Q\"]].plot.hist(\n",
    "         bins=np.arange(len(set(df_train_raw[\"Survived\"].tolist())) + 1) - 0.5, stacked=True, \n",
    "         xticks=range(0, int(df_train_raw[\"Survived\"].max() + 1)), title=\"Survivability by Embarked\", \n",
    "         colormap=\"Set1\")\n",
    "\n",
    "ax.set_xlabel(\"0 - Death, 1 - Survival\")\n",
    "ax.set_ylabel(\"Number of people\")"
   ]
  },
  {
   "cell_type": "markdown",
   "metadata": {},
   "source": [
    "Death ratio between people that embarked at Queenstown and Southampton is almost the same. We can see that ratio is a little bit different for those that embarked at Cherbourg - more of them survived. Difference is quite unclear though."
   ]
  },
  {
   "cell_type": "markdown",
   "metadata": {},
   "source": [
    "#### Choosing parameters\n"
   ]
  },
  {
   "cell_type": "markdown",
   "metadata": {},
   "source": [
    "Parameters to use:\n",
    "- Sex\n",
    "- Age\n",
    "- Pclass\n",
    "- SibSp\n",
    "- Parch\n",
    "- Fare\n",
    "- Companion \n",
    "- Alone\n",
    "- SmallFamily\n",
    "- LargeFamily\n",
    "- Title\n",
    "- Embarked\n",
    "- Cabin\n",
    "\n",
    "Parameters to ignore:\n",
    "- Ticket\n",
    "- Name\n",
    "\n",
    "I will try combination of all parameters."
   ]
  },
  {
   "cell_type": "code",
   "execution_count": 127,
   "metadata": {},
   "outputs": [],
   "source": [
    "df_combined = df_combined.drop([\"Name\", \"Ticket\"], axis=1)"
   ]
  },
  {
   "cell_type": "markdown",
   "metadata": {},
   "source": [
    "### Processing data for input"
   ]
  },
  {
   "cell_type": "code",
   "execution_count": 128,
   "metadata": {
    "collapsed": true
   },
   "outputs": [],
   "source": [
    "features_for_one_hot_encode = [\"Pclass\", \"Embarked\", \"Sex\", \"Title\", \"Cabin\"]\n",
    "\n",
    "for feature in features_for_one_hot_encode:\n",
    "    df_combined = pd.concat([df_combined, pd.get_dummies(df_combined[feature])], axis=1)\n",
    "    df_combined.drop(feature, axis=1, inplace=True)"
   ]
  },
  {
   "cell_type": "code",
   "execution_count": 129,
   "metadata": {
    "collapsed": true
   },
   "outputs": [],
   "source": [
    "features_for_normalization = [\"Age\", \"Fare\", \"Companion\", \"Parch\", \"SibSp\"]\n",
    "\n",
    "normalized_features = dict()\n",
    "for feature in features_for_normalization:\n",
    "    mean, std = df_combined[feature].mean(), df_combined[feature].std()\n",
    "    normalized_features[feature] = [mean, std]\n",
    "    df_combined.loc[:, feature] = (df_combined[feature] - mean) / std"
   ]
  },
  {
   "cell_type": "code",
   "execution_count": 130,
   "metadata": {
    "collapsed": true
   },
   "outputs": [],
   "source": [
    "df_input = df_combined.iloc[:TRAIN_SAMPLES]\n",
    "df_input.drop(\"PassengerId\", axis=1, inplace=True)\n",
    "\n",
    "df_labels = df_survived\n",
    "\n",
    "df_test = df_combined.iloc[TRAIN_SAMPLES:]\n",
    "df_test.drop(\"PassengerId\", axis=1, inplace=True)"
   ]
  },
  {
   "cell_type": "code",
   "execution_count": 131,
   "metadata": {},
   "outputs": [
    {
     "name": "stdout",
     "output_type": "stream",
     "text": [
      "Input shape: (891, 43)\n",
      "Test shape: (418, 43)\n"
     ]
    }
   ],
   "source": [
    "print(\"Input shape: {}\".format(df_input.shape))\n",
    "print(\"Test shape: {}\".format(df_test.shape))"
   ]
  },
  {
   "cell_type": "code",
   "execution_count": 132,
   "metadata": {
    "collapsed": true
   },
   "outputs": [],
   "source": [
    "def cross_validation(samples, labels, val_ratio=0.15, randomize=False):\n",
    "    \"\"\"Divides inserted samples into train and validation sets.\"\"\"\n",
    "    assert len(samples) == len(labels)\n",
    "    \n",
    "    # Groups samples and labels\n",
    "    sample_labels_stacked = list()\n",
    "    for sample, label in zip(samples, labels):\n",
    "        sample_labels_stacked.append((sample, label))\n",
    "        \n",
    "    if randomize:\n",
    "        # Randomize order\n",
    "        shuffle(sample_labels_stacked)\n",
    "    \n",
    "    # Divide samples\n",
    "    split_index = round(len(sample_labels_stacked) * val_ratio)\n",
    "    train_set = sample_labels_stacked[split_index:]\n",
    "    val_set = sample_labels_stacked[:split_index]\n",
    "    \n",
    "    # Unwrap samples\n",
    "    train_samples, train_labels = list(), list()\n",
    "    for data in train_set:\n",
    "        sample, label = data\n",
    "        train_samples.append(sample)\n",
    "        train_labels.append(label)\n",
    "        \n",
    "    val_samples, val_labels = list(), list()\n",
    "    for data in val_set:\n",
    "        sample, label = data\n",
    "        val_samples.append(sample)\n",
    "        val_labels.append(label)\n",
    "    \n",
    "    # Convert to ndarray\n",
    "    train_samples = np.array(train_samples)\n",
    "    train_labels = np.array(train_labels)\n",
    "    val_samples = np.array(val_samples)\n",
    "    val_labels = np.array(val_labels)\n",
    "    \n",
    "    return train_samples, train_labels, val_samples, val_labels"
   ]
  },
  {
   "cell_type": "markdown",
   "metadata": {},
   "source": [
    "### Logistic Regression - Raw Implementation"
   ]
  },
  {
   "cell_type": "code",
   "execution_count": 133,
   "metadata": {
    "collapsed": true
   },
   "outputs": [],
   "source": [
    "class LogisticRegression:\n",
    "    \"\"\"Logistic Regression model.\n",
    "    \n",
    "    Arguments:\n",
    "    ---------\n",
    "    iterations: int\n",
    "        Number of Gradient Descent Steps that will be performed in order to change weights of\n",
    "        linear model\n",
    "    learning_rate: float\n",
    "        Weight applied for Gradient Descent Step during updating weights. (default: 0.001)\n",
    "    verbose: boolean\n",
    "        Flag for debugging. If set to true then error values achieved by model during training\n",
    "        cycle will be displayed.\n",
    "    \"\"\"\n",
    "    def __init__(self, iterations, learning_rate=0.001, verbose=False):\n",
    "        self.w = None\n",
    "      \n",
    "        self.error_history = list()\n",
    "        self.iterations = iterations\n",
    "        self.learning_rate = learning_rate\n",
    "        self.verbose = verbose\n",
    "    \n",
    "    def fit(self, X, y):\n",
    "        \"\"\"Function that is adjusting Logistic Regression Model weights 'w' to inserted data 'X'\n",
    "        according to target values 'y'.\"\"\"\n",
    "        \n",
    "        # Ensure data is float type\n",
    "        X = X.astype(np.float32)\n",
    "        y = y.astype(np.float32)\n",
    "\n",
    "        # Insert 1 values in first row of data for bias\n",
    "        X = np.insert(X, 0, 1, axis=1)\n",
    "        \n",
    "        # Number of samples\n",
    "        num_samples, num_features = X.shape\n",
    "        \n",
    "        # Xavier initialization for weights\n",
    "        xavier_range = 1 / np.sqrt(num_features)\n",
    "        self.w = np.random.uniform(-xavier_range, xavier_range, (num_features,))\n",
    "        \n",
    "        # Perform training\n",
    "        for i in range(0, self.iterations):\n",
    "            \n",
    "            # Using weights for prediction\n",
    "            pred = self._sigmoid(np.dot(X, self.w))\n",
    "            \n",
    "            # Gradient step - Calculating gradient\n",
    "            gradient = (1 / num_samples) * (np.dot(X.T, (pred - y)))\n",
    "                                       \n",
    "            # Gradient step - Updating weights\n",
    "            self.w = self.w - self.learning_rate * gradient\n",
    "                                       \n",
    "            # Calculating Cross-Entropy Error for new weights\n",
    "            error = self._cross_entropy(X, y, num_samples)\n",
    "            self.error_history.append(error)\n",
    "                                       \n",
    "            # Displaying learning progress every 100 iterations\n",
    "            if self.verbose and i % 100 == 0:\n",
    "                print(\"Iteration no. \" + str(i) + \", error: \" + str(error))\n",
    "                \n",
    "    def _sigmoid(self, X):\n",
    "        \"\"\"Application of Sigmoid function which squashes input values in range 0-1 which\n",
    "        which corresponds to probability value ragne.\"\"\"\n",
    "        \n",
    "        return 1 / (1 + np.exp(-X))\n",
    "            \n",
    "    def _cross_entropy(self, X, y, num_samples):\n",
    "        \"\"\"Implementation of Cross-Entropy - cost function for monitoring how classification\n",
    "        is performed with current 'w' values\"\"\"\n",
    "        \n",
    "        pred = self._sigmoid(np.dot(X, self.w))\n",
    "        return (-1 / num_samples) * np.sum(y * np.log10(pred) + (1 - y) * np.log10(1 - pred))\n",
    "    \n",
    "    def predict(self, X):\n",
    "        \"\"\"Function that takes feature values 'X' and returns predictions with usage of \n",
    "        current 'w' values\"\"\"\n",
    "        \n",
    "        # Ensure data is float type\n",
    "        X = X.astype(np.float32)\n",
    "        \n",
    "        # Insert 1 values in first row of data for bias\n",
    "        X = np.insert(X, 0, 1, axis=1)\n",
    "        pred = self._sigmoid(np.dot(X, self.w))\n",
    "        return pred"
   ]
  },
  {
   "cell_type": "markdown",
   "metadata": {},
   "source": [
    "### Using model for prediction"
   ]
  },
  {
   "cell_type": "code",
   "execution_count": 134,
   "metadata": {
    "collapsed": true
   },
   "outputs": [],
   "source": [
    "def accuracy(predictions, expected_values):\n",
    "    \"\"\"Returning percentage value based on how many predictions match expected values.\"\"\"\n",
    "    return np.sum(np.round(predictions) == expected_values) / predictions.shape[0]"
   ]
  },
  {
   "cell_type": "code",
   "execution_count": 135,
   "metadata": {
    "collapsed": true
   },
   "outputs": [],
   "source": [
    "def r2_score(predictions, expected_values):\n",
    "    \"\"\"Model evaluation parameter - R2 score. Best possible score is 1.0 and it can be negative \n",
    "    (because the model can be arbitrarily worse)\"\"\"\n",
    "    mean_y = np.mean(expected_values)\n",
    "    ss_tot = sum((expected_values - mean_y) ** 2)\n",
    "    ss_res = sum((expected_values - predictions) ** 2)\n",
    "    r2 = 1 - (ss_res / ss_tot)\n",
    "    return r2"
   ]
  },
  {
   "cell_type": "markdown",
   "metadata": {},
   "source": [
    "#### Training Various models"
   ]
  },
  {
   "cell_type": "code",
   "execution_count": 136,
   "metadata": {
    "scrolled": false
   },
   "outputs": [
    {
     "data": {
      "application/vnd.jupyter.widget-view+json": {
       "model_id": "032c32f0ae2a400ebae0278c5e47e242"
      }
     },
     "metadata": {},
     "output_type": "display_data"
    },
    {
     "data": {
      "application/vnd.jupyter.widget-view+json": {
       "model_id": "809d7a3c72264124a7d669750bf2d594"
      }
     },
     "metadata": {},
     "output_type": "display_data"
    },
    {
     "data": {
      "application/vnd.jupyter.widget-view+json": {
       "model_id": "faaf9f8c49924468b120aa5c7b7ddc47"
      }
     },
     "metadata": {},
     "output_type": "display_data"
    },
    {
     "data": {
      "application/vnd.jupyter.widget-view+json": {
       "model_id": "490c0e2b58114c5ea13037b0f2537cc7"
      }
     },
     "metadata": {},
     "output_type": "display_data"
    },
    {
     "data": {
      "application/vnd.jupyter.widget-view+json": {
       "model_id": "f3043ca90771423884b5627f2eef9b89"
      }
     },
     "metadata": {},
     "output_type": "display_data"
    },
    {
     "data": {
      "application/vnd.jupyter.widget-view+json": {
       "model_id": "be1b883987e74bed95718b0782ad145d"
      }
     },
     "metadata": {},
     "output_type": "display_data"
    },
    {
     "data": {
      "application/vnd.jupyter.widget-view+json": {
       "model_id": "fa19f2cbac804e5ebfef2965b5dce8a7"
      }
     },
     "metadata": {},
     "output_type": "display_data"
    },
    {
     "data": {
      "application/vnd.jupyter.widget-view+json": {
       "model_id": "f1ffc2ffef59439196b7ca29b044c6a1"
      }
     },
     "metadata": {},
     "output_type": "display_data"
    },
    {
     "data": {
      "application/vnd.jupyter.widget-view+json": {
       "model_id": "fd5948d1ac7a4b05a6b6a6446a0f3a2a"
      }
     },
     "metadata": {},
     "output_type": "display_data"
    },
    {
     "data": {
      "application/vnd.jupyter.widget-view+json": {
       "model_id": "da3e530a5d1e4cd09c6ebae2bcfd1014"
      }
     },
     "metadata": {},
     "output_type": "display_data"
    },
    {
     "data": {
      "application/vnd.jupyter.widget-view+json": {
       "model_id": "39e97bc8404641959516b8e2699a3ae0"
      }
     },
     "metadata": {},
     "output_type": "display_data"
    },
    {
     "data": {
      "application/vnd.jupyter.widget-view+json": {
       "model_id": "3a732711053e45618572caf4ef68b24e"
      }
     },
     "metadata": {},
     "output_type": "display_data"
    },
    {
     "name": "stdout",
     "output_type": "stream",
     "text": [
      "\n"
     ]
    }
   ],
   "source": [
    "iteration_values = [1000, 1500, 2000, 2500, 5000, 7500, 10000, 12500, 15000, 17500, 20000]\n",
    "\n",
    "learning_rates = [0.0001, 0.0002, 0.0003, 0.0004, 0.0005, 0.0006, 0.0007, \n",
    "                  0.001, 0.002, 0.003, 0.004, 0.005, 0.006, 0.007, \n",
    "                  0.01, 0.02, 0.03, 0.04, 0.05, 0.06, 0.07]\n",
    "\n",
    "model_results = list()\n",
    "\n",
    "for i in tnrange(len(iteration_values), desc=\"Iteration grid\"):\n",
    "    iterations = iteration_values[i]\n",
    "    for j in tqdm_notebook(range(len(learning_rates)), desc=\"Learning Rate grid\"):\n",
    "        learning_rate = learning_rates[j]\n",
    "        \n",
    "        # Provide input data\n",
    "        samples = df_input.as_matrix()\n",
    "        labels = df_labels.as_matrix()\n",
    "\n",
    "        # Divide into train, validation sets\n",
    "        train_samples, train_labels, val_samples, val_labels = cross_validation(samples, labels)\n",
    "\n",
    "        # Create model\n",
    "        model = LogisticRegression(iterations, learning_rate=learning_rate)\n",
    "\n",
    "        # Train on train data\n",
    "        model.fit(train_samples, train_labels)\n",
    "\n",
    "        # Predictions\n",
    "        train_predictions = model.predict(train_samples)\n",
    "        val_predictions = model.predict(val_samples)\n",
    "\n",
    "        # Accuracy\n",
    "        train_acc = accuracy(train_predictions, train_labels)\n",
    "        val_acc = accuracy(val_predictions, val_labels)\n",
    "\n",
    "        # R2 Score - model performance\n",
    "        r2_score_value = r2_score(val_predictions, val_labels)\n",
    "\n",
    "        model_results.append({\"model\": model, \"train_acc\": round(train_acc, 6), \n",
    "                              \"val_acc\": round(val_acc, 6), \"r2_score\": round(r2_score_value, 4),\n",
    "                              \"lr\": learning_rate, \"iter\": iterations})"
   ]
  },
  {
   "cell_type": "markdown",
   "metadata": {},
   "source": [
    "Display all results"
   ]
  },
  {
   "cell_type": "code",
   "execution_count": 137,
   "metadata": {},
   "outputs": [
    {
     "name": "stdout",
     "output_type": "stream",
     "text": [
      "0: | t_acc: 0.828269 | v_acc: 0.813433 | r2_score: 0.3587 | lr: 0.03 | i: 1500\n",
      "1: | t_acc: 0.82959 | v_acc: 0.813433 | r2_score: 0.358 | lr: 0.004 | i: 10000\n",
      "2: | t_acc: 0.824306 | v_acc: 0.798507 | r2_score: 0.3571 | lr: 0.002 | i: 10000\n",
      "3: | t_acc: 0.826948 | v_acc: 0.798507 | r2_score: 0.3568 | lr: 0.02 | i: 1000\n",
      "4: | t_acc: 0.82959 | v_acc: 0.813433 | r2_score: 0.3566 | lr: 0.006 | i: 5000\n",
      "5: | t_acc: 0.828269 | v_acc: 0.798507 | r2_score: 0.3559 | lr: 0.004 | i: 7500\n",
      "6: | t_acc: 0.826948 | v_acc: 0.798507 | r2_score: 0.3556 | lr: 0.005 | i: 5000\n",
      "7: | t_acc: 0.825627 | v_acc: 0.798507 | r2_score: 0.3554 | lr: 0.01 | i: 2000\n",
      "8: | t_acc: 0.82959 | v_acc: 0.813433 | r2_score: 0.355 | lr: 0.005 | i: 7500\n",
      "9: | t_acc: 0.832232 | v_acc: 0.813433 | r2_score: 0.3539 | lr: 0.04 | i: 1000\n",
      "10: | t_acc: 0.825627 | v_acc: 0.798507 | r2_score: 0.3533 | lr: 0.001 | i: 17500\n",
      "11: | t_acc: 0.833554 | v_acc: 0.798507 | r2_score: 0.3531 | lr: 0.05 | i: 1500\n",
      "12: | t_acc: 0.825627 | v_acc: 0.798507 | r2_score: 0.3528 | lr: 0.002 | i: 7500\n",
      "13: | t_acc: 0.82959 | v_acc: 0.813433 | r2_score: 0.3526 | lr: 0.004 | i: 12500\n",
      "14: | t_acc: 0.840159 | v_acc: 0.798507 | r2_score: 0.3522 | lr: 0.07 | i: 1500\n",
      "15: | t_acc: 0.825627 | v_acc: 0.798507 | r2_score: 0.3522 | lr: 0.001 | i: 15000\n",
      "16: | t_acc: 0.836196 | v_acc: 0.80597 | r2_score: 0.3521 | lr: 0.04 | i: 1500\n",
      "17: | t_acc: 0.826948 | v_acc: 0.80597 | r2_score: 0.352 | lr: 0.03 | i: 1000\n",
      "18: | t_acc: 0.838838 | v_acc: 0.798507 | r2_score: 0.352 | lr: 0.005 | i: 17500\n",
      "19: | t_acc: 0.830911 | v_acc: 0.80597 | r2_score: 0.3518 | lr: 0.03 | i: 2000\n",
      "20: | t_acc: 0.82959 | v_acc: 0.80597 | r2_score: 0.3516 | lr: 0.005 | i: 10000\n",
      "21: | t_acc: 0.838838 | v_acc: 0.798507 | r2_score: 0.3515 | lr: 0.06 | i: 2000\n",
      "22: | t_acc: 0.834875 | v_acc: 0.80597 | r2_score: 0.3515 | lr: 0.007 | i: 10000\n",
      "23: | t_acc: 0.834875 | v_acc: 0.798507 | r2_score: 0.3514 | lr: 0.06 | i: 1000\n",
      "24: | t_acc: 0.828269 | v_acc: 0.813433 | r2_score: 0.3514 | lr: 0.006 | i: 7500\n",
      "25: | t_acc: 0.82959 | v_acc: 0.813433 | r2_score: 0.3512 | lr: 0.003 | i: 15000\n",
      "26: | t_acc: 0.834875 | v_acc: 0.798507 | r2_score: 0.351 | lr: 0.004 | i: 17500\n",
      "27: | t_acc: 0.838838 | v_acc: 0.798507 | r2_score: 0.3509 | lr: 0.02 | i: 5000\n",
      "28: | t_acc: 0.828269 | v_acc: 0.80597 | r2_score: 0.3508 | lr: 0.003 | i: 17500\n",
      "29: | t_acc: 0.836196 | v_acc: 0.798507 | r2_score: 0.3507 | lr: 0.004 | i: 20000\n",
      "30: | t_acc: 0.837517 | v_acc: 0.798507 | r2_score: 0.3506 | lr: 0.06 | i: 1500\n",
      "31: | t_acc: 0.828269 | v_acc: 0.791045 | r2_score: 0.3506 | lr: 0.007 | i: 5000\n",
      "32: | t_acc: 0.825627 | v_acc: 0.798507 | r2_score: 0.3506 | lr: 0.003 | i: 7500\n",
      "33: | t_acc: 0.828269 | v_acc: 0.80597 | r2_score: 0.3505 | lr: 0.007 | i: 7500\n",
      "34: | t_acc: 0.820343 | v_acc: 0.80597 | r2_score: 0.3505 | lr: 0.0006 | i: 20000\n",
      "35: | t_acc: 0.82959 | v_acc: 0.80597 | r2_score: 0.3504 | lr: 0.01 | i: 5000\n",
      "36: | t_acc: 0.834875 | v_acc: 0.798507 | r2_score: 0.3504 | lr: 0.007 | i: 12500\n",
      "37: | t_acc: 0.830911 | v_acc: 0.798507 | r2_score: 0.3501 | lr: 0.02 | i: 2500\n",
      "38: | t_acc: 0.832232 | v_acc: 0.798507 | r2_score: 0.35 | lr: 0.005 | i: 12500\n",
      "39: | t_acc: 0.826948 | v_acc: 0.798507 | r2_score: 0.35 | lr: 0.001 | i: 20000\n",
      "40: | t_acc: 0.832232 | v_acc: 0.798507 | r2_score: 0.3499 | lr: 0.07 | i: 1000\n",
      "41: | t_acc: 0.840159 | v_acc: 0.798507 | r2_score: 0.3499 | lr: 0.04 | i: 2500\n",
      "42: | t_acc: 0.833554 | v_acc: 0.798507 | r2_score: 0.3498 | lr: 0.01 | i: 7500\n",
      "43: | t_acc: 0.826948 | v_acc: 0.798507 | r2_score: 0.3497 | lr: 0.003 | i: 10000\n",
      "44: | t_acc: 0.840159 | v_acc: 0.798507 | r2_score: 0.3495 | lr: 0.006 | i: 20000\n",
      "45: | t_acc: 0.840159 | v_acc: 0.791045 | r2_score: 0.3493 | lr: 0.05 | i: 2500\n",
      "46: | t_acc: 0.837517 | v_acc: 0.791045 | r2_score: 0.3493 | lr: 0.006 | i: 17500\n",
      "47: | t_acc: 0.833554 | v_acc: 0.798507 | r2_score: 0.3492 | lr: 0.006 | i: 10000\n",
      "48: | t_acc: 0.828269 | v_acc: 0.80597 | r2_score: 0.3492 | lr: 0.004 | i: 15000\n",
      "49: | t_acc: 0.830911 | v_acc: 0.798507 | r2_score: 0.3492 | lr: 0.003 | i: 20000\n",
      "50: | t_acc: 0.834875 | v_acc: 0.798507 | r2_score: 0.3488 | lr: 0.04 | i: 2000\n",
      "51: | t_acc: 0.836196 | v_acc: 0.798507 | r2_score: 0.3488 | lr: 0.01 | i: 10000\n",
      "52: | t_acc: 0.82959 | v_acc: 0.80597 | r2_score: 0.3487 | lr: 0.002 | i: 17500\n",
      "53: | t_acc: 0.826948 | v_acc: 0.798507 | r2_score: 0.3484 | lr: 0.05 | i: 1000\n",
      "54: | t_acc: 0.834875 | v_acc: 0.798507 | r2_score: 0.3484 | lr: 0.005 | i: 15000\n",
      "55: | t_acc: 0.842801 | v_acc: 0.791045 | r2_score: 0.3483 | lr: 0.01 | i: 12500\n",
      "56: | t_acc: 0.837517 | v_acc: 0.798507 | r2_score: 0.3483 | lr: 0.006 | i: 15000\n",
      "57: | t_acc: 0.838838 | v_acc: 0.798507 | r2_score: 0.348 | lr: 0.005 | i: 20000\n",
      "58: | t_acc: 0.815059 | v_acc: 0.791045 | r2_score: 0.3479 | lr: 0.005 | i: 2500\n",
      "59: | t_acc: 0.833554 | v_acc: 0.798507 | r2_score: 0.3479 | lr: 0.006 | i: 12500\n",
      "60: | t_acc: 0.842801 | v_acc: 0.791045 | r2_score: 0.3477 | lr: 0.03 | i: 5000\n",
      "61: | t_acc: 0.824306 | v_acc: 0.791045 | r2_score: 0.3473 | lr: 0.01 | i: 1500\n",
      "62: | t_acc: 0.84148 | v_acc: 0.791045 | r2_score: 0.3473 | lr: 0.02 | i: 7500\n",
      "63: | t_acc: 0.825627 | v_acc: 0.798507 | r2_score: 0.3473 | lr: 0.002 | i: 12500\n",
      "64: | t_acc: 0.825627 | v_acc: 0.798507 | r2_score: 0.347 | lr: 0.006 | i: 2500\n",
      "65: | t_acc: 0.830911 | v_acc: 0.80597 | r2_score: 0.3466 | lr: 0.003 | i: 12500\n",
      "66: | t_acc: 0.84148 | v_acc: 0.791045 | r2_score: 0.3464 | lr: 0.007 | i: 15000\n",
      "67: | t_acc: 0.842801 | v_acc: 0.791045 | r2_score: 0.3464 | lr: 0.01 | i: 15000\n",
      "68: | t_acc: 0.825627 | v_acc: 0.798507 | r2_score: 0.3462 | lr: 0.002 | i: 15000\n",
      "69: | t_acc: 0.842801 | v_acc: 0.791045 | r2_score: 0.346 | lr: 0.07 | i: 2000\n",
      "70: | t_acc: 0.820343 | v_acc: 0.80597 | r2_score: 0.3459 | lr: 0.01 | i: 1000\n",
      "71: | t_acc: 0.828269 | v_acc: 0.80597 | r2_score: 0.3459 | lr: 0.002 | i: 20000\n",
      "72: | t_acc: 0.84148 | v_acc: 0.791045 | r2_score: 0.3453 | lr: 0.07 | i: 2500\n",
      "73: | t_acc: 0.842801 | v_acc: 0.791045 | r2_score: 0.345 | lr: 0.01 | i: 17500\n",
      "74: | t_acc: 0.82959 | v_acc: 0.791045 | r2_score: 0.3448 | lr: 0.02 | i: 1500\n",
      "75: | t_acc: 0.834875 | v_acc: 0.798507 | r2_score: 0.3443 | lr: 0.03 | i: 2500\n",
      "76: | t_acc: 0.838838 | v_acc: 0.791045 | r2_score: 0.3441 | lr: 0.05 | i: 2000\n",
      "77: | t_acc: 0.824306 | v_acc: 0.791045 | r2_score: 0.344 | lr: 0.007 | i: 2000\n",
      "78: | t_acc: 0.82959 | v_acc: 0.798507 | r2_score: 0.344 | lr: 0.02 | i: 2000\n",
      "79: | t_acc: 0.825627 | v_acc: 0.798507 | r2_score: 0.344 | lr: 0.007 | i: 2500\n",
      "80: | t_acc: 0.84148 | v_acc: 0.791045 | r2_score: 0.3439 | lr: 0.007 | i: 20000\n",
      "81: | t_acc: 0.825627 | v_acc: 0.791045 | r2_score: 0.3433 | lr: 0.0007 | i: 20000\n",
      "82: | t_acc: 0.826948 | v_acc: 0.798507 | r2_score: 0.343 | lr: 0.01 | i: 2500\n",
      "83: | t_acc: 0.84148 | v_acc: 0.791045 | r2_score: 0.343 | lr: 0.007 | i: 17500\n",
      "84: | t_acc: 0.840159 | v_acc: 0.791045 | r2_score: 0.3418 | lr: 0.04 | i: 5000\n",
      "85: | t_acc: 0.81638 | v_acc: 0.80597 | r2_score: 0.3413 | lr: 0.005 | i: 2000\n",
      "86: | t_acc: 0.84148 | v_acc: 0.791045 | r2_score: 0.3413 | lr: 0.06 | i: 2500\n",
      "87: | t_acc: 0.815059 | v_acc: 0.791045 | r2_score: 0.341 | lr: 0.004 | i: 2500\n",
      "88: | t_acc: 0.826948 | v_acc: 0.791045 | r2_score: 0.3409 | lr: 0.004 | i: 5000\n",
      "89: | t_acc: 0.84148 | v_acc: 0.791045 | r2_score: 0.3409 | lr: 0.02 | i: 10000\n",
      "90: | t_acc: 0.840159 | v_acc: 0.791045 | r2_score: 0.3402 | lr: 0.01 | i: 20000\n",
      "91: | t_acc: 0.821664 | v_acc: 0.791045 | r2_score: 0.3394 | lr: 0.001 | i: 12500\n",
      "92: | t_acc: 0.824306 | v_acc: 0.80597 | r2_score: 0.3392 | lr: 0.0006 | i: 17500\n",
      "93: | t_acc: 0.824306 | v_acc: 0.798507 | r2_score: 0.339 | lr: 0.006 | i: 2000\n",
      "94: | t_acc: 0.842801 | v_acc: 0.791045 | r2_score: 0.3388 | lr: 0.03 | i: 7500\n",
      "95: | t_acc: 0.819022 | v_acc: 0.80597 | r2_score: 0.3388 | lr: 0.001 | i: 10000\n",
      "96: | t_acc: 0.838838 | v_acc: 0.791045 | r2_score: 0.3378 | lr: 0.02 | i: 12500\n",
      "97: | t_acc: 0.828269 | v_acc: 0.798507 | r2_score: 0.3361 | lr: 0.0007 | i: 17500\n",
      "98: | t_acc: 0.820343 | v_acc: 0.798507 | r2_score: 0.3346 | lr: 0.0007 | i: 15000\n",
      "99: | t_acc: 0.842801 | v_acc: 0.791045 | r2_score: 0.334 | lr: 0.06 | i: 5000\n",
      "100: | t_acc: 0.815059 | v_acc: 0.791045 | r2_score: 0.3327 | lr: 0.007 | i: 1500\n",
      "101: | t_acc: 0.84148 | v_acc: 0.791045 | r2_score: 0.3325 | lr: 0.05 | i: 5000\n",
      "102: | t_acc: 0.838838 | v_acc: 0.791045 | r2_score: 0.3325 | lr: 0.03 | i: 10000\n",
      "103: | t_acc: 0.84148 | v_acc: 0.791045 | r2_score: 0.3324 | lr: 0.04 | i: 7500\n",
      "104: | t_acc: 0.840159 | v_acc: 0.791045 | r2_score: 0.3313 | lr: 0.02 | i: 15000\n",
      "105: | t_acc: 0.840159 | v_acc: 0.791045 | r2_score: 0.3301 | lr: 0.02 | i: 17500\n",
      "106: | t_acc: 0.84148 | v_acc: 0.791045 | r2_score: 0.3293 | lr: 0.07 | i: 5000\n",
      "107: | t_acc: 0.821664 | v_acc: 0.798507 | r2_score: 0.3292 | lr: 0.0007 | i: 12500\n",
      "108: | t_acc: 0.819022 | v_acc: 0.791045 | r2_score: 0.3291 | lr: 0.003 | i: 5000\n",
      "109: | t_acc: 0.815059 | v_acc: 0.783582 | r2_score: 0.3285 | lr: 0.002 | i: 5000\n",
      "110: | t_acc: 0.84148 | v_acc: 0.791045 | r2_score: 0.3279 | lr: 0.05 | i: 7500\n",
      "111: | t_acc: 0.84148 | v_acc: 0.791045 | r2_score: 0.3274 | lr: 0.03 | i: 12500\n",
      "112: | t_acc: 0.820343 | v_acc: 0.791045 | r2_score: 0.3273 | lr: 0.0005 | i: 17500\n",
      "113: | t_acc: 0.821664 | v_acc: 0.791045 | r2_score: 0.3271 | lr: 0.0005 | i: 20000\n",
      "114: | t_acc: 0.84148 | v_acc: 0.783582 | r2_score: 0.3257 | lr: 0.04 | i: 10000\n",
      "115: | t_acc: 0.84148 | v_acc: 0.783582 | r2_score: 0.3257 | lr: 0.02 | i: 20000\n",
      "116: | t_acc: 0.813738 | v_acc: 0.783582 | r2_score: 0.325 | lr: 0.0004 | i: 17500\n",
      "117: | t_acc: 0.842801 | v_acc: 0.783582 | r2_score: 0.3244 | lr: 0.06 | i: 7500\n",
      "118: | t_acc: 0.84148 | v_acc: 0.783582 | r2_score: 0.3239 | lr: 0.03 | i: 15000\n",
      "119: | t_acc: 0.844122 | v_acc: 0.783582 | r2_score: 0.3228 | lr: 0.05 | i: 10000\n",
      "120: | t_acc: 0.824306 | v_acc: 0.798507 | r2_score: 0.3227 | lr: 0.003 | i: 2500\n",
      "121: | t_acc: 0.846764 | v_acc: 0.783582 | r2_score: 0.3224 | lr: 0.07 | i: 7500\n",
      "122: | t_acc: 0.844122 | v_acc: 0.783582 | r2_score: 0.3222 | lr: 0.04 | i: 12500\n",
      "123: | t_acc: 0.813738 | v_acc: 0.783582 | r2_score: 0.322 | lr: 0.005 | i: 1500\n",
      "124: | t_acc: 0.811096 | v_acc: 0.80597 | r2_score: 0.3212 | lr: 0.006 | i: 1500\n",
      "125: | t_acc: 0.846764 | v_acc: 0.783582 | r2_score: 0.3211 | lr: 0.03 | i: 17500\n",
      "126: | t_acc: 0.824306 | v_acc: 0.791045 | r2_score: 0.3198 | lr: 0.004 | i: 2000\n",
      "127: | t_acc: 0.817701 | v_acc: 0.791045 | r2_score: 0.3191 | lr: 0.0006 | i: 15000\n",
      "128: | t_acc: 0.817701 | v_acc: 0.798507 | r2_score: 0.3186 | lr: 0.001 | i: 7500\n",
      "129: | t_acc: 0.846764 | v_acc: 0.783582 | r2_score: 0.3184 | lr: 0.06 | i: 10000\n",
      "130: | t_acc: 0.846764 | v_acc: 0.776119 | r2_score: 0.318 | lr: 0.05 | i: 12500\n",
      "131: | t_acc: 0.846764 | v_acc: 0.783582 | r2_score: 0.318 | lr: 0.03 | i: 20000\n",
      "132: | t_acc: 0.846764 | v_acc: 0.783582 | r2_score: 0.3171 | lr: 0.04 | i: 15000\n",
      "133: | t_acc: 0.846764 | v_acc: 0.776119 | r2_score: 0.3166 | lr: 0.07 | i: 10000\n",
      "134: | t_acc: 0.848085 | v_acc: 0.776119 | r2_score: 0.3151 | lr: 0.06 | i: 12500\n",
      "135: | t_acc: 0.815059 | v_acc: 0.776119 | r2_score: 0.3149 | lr: 0.0006 | i: 12500\n",
      "136: | t_acc: 0.846764 | v_acc: 0.776119 | r2_score: 0.3148 | lr: 0.04 | i: 17500\n",
      "137: | t_acc: 0.848085 | v_acc: 0.776119 | r2_score: 0.3141 | lr: 0.05 | i: 15000\n",
      "138: | t_acc: 0.820343 | v_acc: 0.783582 | r2_score: 0.3137 | lr: 0.0004 | i: 20000\n",
      "139: | t_acc: 0.797886 | v_acc: 0.753731 | r2_score: 0.3135 | lr: 0.0006 | i: 10000\n",
      "140: | t_acc: 0.848085 | v_acc: 0.776119 | r2_score: 0.3125 | lr: 0.07 | i: 12500\n",
      "141: | t_acc: 0.846764 | v_acc: 0.776119 | r2_score: 0.3122 | lr: 0.05 | i: 17500\n",
      "142: | t_acc: 0.848085 | v_acc: 0.776119 | r2_score: 0.312 | lr: 0.04 | i: 20000\n",
      "143: | t_acc: 0.846764 | v_acc: 0.776119 | r2_score: 0.3118 | lr: 0.06 | i: 15000\n",
      "144: | t_acc: 0.846764 | v_acc: 0.776119 | r2_score: 0.3101 | lr: 0.06 | i: 17500\n",
      "145: | t_acc: 0.846764 | v_acc: 0.776119 | r2_score: 0.3097 | lr: 0.05 | i: 20000\n",
      "146: | t_acc: 0.846764 | v_acc: 0.776119 | r2_score: 0.3086 | lr: 0.07 | i: 15000\n",
      "147: | t_acc: 0.846764 | v_acc: 0.776119 | r2_score: 0.3076 | lr: 0.07 | i: 20000\n",
      "148: | t_acc: 0.846764 | v_acc: 0.776119 | r2_score: 0.3075 | lr: 0.07 | i: 17500\n",
      "149: | t_acc: 0.846764 | v_acc: 0.776119 | r2_score: 0.3066 | lr: 0.06 | i: 20000\n",
      "150: | t_acc: 0.797886 | v_acc: 0.776119 | r2_score: 0.3056 | lr: 0.0006 | i: 7500\n",
      "151: | t_acc: 0.820343 | v_acc: 0.738806 | r2_score: 0.3055 | lr: 0.0007 | i: 10000\n",
      "152: | t_acc: 0.813738 | v_acc: 0.753731 | r2_score: 0.3054 | lr: 0.007 | i: 1000\n",
      "153: | t_acc: 0.811096 | v_acc: 0.791045 | r2_score: 0.3051 | lr: 0.0003 | i: 20000\n",
      "154: | t_acc: 0.815059 | v_acc: 0.783582 | r2_score: 0.3021 | lr: 0.0005 | i: 15000\n",
      "155: | t_acc: 0.815059 | v_acc: 0.791045 | r2_score: 0.2983 | lr: 0.0004 | i: 15000\n",
      "156: | t_acc: 0.812417 | v_acc: 0.738806 | r2_score: 0.2972 | lr: 0.0005 | i: 10000\n",
      "157: | t_acc: 0.817701 | v_acc: 0.776119 | r2_score: 0.2965 | lr: 0.0005 | i: 12500\n",
      "158: | t_acc: 0.808454 | v_acc: 0.768657 | r2_score: 0.2939 | lr: 0.004 | i: 1500\n",
      "159: | t_acc: 0.809775 | v_acc: 0.738806 | r2_score: 0.2934 | lr: 0.006 | i: 1000\n",
      "160: | t_acc: 0.796565 | v_acc: 0.746269 | r2_score: 0.2887 | lr: 0.0004 | i: 12500\n",
      "161: | t_acc: 0.808454 | v_acc: 0.783582 | r2_score: 0.2862 | lr: 0.003 | i: 2000\n",
      "162: | t_acc: 0.811096 | v_acc: 0.791045 | r2_score: 0.2861 | lr: 0.0003 | i: 15000\n",
      "163: | t_acc: 0.801849 | v_acc: 0.738806 | r2_score: 0.2851 | lr: 0.001 | i: 5000\n",
      "164: | t_acc: 0.800528 | v_acc: 0.791045 | r2_score: 0.2848 | lr: 0.003 | i: 1500\n",
      "165: | t_acc: 0.812417 | v_acc: 0.798507 | r2_score: 0.2818 | lr: 0.0003 | i: 17500\n",
      "166: | t_acc: 0.801849 | v_acc: 0.768657 | r2_score: 0.2804 | lr: 0.005 | i: 1000\n",
      "167: | t_acc: 0.797886 | v_acc: 0.753731 | r2_score: 0.2789 | lr: 0.002 | i: 2500\n",
      "168: | t_acc: 0.825627 | v_acc: 0.791045 | r2_score: 0.2788 | lr: 0.0002 | i: 20000\n",
      "169: | t_acc: 0.797886 | v_acc: 0.731343 | r2_score: 0.2781 | lr: 0.0007 | i: 7500\n",
      "170: | t_acc: 0.778071 | v_acc: 0.783582 | r2_score: 0.2776 | lr: 0.003 | i: 1000\n",
      "171: | t_acc: 0.784676 | v_acc: 0.783582 | r2_score: 0.2719 | lr: 0.0006 | i: 5000\n",
      "172: | t_acc: 0.791281 | v_acc: 0.776119 | r2_score: 0.2703 | lr: 0.002 | i: 2000\n",
      "173: | t_acc: 0.793923 | v_acc: 0.783582 | r2_score: 0.2651 | lr: 0.004 | i: 1000\n",
      "174: | t_acc: 0.768824 | v_acc: 0.761194 | r2_score: 0.2589 | lr: 0.0004 | i: 10000\n",
      "175: | t_acc: 0.779392 | v_acc: 0.746269 | r2_score: 0.2569 | lr: 0.0004 | i: 7500\n",
      "176: | t_acc: 0.768824 | v_acc: 0.776119 | r2_score: 0.2555 | lr: 0.0002 | i: 15000\n",
      "177: | t_acc: 0.782034 | v_acc: 0.761194 | r2_score: 0.2549 | lr: 0.0007 | i: 5000\n",
      "178: | t_acc: 0.783355 | v_acc: 0.753731 | r2_score: 0.2512 | lr: 0.0005 | i: 7500\n",
      "179: | t_acc: 0.783355 | v_acc: 0.753731 | r2_score: 0.2512 | lr: 0.0003 | i: 12500\n",
      "180: | t_acc: 0.77675 | v_acc: 0.776119 | r2_score: 0.2499 | lr: 0.0003 | i: 10000\n",
      "181: | t_acc: 0.775429 | v_acc: 0.731343 | r2_score: 0.2444 | lr: 0.0002 | i: 17500\n",
      "182: | t_acc: 0.770145 | v_acc: 0.738806 | r2_score: 0.2429 | lr: 0.0002 | i: 12500\n",
      "183: | t_acc: 0.774108 | v_acc: 0.753731 | r2_score: 0.2403 | lr: 0.0003 | i: 7500\n",
      "184: | t_acc: 0.768824 | v_acc: 0.738806 | r2_score: 0.2257 | lr: 0.002 | i: 1000\n",
      "185: | t_acc: 0.782034 | v_acc: 0.791045 | r2_score: 0.2218 | lr: 0.001 | i: 1500\n",
      "186: | t_acc: 0.792602 | v_acc: 0.723881 | r2_score: 0.2135 | lr: 0.0001 | i: 20000\n",
      "187: | t_acc: 0.758256 | v_acc: 0.738806 | r2_score: 0.211 | lr: 0.001 | i: 2500\n",
      "188: | t_acc: 0.782034 | v_acc: 0.746269 | r2_score: 0.2038 | lr: 0.001 | i: 2000\n",
      "189: | t_acc: 0.734478 | v_acc: 0.708955 | r2_score: 0.1973 | lr: 0.0005 | i: 5000\n",
      "190: | t_acc: 0.759577 | v_acc: 0.723881 | r2_score: 0.1972 | lr: 0.0001 | i: 12500\n",
      "191: | t_acc: 0.774108 | v_acc: 0.738806 | r2_score: 0.1922 | lr: 0.002 | i: 1500\n",
      "192: | t_acc: 0.747688 | v_acc: 0.746269 | r2_score: 0.1855 | lr: 0.0007 | i: 2500\n",
      "193: | t_acc: 0.766182 | v_acc: 0.738806 | r2_score: 0.1803 | lr: 0.0002 | i: 10000\n",
      "194: | t_acc: 0.754293 | v_acc: 0.69403 | r2_score: 0.1802 | lr: 0.0005 | i: 2500\n",
      "195: | t_acc: 0.725231 | v_acc: 0.701493 | r2_score: 0.1731 | lr: 0.0002 | i: 7500\n",
      "196: | t_acc: 0.758256 | v_acc: 0.738806 | r2_score: 0.1642 | lr: 0.0004 | i: 2500\n",
      "197: | t_acc: 0.694848 | v_acc: 0.686567 | r2_score: 0.1641 | lr: 0.0003 | i: 5000\n",
      "198: | t_acc: 0.718626 | v_acc: 0.69403 | r2_score: 0.1577 | lr: 0.0004 | i: 5000\n",
      "199: | t_acc: 0.746367 | v_acc: 0.716418 | r2_score: 0.1574 | lr: 0.0003 | i: 2500\n",
      "200: | t_acc: 0.788639 | v_acc: 0.746269 | r2_score: 0.1508 | lr: 0.0001 | i: 10000\n",
      "201: | t_acc: 0.714663 | v_acc: 0.671642 | r2_score: 0.1494 | lr: 0.0006 | i: 2500\n",
      "202: | t_acc: 0.702774 | v_acc: 0.686567 | r2_score: 0.1493 | lr: 0.0001 | i: 17500\n",
      "203: | t_acc: 0.709379 | v_acc: 0.679104 | r2_score: 0.1459 | lr: 0.0004 | i: 2000\n",
      "204: | t_acc: 0.75033 | v_acc: 0.649254 | r2_score: 0.1425 | lr: 0.0001 | i: 15000\n",
      "205: | t_acc: 0.739762 | v_acc: 0.69403 | r2_score: 0.142 | lr: 0.0007 | i: 2000\n",
      "206: | t_acc: 0.743725 | v_acc: 0.746269 | r2_score: 0.1394 | lr: 0.0006 | i: 2000\n",
      "207: | t_acc: 0.694848 | v_acc: 0.671642 | r2_score: 0.1174 | lr: 0.001 | i: 1000\n",
      "208: | t_acc: 0.667107 | v_acc: 0.634328 | r2_score: 0.1129 | lr: 0.0003 | i: 2000\n",
      "209: | t_acc: 0.726552 | v_acc: 0.679104 | r2_score: 0.1129 | lr: 0.0002 | i: 5000\n",
      "210: | t_acc: 0.722589 | v_acc: 0.679104 | r2_score: 0.1057 | lr: 0.0006 | i: 1500\n",
      "211: | t_acc: 0.685601 | v_acc: 0.664179 | r2_score: 0.1045 | lr: 0.0007 | i: 1500\n",
      "212: | t_acc: 0.721268 | v_acc: 0.716418 | r2_score: 0.0959 | lr: 0.0004 | i: 1500\n",
      "213: | t_acc: 0.67107 | v_acc: 0.664179 | r2_score: 0.0818 | lr: 0.0005 | i: 2000\n",
      "214: | t_acc: 0.734478 | v_acc: 0.671642 | r2_score: 0.0717 | lr: 0.0005 | i: 1000\n",
      "215: | t_acc: 0.665786 | v_acc: 0.634328 | r2_score: 0.0662 | lr: 0.0001 | i: 5000\n",
      "216: | t_acc: 0.610304 | v_acc: 0.664179 | r2_score: 0.0631 | lr: 0.0002 | i: 2500\n",
      "217: | t_acc: 0.726552 | v_acc: 0.708955 | r2_score: 0.0619 | lr: 0.0001 | i: 7500\n",
      "218: | t_acc: 0.689564 | v_acc: 0.656716 | r2_score: 0.0477 | lr: 0.0007 | i: 1000\n",
      "219: | t_acc: 0.702774 | v_acc: 0.716418 | r2_score: 0.0324 | lr: 0.0004 | i: 1000\n",
      "220: | t_acc: 0.712021 | v_acc: 0.671642 | r2_score: 0.0261 | lr: 0.0003 | i: 1500\n",
      "221: | t_acc: 0.63144 | v_acc: 0.619403 | r2_score: 0.0208 | lr: 0.0005 | i: 1500\n",
      "222: | t_acc: 0.639366 | v_acc: 0.634328 | r2_score: 0.0081 | lr: 0.0006 | i: 1000\n",
      "223: | t_acc: 0.72391 | v_acc: 0.634328 | r2_score: -0.0005 | lr: 0.0002 | i: 2000\n",
      "224: | t_acc: 0.628798 | v_acc: 0.641791 | r2_score: -0.0024 | lr: 0.0003 | i: 1000\n",
      "225: | t_acc: 0.729194 | v_acc: 0.656716 | r2_score: -0.0045 | lr: 0.0001 | i: 2500\n",
      "226: | t_acc: 0.660502 | v_acc: 0.58209 | r2_score: -0.0592 | lr: 0.0001 | i: 1000\n",
      "227: | t_acc: 0.513871 | v_acc: 0.492537 | r2_score: -0.0671 | lr: 0.0001 | i: 2000\n",
      "228: | t_acc: 0.574637 | v_acc: 0.544776 | r2_score: -0.0893 | lr: 0.0002 | i: 1500\n",
      "229: | t_acc: 0.533686 | v_acc: 0.567164 | r2_score: -0.0977 | lr: 0.0001 | i: 1500\n",
      "230: | t_acc: 0.396301 | v_acc: 0.373134 | r2_score: -0.1182 | lr: 0.0002 | i: 1000\n"
     ]
    }
   ],
   "source": [
    "model_results_sorted = sorted(model_results, key=lambda result: result[\"r2_score\"], reverse=True) \n",
    "for i, result in enumerate(model_results_sorted):\n",
    "    print(\"{}: | t_acc: {} | v_acc: {} | r2_score: {} | lr: {} | i: {}\"\n",
    "          .format(i, result[\"train_acc\"], result[\"val_acc\"], result[\"r2_score\"],\n",
    "                  result[\"lr\"], result[\"iter\"], \"  \" + \" \"*len(str(i))))"
   ]
  },
  {
   "cell_type": "markdown",
   "metadata": {
    "collapsed": true
   },
   "source": [
    "#### Picking model"
   ]
  },
  {
   "cell_type": "code",
   "execution_count": 138,
   "metadata": {
    "collapsed": true
   },
   "outputs": [],
   "source": [
    "MODEL_INDEX = 0"
   ]
  },
  {
   "cell_type": "code",
   "execution_count": 139,
   "metadata": {
    "collapsed": true
   },
   "outputs": [],
   "source": [
    "model = model_results_sorted[MODEL_INDEX][\"model\"]"
   ]
  },
  {
   "cell_type": "markdown",
   "metadata": {},
   "source": [
    "#### Prediction on train data"
   ]
  },
  {
   "cell_type": "code",
   "execution_count": 140,
   "metadata": {
    "collapsed": true
   },
   "outputs": [],
   "source": [
    "test_predictions = model.predict(df_test.as_matrix())\n",
    "test_predictions = np.round(test_predictions)"
   ]
  },
  {
   "cell_type": "code",
   "execution_count": 141,
   "metadata": {},
   "outputs": [],
   "source": [
    "result_dataframe = df_test_raw[[\"PassengerId\"]]\n",
    "result_dataframe[\"Survived\"] = list(map(int, test_predictions.tolist()))"
   ]
  },
  {
   "cell_type": "code",
   "execution_count": 142,
   "metadata": {
    "collapsed": true
   },
   "outputs": [],
   "source": [
    "result_dataframe.to_csv(\"results.csv\", index=False)"
   ]
  },
  {
   "cell_type": "markdown",
   "metadata": {},
   "source": [
    "#### Kaggle score"
   ]
  },
  {
   "cell_type": "markdown",
   "metadata": {},
   "source": [
    "![title](img/kaggle_score.png)"
   ]
  },
  {
   "cell_type": "markdown",
   "metadata": {},
   "source": [
    "#### Possible improvements:\n",
    "- I am using my self-coded LogisticRegression model. If I really wanted better results maybe I should do everything with sklearn algorithms - not manually. \n",
    "- Models like DecisionTrees, SVM, Gradient Boosting might have better results.\n",
    "- Adding regularization to model.\n",
    "- Maybe more feature engineering.\n",
    "- Maybe better filling of missing data.\n",
    "- Picking only necessary features for model - not all of them.\n",
    "- Using real GridSearch rather than for loop with hardcoded values."
   ]
  }
 ],
 "metadata": {
  "kernelspec": {
   "display_name": "Python 3",
   "language": "python",
   "name": "python3"
  },
  "language_info": {
   "codemirror_mode": {
    "name": "ipython",
    "version": 3
   },
   "file_extension": ".py",
   "mimetype": "text/x-python",
   "name": "python",
   "nbconvert_exporter": "python",
   "pygments_lexer": "ipython3",
   "version": "3.6.1"
  }
 },
 "nbformat": 4,
 "nbformat_minor": 2
}
