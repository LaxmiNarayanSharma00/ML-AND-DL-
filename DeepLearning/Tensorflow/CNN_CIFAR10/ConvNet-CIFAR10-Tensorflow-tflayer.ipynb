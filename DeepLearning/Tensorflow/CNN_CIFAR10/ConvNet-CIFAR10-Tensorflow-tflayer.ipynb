{
 "cells": [
  {
   "cell_type": "code",
   "execution_count": 1,
   "metadata": {
    "collapsed": true
   },
   "outputs": [],
   "source": [
    "import os\n",
    "import tarfile\n",
    "import numpy as np\n",
    "import pickle\n",
    "import random\n",
    "import matplotlib.pyplot as plt\n",
    "import matplotlib.patches as mpatches\n",
    "import tensorflow as tf\n",
    "from urllib.request import urlretrieve\n",
    "from tqdm import tqdm"
   ]
  },
  {
   "cell_type": "code",
   "execution_count": 2,
   "metadata": {
    "collapsed": true
   },
   "outputs": [],
   "source": [
    "%matplotlib inline"
   ]
  },
  {
   "cell_type": "markdown",
   "metadata": {},
   "source": [
    "#### Dataset info"
   ]
  },
  {
   "cell_type": "markdown",
   "metadata": {},
   "source": [
    "CIFAR-10 is a dataset of 60 000 32x32 colour images, collected by Alex Krizhevsky, Vinod Nair, and Geoffrey Hinton. There are 10 different classes with 6000 images per class:\n",
    "\n",
    "- airplane\n",
    "- automobile\n",
    "- bird\n",
    "- cat\n",
    "- deer\n",
    "- dog\n",
    "- frog\n",
    "- horse\n",
    "- ship\n",
    "- truck\n",
    "\n",
    "Dataset is divided into 5 batches with the following naming convention 'data_batch_1', 'data_batch_2' and so on..."
   ]
  },
  {
   "cell_type": "code",
   "execution_count": 3,
   "metadata": {
    "collapsed": true
   },
   "outputs": [],
   "source": [
    "#: https://www.cs.toronto.edu/~kriz/cifar.html\n",
    "DATA_URL = \"https://www.cs.toronto.edu/~kriz/cifar-10-python.tar.gz\"\n",
    "TARG_TZ_FILEPATH = \"./cifar-10-python.tar.gz\"\n",
    "CIFAR10_FILES_FOLDER = './cifar-10-batches-py/'\n",
    "\n",
    "TRAIN_BATCH_FILES = [\n",
    "    \"data_batch_1\",\n",
    "    \"data_batch_2\",\n",
    "    \"data_batch_3\",\n",
    "    \"data_batch_4\",\n",
    "    \"data_batch_5\"\n",
    "]\n",
    "\n",
    "TEST_BATCH_FILE = \"test_batch\"\n",
    "\n",
    "LABELS = ['airplane', 'automobile', 'bird', 'cat', 'deer', 'dog', 'frog', 'horse', 'ship', 'truck']\n",
    "NUM_CLASSES = 10\n",
    "\n",
    "MAX_PIXEL_VALUE = 255\n",
    "IMAGE_WIDTH = 32\n",
    "IMAGE_HEIGHT = 32\n",
    "CHANNELS = 3\n",
    "\n",
    "DATA_I = 0\n",
    "LABELS_I = 1"
   ]
  },
  {
   "cell_type": "markdown",
   "metadata": {},
   "source": [
    "#### Download dataset"
   ]
  },
  {
   "cell_type": "code",
   "execution_count": 4,
   "metadata": {},
   "outputs": [],
   "source": [
    "class DLProgress(tqdm):\n",
    "    last_block = 0\n",
    "\n",
    "    def hook(self, block_num=1, block_size=1, total_size=None):\n",
    "        self.total = total_size\n",
    "        self.update((block_num - self.last_block) * block_size)\n",
    "        self.last_block = block_num\n",
    "\n",
    "if not os.path.isfile(TARG_TZ_FILEPATH):\n",
    "    with DLProgress(unit=\"B\", unit_scale=True, miniters=1, desc=\"CIFAR-10\") as pbar:\n",
    "        urlretrieve(DATA_URL, TARG_TZ_FILEPATH, pbar.hook)"
   ]
  },
  {
   "cell_type": "markdown",
   "metadata": {},
   "source": [
    "#### Exctracting data"
   ]
  },
  {
   "cell_type": "markdown",
   "metadata": {},
   "source": [
    "- Unpacking"
   ]
  },
  {
   "cell_type": "code",
   "execution_count": 5,
   "metadata": {
    "collapsed": true
   },
   "outputs": [],
   "source": [
    "if not os.path.isdir(CIFAR10_FILES_FOLDER):\n",
    "    with tarfile.open(TARG_TZ_FILEPATH) as tar:\n",
    "        tar.extractall()\n",
    "        tar.close()"
   ]
  },
  {
   "cell_type": "markdown",
   "metadata": {},
   "source": [
    "- Loading train batches"
   ]
  },
  {
   "cell_type": "code",
   "execution_count": 6,
   "metadata": {
    "collapsed": true
   },
   "outputs": [],
   "source": [
    "train_batches = list()\n",
    "\n",
    "for batch_file in TRAIN_BATCH_FILES: \n",
    "    with open(CIFAR10_FILES_FOLDER + batch_file, mode='rb') as file:\n",
    "        batch = pickle.load(file, encoding='latin1')\n",
    "        \n",
    "        # array of 10000 * 1 length\n",
    "        labels = batch['labels']\n",
    "        \n",
    "        # all channels in single 10000 * 3072 length array\n",
    "        batch_data = batch['data']\n",
    "        \n",
    "        # reshaping to 10000 * 3 * 32 * 32\n",
    "        data = batch_data.reshape((len(batch_data), CHANNELS, IMAGE_WIDTH, IMAGE_HEIGHT))\n",
    "        \n",
    "        # fix indexing\n",
    "        data = data.transpose(0, 2, 3, 1)\n",
    "  \n",
    "        train_batches.append((data, labels))"
   ]
  },
  {
   "cell_type": "markdown",
   "metadata": {},
   "source": [
    "- Load test batch"
   ]
  },
  {
   "cell_type": "code",
   "execution_count": 7,
   "metadata": {
    "collapsed": true
   },
   "outputs": [],
   "source": [
    "test_batch = None\n",
    "\n",
    "with open(CIFAR10_FILES_FOLDER + TEST_BATCH_FILE, mode='rb') as file:\n",
    "        batch = pickle.load(file, encoding='latin1')\n",
    "        \n",
    "        # array of 10000 * 1 length\n",
    "        labels = batch['labels']\n",
    "        \n",
    "         # all channels in single 10000 * 3072 length array\n",
    "        batch_data = batch['data']\n",
    "        \n",
    "        # reshaping to 10000 * 3 * 32 * 32\n",
    "        data = batch_data.reshape((len(batch_data), CHANNELS, IMAGE_WIDTH, IMAGE_HEIGHT))\n",
    "        \n",
    "        # fix indexing\n",
    "        data = data.transpose(0, 2, 3, 1)\n",
    "        \n",
    "        test_batch = (data, labels)"
   ]
  },
  {
   "cell_type": "markdown",
   "metadata": {},
   "source": [
    "#### Present extracted dataset"
   ]
  },
  {
   "cell_type": "code",
   "execution_count": 8,
   "metadata": {
    "collapsed": true
   },
   "outputs": [],
   "source": [
    "def present_batch(batch, batch_index):\n",
    "    features, labels = batch \n",
    "    print(\"Batch no.\" + str(batch_index))\n",
    "    print(\"    - Samples in batch: \" + str(len(features)))\n",
    "    print(\"    - Labels num: \" + str(dict(zip(*np.unique(labels, return_counts=True)))))\n",
    "    \n",
    "def present_sample(batch, sample_id):\n",
    "    features, labels = batch \n",
    "    \n",
    "    sample_image = features[sample_id]\n",
    "    sample_label = labels[sample_id]\n",
    "    \n",
    "    print(\"Sample no.\" + str(sample_id))\n",
    "    print(\"    - Min Value: {} Max Value: {}\".format(sample_image.min(), sample_image.max()))\n",
    "    print(\"    - Shape: {}\".format(sample_image.shape))\n",
    "    print(\"    - Label - Label Id: {} Name: {}\".format(sample_label, LABELS[sample_label]))\n",
    "    \n",
    "    plt.axis('off')\n",
    "    plt.imshow(sample_image)"
   ]
  },
  {
   "cell_type": "code",
   "execution_count": 9,
   "metadata": {
    "scrolled": true
   },
   "outputs": [
    {
     "name": "stdout",
     "output_type": "stream",
     "text": [
      "Batch no.0\n",
      "    - Samples in batch: 10000\n",
      "    - Labels num: {0: 1005, 1: 974, 2: 1032, 3: 1016, 4: 999, 5: 937, 6: 1030, 7: 1001, 8: 1025, 9: 981}\n",
      "Batch no.1\n",
      "    - Samples in batch: 10000\n",
      "    - Labels num: {0: 984, 1: 1007, 2: 1010, 3: 995, 4: 1010, 5: 988, 6: 1008, 7: 1026, 8: 987, 9: 985}\n",
      "Batch no.2\n",
      "    - Samples in batch: 10000\n",
      "    - Labels num: {0: 994, 1: 1042, 2: 965, 3: 997, 4: 990, 5: 1029, 6: 978, 7: 1015, 8: 961, 9: 1029}\n",
      "Batch no.3\n",
      "    - Samples in batch: 10000\n",
      "    - Labels num: {0: 1003, 1: 963, 2: 1041, 3: 976, 4: 1004, 5: 1021, 6: 1004, 7: 981, 8: 1024, 9: 983}\n",
      "Batch no.4\n",
      "    - Samples in batch: 10000\n",
      "    - Labels num: {0: 1014, 1: 1014, 2: 952, 3: 1016, 4: 997, 5: 1025, 6: 980, 7: 977, 8: 1003, 9: 1022}\n"
     ]
    }
   ],
   "source": [
    "for index, batch in enumerate(train_batches):\n",
    "    present_batch(batch, index)"
   ]
  },
  {
   "cell_type": "code",
   "execution_count": 10,
   "metadata": {},
   "outputs": [
    {
     "name": "stdout",
     "output_type": "stream",
     "text": [
      "Sample no.7164\n",
      "    - Min Value: 26 Max Value: 246\n",
      "    - Shape: (32, 32, 3)\n",
      "    - Label - Label Id: 5 Name: dog\n"
     ]
    },
    {
     "data": {
      "image/png": "[encoded data removed]",
      "text/plain": [
       "<matplotlib.figure.Figure at 0x10e37d630>"
      ]
     },
     "metadata": {},
     "output_type": "display_data"
    }
   ],
   "source": [
    "present_sample(train_batches[0], 7164)"
   ]
  },
  {
   "cell_type": "markdown",
   "metadata": {},
   "source": [
    "#### Split data into train, val , test sets"
   ]
  },
  {
   "cell_type": "markdown",
   "metadata": {},
   "source": [
    "- data is already shuffled"
   ]
  },
  {
   "cell_type": "markdown",
   "metadata": {},
   "source": [
    "- concat all batches together"
   ]
  },
  {
   "cell_type": "code",
   "execution_count": 11,
   "metadata": {
    "collapsed": true
   },
   "outputs": [],
   "source": [
    "train_data = list()\n",
    "train_labels = list()\n",
    "for batch in train_batches:\n",
    "    for data, label in zip(batch[DATA_I], batch[LABELS_I]):\n",
    "        train_data.append(data)\n",
    "        train_labels.append(label)\n",
    "assert len(train_data) == len(train_labels)\n",
    "        \n",
    "test_data = list()\n",
    "test_labels = list()\n",
    "for data, label in zip(test_batch[DATA_I], test_batch[LABELS_I]):\n",
    "    test_data.append(data)\n",
    "    test_labels.append(label)\n",
    "assert len(test_data) == len(test_labels)"
   ]
  },
  {
   "cell_type": "markdown",
   "metadata": {},
   "source": [
    "- split data"
   ]
  },
  {
   "cell_type": "code",
   "execution_count": 12,
   "metadata": {
    "collapsed": true
   },
   "outputs": [],
   "source": [
    "split_ratio = 0.2\n",
    "split_index = int(len(train_data) * split_ratio)\n",
    "\n",
    "val_data = train_data[:split_index]\n",
    "val_labels = train_labels[:split_index]\n",
    "\n",
    "train_data = train_data[split_index:]\n",
    "train_labels = train_labels[split_index:]"
   ]
  },
  {
   "cell_type": "code",
   "execution_count": 13,
   "metadata": {},
   "outputs": [
    {
     "name": "stdout",
     "output_type": "stream",
     "text": [
      "Train samples: 40000\n",
      "Validation samples: 10000\n",
      "Test samples: 10000\n"
     ]
    }
   ],
   "source": [
    "print(\"Train samples: \" + str(len(train_data)))\n",
    "print(\"Validation samples: \" + str(len(val_data)))\n",
    "print(\"Test samples: \" + str(len(test_data)))"
   ]
  },
  {
   "cell_type": "markdown",
   "metadata": {},
   "source": [
    "#### Preprocess data"
   ]
  },
  {
   "cell_type": "code",
   "execution_count": 14,
   "metadata": {
    "collapsed": true
   },
   "outputs": [],
   "source": [
    "def normalize(data):\n",
    "    return data / MAX_PIXEL_VALUE\n",
    "\n",
    "def ohe_label(label):\n",
    "    labels_num = len(LABELS)\n",
    "  \n",
    "    encoding_array = np.zeros([labels_num])  \n",
    "    encoding_array[label] = 1\n",
    "        \n",
    "    return encoding_array"
   ]
  },
  {
   "cell_type": "code",
   "execution_count": 15,
   "metadata": {
    "collapsed": true
   },
   "outputs": [],
   "source": [
    "train_data_norm = [normalize(data) for data in train_data]\n",
    "train_labels_ohe = [ohe_label(label) for label in train_labels]\n",
    "\n",
    "val_data_norm = [normalize(data) for data in val_data]\n",
    "val_labels_ohe = [ohe_label(label) for label in val_labels]\n",
    "\n",
    "test_data_norm = [normalize(data) for data in test_data]\n",
    "test_labels_ohe = [ohe_label(label) for label in test_labels]"
   ]
  },
  {
   "cell_type": "code",
   "execution_count": 16,
   "metadata": {},
   "outputs": [
    {
     "name": "stdout",
     "output_type": "stream",
     "text": [
      "Sample no.7124\n",
      "    - Min Value: 0.00784313725490196 Max Value: 0.9137254901960784\n",
      "    - Label: [ 0.  0.  0.  1.  0.  0.  0.  0.  0.  0.]\n"
     ]
    }
   ],
   "source": [
    "sample_to_inspect = 7124\n",
    "sample = train_data_norm[sample_to_inspect]\n",
    "label = train_labels_ohe[sample_to_inspect]\n",
    "print(\"Sample no.\" + str(sample_to_inspect))\n",
    "print(\"    - Min Value: {} Max Value: {}\".format(sample.min(), sample.max()))\n",
    "print(\"    - Label: \" + str(label))"
   ]
  },
  {
   "cell_type": "markdown",
   "metadata": {},
   "source": [
    "#### Building ConvNet - parts"
   ]
  },
  {
   "cell_type": "code",
   "execution_count": 17,
   "metadata": {
    "collapsed": true
   },
   "outputs": [],
   "source": [
    "def conv_net_image_input(image_width, image_height, channels):\n",
    "    return tf.placeholder(tf.float32, shape=[None, image_width, image_height, channels], name='inputs')"
   ]
  },
  {
   "cell_type": "code",
   "execution_count": 18,
   "metadata": {
    "collapsed": true
   },
   "outputs": [],
   "source": [
    "def conv_net_label_input(n_classes):\n",
    "    return tf.placeholder(tf.float32, shape=[None, n_classes], name='labels')"
   ]
  },
  {
   "cell_type": "code",
   "execution_count": 19,
   "metadata": {
    "collapsed": true
   },
   "outputs": [],
   "source": [
    "def conv_net_keep_prob_input():\n",
    "    return tf.placeholder(tf.float32, name=\"keep_prob\")"
   ]
  },
  {
   "cell_type": "code",
   "execution_count": 20,
   "metadata": {
    "collapsed": true
   },
   "outputs": [],
   "source": [
    "def conv_net_is_training_placeholder():\n",
    "    return tf.placeholder(tf.bool)"
   ]
  },
  {
   "cell_type": "code",
   "execution_count": 21,
   "metadata": {
    "collapsed": true
   },
   "outputs": [],
   "source": [
    "def flatten(tensor):\n",
    "    conv_output_shape = tensor.get_shape().as_list()\n",
    "    return tf.reshape(tensor, [-1, conv_output_shape[1] * conv_output_shape[2] * conv_output_shape[3]])"
   ]
  },
  {
   "cell_type": "code",
   "execution_count": 22,
   "metadata": {
    "collapsed": true
   },
   "outputs": [],
   "source": [
    "def conv_net(inputs, keep_prob, is_training):  \n",
    " \n",
    "    # Conv Layer - 1, Input 32x32x3, MaxPool 2, Dropout, Output 16x16x32\n",
    "    conv1_layer = tf.layers.conv2d(inputs=inputs, filters=32, kernel_size=[3, 3],\n",
    "                                   strides=1, padding=\"SAME\", activation=tf.nn.elu,\n",
    "                                   kernel_initializer=tf.contrib.layers.xavier_initializer_conv2d())\n",
    "    \n",
    "    conv1_layer_mpool = tf.layers.max_pooling2d(conv1_layer, pool_size=[2, 2], strides=2)\n",
    "    conv1_layer_dropout = tf.nn.dropout(conv1_layer_mpool, keep_prob)\n",
    "    \n",
    "    # Conv Layer - 2, Input 16x16x32, MaxPool 2, Dropout, Output 8x8x32\n",
    "    conv2_layer = tf.layers.conv2d(inputs=conv1_layer_dropout, filters=32, kernel_size=[3, 3], \n",
    "                                   strides=1, padding=\"SAME\", activation=tf.nn.elu,\n",
    "                                   kernel_initializer=tf.contrib.layers.xavier_initializer_conv2d())\n",
    "    \n",
    "    conv2_layer_mpool = tf.layers.max_pooling2d(conv2_layer, pool_size=[2, 2], strides=2)\n",
    "    conv2_layer_dropout = tf.nn.dropout(conv2_layer_mpool, keep_prob)\n",
    "    \n",
    "    # Conv Layer - 3, Input 8x8x32, MaxPool 2, Dropout, Output 4x4x64\n",
    "    conv3_layer = tf.layers.conv2d(inputs=conv2_layer_dropout, filters=64, kernel_size=[3, 3], \n",
    "                                   strides=1, padding=\"SAME\", activation=tf.nn.elu,\n",
    "                                   kernel_initializer=tf.contrib.layers.xavier_initializer_conv2d())\n",
    "    \n",
    "    conv3_layer_mpool = tf.layers.max_pooling2d(conv3_layer, pool_size=[2, 2], strides=2)\n",
    "    conv3_layer_dropout = tf.nn.dropout(conv3_layer_mpool, keep_prob)\n",
    "    \n",
    "    # Conv Layer Flattened\n",
    "    flatten_conv_output = flatten(conv3_layer_dropout)\n",
    "\n",
    "    # Dense Layer 1 - Size 384\n",
    "    dense1_layer = tf.layers.dense(inputs=flatten_conv_output, units=384, activation=tf.nn.elu,\n",
    "                                   kernel_initializer=tf.contrib.layers.xavier_initializer())\n",
    "    dense1_layer_dropout = tf.nn.dropout(dense1_layer, keep_prob)\n",
    "    \n",
    "    # Dense Layer 2 - Size 128\n",
    "    dense2_layer = tf.layers.dense(inputs=dense1_layer_dropout, units=128, activation=tf.nn.elu,\n",
    "                                   kernel_initializer=tf.contrib.layers.xavier_initializer())\n",
    "    dense2_layer_dropout = tf.nn.dropout(dense2_layer, keep_prob)\n",
    "    \n",
    "    \n",
    "    # Output Layer \n",
    "    output = tf.layers.dense(inputs=dense2_layer_dropout, units=NUM_CLASSES, activation=None,\n",
    "                             kernel_initializer=tf.contrib.layers.xavier_initializer())\n",
    "    return output"
   ]
  },
  {
   "cell_type": "markdown",
   "metadata": {},
   "source": [
    "#### Building ConvNet - assemble"
   ]
  },
  {
   "cell_type": "markdown",
   "metadata": {},
   "source": [
    "- Reset Tensorflow graph"
   ]
  },
  {
   "cell_type": "code",
   "execution_count": 23,
   "metadata": {
    "collapsed": true
   },
   "outputs": [],
   "source": [
    "tf.reset_default_graph()"
   ]
  },
  {
   "cell_type": "markdown",
   "metadata": {},
   "source": [
    "- Assemble model"
   ]
  },
  {
   "cell_type": "code",
   "execution_count": 24,
   "metadata": {
    "scrolled": false
   },
   "outputs": [],
   "source": [
    "inputs = conv_net_image_input(IMAGE_WIDTH, IMAGE_HEIGHT, CHANNELS)\n",
    "targets = conv_net_label_input(NUM_CLASSES)\n",
    "keep_prob = conv_net_keep_prob_input()\n",
    "is_training = conv_net_is_training_placeholder()\n",
    "\n",
    "model = conv_net(inputs, keep_prob, is_training)"
   ]
  },
  {
   "cell_type": "markdown",
   "metadata": {},
   "source": [
    "- Cost function, training optimizer, correct predictions, accuracy"
   ]
  },
  {
   "cell_type": "code",
   "execution_count": 25,
   "metadata": {
    "collapsed": true
   },
   "outputs": [],
   "source": [
    "cost = tf.reduce_mean(tf.nn.softmax_cross_entropy_with_logits(logits=model, labels=targets))\n",
    "optimizer = tf.train.AdamOptimizer().minimize(cost)\n",
    "correct_pred = tf.equal(tf.argmax(model, 1), tf.argmax(targets, 1))\n",
    "accuracy = tf.reduce_mean(tf.cast(correct_pred, tf.float32), name='accuracy')"
   ]
  },
  {
   "cell_type": "markdown",
   "metadata": {},
   "source": [
    "#### Batch preparation"
   ]
  },
  {
   "cell_type": "code",
   "execution_count": 26,
   "metadata": {
    "collapsed": true
   },
   "outputs": [],
   "source": [
    "def prepare_mini_batches(data, labels, batch_size):\n",
    "    assert len(data) == len(labels)\n",
    "    \n",
    "    all_batches = list()\n",
    "    for i in range(0, len(data)):\n",
    "        all_batches.append((data[i], labels[i]))\n",
    "    random.shuffle(all_batches)\n",
    "        \n",
    "    mini_batches = list()\n",
    "    while len(all_batches) >= batch_size:\n",
    "        \n",
    "        data_batch = list()\n",
    "        labels_batch = list()\n",
    "        for j in range(0, batch_size):\n",
    "            data, labels = all_batches.pop()\n",
    "            data_batch.append(data)\n",
    "            labels_batch.append(labels)\n",
    "            \n",
    "        mini_batches.append((np.array(data_batch), np.array(labels_batch)))\n",
    "    \n",
    "    return mini_batches"
   ]
  },
  {
   "cell_type": "markdown",
   "metadata": {},
   "source": [
    "#### Hyperparameters"
   ]
  },
  {
   "cell_type": "code",
   "execution_count": 27,
   "metadata": {
    "collapsed": true
   },
   "outputs": [],
   "source": [
    "epochs = 110\n",
    "batch_size = 256\n",
    "keep_probability = 0.65"
   ]
  },
  {
   "cell_type": "markdown",
   "metadata": {},
   "source": [
    "#### Training cycle"
   ]
  },
  {
   "cell_type": "code",
   "execution_count": 28,
   "metadata": {
    "collapsed": true
   },
   "outputs": [],
   "source": [
    "session = tf.Session()"
   ]
  },
  {
   "cell_type": "code",
   "execution_count": 29,
   "metadata": {
    "scrolled": false
   },
   "outputs": [
    {
     "name": "stdout",
     "output_type": "stream",
     "text": [
      "Epoch 1, Batch 50:  Train cost =  1.8113, Train acc =  0.3320 Val cost =  1.7994, Val acc =  0.3516\n",
      "Epoch 1, Batch 100:  Train cost =  1.7784, Train acc =  0.3438 Val cost =  1.7257, Val acc =  0.3723\n",
      "Epoch 1, Batch 150:  Train cost =  1.5978, Train acc =  0.4219 Val cost =  1.5196, Val acc =  0.4459\n",
      "Epoch 2, Batch 200:  Train cost =  1.6840, Train acc =  0.4297 Val cost =  1.6781, Val acc =  0.3867\n",
      "Epoch 2, Batch 250:  Train cost =  1.6060, Train acc =  0.4297 Val cost =  1.5515, Val acc =  0.4402\n",
      "Epoch 2, Batch 300:  Train cost =  1.4063, Train acc =  0.5039 Val cost =  1.3610, Val acc =  0.5038\n",
      "Epoch 3, Batch 350:  Train cost =  1.3835, Train acc =  0.5430 Val cost =  1.3786, Val acc =  0.5055\n",
      "Epoch 3, Batch 400:  Train cost =  1.3863, Train acc =  0.5234 Val cost =  1.4661, Val acc =  0.4769\n",
      "Epoch 3, Batch 450:  Train cost =  1.4562, Train acc =  0.4805 Val cost =  1.4075, Val acc =  0.4960\n",
      "Epoch 4, Batch 500:  Train cost =  1.3921, Train acc =  0.5117 Val cost =  1.3343, Val acc =  0.5179\n",
      "Epoch 4, Batch 550:  Train cost =  1.3842, Train acc =  0.5234 Val cost =  1.3522, Val acc =  0.5237\n",
      "Epoch 4, Batch 600:  Train cost =  1.2456, Train acc =  0.5938 Val cost =  1.1912, Val acc =  0.5665\n",
      "Epoch 5, Batch 650:  Train cost =  1.3472, Train acc =  0.5156 Val cost =  1.2811, Val acc =  0.5428\n",
      "Epoch 5, Batch 700:  Train cost =  1.2453, Train acc =  0.5742 Val cost =  1.2888, Val acc =  0.5599\n",
      "Epoch 5, Batch 750:  Train cost =  1.1922, Train acc =  0.5469 Val cost =  1.2375, Val acc =  0.5611\n",
      "Epoch 6, Batch 800:  Train cost =  1.0521, Train acc =  0.6133 Val cost =  1.1511, Val acc =  0.5861\n",
      "Epoch 6, Batch 850:  Train cost =  1.2023, Train acc =  0.6094 Val cost =  1.1836, Val acc =  0.5861\n",
      "Epoch 6, Batch 900:  Train cost =  1.0690, Train acc =  0.6250 Val cost =  1.1241, Val acc =  0.6058\n",
      "Epoch 7, Batch 950:  Train cost =  1.0395, Train acc =  0.6055 Val cost =  1.1904, Val acc =  0.5802\n",
      "Epoch 7, Batch 1000:  Train cost =  1.1370, Train acc =  0.5938 Val cost =  1.1168, Val acc =  0.6103\n",
      "Epoch 7, Batch 1050:  Train cost =  1.1008, Train acc =  0.6133 Val cost =  1.1330, Val acc =  0.6063\n",
      "Epoch 8, Batch 1100:  Train cost =  1.0392, Train acc =  0.6328 Val cost =  1.1026, Val acc =  0.6125\n",
      "Epoch 8, Batch 1150:  Train cost =  1.0188, Train acc =  0.6562 Val cost =  1.0830, Val acc =  0.6182\n",
      "Epoch 8, Batch 1200:  Train cost =  1.1221, Train acc =  0.6250 Val cost =  1.0611, Val acc =  0.6323\n",
      "Epoch 9, Batch 1250:  Train cost =  1.0729, Train acc =  0.5977 Val cost =  1.0619, Val acc =  0.6299\n",
      "Epoch 9, Batch 1300:  Train cost =  1.0470, Train acc =  0.6289 Val cost =  1.1029, Val acc =  0.6228\n",
      "Epoch 9, Batch 1350:  Train cost =  1.0536, Train acc =  0.6484 Val cost =  1.1074, Val acc =  0.6261\n",
      "Epoch 9, Batch 1400:  Train cost =  0.9155, Train acc =  0.6836 Val cost =  1.0424, Val acc =  0.6368\n",
      "Epoch 10, Batch 1450:  Train cost =  0.9336, Train acc =  0.6758 Val cost =  1.0290, Val acc =  0.6501\n",
      "Epoch 10, Batch 1500:  Train cost =  0.9181, Train acc =  0.6562 Val cost =  0.9957, Val acc =  0.6490\n",
      "Epoch 10, Batch 1550:  Train cost =  0.9532, Train acc =  0.6875 Val cost =  0.9499, Val acc =  0.6687\n",
      "Epoch 11, Batch 1600:  Train cost =  0.8947, Train acc =  0.6758 Val cost =  0.9467, Val acc =  0.6654\n",
      "Epoch 11, Batch 1650:  Train cost =  0.8590, Train acc =  0.7109 Val cost =  0.9694, Val acc =  0.6562\n",
      "Epoch 11, Batch 1700:  Train cost =  0.8579, Train acc =  0.7070 Val cost =  0.9709, Val acc =  0.6578\n",
      "Epoch 12, Batch 1750:  Train cost =  0.9682, Train acc =  0.6562 Val cost =  0.9397, Val acc =  0.6713\n",
      "Epoch 12, Batch 1800:  Train cost =  0.8548, Train acc =  0.7031 Val cost =  0.9328, Val acc =  0.6796\n",
      "Epoch 12, Batch 1850:  Train cost =  1.0134, Train acc =  0.6758 Val cost =  0.9434, Val acc =  0.6657\n",
      "Epoch 13, Batch 1900:  Train cost =  0.9924, Train acc =  0.6367 Val cost =  0.9811, Val acc =  0.6578\n",
      "Epoch 13, Batch 1950:  Train cost =  0.8387, Train acc =  0.7148 Val cost =  0.8753, Val acc =  0.6922\n",
      "Epoch 13, Batch 2000:  Train cost =  0.9238, Train acc =  0.6602 Val cost =  0.9015, Val acc =  0.6850\n",
      "Epoch 14, Batch 2050:  Train cost =  0.8661, Train acc =  0.6758 Val cost =  0.8837, Val acc =  0.6876\n",
      "Epoch 14, Batch 2100:  Train cost =  0.8836, Train acc =  0.7148 Val cost =  0.9929, Val acc =  0.6509\n",
      "Epoch 14, Batch 2150:  Train cost =  0.8661, Train acc =  0.7070 Val cost =  0.9409, Val acc =  0.6735\n",
      "Epoch 15, Batch 2200:  Train cost =  0.7131, Train acc =  0.7383 Val cost =  0.8744, Val acc =  0.6920\n",
      "Epoch 15, Batch 2250:  Train cost =  0.8391, Train acc =  0.7070 Val cost =  0.8984, Val acc =  0.6879\n",
      "Epoch 15, Batch 2300:  Train cost =  0.8128, Train acc =  0.6875 Val cost =  0.9052, Val acc =  0.6867\n",
      "Epoch 16, Batch 2350:  Train cost =  0.8101, Train acc =  0.6953 Val cost =  0.9080, Val acc =  0.6803\n",
      "Epoch 16, Batch 2400:  Train cost =  0.8684, Train acc =  0.6797 Val cost =  0.8812, Val acc =  0.6921\n",
      "Epoch 16, Batch 2450:  Train cost =  0.9021, Train acc =  0.6641 Val cost =  0.9576, Val acc =  0.6673\n",
      "Epoch 17, Batch 2500:  Train cost =  0.8195, Train acc =  0.6992 Val cost =  0.8597, Val acc =  0.7054\n",
      "Epoch 17, Batch 2550:  Train cost =  0.6623, Train acc =  0.7500 Val cost =  0.8352, Val acc =  0.7086\n",
      "Epoch 17, Batch 2600:  Train cost =  0.9198, Train acc =  0.7227 Val cost =  0.9651, Val acc =  0.6724\n",
      "Epoch 17, Batch 2650:  Train cost =  0.8703, Train acc =  0.6914 Val cost =  0.9133, Val acc =  0.6768\n",
      "Epoch 18, Batch 2700:  Train cost =  0.6973, Train acc =  0.7578 Val cost =  0.8215, Val acc =  0.7115\n",
      "Epoch 18, Batch 2750:  Train cost =  0.7777, Train acc =  0.7344 Val cost =  0.8815, Val acc =  0.6955\n",
      "Epoch 18, Batch 2800:  Train cost =  0.8163, Train acc =  0.7188 Val cost =  0.8443, Val acc =  0.7048\n",
      "Epoch 19, Batch 2850:  Train cost =  0.7609, Train acc =  0.7305 Val cost =  0.8482, Val acc =  0.7048\n",
      "Epoch 19, Batch 2900:  Train cost =  0.9644, Train acc =  0.6797 Val cost =  0.9693, Val acc =  0.6676\n",
      "Epoch 19, Batch 2950:  Train cost =  0.7622, Train acc =  0.7148 Val cost =  0.8344, Val acc =  0.7049\n",
      "Epoch 20, Batch 3000:  Train cost =  0.7240, Train acc =  0.7422 Val cost =  0.8379, Val acc =  0.7042\n",
      "Epoch 20, Batch 3050:  Train cost =  0.7714, Train acc =  0.6992 Val cost =  0.8183, Val acc =  0.7165\n",
      "Epoch 20, Batch 3100:  Train cost =  0.6004, Train acc =  0.7773 Val cost =  0.8303, Val acc =  0.7073\n",
      "Epoch 21, Batch 3150:  Train cost =  0.7989, Train acc =  0.7305 Val cost =  0.7899, Val acc =  0.7273\n",
      "Epoch 21, Batch 3200:  Train cost =  0.7392, Train acc =  0.7266 Val cost =  0.8448, Val acc =  0.7058\n",
      "Epoch 21, Batch 3250:  Train cost =  0.6750, Train acc =  0.7734 Val cost =  0.7873, Val acc =  0.7227\n",
      "Epoch 22, Batch 3300:  Train cost =  0.7333, Train acc =  0.7383 Val cost =  0.8487, Val acc =  0.7063\n",
      "Epoch 22, Batch 3350:  Train cost =  0.6592, Train acc =  0.7891 Val cost =  0.8342, Val acc =  0.7049\n",
      "Epoch 22, Batch 3400:  Train cost =  0.8184, Train acc =  0.7305 Val cost =  0.8394, Val acc =  0.7055\n",
      "Epoch 23, Batch 3450:  Train cost =  0.7856, Train acc =  0.7148 Val cost =  0.7982, Val acc =  0.7228\n",
      "Epoch 23, Batch 3500:  Train cost =  0.8668, Train acc =  0.7305 Val cost =  0.7933, Val acc =  0.7255\n",
      "Epoch 23, Batch 3550:  Train cost =  0.7482, Train acc =  0.7383 Val cost =  0.7864, Val acc =  0.7253\n",
      "Epoch 24, Batch 3600:  Train cost =  0.7013, Train acc =  0.7539 Val cost =  0.8077, Val acc =  0.7173\n",
      "Epoch 24, Batch 3650:  Train cost =  0.6989, Train acc =  0.7812 Val cost =  0.7898, Val acc =  0.7246\n",
      "Epoch 24, Batch 3700:  Train cost =  0.9618, Train acc =  0.6836 Val cost =  0.8575, Val acc =  0.7052\n",
      "Epoch 25, Batch 3750:  Train cost =  0.7457, Train acc =  0.7461 Val cost =  0.8667, Val acc =  0.7012\n",
      "Epoch 25, Batch 3800:  Train cost =  0.5504, Train acc =  0.7812 Val cost =  0.7316, Val acc =  0.7417\n",
      "Epoch 25, Batch 3850:  Train cost =  0.6263, Train acc =  0.7734 Val cost =  0.7851, Val acc =  0.7258\n",
      "Epoch 25, Batch 3900:  Train cost =  0.5898, Train acc =  0.7695 Val cost =  0.7864, Val acc =  0.7250\n",
      "Epoch 26, Batch 3950:  Train cost =  0.6911, Train acc =  0.7617 Val cost =  0.7665, Val acc =  0.7304\n",
      "Epoch 26, Batch 4000:  Train cost =  0.7273, Train acc =  0.7656 Val cost =  0.8157, Val acc =  0.7170\n",
      "Epoch 26, Batch 4050:  Train cost =  0.6249, Train acc =  0.7852 Val cost =  0.7337, Val acc =  0.7425\n"
     ]
    },
    {
     "name": "stdout",
     "output_type": "stream",
     "text": [
      "Epoch 27, Batch 4100:  Train cost =  0.6020, Train acc =  0.8008 Val cost =  0.7230, Val acc =  0.7465\n",
      "Epoch 27, Batch 4150:  Train cost =  0.7473, Train acc =  0.7070 Val cost =  0.8164, Val acc =  0.7154\n",
      "Epoch 27, Batch 4200:  Train cost =  0.7185, Train acc =  0.7344 Val cost =  0.7831, Val acc =  0.7281\n",
      "Epoch 28, Batch 4250:  Train cost =  0.5925, Train acc =  0.8125 Val cost =  0.7154, Val acc =  0.7466\n",
      "Epoch 28, Batch 4300:  Train cost =  0.5396, Train acc =  0.7891 Val cost =  0.7358, Val acc =  0.7469\n",
      "Epoch 28, Batch 4350:  Train cost =  0.7007, Train acc =  0.7500 Val cost =  0.7342, Val acc =  0.7464\n",
      "Epoch 29, Batch 4400:  Train cost =  0.7588, Train acc =  0.7344 Val cost =  0.7368, Val acc =  0.7435\n",
      "Epoch 29, Batch 4450:  Train cost =  0.5495, Train acc =  0.7969 Val cost =  0.7502, Val acc =  0.7329\n",
      "Epoch 29, Batch 4500:  Train cost =  0.6405, Train acc =  0.7500 Val cost =  0.7204, Val acc =  0.7495\n",
      "Epoch 30, Batch 4550:  Train cost =  0.6949, Train acc =  0.7500 Val cost =  0.7341, Val acc =  0.7463\n",
      "Epoch 30, Batch 4600:  Train cost =  0.7637, Train acc =  0.7422 Val cost =  0.7308, Val acc =  0.7474\n",
      "Epoch 30, Batch 4650:  Train cost =  0.6035, Train acc =  0.7891 Val cost =  0.7715, Val acc =  0.7333\n",
      "Epoch 31, Batch 4700:  Train cost =  0.5187, Train acc =  0.8398 Val cost =  0.7172, Val acc =  0.7501\n",
      "Epoch 31, Batch 4750:  Train cost =  0.8110, Train acc =  0.7344 Val cost =  0.8513, Val acc =  0.7094\n",
      "Epoch 31, Batch 4800:  Train cost =  0.5497, Train acc =  0.8086 Val cost =  0.7139, Val acc =  0.7536\n",
      "Epoch 32, Batch 4850:  Train cost =  0.5701, Train acc =  0.7969 Val cost =  0.7324, Val acc =  0.7418\n",
      "Epoch 32, Batch 4900:  Train cost =  0.4817, Train acc =  0.8359 Val cost =  0.7114, Val acc =  0.7525\n",
      "Epoch 32, Batch 4950:  Train cost =  0.5203, Train acc =  0.7930 Val cost =  0.7241, Val acc =  0.7472\n",
      "Epoch 33, Batch 5000:  Train cost =  0.5624, Train acc =  0.8047 Val cost =  0.7262, Val acc =  0.7514\n",
      "Epoch 33, Batch 5050:  Train cost =  0.6068, Train acc =  0.7773 Val cost =  0.6954, Val acc =  0.7575\n",
      "Epoch 33, Batch 5100:  Train cost =  0.6924, Train acc =  0.7695 Val cost =  0.7006, Val acc =  0.7540\n",
      "Epoch 34, Batch 5150:  Train cost =  0.5572, Train acc =  0.8281 Val cost =  0.6999, Val acc =  0.7542\n",
      "Epoch 34, Batch 5200:  Train cost =  0.6025, Train acc =  0.7852 Val cost =  0.6755, Val acc =  0.7639\n",
      "Epoch 34, Batch 5250:  Train cost =  0.5981, Train acc =  0.8008 Val cost =  0.6945, Val acc =  0.7614\n",
      "Epoch 34, Batch 5300:  Train cost =  0.5864, Train acc =  0.8047 Val cost =  0.6777, Val acc =  0.7660\n",
      "Epoch 35, Batch 5350:  Train cost =  0.5314, Train acc =  0.8008 Val cost =  0.7008, Val acc =  0.7593\n",
      "Epoch 35, Batch 5400:  Train cost =  0.6409, Train acc =  0.7734 Val cost =  0.7556, Val acc =  0.7374\n",
      "Epoch 35, Batch 5450:  Train cost =  0.5982, Train acc =  0.7656 Val cost =  0.7093, Val acc =  0.7527\n",
      "Epoch 36, Batch 5500:  Train cost =  0.5898, Train acc =  0.8086 Val cost =  0.7231, Val acc =  0.7466\n",
      "Epoch 36, Batch 5550:  Train cost =  0.5946, Train acc =  0.7617 Val cost =  0.6972, Val acc =  0.7575\n",
      "Epoch 36, Batch 5600:  Train cost =  0.5791, Train acc =  0.7930 Val cost =  0.6961, Val acc =  0.7509\n",
      "Epoch 37, Batch 5650:  Train cost =  0.4934, Train acc =  0.8125 Val cost =  0.6874, Val acc =  0.7574\n",
      "Epoch 37, Batch 5700:  Train cost =  0.4674, Train acc =  0.8281 Val cost =  0.6747, Val acc =  0.7614\n",
      "Epoch 37, Batch 5750:  Train cost =  0.6323, Train acc =  0.7734 Val cost =  0.7304, Val acc =  0.7504\n",
      "Epoch 38, Batch 5800:  Train cost =  0.5744, Train acc =  0.8164 Val cost =  0.7006, Val acc =  0.7587\n",
      "Epoch 38, Batch 5850:  Train cost =  0.4433, Train acc =  0.8281 Val cost =  0.6770, Val acc =  0.7674\n",
      "Epoch 38, Batch 5900:  Train cost =  0.4535, Train acc =  0.8398 Val cost =  0.6648, Val acc =  0.7670\n",
      "Epoch 39, Batch 5950:  Train cost =  0.5164, Train acc =  0.8086 Val cost =  0.6912, Val acc =  0.7576\n",
      "Epoch 39, Batch 6000:  Train cost =  0.5080, Train acc =  0.7812 Val cost =  0.6749, Val acc =  0.7678\n",
      "Epoch 39, Batch 6050:  Train cost =  0.6663, Train acc =  0.7656 Val cost =  0.6903, Val acc =  0.7585\n",
      "Epoch 40, Batch 6100:  Train cost =  0.3765, Train acc =  0.8633 Val cost =  0.6802, Val acc =  0.7625\n",
      "Epoch 40, Batch 6150:  Train cost =  0.4259, Train acc =  0.8203 Val cost =  0.6707, Val acc =  0.7663\n",
      "Epoch 40, Batch 6200:  Train cost =  0.5235, Train acc =  0.8281 Val cost =  0.7011, Val acc =  0.7589\n",
      "Epoch 41, Batch 6250:  Train cost =  0.4297, Train acc =  0.8398 Val cost =  0.6667, Val acc =  0.7671\n",
      "Epoch 41, Batch 6300:  Train cost =  0.4984, Train acc =  0.8281 Val cost =  0.6655, Val acc =  0.7650\n",
      "Epoch 41, Batch 6350:  Train cost =  0.4614, Train acc =  0.8359 Val cost =  0.6713, Val acc =  0.7689\n",
      "Epoch 42, Batch 6400:  Train cost =  0.4729, Train acc =  0.8203 Val cost =  0.6725, Val acc =  0.7641\n",
      "Epoch 42, Batch 6450:  Train cost =  0.5219, Train acc =  0.7969 Val cost =  0.6509, Val acc =  0.7701\n",
      "Epoch 42, Batch 6500:  Train cost =  0.4838, Train acc =  0.8398 Val cost =  0.7198, Val acc =  0.7497\n",
      "Epoch 42, Batch 6550:  Train cost =  0.5281, Train acc =  0.8398 Val cost =  0.6749, Val acc =  0.7636\n",
      "Epoch 43, Batch 6600:  Train cost =  0.5556, Train acc =  0.7969 Val cost =  0.6826, Val acc =  0.7648\n",
      "Epoch 43, Batch 6650:  Train cost =  0.4555, Train acc =  0.8320 Val cost =  0.6547, Val acc =  0.7702\n",
      "Epoch 43, Batch 6700:  Train cost =  0.4790, Train acc =  0.8438 Val cost =  0.6576, Val acc =  0.7695\n",
      "Epoch 44, Batch 6750:  Train cost =  0.4621, Train acc =  0.8789 Val cost =  0.6655, Val acc =  0.7675\n",
      "Epoch 44, Batch 6800:  Train cost =  0.4502, Train acc =  0.8359 Val cost =  0.6813, Val acc =  0.7596\n",
      "Epoch 44, Batch 6850:  Train cost =  0.5194, Train acc =  0.8203 Val cost =  0.6368, Val acc =  0.7774\n",
      "Epoch 45, Batch 6900:  Train cost =  0.3354, Train acc =  0.8828 Val cost =  0.6404, Val acc =  0.7768\n",
      "Epoch 45, Batch 6950:  Train cost =  0.4270, Train acc =  0.8438 Val cost =  0.6791, Val acc =  0.7616\n",
      "Epoch 45, Batch 7000:  Train cost =  0.5161, Train acc =  0.8125 Val cost =  0.7086, Val acc =  0.7543\n",
      "Epoch 46, Batch 7050:  Train cost =  0.4388, Train acc =  0.8203 Val cost =  0.6434, Val acc =  0.7743\n",
      "Epoch 46, Batch 7100:  Train cost =  0.5071, Train acc =  0.8281 Val cost =  0.6750, Val acc =  0.7649\n",
      "Epoch 46, Batch 7150:  Train cost =  0.4646, Train acc =  0.8477 Val cost =  0.6278, Val acc =  0.7781\n",
      "Epoch 47, Batch 7200:  Train cost =  0.4844, Train acc =  0.8242 Val cost =  0.6608, Val acc =  0.7729\n",
      "Epoch 47, Batch 7250:  Train cost =  0.3804, Train acc =  0.8711 Val cost =  0.6387, Val acc =  0.7773\n",
      "Epoch 47, Batch 7300:  Train cost =  0.4397, Train acc =  0.8711 Val cost =  0.6292, Val acc =  0.7800\n",
      "Epoch 48, Batch 7350:  Train cost =  0.4593, Train acc =  0.8320 Val cost =  0.6541, Val acc =  0.7723\n",
      "Epoch 48, Batch 7400:  Train cost =  0.4314, Train acc =  0.8555 Val cost =  0.6344, Val acc =  0.7811\n",
      "Epoch 48, Batch 7450:  Train cost =  0.5076, Train acc =  0.8086 Val cost =  0.6627, Val acc =  0.7680\n",
      "Epoch 49, Batch 7500:  Train cost =  0.4960, Train acc =  0.8203 Val cost =  0.6676, Val acc =  0.7681\n",
      "Epoch 49, Batch 7550:  Train cost =  0.4913, Train acc =  0.8242 Val cost =  0.6856, Val acc =  0.7596\n",
      "Epoch 49, Batch 7600:  Train cost =  0.4407, Train acc =  0.8320 Val cost =  0.6142, Val acc =  0.7829\n",
      "Epoch 50, Batch 7650:  Train cost =  0.3244, Train acc =  0.8906 Val cost =  0.6308, Val acc =  0.7802\n",
      "Epoch 50, Batch 7700:  Train cost =  0.4062, Train acc =  0.8633 Val cost =  0.6586, Val acc =  0.7713\n",
      "Epoch 50, Batch 7750:  Train cost =  0.4403, Train acc =  0.8555 Val cost =  0.6306, Val acc =  0.7786\n",
      "Epoch 50, Batch 7800:  Train cost =  0.4428, Train acc =  0.8711 Val cost =  0.6767, Val acc =  0.7660\n",
      "Epoch 51, Batch 7850:  Train cost =  0.3782, Train acc =  0.8711 Val cost =  0.6397, Val acc =  0.7784\n",
      "Epoch 51, Batch 7900:  Train cost =  0.4190, Train acc =  0.8555 Val cost =  0.6360, Val acc =  0.7794\n",
      "Epoch 51, Batch 7950:  Train cost =  0.4151, Train acc =  0.8477 Val cost =  0.6349, Val acc =  0.7770\n",
      "Epoch 52, Batch 8000:  Train cost =  0.4335, Train acc =  0.8633 Val cost =  0.6431, Val acc =  0.7799\n",
      "Epoch 52, Batch 8050:  Train cost =  0.4444, Train acc =  0.8398 Val cost =  0.6787, Val acc =  0.7696\n"
     ]
    },
    {
     "name": "stdout",
     "output_type": "stream",
     "text": [
      "Epoch 52, Batch 8100:  Train cost =  0.4774, Train acc =  0.8281 Val cost =  0.6925, Val acc =  0.7595\n",
      "Epoch 53, Batch 8150:  Train cost =  0.4846, Train acc =  0.8438 Val cost =  0.6953, Val acc =  0.7643\n",
      "Epoch 53, Batch 8200:  Train cost =  0.3656, Train acc =  0.8594 Val cost =  0.6317, Val acc =  0.7803\n",
      "Epoch 53, Batch 8250:  Train cost =  0.4103, Train acc =  0.8867 Val cost =  0.6222, Val acc =  0.7785\n",
      "Epoch 54, Batch 8300:  Train cost =  0.4269, Train acc =  0.8594 Val cost =  0.6389, Val acc =  0.7770\n",
      "Epoch 54, Batch 8350:  Train cost =  0.4051, Train acc =  0.8633 Val cost =  0.6581, Val acc =  0.7707\n",
      "Epoch 54, Batch 8400:  Train cost =  0.3570, Train acc =  0.8711 Val cost =  0.6214, Val acc =  0.7845\n",
      "Epoch 55, Batch 8450:  Train cost =  0.3522, Train acc =  0.8672 Val cost =  0.6497, Val acc =  0.7748\n",
      "Epoch 55, Batch 8500:  Train cost =  0.4314, Train acc =  0.8516 Val cost =  0.6212, Val acc =  0.7814\n",
      "Epoch 55, Batch 8550:  Train cost =  0.3980, Train acc =  0.8672 Val cost =  0.6184, Val acc =  0.7824\n",
      "Epoch 56, Batch 8600:  Train cost =  0.4305, Train acc =  0.8516 Val cost =  0.6121, Val acc =  0.7850\n",
      "Epoch 56, Batch 8650:  Train cost =  0.3267, Train acc =  0.8828 Val cost =  0.6106, Val acc =  0.7850\n",
      "Epoch 56, Batch 8700:  Train cost =  0.4138, Train acc =  0.8672 Val cost =  0.6303, Val acc =  0.7790\n",
      "Epoch 57, Batch 8750:  Train cost =  0.4221, Train acc =  0.8477 Val cost =  0.6549, Val acc =  0.7727\n",
      "Epoch 57, Batch 8800:  Train cost =  0.3752, Train acc =  0.8906 Val cost =  0.6221, Val acc =  0.7844\n",
      "Epoch 57, Batch 8850:  Train cost =  0.3598, Train acc =  0.8867 Val cost =  0.7142, Val acc =  0.7572\n",
      "Epoch 58, Batch 8900:  Train cost =  0.3571, Train acc =  0.8789 Val cost =  0.6716, Val acc =  0.7688\n",
      "Epoch 58, Batch 8950:  Train cost =  0.3581, Train acc =  0.8945 Val cost =  0.6575, Val acc =  0.7736\n",
      "Epoch 58, Batch 9000:  Train cost =  0.4949, Train acc =  0.8086 Val cost =  0.6725, Val acc =  0.7662\n",
      "Epoch 59, Batch 9050:  Train cost =  0.3841, Train acc =  0.8516 Val cost =  0.6381, Val acc =  0.7754\n",
      "Epoch 59, Batch 9100:  Train cost =  0.2819, Train acc =  0.9102 Val cost =  0.6192, Val acc =  0.7844\n",
      "Epoch 59, Batch 9150:  Train cost =  0.3796, Train acc =  0.8750 Val cost =  0.6161, Val acc =  0.7870\n",
      "Epoch 59, Batch 9200:  Train cost =  0.4163, Train acc =  0.8555 Val cost =  0.6595, Val acc =  0.7739\n",
      "Epoch 60, Batch 9250:  Train cost =  0.4023, Train acc =  0.8594 Val cost =  0.6140, Val acc =  0.7856\n",
      "Epoch 60, Batch 9300:  Train cost =  0.2977, Train acc =  0.9141 Val cost =  0.6037, Val acc =  0.7879\n",
      "Epoch 60, Batch 9350:  Train cost =  0.4627, Train acc =  0.8359 Val cost =  0.6188, Val acc =  0.7817\n",
      "Epoch 61, Batch 9400:  Train cost =  0.4154, Train acc =  0.8789 Val cost =  0.6576, Val acc =  0.7768\n",
      "Epoch 61, Batch 9450:  Train cost =  0.3641, Train acc =  0.8867 Val cost =  0.6317, Val acc =  0.7800\n",
      "Epoch 61, Batch 9500:  Train cost =  0.3711, Train acc =  0.8555 Val cost =  0.6374, Val acc =  0.7759\n",
      "Epoch 62, Batch 9550:  Train cost =  0.4151, Train acc =  0.8555 Val cost =  0.6245, Val acc =  0.7802\n",
      "Epoch 62, Batch 9600:  Train cost =  0.3934, Train acc =  0.8516 Val cost =  0.6829, Val acc =  0.7681\n",
      "Epoch 62, Batch 9650:  Train cost =  0.4641, Train acc =  0.8438 Val cost =  0.7017, Val acc =  0.7597\n",
      "Epoch 63, Batch 9700:  Train cost =  0.3676, Train acc =  0.8945 Val cost =  0.6210, Val acc =  0.7872\n",
      "Epoch 63, Batch 9750:  Train cost =  0.3234, Train acc =  0.8984 Val cost =  0.5958, Val acc =  0.7919\n",
      "Epoch 63, Batch 9800:  Train cost =  0.3969, Train acc =  0.8555 Val cost =  0.6044, Val acc =  0.7885\n",
      "Epoch 64, Batch 9850:  Train cost =  0.3058, Train acc =  0.9023 Val cost =  0.6126, Val acc =  0.7867\n",
      "Epoch 64, Batch 9900:  Train cost =  0.3401, Train acc =  0.8789 Val cost =  0.6160, Val acc =  0.7842\n",
      "Epoch 64, Batch 9950:  Train cost =  0.2789, Train acc =  0.9141 Val cost =  0.6047, Val acc =  0.7907\n",
      "Epoch 65, Batch 10000:  Train cost =  0.3478, Train acc =  0.8945 Val cost =  0.6230, Val acc =  0.7854\n",
      "Epoch 65, Batch 10050:  Train cost =  0.4780, Train acc =  0.8125 Val cost =  0.6808, Val acc =  0.7657\n",
      "Epoch 65, Batch 10100:  Train cost =  0.3413, Train acc =  0.8828 Val cost =  0.6006, Val acc =  0.7898\n",
      "Epoch 66, Batch 10150:  Train cost =  0.2884, Train acc =  0.9102 Val cost =  0.6169, Val acc =  0.7868\n",
      "Epoch 66, Batch 10200:  Train cost =  0.3484, Train acc =  0.8555 Val cost =  0.6043, Val acc =  0.7890\n",
      "Epoch 66, Batch 10250:  Train cost =  0.3009, Train acc =  0.8984 Val cost =  0.6282, Val acc =  0.7823\n",
      "Epoch 67, Batch 10300:  Train cost =  0.3158, Train acc =  0.8906 Val cost =  0.6154, Val acc =  0.7859\n",
      "Epoch 67, Batch 10350:  Train cost =  0.3548, Train acc =  0.8867 Val cost =  0.6044, Val acc =  0.7924\n",
      "Epoch 67, Batch 10400:  Train cost =  0.3036, Train acc =  0.8984 Val cost =  0.5988, Val acc =  0.7936\n",
      "Epoch 67, Batch 10450:  Train cost =  0.4128, Train acc =  0.8672 Val cost =  0.6828, Val acc =  0.7683\n",
      "Epoch 68, Batch 10500:  Train cost =  0.2838, Train acc =  0.8867 Val cost =  0.5931, Val acc =  0.7964\n",
      "Epoch 68, Batch 10550:  Train cost =  0.3889, Train acc =  0.8477 Val cost =  0.6873, Val acc =  0.7642\n",
      "Epoch 68, Batch 10600:  Train cost =  0.3206, Train acc =  0.9062 Val cost =  0.5904, Val acc =  0.7946\n",
      "Epoch 69, Batch 10650:  Train cost =  0.2457, Train acc =  0.9219 Val cost =  0.6257, Val acc =  0.7858\n",
      "Epoch 69, Batch 10700:  Train cost =  0.3596, Train acc =  0.8594 Val cost =  0.5956, Val acc =  0.7960\n",
      "Epoch 69, Batch 10750:  Train cost =  0.3407, Train acc =  0.8945 Val cost =  0.6201, Val acc =  0.7900\n",
      "Epoch 70, Batch 10800:  Train cost =  0.4047, Train acc =  0.8594 Val cost =  0.6309, Val acc =  0.7792\n",
      "Epoch 70, Batch 10850:  Train cost =  0.4165, Train acc =  0.8281 Val cost =  0.6331, Val acc =  0.7808\n",
      "Epoch 70, Batch 10900:  Train cost =  0.4144, Train acc =  0.8398 Val cost =  0.6442, Val acc =  0.7794\n",
      "Epoch 71, Batch 10950:  Train cost =  0.3306, Train acc =  0.8906 Val cost =  0.6157, Val acc =  0.7896\n",
      "Epoch 71, Batch 11000:  Train cost =  0.2841, Train acc =  0.9141 Val cost =  0.6357, Val acc =  0.7811\n",
      "Epoch 71, Batch 11050:  Train cost =  0.2768, Train acc =  0.9180 Val cost =  0.6166, Val acc =  0.7866\n",
      "Epoch 72, Batch 11100:  Train cost =  0.3707, Train acc =  0.8477 Val cost =  0.6036, Val acc =  0.7926\n",
      "Epoch 72, Batch 11150:  Train cost =  0.3160, Train acc =  0.8867 Val cost =  0.5998, Val acc =  0.7919\n",
      "Epoch 72, Batch 11200:  Train cost =  0.2735, Train acc =  0.9062 Val cost =  0.5887, Val acc =  0.7963\n",
      "Epoch 73, Batch 11250:  Train cost =  0.3087, Train acc =  0.8867 Val cost =  0.6094, Val acc =  0.7910\n",
      "Epoch 73, Batch 11300:  Train cost =  0.2800, Train acc =  0.8984 Val cost =  0.6050, Val acc =  0.7922\n",
      "Epoch 73, Batch 11350:  Train cost =  0.3431, Train acc =  0.8789 Val cost =  0.6512, Val acc =  0.7755\n",
      "Epoch 74, Batch 11400:  Train cost =  0.2893, Train acc =  0.9023 Val cost =  0.6085, Val acc =  0.7900\n",
      "Epoch 74, Batch 11450:  Train cost =  0.3306, Train acc =  0.8867 Val cost =  0.6153, Val acc =  0.7912\n",
      "Epoch 74, Batch 11500:  Train cost =  0.2642, Train acc =  0.9062 Val cost =  0.5791, Val acc =  0.7997\n",
      "Epoch 75, Batch 11550:  Train cost =  0.3183, Train acc =  0.8828 Val cost =  0.6365, Val acc =  0.7817\n",
      "Epoch 75, Batch 11600:  Train cost =  0.3432, Train acc =  0.8672 Val cost =  0.5939, Val acc =  0.7952\n",
      "Epoch 75, Batch 11650:  Train cost =  0.2902, Train acc =  0.8984 Val cost =  0.5833, Val acc =  0.7945\n",
      "Epoch 75, Batch 11700:  Train cost =  0.3205, Train acc =  0.8984 Val cost =  0.6036, Val acc =  0.7921\n",
      "Epoch 76, Batch 11750:  Train cost =  0.2558, Train acc =  0.9258 Val cost =  0.5980, Val acc =  0.7925\n",
      "Epoch 76, Batch 11800:  Train cost =  0.3044, Train acc =  0.8789 Val cost =  0.6001, Val acc =  0.7890\n",
      "Epoch 76, Batch 11850:  Train cost =  0.2820, Train acc =  0.9062 Val cost =  0.6057, Val acc =  0.7878\n",
      "Epoch 77, Batch 11900:  Train cost =  0.2923, Train acc =  0.8906 Val cost =  0.6043, Val acc =  0.7905\n",
      "Epoch 77, Batch 11950:  Train cost =  0.3503, Train acc =  0.8789 Val cost =  0.6238, Val acc =  0.7855\n",
      "Epoch 77, Batch 12000:  Train cost =  0.3100, Train acc =  0.9141 Val cost =  0.6060, Val acc =  0.7893\n",
      "Epoch 78, Batch 12050:  Train cost =  0.3141, Train acc =  0.9141 Val cost =  0.6258, Val acc =  0.7824\n"
     ]
    },
    {
     "name": "stdout",
     "output_type": "stream",
     "text": [
      "Epoch 78, Batch 12100:  Train cost =  0.3394, Train acc =  0.8516 Val cost =  0.5965, Val acc =  0.7918\n",
      "Epoch 78, Batch 12150:  Train cost =  0.3047, Train acc =  0.9023 Val cost =  0.5938, Val acc =  0.7957\n",
      "Epoch 79, Batch 12200:  Train cost =  0.1972, Train acc =  0.9375 Val cost =  0.5940, Val acc =  0.7954\n",
      "Epoch 79, Batch 12250:  Train cost =  0.3119, Train acc =  0.9062 Val cost =  0.5926, Val acc =  0.7929\n",
      "Epoch 79, Batch 12300:  Train cost =  0.3796, Train acc =  0.8711 Val cost =  0.6126, Val acc =  0.7877\n",
      "Epoch 80, Batch 12350:  Train cost =  0.3040, Train acc =  0.8906 Val cost =  0.5966, Val acc =  0.7936\n",
      "Epoch 80, Batch 12400:  Train cost =  0.3512, Train acc =  0.8906 Val cost =  0.6290, Val acc =  0.7870\n",
      "Epoch 80, Batch 12450:  Train cost =  0.2660, Train acc =  0.9141 Val cost =  0.5875, Val acc =  0.7928\n",
      "Epoch 81, Batch 12500:  Train cost =  0.2215, Train acc =  0.9453 Val cost =  0.5896, Val acc =  0.7918\n",
      "Epoch 81, Batch 12550:  Train cost =  0.2025, Train acc =  0.9414 Val cost =  0.5781, Val acc =  0.7969\n",
      "Epoch 81, Batch 12600:  Train cost =  0.2395, Train acc =  0.9180 Val cost =  0.5867, Val acc =  0.7971\n",
      "Epoch 82, Batch 12650:  Train cost =  0.2201, Train acc =  0.9453 Val cost =  0.5841, Val acc =  0.7986\n",
      "Epoch 82, Batch 12700:  Train cost =  0.2538, Train acc =  0.9180 Val cost =  0.6221, Val acc =  0.7889\n",
      "Epoch 82, Batch 12750:  Train cost =  0.2821, Train acc =  0.9023 Val cost =  0.5854, Val acc =  0.7969\n",
      "Epoch 83, Batch 12800:  Train cost =  0.2712, Train acc =  0.9180 Val cost =  0.5948, Val acc =  0.7938\n",
      "Epoch 83, Batch 12850:  Train cost =  0.3345, Train acc =  0.9023 Val cost =  0.6806, Val acc =  0.7709\n",
      "Epoch 83, Batch 12900:  Train cost =  0.2413, Train acc =  0.9258 Val cost =  0.5989, Val acc =  0.7938\n",
      "Epoch 84, Batch 12950:  Train cost =  0.2909, Train acc =  0.9102 Val cost =  0.6174, Val acc =  0.7881\n",
      "Epoch 84, Batch 13000:  Train cost =  0.2978, Train acc =  0.8867 Val cost =  0.6290, Val acc =  0.7858\n",
      "Epoch 84, Batch 13050:  Train cost =  0.2857, Train acc =  0.9062 Val cost =  0.5907, Val acc =  0.7971\n",
      "Epoch 84, Batch 13100:  Train cost =  0.3483, Train acc =  0.8594 Val cost =  0.5786, Val acc =  0.7990\n",
      "Epoch 85, Batch 13150:  Train cost =  0.2030, Train acc =  0.9414 Val cost =  0.5876, Val acc =  0.7970\n",
      "Epoch 85, Batch 13200:  Train cost =  0.2390, Train acc =  0.9336 Val cost =  0.6091, Val acc =  0.7913\n",
      "Epoch 85, Batch 13250:  Train cost =  0.2460, Train acc =  0.9102 Val cost =  0.6188, Val acc =  0.7877\n",
      "Epoch 86, Batch 13300:  Train cost =  0.2545, Train acc =  0.9023 Val cost =  0.5786, Val acc =  0.8020\n",
      "Epoch 86, Batch 13350:  Train cost =  0.2823, Train acc =  0.8984 Val cost =  0.6320, Val acc =  0.7849\n",
      "Epoch 86, Batch 13400:  Train cost =  0.2677, Train acc =  0.9023 Val cost =  0.6050, Val acc =  0.7950\n",
      "Epoch 87, Batch 13450:  Train cost =  0.2810, Train acc =  0.8906 Val cost =  0.5796, Val acc =  0.8005\n",
      "Epoch 87, Batch 13500:  Train cost =  0.2992, Train acc =  0.9023 Val cost =  0.5830, Val acc =  0.7971\n",
      "Epoch 87, Batch 13550:  Train cost =  0.2555, Train acc =  0.9141 Val cost =  0.5967, Val acc =  0.7977\n",
      "Epoch 88, Batch 13600:  Train cost =  0.3069, Train acc =  0.8789 Val cost =  0.5961, Val acc =  0.7933\n",
      "Epoch 88, Batch 13650:  Train cost =  0.2930, Train acc =  0.8906 Val cost =  0.6244, Val acc =  0.7862\n",
      "Epoch 88, Batch 13700:  Train cost =  0.2615, Train acc =  0.9219 Val cost =  0.5751, Val acc =  0.8033\n",
      "Epoch 89, Batch 13750:  Train cost =  0.2546, Train acc =  0.9102 Val cost =  0.5959, Val acc =  0.7957\n",
      "Epoch 89, Batch 13800:  Train cost =  0.2690, Train acc =  0.9062 Val cost =  0.6339, Val acc =  0.7879\n",
      "Epoch 89, Batch 13850:  Train cost =  0.2413, Train acc =  0.9297 Val cost =  0.5843, Val acc =  0.7987\n",
      "Epoch 90, Batch 13900:  Train cost =  0.2051, Train acc =  0.9453 Val cost =  0.5831, Val acc =  0.8009\n",
      "Epoch 90, Batch 13950:  Train cost =  0.3150, Train acc =  0.8789 Val cost =  0.5860, Val acc =  0.7996\n",
      "Epoch 90, Batch 14000:  Train cost =  0.2027, Train acc =  0.9375 Val cost =  0.5862, Val acc =  0.7985\n",
      "Epoch 91, Batch 14050:  Train cost =  0.1646, Train acc =  0.9648 Val cost =  0.6059, Val acc =  0.7955\n",
      "Epoch 91, Batch 14100:  Train cost =  0.2806, Train acc =  0.8984 Val cost =  0.6588, Val acc =  0.7774\n",
      "Epoch 91, Batch 14150:  Train cost =  0.2339, Train acc =  0.9180 Val cost =  0.5978, Val acc =  0.7936\n",
      "Epoch 92, Batch 14200:  Train cost =  0.1853, Train acc =  0.9336 Val cost =  0.5923, Val acc =  0.7939\n",
      "Epoch 92, Batch 14250:  Train cost =  0.2739, Train acc =  0.9180 Val cost =  0.6298, Val acc =  0.7877\n",
      "Epoch 92, Batch 14300:  Train cost =  0.2559, Train acc =  0.9219 Val cost =  0.5986, Val acc =  0.7969\n",
      "Epoch 92, Batch 14350:  Train cost =  0.2755, Train acc =  0.9102 Val cost =  0.5852, Val acc =  0.8004\n",
      "Epoch 93, Batch 14400:  Train cost =  0.2005, Train acc =  0.9336 Val cost =  0.5793, Val acc =  0.8031\n",
      "Epoch 93, Batch 14450:  Train cost =  0.2706, Train acc =  0.9102 Val cost =  0.6020, Val acc =  0.7954\n",
      "Epoch 93, Batch 14500:  Train cost =  0.2504, Train acc =  0.9180 Val cost =  0.5798, Val acc =  0.7996\n",
      "Epoch 94, Batch 14550:  Train cost =  0.2988, Train acc =  0.8828 Val cost =  0.5903, Val acc =  0.8015\n",
      "Epoch 94, Batch 14600:  Train cost =  0.2834, Train acc =  0.9219 Val cost =  0.6184, Val acc =  0.7884\n",
      "Epoch 94, Batch 14650:  Train cost =  0.2776, Train acc =  0.9297 Val cost =  0.5780, Val acc =  0.8033\n",
      "Epoch 95, Batch 14700:  Train cost =  0.2443, Train acc =  0.9336 Val cost =  0.6162, Val acc =  0.7913\n",
      "Epoch 95, Batch 14750:  Train cost =  0.2359, Train acc =  0.9180 Val cost =  0.6305, Val acc =  0.7863\n",
      "Epoch 95, Batch 14800:  Train cost =  0.2319, Train acc =  0.9219 Val cost =  0.6163, Val acc =  0.7901\n",
      "Epoch 96, Batch 14850:  Train cost =  0.2461, Train acc =  0.9180 Val cost =  0.5985, Val acc =  0.7952\n",
      "Epoch 96, Batch 14900:  Train cost =  0.2264, Train acc =  0.9492 Val cost =  0.5747, Val acc =  0.8043\n",
      "Epoch 96, Batch 14950:  Train cost =  0.2357, Train acc =  0.9258 Val cost =  0.6011, Val acc =  0.7942\n",
      "Epoch 97, Batch 15000:  Train cost =  0.2323, Train acc =  0.9180 Val cost =  0.5794, Val acc =  0.8021\n",
      "Epoch 97, Batch 15050:  Train cost =  0.2321, Train acc =  0.9219 Val cost =  0.6009, Val acc =  0.7957\n",
      "Epoch 97, Batch 15100:  Train cost =  0.1975, Train acc =  0.9297 Val cost =  0.5886, Val acc =  0.8013\n",
      "Epoch 98, Batch 15150:  Train cost =  0.2627, Train acc =  0.9023 Val cost =  0.6239, Val acc =  0.7899\n",
      "Epoch 98, Batch 15200:  Train cost =  0.2496, Train acc =  0.9062 Val cost =  0.5801, Val acc =  0.8011\n",
      "Epoch 98, Batch 15250:  Train cost =  0.2344, Train acc =  0.9297 Val cost =  0.6168, Val acc =  0.7895\n",
      "Epoch 99, Batch 15300:  Train cost =  0.2005, Train acc =  0.9297 Val cost =  0.6039, Val acc =  0.7963\n",
      "Epoch 99, Batch 15350:  Train cost =  0.2171, Train acc =  0.9180 Val cost =  0.6323, Val acc =  0.7862\n",
      "Epoch 99, Batch 15400:  Train cost =  0.2981, Train acc =  0.8945 Val cost =  0.6299, Val acc =  0.7855\n",
      "Epoch 100, Batch 15450:  Train cost =  0.2115, Train acc =  0.9336 Val cost =  0.5698, Val acc =  0.8086\n",
      "Epoch 100, Batch 15500:  Train cost =  0.2460, Train acc =  0.9219 Val cost =  0.5882, Val acc =  0.7978\n",
      "Epoch 100, Batch 15550:  Train cost =  0.2436, Train acc =  0.9180 Val cost =  0.6052, Val acc =  0.7932\n",
      "Epoch 100, Batch 15600:  Train cost =  0.2610, Train acc =  0.9102 Val cost =  0.6037, Val acc =  0.7955\n",
      "Epoch 101, Batch 15650:  Train cost =  0.2155, Train acc =  0.9414 Val cost =  0.5736, Val acc =  0.8052\n",
      "Epoch 101, Batch 15700:  Train cost =  0.2210, Train acc =  0.9258 Val cost =  0.6084, Val acc =  0.7920\n",
      "Epoch 101, Batch 15750:  Train cost =  0.2462, Train acc =  0.9297 Val cost =  0.5763, Val acc =  0.8000\n",
      "Epoch 102, Batch 15800:  Train cost =  0.1611, Train acc =  0.9648 Val cost =  0.5765, Val acc =  0.8023\n",
      "Epoch 102, Batch 15850:  Train cost =  0.1873, Train acc =  0.9336 Val cost =  0.6065, Val acc =  0.7921\n",
      "Epoch 102, Batch 15900:  Train cost =  0.2263, Train acc =  0.9258 Val cost =  0.5709, Val acc =  0.8031\n",
      "Epoch 103, Batch 15950:  Train cost =  0.2089, Train acc =  0.9336 Val cost =  0.5825, Val acc =  0.8045\n",
      "Epoch 103, Batch 16000:  Train cost =  0.1790, Train acc =  0.9453 Val cost =  0.5754, Val acc =  0.8029\n"
     ]
    },
    {
     "name": "stdout",
     "output_type": "stream",
     "text": [
      "Epoch 103, Batch 16050:  Train cost =  0.2496, Train acc =  0.9336 Val cost =  0.5722, Val acc =  0.8065\n",
      "Epoch 104, Batch 16100:  Train cost =  0.2331, Train acc =  0.9180 Val cost =  0.5865, Val acc =  0.7998\n",
      "Epoch 104, Batch 16150:  Train cost =  0.1521, Train acc =  0.9648 Val cost =  0.5642, Val acc =  0.8071\n",
      "Epoch 104, Batch 16200:  Train cost =  0.2318, Train acc =  0.9219 Val cost =  0.5944, Val acc =  0.7970\n",
      "Epoch 105, Batch 16250:  Train cost =  0.1821, Train acc =  0.9688 Val cost =  0.5915, Val acc =  0.7977\n",
      "Epoch 105, Batch 16300:  Train cost =  0.1594, Train acc =  0.9648 Val cost =  0.5896, Val acc =  0.8023\n",
      "Epoch 105, Batch 16350:  Train cost =  0.2649, Train acc =  0.9102 Val cost =  0.5728, Val acc =  0.8053\n",
      "Epoch 106, Batch 16400:  Train cost =  0.2331, Train acc =  0.9102 Val cost =  0.5935, Val acc =  0.7956\n",
      "Epoch 106, Batch 16450:  Train cost =  0.2065, Train acc =  0.9414 Val cost =  0.5692, Val acc =  0.7997\n",
      "Epoch 106, Batch 16500:  Train cost =  0.1932, Train acc =  0.9453 Val cost =  0.5586, Val acc =  0.8087\n",
      "Epoch 107, Batch 16550:  Train cost =  0.1844, Train acc =  0.9492 Val cost =  0.5774, Val acc =  0.8047\n",
      "Epoch 107, Batch 16600:  Train cost =  0.2727, Train acc =  0.9062 Val cost =  0.6681, Val acc =  0.7791\n",
      "Epoch 107, Batch 16650:  Train cost =  0.2136, Train acc =  0.9414 Val cost =  0.5682, Val acc =  0.8045\n",
      "Epoch 108, Batch 16700:  Train cost =  0.1692, Train acc =  0.9531 Val cost =  0.5706, Val acc =  0.8057\n",
      "Epoch 108, Batch 16750:  Train cost =  0.2112, Train acc =  0.9219 Val cost =  0.5941, Val acc =  0.8010\n",
      "Epoch 108, Batch 16800:  Train cost =  0.1958, Train acc =  0.9531 Val cost =  0.5808, Val acc =  0.8026\n",
      "Epoch 109, Batch 16850:  Train cost =  0.1977, Train acc =  0.9375 Val cost =  0.6136, Val acc =  0.7918\n",
      "Epoch 109, Batch 16900:  Train cost =  0.2151, Train acc =  0.9375 Val cost =  0.6006, Val acc =  0.7939\n",
      "Epoch 109, Batch 16950:  Train cost =  0.1735, Train acc =  0.9531 Val cost =  0.5839, Val acc =  0.8040\n",
      "Epoch 109, Batch 17000:  Train cost =  0.2224, Train acc =  0.9180 Val cost =  0.6119, Val acc =  0.7903\n",
      "Epoch 110, Batch 17050:  Train cost =  0.2223, Train acc =  0.9375 Val cost =  0.6164, Val acc =  0.7897\n",
      "Epoch 110, Batch 17100:  Train cost =  0.2202, Train acc =  0.9297 Val cost =  0.5770, Val acc =  0.8017\n",
      "Epoch 110, Batch 17150:  Train cost =  0.2157, Train acc =  0.9297 Val cost =  0.5920, Val acc =  0.7981\n"
     ]
    }
   ],
   "source": [
    "session.run(tf.global_variables_initializer())\n",
    "\n",
    "batch_count = 0\n",
    "info = {'train_cost':[], 'train_acc':[], 'valid_cost':[], 'valid_acc':[]}\n",
    "for epoch in range(epochs):\n",
    "    mini_batches = prepare_mini_batches(train_data_norm, train_labels_ohe, batch_size)\n",
    "\n",
    "    while mini_batches:\n",
    "        data_batch, label_batch = mini_batches.pop()\n",
    "        batch_count += 1\n",
    "\n",
    "        session.run(optimizer, feed_dict={inputs: data_batch, \n",
    "                                          targets: label_batch, \n",
    "                                          keep_prob: keep_probability})\n",
    "        if (batch_count % 50) == 0:\n",
    "            train_cost = session.run(cost, feed_dict={\n",
    "                    inputs: data_batch, targets: label_batch, keep_prob: 1.})\n",
    "\n",
    "            train_acc = session.run(accuracy, feed_dict={\n",
    "                inputs: data_batch, targets: label_batch, keep_prob: 1.})\n",
    "\n",
    "            info[\"train_cost\"].append(train_cost)\n",
    "            info[\"train_acc\"].append(train_acc)\n",
    "\n",
    "            valid_cost = session.run(cost, feed_dict={\n",
    "                inputs: val_data_norm, targets: val_labels_ohe, keep_prob: 1.})\n",
    "\n",
    "            valid_acc = session.run(accuracy, feed_dict={\n",
    "                inputs: val_data_norm, targets: val_labels_ohe, keep_prob: 1.})\n",
    "\n",
    "            info[\"valid_cost\"].append(valid_cost)\n",
    "            info[\"valid_acc\"].append(valid_acc)\n",
    "\n",
    "            print('Epoch {}, Batch {}:  '.format(epoch + 1, batch_count), end='')\n",
    "            print(\"Train cost = \", \"{:.4f},\".format(train_cost), \n",
    "                  \"Train acc = \", \"{:.4f}\".format(train_acc),\n",
    "                  \"Val cost = \", \"{:.4f},\".format(valid_cost), \n",
    "                  \"Val acc = \", \"{:.4f}\".format(valid_acc)) "
   ]
  },
  {
   "cell_type": "markdown",
   "metadata": {},
   "source": [
    "#### Results"
   ]
  },
  {
   "cell_type": "code",
   "execution_count": 30,
   "metadata": {},
   "outputs": [
    {
     "data": {
      "image/png": "[encoded data removed]",
      "text/plain": [
       "<matplotlib.figure.Figure at 0x11fb47d68>"
      ]
     },
     "metadata": {},
     "output_type": "display_data"
    }
   ],
   "source": [
    "fig1 = plt.figure()\n",
    "ax1 = fig1.add_subplot(111)\n",
    "ax1.plot(info['train_acc'], label='Training acc')\n",
    "ax1.plot(info['valid_acc'], label='Validation acc')\n",
    "blue_patch = mpatches.Patch(color='#699cef', label='Training accuracy')\n",
    "orange_patch = mpatches.Patch(color='orange', label='Validation accuracy')\n",
    "ax1.legend(handles=[blue_patch, orange_patch])\n",
    "plt.show()"
   ]
  },
  {
   "cell_type": "code",
   "execution_count": 31,
   "metadata": {},
   "outputs": [
    {
     "data": {
      "image/png": "[encoded data removed]",
      "text/plain": [
       "<matplotlib.figure.Figure at 0x1198e7cc0>"
      ]
     },
     "metadata": {},
     "output_type": "display_data"
    }
   ],
   "source": [
    "fig1 = plt.figure()\n",
    "ax2 = fig1.add_subplot(111)\n",
    "ax2.plot(info['train_cost'], label='Training loss')\n",
    "ax2.plot(info['valid_cost'], label='Validation loss')\n",
    "blue_patch = mpatches.Patch(color='#699cef', label='Training cross-entropy')\n",
    "orange_patch = mpatches.Patch(color='orange', label='Validation cross-entropy')\n",
    "ax2.legend(handles=[blue_patch, orange_patch])\n",
    "plt.show()"
   ]
  },
  {
   "cell_type": "markdown",
   "metadata": {},
   "source": [
    "#### Test accuracy"
   ]
  },
  {
   "cell_type": "code",
   "execution_count": 32,
   "metadata": {},
   "outputs": [
    {
     "name": "stdout",
     "output_type": "stream",
     "text": [
      "Test data accuracy: 0.7904\n"
     ]
    }
   ],
   "source": [
    "test_acc = session.run(accuracy, feed_dict={\n",
    "    inputs: test_data_norm, targets: test_labels_ohe, keep_prob: 1.})\n",
    "print(\"Test data accuracy: \" + str(test_acc))"
   ]
  },
  {
   "cell_type": "code",
   "execution_count": 33,
   "metadata": {
    "collapsed": true
   },
   "outputs": [],
   "source": [
    "session.close()"
   ]
  }
 ],
 "metadata": {
  "kernelspec": {
   "display_name": "Python 3",
   "language": "python",
   "name": "python3"
  },
  "language_info": {
   "codemirror_mode": {
    "name": "ipython",
    "version": 3
   },
   "file_extension": ".py",
   "mimetype": "text/x-python",
   "name": "python",
   "nbconvert_exporter": "python",
   "pygments_lexer": "ipython3",
   "version": "3.6.1"
  }
 },
 "nbformat": 4,
 "nbformat_minor": 2
}
