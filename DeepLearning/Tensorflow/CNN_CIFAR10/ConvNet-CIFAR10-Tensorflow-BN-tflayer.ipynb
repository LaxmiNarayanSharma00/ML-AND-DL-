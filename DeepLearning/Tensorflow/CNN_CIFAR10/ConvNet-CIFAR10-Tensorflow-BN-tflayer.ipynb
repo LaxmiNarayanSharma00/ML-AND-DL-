{
 "cells": [
  {
   "cell_type": "code",
   "execution_count": 1,
   "metadata": {
    "collapsed": true
   },
   "outputs": [],
   "source": [
    "import os\n",
    "import tarfile\n",
    "import numpy as np\n",
    "import pickle\n",
    "import random\n",
    "import matplotlib.pyplot as plt\n",
    "import matplotlib.patches as mpatches\n",
    "import tensorflow as tf\n",
    "from urllib.request import urlretrieve\n",
    "from tqdm import tqdm"
   ]
  },
  {
   "cell_type": "code",
   "execution_count": 2,
   "metadata": {
    "collapsed": true
   },
   "outputs": [],
   "source": [
    "%matplotlib inline"
   ]
  },
  {
   "cell_type": "markdown",
   "metadata": {},
   "source": [
    "#### Dataset info"
   ]
  },
  {
   "cell_type": "markdown",
   "metadata": {},
   "source": [
    "CIFAR-10 is a dataset of 60 000 32x32 colour images, collected by Alex Krizhevsky, Vinod Nair, and Geoffrey Hinton. There are 10 different classes with 6000 images per class:\n",
    "\n",
    "- airplane\n",
    "- automobile\n",
    "- bird\n",
    "- cat\n",
    "- deer\n",
    "- dog\n",
    "- frog\n",
    "- horse\n",
    "- ship\n",
    "- truck\n",
    "\n",
    "Dataset is divided into 5 batches with the following naming convention 'data_batch_1', 'data_batch_2' and so on..."
   ]
  },
  {
   "cell_type": "code",
   "execution_count": 3,
   "metadata": {
    "collapsed": true
   },
   "outputs": [],
   "source": [
    "#: https://www.cs.toronto.edu/~kriz/cifar.html\n",
    "DATA_URL = \"https://www.cs.toronto.edu/~kriz/cifar-10-python.tar.gz\"\n",
    "TARG_TZ_FILEPATH = \"./cifar-10-python.tar.gz\"\n",
    "CIFAR10_FILES_FOLDER = './cifar-10-batches-py/'\n",
    "\n",
    "TRAIN_BATCH_FILES = [\n",
    "    \"data_batch_1\",\n",
    "    \"data_batch_2\",\n",
    "    \"data_batch_3\",\n",
    "    \"data_batch_4\",\n",
    "    \"data_batch_5\"\n",
    "]\n",
    "\n",
    "TEST_BATCH_FILE = \"test_batch\"\n",
    "\n",
    "LABELS = ['airplane', 'automobile', 'bird', 'cat', 'deer', 'dog', 'frog', 'horse', 'ship', 'truck']\n",
    "NUM_CLASSES = 10\n",
    "\n",
    "MAX_PIXEL_VALUE = 255\n",
    "IMAGE_WIDTH = 32\n",
    "IMAGE_HEIGHT = 32\n",
    "CHANNELS = 3\n",
    "\n",
    "DATA_I = 0\n",
    "LABELS_I = 1"
   ]
  },
  {
   "cell_type": "markdown",
   "metadata": {},
   "source": [
    "#### Download dataset"
   ]
  },
  {
   "cell_type": "code",
   "execution_count": 4,
   "metadata": {
    "collapsed": true
   },
   "outputs": [],
   "source": [
    "class DLProgress(tqdm):\n",
    "    last_block = 0\n",
    "\n",
    "    def hook(self, block_num=1, block_size=1, total_size=None):\n",
    "        self.total = total_size\n",
    "        self.update((block_num - self.last_block) * block_size)\n",
    "        self.last_block = block_num\n",
    "\n",
    "if not os.path.isfile(TARG_TZ_FILEPATH):\n",
    "    with DLProgress(unit=\"B\", unit_scale=True, miniters=1, desc=\"CIFAR-10\") as pbar:\n",
    "        urlretrieve(DATA_URL, TARG_TZ_FILEPATH, pbar.hook)"
   ]
  },
  {
   "cell_type": "markdown",
   "metadata": {},
   "source": [
    "#### Exctracting data"
   ]
  },
  {
   "cell_type": "markdown",
   "metadata": {},
   "source": [
    "- Unpacking"
   ]
  },
  {
   "cell_type": "code",
   "execution_count": 5,
   "metadata": {
    "collapsed": true
   },
   "outputs": [],
   "source": [
    "if not os.path.isdir(CIFAR10_FILES_FOLDER):\n",
    "    with tarfile.open(TARG_TZ_FILEPATH) as tar:\n",
    "        tar.extractall()\n",
    "        tar.close()"
   ]
  },
  {
   "cell_type": "markdown",
   "metadata": {},
   "source": [
    "- Loading train batches"
   ]
  },
  {
   "cell_type": "code",
   "execution_count": 6,
   "metadata": {
    "collapsed": true
   },
   "outputs": [],
   "source": [
    "train_batches = list()\n",
    "\n",
    "for batch_file in TRAIN_BATCH_FILES: \n",
    "    with open(CIFAR10_FILES_FOLDER + batch_file, mode='rb') as file:\n",
    "        batch = pickle.load(file, encoding='latin1')\n",
    "        \n",
    "        # array of 10000 * 1 length\n",
    "        labels = batch['labels']\n",
    "        \n",
    "        # all channels in single 10000 * 3072 length array\n",
    "        batch_data = batch['data']\n",
    "        \n",
    "        # reshaping to 10000 * 3 * 32 * 32\n",
    "        data = batch_data.reshape((len(batch_data), CHANNELS, IMAGE_WIDTH, IMAGE_HEIGHT))\n",
    "        \n",
    "        # fix indexing\n",
    "        data = data.transpose(0, 2, 3, 1)\n",
    "  \n",
    "        train_batches.append((data, labels))"
   ]
  },
  {
   "cell_type": "markdown",
   "metadata": {},
   "source": [
    "- Load test batch"
   ]
  },
  {
   "cell_type": "code",
   "execution_count": 7,
   "metadata": {
    "collapsed": true
   },
   "outputs": [],
   "source": [
    "test_batch = None\n",
    "\n",
    "with open(CIFAR10_FILES_FOLDER + TEST_BATCH_FILE, mode='rb') as file:\n",
    "        batch = pickle.load(file, encoding='latin1')\n",
    "        \n",
    "        # array of 10000 * 1 length\n",
    "        labels = batch['labels']\n",
    "        \n",
    "         # all channels in single 10000 * 3072 length array\n",
    "        batch_data = batch['data']\n",
    "        \n",
    "        # reshaping to 10000 * 3 * 32 * 32\n",
    "        data = batch_data.reshape((len(batch_data), CHANNELS, IMAGE_WIDTH, IMAGE_HEIGHT))\n",
    "        \n",
    "        # fix indexing\n",
    "        data = data.transpose(0, 2, 3, 1)\n",
    "        \n",
    "        test_batch = (data, labels)"
   ]
  },
  {
   "cell_type": "markdown",
   "metadata": {},
   "source": [
    "#### Present extracted dataset"
   ]
  },
  {
   "cell_type": "code",
   "execution_count": 8,
   "metadata": {
    "collapsed": true
   },
   "outputs": [],
   "source": [
    "def present_batch(batch, batch_index):\n",
    "    features, labels = batch \n",
    "    print(\"Batch no.\" + str(batch_index))\n",
    "    print(\"    - Samples in batch: \" + str(len(features)))\n",
    "    print(\"    - Labels num: \" + str(dict(zip(*np.unique(labels, return_counts=True)))))\n",
    "    \n",
    "def present_sample(batch, sample_id):\n",
    "    features, labels = batch \n",
    "    \n",
    "    sample_image = features[sample_id]\n",
    "    sample_label = labels[sample_id]\n",
    "    \n",
    "    print(\"Sample no.\" + str(sample_id))\n",
    "    print(\"    - Min Value: {} Max Value: {}\".format(sample_image.min(), sample_image.max()))\n",
    "    print(\"    - Shape: {}\".format(sample_image.shape))\n",
    "    print(\"    - Label - Label Id: {} Name: {}\".format(sample_label, LABELS[sample_label]))\n",
    "    \n",
    "    plt.axis('off')\n",
    "    plt.imshow(sample_image)"
   ]
  },
  {
   "cell_type": "code",
   "execution_count": 9,
   "metadata": {
    "scrolled": true
   },
   "outputs": [
    {
     "name": "stdout",
     "output_type": "stream",
     "text": [
      "Batch no.0\n",
      "    - Samples in batch: 10000\n",
      "    - Labels num: {0: 1005, 1: 974, 2: 1032, 3: 1016, 4: 999, 5: 937, 6: 1030, 7: 1001, 8: 1025, 9: 981}\n",
      "Batch no.1\n",
      "    - Samples in batch: 10000\n",
      "    - Labels num: {0: 984, 1: 1007, 2: 1010, 3: 995, 4: 1010, 5: 988, 6: 1008, 7: 1026, 8: 987, 9: 985}\n",
      "Batch no.2\n",
      "    - Samples in batch: 10000\n",
      "    - Labels num: {0: 994, 1: 1042, 2: 965, 3: 997, 4: 990, 5: 1029, 6: 978, 7: 1015, 8: 961, 9: 1029}\n",
      "Batch no.3\n",
      "    - Samples in batch: 10000\n",
      "    - Labels num: {0: 1003, 1: 963, 2: 1041, 3: 976, 4: 1004, 5: 1021, 6: 1004, 7: 981, 8: 1024, 9: 983}\n",
      "Batch no.4\n",
      "    - Samples in batch: 10000\n",
      "    - Labels num: {0: 1014, 1: 1014, 2: 952, 3: 1016, 4: 997, 5: 1025, 6: 980, 7: 977, 8: 1003, 9: 1022}\n"
     ]
    }
   ],
   "source": [
    "for index, batch in enumerate(train_batches):\n",
    "    present_batch(batch, index)"
   ]
  },
  {
   "cell_type": "code",
   "execution_count": 10,
   "metadata": {},
   "outputs": [
    {
     "name": "stdout",
     "output_type": "stream",
     "text": [
      "Sample no.7164\n",
      "    - Min Value: 26 Max Value: 246\n",
      "    - Shape: (32, 32, 3)\n",
      "    - Label - Label Id: 5 Name: dog\n"
     ]
    },
    {
     "data": {
      "image/png": "[encoded data removed]",
      "text/plain": [
       "<matplotlib.figure.Figure at 0x112948400>"
      ]
     },
     "metadata": {},
     "output_type": "display_data"
    }
   ],
   "source": [
    "present_sample(train_batches[0], 7164)"
   ]
  },
  {
   "cell_type": "markdown",
   "metadata": {},
   "source": [
    "#### Split data into train, val , test sets"
   ]
  },
  {
   "cell_type": "markdown",
   "metadata": {},
   "source": [
    "- data is already shuffled"
   ]
  },
  {
   "cell_type": "markdown",
   "metadata": {},
   "source": [
    "- concat all batches together"
   ]
  },
  {
   "cell_type": "code",
   "execution_count": 11,
   "metadata": {
    "collapsed": true
   },
   "outputs": [],
   "source": [
    "train_data = list()\n",
    "train_labels = list()\n",
    "for batch in train_batches:\n",
    "    for data, label in zip(batch[DATA_I], batch[LABELS_I]):\n",
    "        train_data.append(data)\n",
    "        train_labels.append(label)\n",
    "assert len(train_data) == len(train_labels)\n",
    "        \n",
    "test_data = list()\n",
    "test_labels = list()\n",
    "for data, label in zip(test_batch[DATA_I], test_batch[LABELS_I]):\n",
    "    test_data.append(data)\n",
    "    test_labels.append(label)\n",
    "assert len(test_data) == len(test_labels)"
   ]
  },
  {
   "cell_type": "markdown",
   "metadata": {},
   "source": [
    "- split data"
   ]
  },
  {
   "cell_type": "code",
   "execution_count": 12,
   "metadata": {
    "collapsed": true
   },
   "outputs": [],
   "source": [
    "split_ratio = 0.2\n",
    "split_index = int(len(train_data) * split_ratio)\n",
    "\n",
    "val_data = train_data[:split_index]\n",
    "val_labels = train_labels[:split_index]\n",
    "\n",
    "train_data = train_data[split_index:]\n",
    "train_labels = train_labels[split_index:]"
   ]
  },
  {
   "cell_type": "code",
   "execution_count": 13,
   "metadata": {},
   "outputs": [
    {
     "name": "stdout",
     "output_type": "stream",
     "text": [
      "Train samples: 40000\n",
      "Validation samples: 10000\n",
      "Test samples: 10000\n"
     ]
    }
   ],
   "source": [
    "print(\"Train samples: \" + str(len(train_data)))\n",
    "print(\"Validation samples: \" + str(len(val_data)))\n",
    "print(\"Test samples: \" + str(len(test_data)))"
   ]
  },
  {
   "cell_type": "markdown",
   "metadata": {},
   "source": [
    "#### Preprocess data"
   ]
  },
  {
   "cell_type": "code",
   "execution_count": 14,
   "metadata": {
    "collapsed": true
   },
   "outputs": [],
   "source": [
    "def normalize(data):\n",
    "    return data / MAX_PIXEL_VALUE\n",
    "\n",
    "def ohe_label(label):\n",
    "    labels_num = len(LABELS)\n",
    "  \n",
    "    encoding_array = np.zeros([labels_num])  \n",
    "    encoding_array[label] = 1\n",
    "        \n",
    "    return encoding_array"
   ]
  },
  {
   "cell_type": "code",
   "execution_count": 15,
   "metadata": {
    "collapsed": true
   },
   "outputs": [],
   "source": [
    "train_data_norm = [normalize(data) for data in train_data]\n",
    "train_labels_ohe = [ohe_label(label) for label in train_labels]\n",
    "\n",
    "val_data_norm = [normalize(data) for data in val_data]\n",
    "val_labels_ohe = [ohe_label(label) for label in val_labels]\n",
    "\n",
    "test_data_norm = [normalize(data) for data in test_data]\n",
    "test_labels_ohe = [ohe_label(label) for label in test_labels]"
   ]
  },
  {
   "cell_type": "code",
   "execution_count": 16,
   "metadata": {},
   "outputs": [
    {
     "name": "stdout",
     "output_type": "stream",
     "text": [
      "Sample no.7124\n",
      "    - Min Value: 0.00784313725490196 Max Value: 0.9137254901960784\n",
      "    - Label: [ 0.  0.  0.  1.  0.  0.  0.  0.  0.  0.]\n"
     ]
    }
   ],
   "source": [
    "sample_to_inspect = 7124\n",
    "sample = train_data_norm[sample_to_inspect]\n",
    "label = train_labels_ohe[sample_to_inspect]\n",
    "print(\"Sample no.\" + str(sample_to_inspect))\n",
    "print(\"    - Min Value: {} Max Value: {}\".format(sample.min(), sample.max()))\n",
    "print(\"    - Label: \" + str(label))"
   ]
  },
  {
   "cell_type": "markdown",
   "metadata": {},
   "source": [
    "#### Building ConvNet - parts"
   ]
  },
  {
   "cell_type": "code",
   "execution_count": 17,
   "metadata": {
    "collapsed": true
   },
   "outputs": [],
   "source": [
    "def conv_net_image_input(image_width, image_height, channels):\n",
    "    return tf.placeholder(tf.float32, shape=[None, image_width, image_height, channels], name='inputs')"
   ]
  },
  {
   "cell_type": "code",
   "execution_count": 18,
   "metadata": {
    "collapsed": true
   },
   "outputs": [],
   "source": [
    "def conv_net_label_input(n_classes):\n",
    "    return tf.placeholder(tf.float32, shape=[None, n_classes], name='labels')"
   ]
  },
  {
   "cell_type": "code",
   "execution_count": 19,
   "metadata": {
    "collapsed": true
   },
   "outputs": [],
   "source": [
    "def conv_net_keep_prob_input():\n",
    "    return tf.placeholder(tf.float32, name=\"keep_prob\")"
   ]
  },
  {
   "cell_type": "code",
   "execution_count": 20,
   "metadata": {
    "collapsed": true
   },
   "outputs": [],
   "source": [
    "def conv_net_is_training_placeholder():\n",
    "    return tf.placeholder(tf.bool)"
   ]
  },
  {
   "cell_type": "code",
   "execution_count": 21,
   "metadata": {},
   "outputs": [],
   "source": [
    "def conv_net(inputs, keep_prob, is_training):   \n",
    "    \n",
    "    # Conv Layer - 1, Input 32x32x3 -> BatchNorm -> eLU -> MaxPooling -> Output 16x16x32\n",
    "    conv1_layer = tf.layers.conv2d(inputs=inputs, filters=32, kernel_size=3, strides=1, \n",
    "                                   padding=\"SAME\", activation=None,\n",
    "                                   kernel_initializer=tf.contrib.layers.xavier_initializer_conv2d())\n",
    "    conv1_layer_norm = tf.layers.batch_normalization(conv1_layer, training=is_training)\n",
    "    conv1_layer_activated = tf.nn.elu(conv1_layer_norm)\n",
    "    conv1_layer_mpool = tf.layers.max_pooling2d(conv1_layer_activated, pool_size=2, strides=2)\n",
    "    conv1_layer_dropout = tf.nn.dropout(conv1_layer_mpool, keep_prob)\n",
    "    \n",
    "    # Conv Layer - 2, Input 16x16x16 -> BatchNorm -> eLU -> MaxPooling -> Output 8x8x32\n",
    "    conv2_layer = tf.layers.conv2d(inputs=conv1_layer_dropout, filters=32, kernel_size=3, strides=1, \n",
    "                                   padding=\"SAME\", activation=None, \n",
    "                                   kernel_initializer=tf.contrib.layers.xavier_initializer_conv2d())\n",
    "    conv2_layer_norm = tf.layers.batch_normalization(conv2_layer, training=is_training)\n",
    "    conv2_layer_activated = tf.nn.elu(conv2_layer_norm)\n",
    "    conv2_layer_mpool = tf.layers.max_pooling2d(conv2_layer_activated, pool_size=2, strides=2)\n",
    "    conv2_layer_dropout = tf.nn.dropout(conv2_layer_mpool, keep_prob)\n",
    "\n",
    "    # Conv Layer - 3, Input 8x8x32 -> BatchNorm -> eLU -> MaxPooling -> Output 4x4x64\n",
    "    conv3_layer = tf.layers.conv2d(inputs=conv2_layer_dropout, filters=64, kernel_size=3, strides=1,\n",
    "                                   padding=\"SAME\", activation=None,\n",
    "                                   kernel_initializer=tf.contrib.layers.xavier_initializer_conv2d())\n",
    "    conv3_layer_norm = tf.layers.batch_normalization(conv3_layer, training=is_training)\n",
    "    conv3_layer_activated = tf.nn.elu(conv3_layer_norm)\n",
    "    conv3_layer_mpool = tf.layers.max_pooling2d(conv3_layer_activated, pool_size=2, strides=2)\n",
    "    conv3_layer_dropout = tf.nn.dropout(conv3_layer_mpool, keep_prob)\n",
    "    \n",
    "    # Conv Layer Flattened\n",
    "    conv_output_shape = conv3_layer_mpool.get_shape().as_list()\n",
    "    flatten=tf.reshape(conv3_layer_dropout,\n",
    "                       [-1, conv_output_shape[1] * conv_output_shape[2] * conv_output_shape[3]])\n",
    "    \n",
    "    # Dense Layer - 1, Size 384 -> Dropout\n",
    "    dense1_layer = tf.layers.dense(inputs=flatten, units=384, activation=None,\n",
    "                                   kernel_initializer=tf.contrib.layers.xavier_initializer())\n",
    "    dense1_layer_norm = tf.layers.batch_normalization(dense1_layer, training=is_training)\n",
    "    dense1_layer_activated = tf.nn.elu(dense1_layer_norm)\n",
    "    dense1_layer_dropout = tf.nn.dropout(dense1_layer_activated, keep_prob)\n",
    "    \n",
    "    # Dense Layer - 2, Size 128 -> Dropout\n",
    "    dense2_layer = tf.layers.dense(inputs=dense1_layer_dropout, units=128, activation=None,\n",
    "                                   kernel_initializer=tf.contrib.layers.xavier_initializer())\n",
    "    dense2_layer_norm = tf.layers.batch_normalization(dense2_layer, training=is_training)\n",
    "    dense2_layer_activated = tf.nn.elu(dense2_layer_norm)\n",
    "    dense2_layer_dropout = tf.nn.dropout(dense2_layer_activated, keep_prob)\n",
    "    \n",
    "    # Output Layer \n",
    "    output = tf.layers.dense(inputs=dense2_layer_dropout, units=NUM_CLASSES, activation=None,\n",
    "                             kernel_initializer=tf.contrib.layers.xavier_initializer())\n",
    "    return output"
   ]
  },
  {
   "cell_type": "markdown",
   "metadata": {},
   "source": [
    "#### Batch utils"
   ]
  },
  {
   "cell_type": "code",
   "execution_count": 22,
   "metadata": {
    "collapsed": true
   },
   "outputs": [],
   "source": [
    "def prepare_mini_batches(data, labels, batch_size):\n",
    "    assert len(data) == len(labels)\n",
    "    \n",
    "    all_batches = list()\n",
    "    for i in range(0, len(data)):\n",
    "        all_batches.append((data[i], labels[i]))\n",
    "    random.shuffle(all_batches)\n",
    "        \n",
    "    mini_batches = list()\n",
    "    while len(all_batches) >= batch_size:\n",
    "        \n",
    "        data_batch = list()\n",
    "        labels_batch = list()\n",
    "        for j in range(0, batch_size):\n",
    "            data, labels = all_batches.pop()\n",
    "            data_batch.append(data)\n",
    "            labels_batch.append(labels)\n",
    "            \n",
    "        mini_batches.append((np.array(data_batch), np.array(labels_batch)))\n",
    "    \n",
    "    return mini_batches"
   ]
  },
  {
   "cell_type": "markdown",
   "metadata": {},
   "source": [
    "#### Building ConvNet - assemble"
   ]
  },
  {
   "cell_type": "markdown",
   "metadata": {},
   "source": [
    "- Reset Tensorflow graph"
   ]
  },
  {
   "cell_type": "code",
   "execution_count": 23,
   "metadata": {
    "collapsed": true
   },
   "outputs": [],
   "source": [
    "tf.reset_default_graph()"
   ]
  },
  {
   "cell_type": "markdown",
   "metadata": {},
   "source": [
    "- Assemble model"
   ]
  },
  {
   "cell_type": "code",
   "execution_count": 24,
   "metadata": {
    "scrolled": false
   },
   "outputs": [],
   "source": [
    "inputs = conv_net_image_input(IMAGE_WIDTH, IMAGE_HEIGHT, CHANNELS)\n",
    "targets = conv_net_label_input(NUM_CLASSES)\n",
    "keep_prob = conv_net_keep_prob_input()\n",
    "is_training = conv_net_is_training_placeholder()\n",
    "\n",
    "model = conv_net(inputs, keep_prob, is_training)"
   ]
  },
  {
   "cell_type": "markdown",
   "metadata": {},
   "source": [
    "- Cost function, training optimizer, correct predictions, accuracy"
   ]
  },
  {
   "cell_type": "code",
   "execution_count": 25,
   "metadata": {
    "collapsed": true
   },
   "outputs": [],
   "source": [
    "cost = tf.reduce_mean(tf.nn.softmax_cross_entropy_with_logits(logits=model, labels=targets))\n",
    "\n",
    "with tf.control_dependencies(tf.get_collection(tf.GraphKeys.UPDATE_OPS)):\n",
    "    optimizer = tf.train.AdamOptimizer(0.0005).minimize(cost)\n",
    "\n",
    "correct_pred = tf.equal(tf.argmax(model, 1), tf.argmax(targets, 1))\n",
    "accuracy = tf.reduce_mean(tf.cast(correct_pred, tf.float32), name='accuracy')"
   ]
  },
  {
   "cell_type": "markdown",
   "metadata": {},
   "source": [
    "#### Hyperparameters"
   ]
  },
  {
   "cell_type": "code",
   "execution_count": 26,
   "metadata": {
    "collapsed": true
   },
   "outputs": [],
   "source": [
    "epochs = 160\n",
    "keep_probability = 0.65\n",
    "batch_size = 256"
   ]
  },
  {
   "cell_type": "markdown",
   "metadata": {},
   "source": [
    "#### Training cycle"
   ]
  },
  {
   "cell_type": "code",
   "execution_count": 27,
   "metadata": {
    "collapsed": true
   },
   "outputs": [],
   "source": [
    "session = tf.Session()"
   ]
  },
  {
   "cell_type": "code",
   "execution_count": 28,
   "metadata": {
    "scrolled": false
   },
   "outputs": [
    {
     "name": "stdout",
     "output_type": "stream",
     "text": [
      "Epoch 1, Batch 50:  Train cost =  3.3395, Train acc =  0.1172 Val cost =  3.3036, Val acc =  0.1130\n",
      "Epoch 1, Batch 100:  Train cost =  3.6967, Train acc =  0.1289 Val cost =  3.8092, Val acc =  0.1194\n",
      "Epoch 1, Batch 150:  Train cost =  4.1660, Train acc =  0.0977 Val cost =  4.0310, Val acc =  0.1238\n",
      "Epoch 2, Batch 200:  Train cost =  3.7856, Train acc =  0.1250 Val cost =  3.7507, Val acc =  0.1247\n",
      "Epoch 2, Batch 250:  Train cost =  3.8920, Train acc =  0.1328 Val cost =  3.7676, Val acc =  0.1329\n",
      "Epoch 2, Batch 300:  Train cost =  3.6551, Train acc =  0.1289 Val cost =  3.5916, Val acc =  0.1154\n",
      "Epoch 3, Batch 350:  Train cost =  3.4531, Train acc =  0.1406 Val cost =  3.0899, Val acc =  0.1373\n",
      "Epoch 3, Batch 400:  Train cost =  2.7829, Train acc =  0.1680 Val cost =  2.6052, Val acc =  0.2063\n",
      "Epoch 3, Batch 450:  Train cost =  2.3396, Train acc =  0.2578 Val cost =  2.3611, Val acc =  0.2172\n",
      "Epoch 4, Batch 500:  Train cost =  2.3228, Train acc =  0.2656 Val cost =  2.4410, Val acc =  0.2366\n",
      "Epoch 4, Batch 550:  Train cost =  1.9727, Train acc =  0.3359 Val cost =  1.8641, Val acc =  0.3461\n",
      "Epoch 4, Batch 600:  Train cost =  1.7190, Train acc =  0.3984 Val cost =  1.7855, Val acc =  0.3813\n",
      "Epoch 5, Batch 650:  Train cost =  1.5539, Train acc =  0.4336 Val cost =  1.6167, Val acc =  0.4247\n",
      "Epoch 5, Batch 700:  Train cost =  1.5588, Train acc =  0.4531 Val cost =  1.6535, Val acc =  0.4171\n",
      "Epoch 5, Batch 750:  Train cost =  1.6077, Train acc =  0.4414 Val cost =  1.7308, Val acc =  0.3967\n",
      "Epoch 6, Batch 800:  Train cost =  1.6651, Train acc =  0.4258 Val cost =  1.7763, Val acc =  0.3902\n",
      "Epoch 6, Batch 850:  Train cost =  1.5489, Train acc =  0.4844 Val cost =  1.5478, Val acc =  0.4618\n",
      "Epoch 6, Batch 900:  Train cost =  1.5925, Train acc =  0.4609 Val cost =  1.6980, Val acc =  0.4113\n",
      "Epoch 7, Batch 950:  Train cost =  1.4363, Train acc =  0.4883 Val cost =  1.4164, Val acc =  0.4979\n",
      "Epoch 7, Batch 1000:  Train cost =  1.1748, Train acc =  0.5898 Val cost =  1.2471, Val acc =  0.5497\n",
      "Epoch 7, Batch 1050:  Train cost =  1.2522, Train acc =  0.5742 Val cost =  1.3849, Val acc =  0.4977\n",
      "Epoch 8, Batch 1100:  Train cost =  1.5322, Train acc =  0.4805 Val cost =  1.4296, Val acc =  0.4966\n",
      "Epoch 8, Batch 1150:  Train cost =  1.4293, Train acc =  0.4883 Val cost =  1.4531, Val acc =  0.4819\n",
      "Epoch 8, Batch 1200:  Train cost =  1.3222, Train acc =  0.5078 Val cost =  1.4175, Val acc =  0.5088\n",
      "Epoch 9, Batch 1250:  Train cost =  1.5123, Train acc =  0.4805 Val cost =  1.3111, Val acc =  0.5264\n",
      "Epoch 9, Batch 1300:  Train cost =  1.5278, Train acc =  0.4609 Val cost =  1.4241, Val acc =  0.4865\n",
      "Epoch 9, Batch 1350:  Train cost =  1.3568, Train acc =  0.5625 Val cost =  1.2667, Val acc =  0.5446\n",
      "Epoch 9, Batch 1400:  Train cost =  1.3835, Train acc =  0.4922 Val cost =  1.3690, Val acc =  0.5175\n",
      "Epoch 10, Batch 1450:  Train cost =  1.7395, Train acc =  0.4141 Val cost =  1.7093, Val acc =  0.4347\n",
      "Epoch 10, Batch 1500:  Train cost =  1.0899, Train acc =  0.6328 Val cost =  1.1242, Val acc =  0.6123\n",
      "Epoch 10, Batch 1550:  Train cost =  1.2185, Train acc =  0.5469 Val cost =  1.1775, Val acc =  0.5694\n",
      "Epoch 11, Batch 1600:  Train cost =  1.0291, Train acc =  0.6562 Val cost =  1.0652, Val acc =  0.6236\n",
      "Epoch 11, Batch 1650:  Train cost =  1.1694, Train acc =  0.5977 Val cost =  1.1143, Val acc =  0.6070\n",
      "Epoch 11, Batch 1700:  Train cost =  0.9065, Train acc =  0.6875 Val cost =  1.0097, Val acc =  0.6418\n",
      "Epoch 12, Batch 1750:  Train cost =  1.0284, Train acc =  0.6250 Val cost =  1.1012, Val acc =  0.6008\n",
      "Epoch 12, Batch 1800:  Train cost =  1.0551, Train acc =  0.6484 Val cost =  1.0492, Val acc =  0.6215\n",
      "Epoch 12, Batch 1850:  Train cost =  1.1902, Train acc =  0.5742 Val cost =  1.1146, Val acc =  0.6038\n",
      "Epoch 13, Batch 1900:  Train cost =  1.1719, Train acc =  0.5664 Val cost =  1.1530, Val acc =  0.5895\n",
      "Epoch 13, Batch 1950:  Train cost =  1.0630, Train acc =  0.6289 Val cost =  1.1128, Val acc =  0.5994\n",
      "Epoch 13, Batch 2000:  Train cost =  0.9942, Train acc =  0.6328 Val cost =  1.0894, Val acc =  0.6068\n",
      "Epoch 14, Batch 2050:  Train cost =  1.1112, Train acc =  0.6094 Val cost =  1.0287, Val acc =  0.6306\n",
      "Epoch 14, Batch 2100:  Train cost =  1.1947, Train acc =  0.5938 Val cost =  1.3190, Val acc =  0.5494\n",
      "Epoch 14, Batch 2150:  Train cost =  1.1561, Train acc =  0.5664 Val cost =  1.1854, Val acc =  0.5822\n",
      "Epoch 15, Batch 2200:  Train cost =  0.7998, Train acc =  0.7070 Val cost =  0.9411, Val acc =  0.6634\n",
      "Epoch 15, Batch 2250:  Train cost =  1.0678, Train acc =  0.5977 Val cost =  0.9739, Val acc =  0.6525\n",
      "Epoch 15, Batch 2300:  Train cost =  0.9871, Train acc =  0.6758 Val cost =  1.0401, Val acc =  0.6254\n",
      "Epoch 16, Batch 2350:  Train cost =  0.9206, Train acc =  0.6445 Val cost =  0.9535, Val acc =  0.6542\n",
      "Epoch 16, Batch 2400:  Train cost =  0.9927, Train acc =  0.6797 Val cost =  0.9623, Val acc =  0.6547\n",
      "Epoch 16, Batch 2450:  Train cost =  1.2658, Train acc =  0.5703 Val cost =  1.3252, Val acc =  0.5401\n",
      "Epoch 17, Batch 2500:  Train cost =  1.3216, Train acc =  0.5234 Val cost =  1.3783, Val acc =  0.5290\n",
      "Epoch 17, Batch 2550:  Train cost =  0.9772, Train acc =  0.6641 Val cost =  0.9593, Val acc =  0.6518\n",
      "Epoch 17, Batch 2600:  Train cost =  1.1622, Train acc =  0.6289 Val cost =  1.2314, Val acc =  0.6043\n",
      "Epoch 17, Batch 2650:  Train cost =  1.0158, Train acc =  0.6445 Val cost =  0.9621, Val acc =  0.6539\n",
      "Epoch 18, Batch 2700:  Train cost =  1.0876, Train acc =  0.6094 Val cost =  1.0913, Val acc =  0.6112\n",
      "Epoch 18, Batch 2750:  Train cost =  0.8965, Train acc =  0.7031 Val cost =  0.8659, Val acc =  0.6898\n",
      "Epoch 18, Batch 2800:  Train cost =  1.0385, Train acc =  0.6445 Val cost =  0.9899, Val acc =  0.6564\n",
      "Epoch 19, Batch 2850:  Train cost =  0.8280, Train acc =  0.6992 Val cost =  0.8667, Val acc =  0.6897\n",
      "Epoch 19, Batch 2900:  Train cost =  1.2770, Train acc =  0.5820 Val cost =  1.2851, Val acc =  0.5645\n",
      "Epoch 19, Batch 2950:  Train cost =  0.9376, Train acc =  0.7148 Val cost =  0.9299, Val acc =  0.6724\n",
      "Epoch 20, Batch 3000:  Train cost =  1.0316, Train acc =  0.6562 Val cost =  1.0435, Val acc =  0.6346\n",
      "Epoch 20, Batch 3050:  Train cost =  0.8181, Train acc =  0.7031 Val cost =  0.8514, Val acc =  0.7001\n",
      "Epoch 20, Batch 3100:  Train cost =  0.7941, Train acc =  0.7188 Val cost =  0.8590, Val acc =  0.6922\n",
      "Epoch 21, Batch 3150:  Train cost =  0.9768, Train acc =  0.6406 Val cost =  1.0737, Val acc =  0.6091\n",
      "Epoch 21, Batch 3200:  Train cost =  0.9902, Train acc =  0.6523 Val cost =  0.9854, Val acc =  0.6481\n",
      "Epoch 21, Batch 3250:  Train cost =  0.9429, Train acc =  0.6523 Val cost =  0.9643, Val acc =  0.6478\n",
      "Epoch 22, Batch 3300:  Train cost =  0.8436, Train acc =  0.6953 Val cost =  0.8696, Val acc =  0.6831\n",
      "Epoch 22, Batch 3350:  Train cost =  1.2116, Train acc =  0.5586 Val cost =  1.1737, Val acc =  0.5847\n",
      "Epoch 22, Batch 3400:  Train cost =  1.0970, Train acc =  0.6172 Val cost =  1.0196, Val acc =  0.6374\n",
      "Epoch 23, Batch 3450:  Train cost =  1.2364, Train acc =  0.5859 Val cost =  1.2659, Val acc =  0.5687\n",
      "Epoch 23, Batch 3500:  Train cost =  0.6789, Train acc =  0.7422 Val cost =  0.8568, Val acc =  0.6957\n",
      "Epoch 23, Batch 3550:  Train cost =  1.0158, Train acc =  0.6641 Val cost =  1.0569, Val acc =  0.6255\n",
      "Epoch 24, Batch 3600:  Train cost =  0.8224, Train acc =  0.7227 Val cost =  0.8143, Val acc =  0.7116\n",
      "Epoch 24, Batch 3650:  Train cost =  0.7037, Train acc =  0.7305 Val cost =  0.8822, Val acc =  0.6889\n",
      "Epoch 24, Batch 3700:  Train cost =  1.0223, Train acc =  0.5938 Val cost =  0.9646, Val acc =  0.6541\n",
      "Epoch 25, Batch 3750:  Train cost =  0.9295, Train acc =  0.6680 Val cost =  0.9485, Val acc =  0.6569\n",
      "Epoch 25, Batch 3800:  Train cost =  0.7308, Train acc =  0.7227 Val cost =  0.9110, Val acc =  0.6709\n",
      "Epoch 25, Batch 3850:  Train cost =  0.9740, Train acc =  0.6562 Val cost =  0.9313, Val acc =  0.6674\n",
      "Epoch 25, Batch 3900:  Train cost =  0.8286, Train acc =  0.7070 Val cost =  0.9994, Val acc =  0.6541\n",
      "Epoch 26, Batch 3950:  Train cost =  0.7930, Train acc =  0.7500 Val cost =  0.8460, Val acc =  0.6988\n",
      "Epoch 26, Batch 4000:  Train cost =  0.7292, Train acc =  0.7266 Val cost =  0.7726, Val acc =  0.7221\n",
      "Epoch 26, Batch 4050:  Train cost =  0.6754, Train acc =  0.7383 Val cost =  0.7860, Val acc =  0.7158\n"
     ]
    },
    {
     "name": "stdout",
     "output_type": "stream",
     "text": [
      "Epoch 27, Batch 4100:  Train cost =  0.8167, Train acc =  0.7031 Val cost =  0.9086, Val acc =  0.6736\n",
      "Epoch 27, Batch 4150:  Train cost =  0.6666, Train acc =  0.7422 Val cost =  0.8135, Val acc =  0.7076\n",
      "Epoch 27, Batch 4200:  Train cost =  0.9362, Train acc =  0.7227 Val cost =  1.0729, Val acc =  0.6237\n",
      "Epoch 28, Batch 4250:  Train cost =  1.0721, Train acc =  0.6367 Val cost =  1.1360, Val acc =  0.6042\n",
      "Epoch 28, Batch 4300:  Train cost =  0.9587, Train acc =  0.6836 Val cost =  1.0387, Val acc =  0.6325\n",
      "Epoch 28, Batch 4350:  Train cost =  0.8040, Train acc =  0.7070 Val cost =  0.9160, Val acc =  0.6693\n",
      "Epoch 29, Batch 4400:  Train cost =  1.0365, Train acc =  0.6602 Val cost =  1.0524, Val acc =  0.6328\n",
      "Epoch 29, Batch 4450:  Train cost =  0.7876, Train acc =  0.6953 Val cost =  0.8159, Val acc =  0.7024\n",
      "Epoch 29, Batch 4500:  Train cost =  0.7199, Train acc =  0.7500 Val cost =  0.8715, Val acc =  0.6935\n",
      "Epoch 30, Batch 4550:  Train cost =  0.7064, Train acc =  0.7383 Val cost =  0.7611, Val acc =  0.7246\n",
      "Epoch 30, Batch 4600:  Train cost =  0.7320, Train acc =  0.7539 Val cost =  0.8019, Val acc =  0.7204\n",
      "Epoch 30, Batch 4650:  Train cost =  1.1516, Train acc =  0.6172 Val cost =  1.0900, Val acc =  0.6211\n",
      "Epoch 31, Batch 4700:  Train cost =  0.8571, Train acc =  0.7031 Val cost =  0.9241, Val acc =  0.6675\n",
      "Epoch 31, Batch 4750:  Train cost =  0.7440, Train acc =  0.7305 Val cost =  0.8419, Val acc =  0.6981\n",
      "Epoch 31, Batch 4800:  Train cost =  0.8228, Train acc =  0.7031 Val cost =  0.7999, Val acc =  0.7158\n",
      "Epoch 32, Batch 4850:  Train cost =  0.5982, Train acc =  0.7969 Val cost =  0.7041, Val acc =  0.7495\n",
      "Epoch 32, Batch 4900:  Train cost =  0.8893, Train acc =  0.6758 Val cost =  0.7700, Val acc =  0.7258\n",
      "Epoch 32, Batch 4950:  Train cost =  0.7136, Train acc =  0.7617 Val cost =  0.7638, Val acc =  0.7259\n",
      "Epoch 33, Batch 5000:  Train cost =  0.7441, Train acc =  0.7812 Val cost =  0.7416, Val acc =  0.7349\n",
      "Epoch 33, Batch 5050:  Train cost =  0.6644, Train acc =  0.7617 Val cost =  0.7719, Val acc =  0.7255\n",
      "Epoch 33, Batch 5100:  Train cost =  0.5835, Train acc =  0.8008 Val cost =  0.6981, Val acc =  0.7511\n",
      "Epoch 34, Batch 5150:  Train cost =  0.6851, Train acc =  0.7773 Val cost =  0.7905, Val acc =  0.7200\n",
      "Epoch 34, Batch 5200:  Train cost =  0.8886, Train acc =  0.6641 Val cost =  0.9051, Val acc =  0.6783\n",
      "Epoch 34, Batch 5250:  Train cost =  0.7628, Train acc =  0.7188 Val cost =  0.7183, Val acc =  0.7410\n",
      "Epoch 34, Batch 5300:  Train cost =  0.8138, Train acc =  0.6914 Val cost =  0.9533, Val acc =  0.6585\n",
      "Epoch 35, Batch 5350:  Train cost =  0.7137, Train acc =  0.7461 Val cost =  0.7326, Val acc =  0.7383\n",
      "Epoch 35, Batch 5400:  Train cost =  0.6430, Train acc =  0.7930 Val cost =  0.7079, Val acc =  0.7517\n",
      "Epoch 35, Batch 5450:  Train cost =  0.7305, Train acc =  0.7422 Val cost =  0.8003, Val acc =  0.7181\n",
      "Epoch 36, Batch 5500:  Train cost =  0.7865, Train acc =  0.7109 Val cost =  0.8117, Val acc =  0.7144\n",
      "Epoch 36, Batch 5550:  Train cost =  0.7125, Train acc =  0.7500 Val cost =  0.7172, Val acc =  0.7496\n",
      "Epoch 36, Batch 5600:  Train cost =  0.5872, Train acc =  0.7930 Val cost =  0.7070, Val acc =  0.7475\n",
      "Epoch 37, Batch 5650:  Train cost =  0.6074, Train acc =  0.8047 Val cost =  0.6781, Val acc =  0.7637\n",
      "Epoch 37, Batch 5700:  Train cost =  0.5406, Train acc =  0.8047 Val cost =  0.6944, Val acc =  0.7520\n",
      "Epoch 37, Batch 5750:  Train cost =  0.5237, Train acc =  0.8438 Val cost =  0.7020, Val acc =  0.7512\n",
      "Epoch 38, Batch 5800:  Train cost =  0.6588, Train acc =  0.7578 Val cost =  0.8887, Val acc =  0.6832\n",
      "Epoch 38, Batch 5850:  Train cost =  0.6543, Train acc =  0.7656 Val cost =  0.6971, Val acc =  0.7527\n",
      "Epoch 38, Batch 5900:  Train cost =  0.5002, Train acc =  0.8359 Val cost =  0.6772, Val acc =  0.7605\n",
      "Epoch 39, Batch 5950:  Train cost =  0.7830, Train acc =  0.7305 Val cost =  0.8150, Val acc =  0.7078\n",
      "Epoch 39, Batch 6000:  Train cost =  0.6496, Train acc =  0.7656 Val cost =  0.8108, Val acc =  0.7087\n",
      "Epoch 39, Batch 6050:  Train cost =  0.6661, Train acc =  0.7617 Val cost =  0.7246, Val acc =  0.7412\n",
      "Epoch 40, Batch 6100:  Train cost =  0.7743, Train acc =  0.7109 Val cost =  0.9280, Val acc =  0.6756\n",
      "Epoch 40, Batch 6150:  Train cost =  0.6748, Train acc =  0.7539 Val cost =  0.7133, Val acc =  0.7453\n",
      "Epoch 40, Batch 6200:  Train cost =  0.7128, Train acc =  0.7617 Val cost =  0.7898, Val acc =  0.7227\n",
      "Epoch 41, Batch 6250:  Train cost =  0.7034, Train acc =  0.7344 Val cost =  0.7694, Val acc =  0.7245\n",
      "Epoch 41, Batch 6300:  Train cost =  0.6812, Train acc =  0.7422 Val cost =  0.6991, Val acc =  0.7546\n",
      "Epoch 41, Batch 6350:  Train cost =  0.5880, Train acc =  0.7695 Val cost =  0.7860, Val acc =  0.7220\n",
      "Epoch 42, Batch 6400:  Train cost =  0.5813, Train acc =  0.7891 Val cost =  0.7386, Val acc =  0.7393\n",
      "Epoch 42, Batch 6450:  Train cost =  0.5893, Train acc =  0.8047 Val cost =  0.6492, Val acc =  0.7731\n",
      "Epoch 42, Batch 6500:  Train cost =  0.5972, Train acc =  0.7891 Val cost =  0.7441, Val acc =  0.7343\n",
      "Epoch 42, Batch 6550:  Train cost =  1.0038, Train acc =  0.6484 Val cost =  1.1129, Val acc =  0.6211\n",
      "Epoch 43, Batch 6600:  Train cost =  0.6254, Train acc =  0.8047 Val cost =  0.7092, Val acc =  0.7497\n",
      "Epoch 43, Batch 6650:  Train cost =  0.8031, Train acc =  0.7305 Val cost =  0.8771, Val acc =  0.6863\n",
      "Epoch 43, Batch 6700:  Train cost =  0.9355, Train acc =  0.6719 Val cost =  1.0019, Val acc =  0.6551\n",
      "Epoch 44, Batch 6750:  Train cost =  0.6248, Train acc =  0.7812 Val cost =  0.6839, Val acc =  0.7553\n",
      "Epoch 44, Batch 6800:  Train cost =  0.6359, Train acc =  0.7852 Val cost =  0.7046, Val acc =  0.7555\n",
      "Epoch 44, Batch 6850:  Train cost =  0.6018, Train acc =  0.7812 Val cost =  0.6736, Val acc =  0.7614\n",
      "Epoch 45, Batch 6900:  Train cost =  0.5861, Train acc =  0.7695 Val cost =  0.7141, Val acc =  0.7522\n",
      "Epoch 45, Batch 6950:  Train cost =  0.5668, Train acc =  0.7969 Val cost =  0.7258, Val acc =  0.7443\n",
      "Epoch 45, Batch 7000:  Train cost =  0.5714, Train acc =  0.7969 Val cost =  0.6651, Val acc =  0.7642\n",
      "Epoch 46, Batch 7050:  Train cost =  0.6456, Train acc =  0.7695 Val cost =  0.6859, Val acc =  0.7589\n",
      "Epoch 46, Batch 7100:  Train cost =  0.6002, Train acc =  0.7617 Val cost =  0.6945, Val acc =  0.7528\n",
      "Epoch 46, Batch 7150:  Train cost =  0.7125, Train acc =  0.7539 Val cost =  0.7217, Val acc =  0.7431\n",
      "Epoch 47, Batch 7200:  Train cost =  0.8936, Train acc =  0.6914 Val cost =  0.7997, Val acc =  0.7161\n",
      "Epoch 47, Batch 7250:  Train cost =  0.6536, Train acc =  0.7734 Val cost =  0.7466, Val acc =  0.7338\n",
      "Epoch 47, Batch 7300:  Train cost =  0.6311, Train acc =  0.7695 Val cost =  0.7051, Val acc =  0.7470\n",
      "Epoch 48, Batch 7350:  Train cost =  0.7361, Train acc =  0.7461 Val cost =  0.8874, Val acc =  0.6882\n",
      "Epoch 48, Batch 7400:  Train cost =  0.6116, Train acc =  0.7891 Val cost =  0.6731, Val acc =  0.7595\n",
      "Epoch 48, Batch 7450:  Train cost =  0.6152, Train acc =  0.7930 Val cost =  0.7041, Val acc =  0.7512\n",
      "Epoch 49, Batch 7500:  Train cost =  0.6743, Train acc =  0.7734 Val cost =  0.7628, Val acc =  0.7305\n",
      "Epoch 49, Batch 7550:  Train cost =  0.6320, Train acc =  0.7930 Val cost =  0.7167, Val acc =  0.7493\n",
      "Epoch 49, Batch 7600:  Train cost =  0.6382, Train acc =  0.7695 Val cost =  0.6989, Val acc =  0.7510\n",
      "Epoch 50, Batch 7650:  Train cost =  0.7333, Train acc =  0.7305 Val cost =  0.8061, Val acc =  0.7133\n",
      "Epoch 50, Batch 7700:  Train cost =  0.5209, Train acc =  0.8281 Val cost =  0.7237, Val acc =  0.7455\n",
      "Epoch 50, Batch 7750:  Train cost =  0.5957, Train acc =  0.7930 Val cost =  0.6886, Val acc =  0.7588\n",
      "Epoch 50, Batch 7800:  Train cost =  0.4974, Train acc =  0.8398 Val cost =  0.6971, Val acc =  0.7552\n",
      "Epoch 51, Batch 7850:  Train cost =  0.6421, Train acc =  0.7461 Val cost =  0.7441, Val acc =  0.7328\n",
      "Epoch 51, Batch 7900:  Train cost =  0.6413, Train acc =  0.7734 Val cost =  0.6810, Val acc =  0.7539\n",
      "Epoch 51, Batch 7950:  Train cost =  0.6164, Train acc =  0.7930 Val cost =  0.6430, Val acc =  0.7719\n",
      "Epoch 52, Batch 8000:  Train cost =  0.6334, Train acc =  0.7812 Val cost =  0.8127, Val acc =  0.7121\n",
      "Epoch 52, Batch 8050:  Train cost =  0.5280, Train acc =  0.8242 Val cost =  0.6671, Val acc =  0.7676\n"
     ]
    },
    {
     "name": "stdout",
     "output_type": "stream",
     "text": [
      "Epoch 52, Batch 8100:  Train cost =  0.4744, Train acc =  0.8320 Val cost =  0.6609, Val acc =  0.7665\n",
      "Epoch 53, Batch 8150:  Train cost =  0.5560, Train acc =  0.8125 Val cost =  0.6874, Val acc =  0.7536\n",
      "Epoch 53, Batch 8200:  Train cost =  0.6372, Train acc =  0.7617 Val cost =  0.6533, Val acc =  0.7660\n",
      "Epoch 53, Batch 8250:  Train cost =  0.5263, Train acc =  0.8281 Val cost =  0.6550, Val acc =  0.7647\n",
      "Epoch 54, Batch 8300:  Train cost =  0.7206, Train acc =  0.7266 Val cost =  0.8485, Val acc =  0.6954\n",
      "Epoch 54, Batch 8350:  Train cost =  0.6442, Train acc =  0.7695 Val cost =  0.7090, Val acc =  0.7527\n",
      "Epoch 54, Batch 8400:  Train cost =  0.5713, Train acc =  0.7734 Val cost =  0.7597, Val acc =  0.7268\n",
      "Epoch 55, Batch 8450:  Train cost =  0.5753, Train acc =  0.8008 Val cost =  0.6656, Val acc =  0.7686\n",
      "Epoch 55, Batch 8500:  Train cost =  0.5595, Train acc =  0.8164 Val cost =  0.6557, Val acc =  0.7698\n",
      "Epoch 55, Batch 8550:  Train cost =  0.5812, Train acc =  0.7969 Val cost =  0.7314, Val acc =  0.7405\n",
      "Epoch 56, Batch 8600:  Train cost =  0.5471, Train acc =  0.7969 Val cost =  0.6717, Val acc =  0.7596\n",
      "Epoch 56, Batch 8650:  Train cost =  0.4812, Train acc =  0.8438 Val cost =  0.6448, Val acc =  0.7732\n",
      "Epoch 56, Batch 8700:  Train cost =  0.4826, Train acc =  0.8516 Val cost =  0.6226, Val acc =  0.7823\n",
      "Epoch 57, Batch 8750:  Train cost =  0.5516, Train acc =  0.8164 Val cost =  0.6488, Val acc =  0.7696\n",
      "Epoch 57, Batch 8800:  Train cost =  0.5736, Train acc =  0.7930 Val cost =  0.7027, Val acc =  0.7519\n",
      "Epoch 57, Batch 8850:  Train cost =  0.8847, Train acc =  0.6797 Val cost =  0.8436, Val acc =  0.7025\n",
      "Epoch 58, Batch 8900:  Train cost =  0.5257, Train acc =  0.7930 Val cost =  0.7105, Val acc =  0.7518\n",
      "Epoch 58, Batch 8950:  Train cost =  0.6592, Train acc =  0.7734 Val cost =  0.7186, Val acc =  0.7495\n",
      "Epoch 58, Batch 9000:  Train cost =  0.5680, Train acc =  0.7812 Val cost =  0.7326, Val acc =  0.7372\n",
      "Epoch 59, Batch 9050:  Train cost =  0.5875, Train acc =  0.7773 Val cost =  0.6639, Val acc =  0.7629\n",
      "Epoch 59, Batch 9100:  Train cost =  0.6203, Train acc =  0.7656 Val cost =  0.7035, Val acc =  0.7536\n",
      "Epoch 59, Batch 9150:  Train cost =  0.5297, Train acc =  0.8047 Val cost =  0.7043, Val acc =  0.7498\n",
      "Epoch 59, Batch 9200:  Train cost =  0.6187, Train acc =  0.7734 Val cost =  0.7645, Val acc =  0.7305\n",
      "Epoch 60, Batch 9250:  Train cost =  0.6257, Train acc =  0.7539 Val cost =  0.6836, Val acc =  0.7596\n",
      "Epoch 60, Batch 9300:  Train cost =  0.4929, Train acc =  0.8320 Val cost =  0.6240, Val acc =  0.7775\n",
      "Epoch 60, Batch 9350:  Train cost =  0.6345, Train acc =  0.7969 Val cost =  0.7273, Val acc =  0.7454\n",
      "Epoch 61, Batch 9400:  Train cost =  0.5618, Train acc =  0.8047 Val cost =  0.6855, Val acc =  0.7619\n",
      "Epoch 61, Batch 9450:  Train cost =  0.5228, Train acc =  0.8125 Val cost =  0.6477, Val acc =  0.7757\n",
      "Epoch 61, Batch 9500:  Train cost =  0.5343, Train acc =  0.8047 Val cost =  0.6975, Val acc =  0.7527\n",
      "Epoch 62, Batch 9550:  Train cost =  0.5867, Train acc =  0.7734 Val cost =  0.7337, Val acc =  0.7382\n",
      "Epoch 62, Batch 9600:  Train cost =  0.7505, Train acc =  0.7148 Val cost =  0.8194, Val acc =  0.7131\n",
      "Epoch 62, Batch 9650:  Train cost =  0.6966, Train acc =  0.7383 Val cost =  0.9259, Val acc =  0.6818\n",
      "Epoch 63, Batch 9700:  Train cost =  0.4900, Train acc =  0.8398 Val cost =  0.6737, Val acc =  0.7607\n",
      "Epoch 63, Batch 9750:  Train cost =  0.5150, Train acc =  0.8047 Val cost =  0.7313, Val acc =  0.7434\n",
      "Epoch 63, Batch 9800:  Train cost =  0.4977, Train acc =  0.8320 Val cost =  0.6722, Val acc =  0.7632\n",
      "Epoch 64, Batch 9850:  Train cost =  0.6218, Train acc =  0.7695 Val cost =  0.7430, Val acc =  0.7387\n",
      "Epoch 64, Batch 9900:  Train cost =  0.4555, Train acc =  0.8203 Val cost =  0.6279, Val acc =  0.7810\n",
      "Epoch 64, Batch 9950:  Train cost =  0.6760, Train acc =  0.7578 Val cost =  0.8148, Val acc =  0.7131\n",
      "Epoch 65, Batch 10000:  Train cost =  0.5240, Train acc =  0.8164 Val cost =  0.6772, Val acc =  0.7619\n",
      "Epoch 65, Batch 10050:  Train cost =  0.6715, Train acc =  0.7383 Val cost =  0.7355, Val acc =  0.7413\n",
      "Epoch 65, Batch 10100:  Train cost =  0.6996, Train acc =  0.7500 Val cost =  0.7826, Val acc =  0.7225\n",
      "Epoch 66, Batch 10150:  Train cost =  0.5591, Train acc =  0.7812 Val cost =  0.7556, Val acc =  0.7285\n",
      "Epoch 66, Batch 10200:  Train cost =  0.5095, Train acc =  0.8125 Val cost =  0.6674, Val acc =  0.7640\n",
      "Epoch 66, Batch 10250:  Train cost =  0.6923, Train acc =  0.7734 Val cost =  0.7713, Val acc =  0.7315\n",
      "Epoch 67, Batch 10300:  Train cost =  0.6508, Train acc =  0.7539 Val cost =  0.7004, Val acc =  0.7458\n",
      "Epoch 67, Batch 10350:  Train cost =  0.7166, Train acc =  0.7500 Val cost =  0.7685, Val acc =  0.7264\n",
      "Epoch 67, Batch 10400:  Train cost =  0.5355, Train acc =  0.7812 Val cost =  0.7240, Val acc =  0.7427\n",
      "Epoch 67, Batch 10450:  Train cost =  0.5866, Train acc =  0.7773 Val cost =  0.7366, Val acc =  0.7412\n",
      "Epoch 68, Batch 10500:  Train cost =  0.4055, Train acc =  0.8359 Val cost =  0.6202, Val acc =  0.7831\n",
      "Epoch 68, Batch 10550:  Train cost =  0.5310, Train acc =  0.7930 Val cost =  0.6244, Val acc =  0.7779\n",
      "Epoch 68, Batch 10600:  Train cost =  0.5174, Train acc =  0.8008 Val cost =  0.7219, Val acc =  0.7479\n",
      "Epoch 69, Batch 10650:  Train cost =  0.5244, Train acc =  0.8359 Val cost =  0.6426, Val acc =  0.7720\n",
      "Epoch 69, Batch 10700:  Train cost =  0.4889, Train acc =  0.8125 Val cost =  0.6855, Val acc =  0.7568\n",
      "Epoch 69, Batch 10750:  Train cost =  0.6474, Train acc =  0.7539 Val cost =  0.8346, Val acc =  0.7099\n",
      "Epoch 70, Batch 10800:  Train cost =  0.5857, Train acc =  0.7734 Val cost =  0.7459, Val acc =  0.7388\n",
      "Epoch 70, Batch 10850:  Train cost =  0.5712, Train acc =  0.7930 Val cost =  0.7486, Val acc =  0.7376\n",
      "Epoch 70, Batch 10900:  Train cost =  0.4597, Train acc =  0.8359 Val cost =  0.5974, Val acc =  0.7908\n",
      "Epoch 71, Batch 10950:  Train cost =  0.5326, Train acc =  0.7969 Val cost =  0.6868, Val acc =  0.7574\n",
      "Epoch 71, Batch 11000:  Train cost =  0.4037, Train acc =  0.8711 Val cost =  0.5945, Val acc =  0.7928\n",
      "Epoch 71, Batch 11050:  Train cost =  0.6546, Train acc =  0.7812 Val cost =  0.6615, Val acc =  0.7689\n",
      "Epoch 72, Batch 11100:  Train cost =  0.6681, Train acc =  0.7656 Val cost =  0.8565, Val acc =  0.7046\n",
      "Epoch 72, Batch 11150:  Train cost =  0.6192, Train acc =  0.7812 Val cost =  0.6858, Val acc =  0.7628\n",
      "Epoch 72, Batch 11200:  Train cost =  0.4554, Train acc =  0.8359 Val cost =  0.5882, Val acc =  0.7975\n",
      "Epoch 73, Batch 11250:  Train cost =  0.4389, Train acc =  0.8633 Val cost =  0.5815, Val acc =  0.7958\n",
      "Epoch 73, Batch 11300:  Train cost =  0.6116, Train acc =  0.7656 Val cost =  0.7227, Val acc =  0.7472\n",
      "Epoch 73, Batch 11350:  Train cost =  0.4788, Train acc =  0.8281 Val cost =  0.6318, Val acc =  0.7778\n",
      "Epoch 74, Batch 11400:  Train cost =  0.7245, Train acc =  0.7266 Val cost =  0.8778, Val acc =  0.6976\n",
      "Epoch 74, Batch 11450:  Train cost =  0.5159, Train acc =  0.8086 Val cost =  0.6312, Val acc =  0.7779\n",
      "Epoch 74, Batch 11500:  Train cost =  0.6343, Train acc =  0.7656 Val cost =  0.6996, Val acc =  0.7532\n",
      "Epoch 75, Batch 11550:  Train cost =  0.4215, Train acc =  0.8789 Val cost =  0.6167, Val acc =  0.7852\n",
      "Epoch 75, Batch 11600:  Train cost =  0.4396, Train acc =  0.8555 Val cost =  0.6597, Val acc =  0.7678\n",
      "Epoch 75, Batch 11650:  Train cost =  0.4809, Train acc =  0.8359 Val cost =  0.6002, Val acc =  0.7917\n",
      "Epoch 75, Batch 11700:  Train cost =  0.6915, Train acc =  0.7695 Val cost =  0.7934, Val acc =  0.7221\n",
      "Epoch 76, Batch 11750:  Train cost =  0.5519, Train acc =  0.8125 Val cost =  0.6807, Val acc =  0.7642\n",
      "Epoch 76, Batch 11800:  Train cost =  0.4973, Train acc =  0.8086 Val cost =  0.6561, Val acc =  0.7732\n",
      "Epoch 76, Batch 11850:  Train cost =  0.5555, Train acc =  0.8008 Val cost =  0.6436, Val acc =  0.7703\n",
      "Epoch 77, Batch 11900:  Train cost =  0.6153, Train acc =  0.7812 Val cost =  0.7355, Val acc =  0.7480\n",
      "Epoch 77, Batch 11950:  Train cost =  0.5440, Train acc =  0.7734 Val cost =  0.6413, Val acc =  0.7744\n",
      "Epoch 77, Batch 12000:  Train cost =  0.5023, Train acc =  0.8164 Val cost =  0.6187, Val acc =  0.7808\n",
      "Epoch 78, Batch 12050:  Train cost =  0.4016, Train acc =  0.8789 Val cost =  0.5969, Val acc =  0.7894\n"
     ]
    },
    {
     "name": "stdout",
     "output_type": "stream",
     "text": [
      "Epoch 78, Batch 12100:  Train cost =  0.5392, Train acc =  0.7969 Val cost =  0.6708, Val acc =  0.7654\n",
      "Epoch 78, Batch 12150:  Train cost =  0.5578, Train acc =  0.8203 Val cost =  0.6783, Val acc =  0.7608\n",
      "Epoch 79, Batch 12200:  Train cost =  0.4895, Train acc =  0.8320 Val cost =  0.6132, Val acc =  0.7858\n",
      "Epoch 79, Batch 12250:  Train cost =  0.3671, Train acc =  0.8828 Val cost =  0.5822, Val acc =  0.7957\n",
      "Epoch 79, Batch 12300:  Train cost =  0.4392, Train acc =  0.8594 Val cost =  0.6115, Val acc =  0.7857\n",
      "Epoch 80, Batch 12350:  Train cost =  0.4822, Train acc =  0.8438 Val cost =  0.5734, Val acc =  0.8003\n",
      "Epoch 80, Batch 12400:  Train cost =  0.4263, Train acc =  0.8516 Val cost =  0.6458, Val acc =  0.7724\n",
      "Epoch 80, Batch 12450:  Train cost =  0.4522, Train acc =  0.8516 Val cost =  0.6248, Val acc =  0.7785\n",
      "Epoch 81, Batch 12500:  Train cost =  0.5920, Train acc =  0.7812 Val cost =  0.7699, Val acc =  0.7362\n",
      "Epoch 81, Batch 12550:  Train cost =  0.5563, Train acc =  0.7930 Val cost =  0.6869, Val acc =  0.7613\n",
      "Epoch 81, Batch 12600:  Train cost =  0.3939, Train acc =  0.8516 Val cost =  0.6185, Val acc =  0.7831\n",
      "Epoch 82, Batch 12650:  Train cost =  0.6716, Train acc =  0.7383 Val cost =  0.7131, Val acc =  0.7499\n",
      "Epoch 82, Batch 12700:  Train cost =  0.6027, Train acc =  0.7930 Val cost =  0.7831, Val acc =  0.7254\n",
      "Epoch 82, Batch 12750:  Train cost =  0.4323, Train acc =  0.8164 Val cost =  0.6377, Val acc =  0.7785\n",
      "Epoch 83, Batch 12800:  Train cost =  0.4373, Train acc =  0.8438 Val cost =  0.5764, Val acc =  0.7986\n",
      "Epoch 83, Batch 12850:  Train cost =  0.4118, Train acc =  0.8477 Val cost =  0.6374, Val acc =  0.7749\n",
      "Epoch 83, Batch 12900:  Train cost =  0.4666, Train acc =  0.8477 Val cost =  0.8047, Val acc =  0.7256\n",
      "Epoch 84, Batch 12950:  Train cost =  0.4715, Train acc =  0.8516 Val cost =  0.6466, Val acc =  0.7726\n",
      "Epoch 84, Batch 13000:  Train cost =  0.4911, Train acc =  0.8242 Val cost =  0.7261, Val acc =  0.7434\n",
      "Epoch 84, Batch 13050:  Train cost =  0.4845, Train acc =  0.8242 Val cost =  0.6553, Val acc =  0.7685\n",
      "Epoch 84, Batch 13100:  Train cost =  0.5602, Train acc =  0.8398 Val cost =  0.6450, Val acc =  0.7708\n",
      "Epoch 85, Batch 13150:  Train cost =  0.5062, Train acc =  0.8125 Val cost =  0.6401, Val acc =  0.7755\n",
      "Epoch 85, Batch 13200:  Train cost =  0.4601, Train acc =  0.8555 Val cost =  0.6082, Val acc =  0.7860\n",
      "Epoch 85, Batch 13250:  Train cost =  0.3981, Train acc =  0.8555 Val cost =  0.5613, Val acc =  0.8019\n",
      "Epoch 86, Batch 13300:  Train cost =  0.3866, Train acc =  0.8945 Val cost =  0.5831, Val acc =  0.7951\n",
      "Epoch 86, Batch 13350:  Train cost =  0.4374, Train acc =  0.8477 Val cost =  0.5959, Val acc =  0.7915\n",
      "Epoch 86, Batch 13400:  Train cost =  0.4575, Train acc =  0.8086 Val cost =  0.6723, Val acc =  0.7637\n",
      "Epoch 87, Batch 13450:  Train cost =  0.4358, Train acc =  0.8477 Val cost =  0.6182, Val acc =  0.7828\n",
      "Epoch 87, Batch 13500:  Train cost =  0.4659, Train acc =  0.8359 Val cost =  0.6336, Val acc =  0.7758\n",
      "Epoch 87, Batch 13550:  Train cost =  0.3953, Train acc =  0.8672 Val cost =  0.5629, Val acc =  0.8014\n",
      "Epoch 88, Batch 13600:  Train cost =  0.4848, Train acc =  0.8164 Val cost =  0.5853, Val acc =  0.7960\n",
      "Epoch 88, Batch 13650:  Train cost =  0.5493, Train acc =  0.7891 Val cost =  0.6100, Val acc =  0.7864\n",
      "Epoch 88, Batch 13700:  Train cost =  0.8854, Train acc =  0.7305 Val cost =  0.8638, Val acc =  0.7112\n",
      "Epoch 89, Batch 13750:  Train cost =  0.4645, Train acc =  0.8359 Val cost =  0.6421, Val acc =  0.7747\n",
      "Epoch 89, Batch 13800:  Train cost =  0.4157, Train acc =  0.8477 Val cost =  0.6846, Val acc =  0.7599\n",
      "Epoch 89, Batch 13850:  Train cost =  0.4313, Train acc =  0.8594 Val cost =  0.5769, Val acc =  0.8001\n",
      "Epoch 90, Batch 13900:  Train cost =  0.3727, Train acc =  0.8672 Val cost =  0.6226, Val acc =  0.7848\n",
      "Epoch 90, Batch 13950:  Train cost =  0.4898, Train acc =  0.8398 Val cost =  0.6230, Val acc =  0.7817\n",
      "Epoch 90, Batch 14000:  Train cost =  0.3966, Train acc =  0.8672 Val cost =  0.6024, Val acc =  0.7869\n",
      "Epoch 91, Batch 14050:  Train cost =  0.6908, Train acc =  0.7422 Val cost =  0.7820, Val acc =  0.7328\n",
      "Epoch 91, Batch 14100:  Train cost =  0.5241, Train acc =  0.8086 Val cost =  0.6660, Val acc =  0.7657\n",
      "Epoch 91, Batch 14150:  Train cost =  0.3882, Train acc =  0.8516 Val cost =  0.5974, Val acc =  0.7906\n",
      "Epoch 92, Batch 14200:  Train cost =  0.3685, Train acc =  0.8828 Val cost =  0.6515, Val acc =  0.7708\n",
      "Epoch 92, Batch 14250:  Train cost =  0.4200, Train acc =  0.8711 Val cost =  0.5626, Val acc =  0.8022\n",
      "Epoch 92, Batch 14300:  Train cost =  0.3838, Train acc =  0.8672 Val cost =  0.5927, Val acc =  0.7935\n",
      "Epoch 92, Batch 14350:  Train cost =  0.4709, Train acc =  0.8242 Val cost =  0.6178, Val acc =  0.7822\n",
      "Epoch 93, Batch 14400:  Train cost =  0.3764, Train acc =  0.8516 Val cost =  0.5769, Val acc =  0.7992\n",
      "Epoch 93, Batch 14450:  Train cost =  0.4895, Train acc =  0.7969 Val cost =  0.6804, Val acc =  0.7659\n",
      "Epoch 93, Batch 14500:  Train cost =  0.5259, Train acc =  0.8203 Val cost =  0.7235, Val acc =  0.7460\n",
      "Epoch 94, Batch 14550:  Train cost =  0.3776, Train acc =  0.8516 Val cost =  0.6097, Val acc =  0.7832\n",
      "Epoch 94, Batch 14600:  Train cost =  0.4086, Train acc =  0.8594 Val cost =  0.6153, Val acc =  0.7839\n",
      "Epoch 94, Batch 14650:  Train cost =  0.4115, Train acc =  0.8438 Val cost =  0.5949, Val acc =  0.7890\n",
      "Epoch 95, Batch 14700:  Train cost =  0.4548, Train acc =  0.8203 Val cost =  0.5677, Val acc =  0.8000\n",
      "Epoch 95, Batch 14750:  Train cost =  0.3829, Train acc =  0.8711 Val cost =  0.5854, Val acc =  0.7930\n",
      "Epoch 95, Batch 14800:  Train cost =  0.5614, Train acc =  0.7930 Val cost =  0.6601, Val acc =  0.7689\n",
      "Epoch 96, Batch 14850:  Train cost =  0.4308, Train acc =  0.8438 Val cost =  0.6150, Val acc =  0.7840\n",
      "Epoch 96, Batch 14900:  Train cost =  0.4506, Train acc =  0.8555 Val cost =  0.6407, Val acc =  0.7767\n",
      "Epoch 96, Batch 14950:  Train cost =  0.3833, Train acc =  0.8633 Val cost =  0.6337, Val acc =  0.7781\n",
      "Epoch 97, Batch 15000:  Train cost =  0.4201, Train acc =  0.8672 Val cost =  0.5980, Val acc =  0.7935\n",
      "Epoch 97, Batch 15050:  Train cost =  0.3612, Train acc =  0.8672 Val cost =  0.5937, Val acc =  0.7902\n",
      "Epoch 97, Batch 15100:  Train cost =  0.3881, Train acc =  0.8672 Val cost =  0.5678, Val acc =  0.8025\n",
      "Epoch 98, Batch 15150:  Train cost =  0.4764, Train acc =  0.8398 Val cost =  0.6577, Val acc =  0.7710\n",
      "Epoch 98, Batch 15200:  Train cost =  0.4276, Train acc =  0.8555 Val cost =  0.5909, Val acc =  0.7940\n",
      "Epoch 98, Batch 15250:  Train cost =  0.3760, Train acc =  0.8555 Val cost =  0.6083, Val acc =  0.7886\n",
      "Epoch 99, Batch 15300:  Train cost =  0.4682, Train acc =  0.8320 Val cost =  0.6006, Val acc =  0.7889\n",
      "Epoch 99, Batch 15350:  Train cost =  0.5422, Train acc =  0.8320 Val cost =  0.7044, Val acc =  0.7598\n",
      "Epoch 99, Batch 15400:  Train cost =  0.4341, Train acc =  0.8438 Val cost =  0.5615, Val acc =  0.8021\n",
      "Epoch 100, Batch 15450:  Train cost =  0.4842, Train acc =  0.8438 Val cost =  0.5728, Val acc =  0.7980\n",
      "Epoch 100, Batch 15500:  Train cost =  0.5416, Train acc =  0.8164 Val cost =  0.7070, Val acc =  0.7572\n",
      "Epoch 100, Batch 15550:  Train cost =  0.3727, Train acc =  0.8906 Val cost =  0.5661, Val acc =  0.8019\n",
      "Epoch 100, Batch 15600:  Train cost =  0.4130, Train acc =  0.8477 Val cost =  0.5913, Val acc =  0.7959\n",
      "Epoch 101, Batch 15650:  Train cost =  0.4628, Train acc =  0.8438 Val cost =  0.6480, Val acc =  0.7726\n",
      "Epoch 101, Batch 15700:  Train cost =  0.3910, Train acc =  0.8633 Val cost =  0.5667, Val acc =  0.8011\n",
      "Epoch 101, Batch 15750:  Train cost =  0.3906, Train acc =  0.8594 Val cost =  0.5843, Val acc =  0.7942\n",
      "Epoch 102, Batch 15800:  Train cost =  0.4223, Train acc =  0.8555 Val cost =  0.5459, Val acc =  0.8062\n",
      "Epoch 102, Batch 15850:  Train cost =  0.4436, Train acc =  0.8555 Val cost =  0.5999, Val acc =  0.7924\n",
      "Epoch 102, Batch 15900:  Train cost =  0.4304, Train acc =  0.8320 Val cost =  0.6747, Val acc =  0.7646\n",
      "Epoch 103, Batch 15950:  Train cost =  0.4443, Train acc =  0.8320 Val cost =  0.5969, Val acc =  0.7929\n",
      "Epoch 103, Batch 16000:  Train cost =  0.3648, Train acc =  0.8828 Val cost =  0.5560, Val acc =  0.8060\n"
     ]
    },
    {
     "name": "stdout",
     "output_type": "stream",
     "text": [
      "Epoch 103, Batch 16050:  Train cost =  0.3694, Train acc =  0.9023 Val cost =  0.5855, Val acc =  0.7957\n",
      "Epoch 104, Batch 16100:  Train cost =  0.4478, Train acc =  0.8398 Val cost =  0.6485, Val acc =  0.7757\n",
      "Epoch 104, Batch 16150:  Train cost =  0.5059, Train acc =  0.8242 Val cost =  0.6793, Val acc =  0.7658\n",
      "Epoch 104, Batch 16200:  Train cost =  0.3914, Train acc =  0.8477 Val cost =  0.6375, Val acc =  0.7750\n",
      "Epoch 105, Batch 16250:  Train cost =  0.4355, Train acc =  0.8477 Val cost =  0.6039, Val acc =  0.7876\n",
      "Epoch 105, Batch 16300:  Train cost =  0.4879, Train acc =  0.8320 Val cost =  0.7094, Val acc =  0.7538\n",
      "Epoch 105, Batch 16350:  Train cost =  0.3778, Train acc =  0.8359 Val cost =  0.5648, Val acc =  0.7995\n",
      "Epoch 106, Batch 16400:  Train cost =  0.3586, Train acc =  0.8828 Val cost =  0.5847, Val acc =  0.7959\n",
      "Epoch 106, Batch 16450:  Train cost =  0.3717, Train acc =  0.8984 Val cost =  0.5833, Val acc =  0.7955\n",
      "Epoch 106, Batch 16500:  Train cost =  0.3732, Train acc =  0.8711 Val cost =  0.5576, Val acc =  0.8051\n",
      "Epoch 107, Batch 16550:  Train cost =  0.3813, Train acc =  0.8828 Val cost =  0.6085, Val acc =  0.7834\n",
      "Epoch 107, Batch 16600:  Train cost =  0.4843, Train acc =  0.8125 Val cost =  0.6978, Val acc =  0.7571\n",
      "Epoch 107, Batch 16650:  Train cost =  0.4014, Train acc =  0.8750 Val cost =  0.6584, Val acc =  0.7699\n",
      "Epoch 108, Batch 16700:  Train cost =  0.3710, Train acc =  0.8594 Val cost =  0.5617, Val acc =  0.8029\n",
      "Epoch 108, Batch 16750:  Train cost =  0.4723, Train acc =  0.8281 Val cost =  0.6799, Val acc =  0.7655\n",
      "Epoch 108, Batch 16800:  Train cost =  0.3862, Train acc =  0.8516 Val cost =  0.6779, Val acc =  0.7659\n",
      "Epoch 109, Batch 16850:  Train cost =  0.4587, Train acc =  0.8438 Val cost =  0.6240, Val acc =  0.7799\n",
      "Epoch 109, Batch 16900:  Train cost =  0.4604, Train acc =  0.8281 Val cost =  0.6353, Val acc =  0.7749\n",
      "Epoch 109, Batch 16950:  Train cost =  0.4670, Train acc =  0.8125 Val cost =  0.6551, Val acc =  0.7708\n",
      "Epoch 109, Batch 17000:  Train cost =  0.3812, Train acc =  0.8594 Val cost =  0.5838, Val acc =  0.7942\n",
      "Epoch 110, Batch 17050:  Train cost =  0.4114, Train acc =  0.8633 Val cost =  0.6330, Val acc =  0.7831\n",
      "Epoch 110, Batch 17100:  Train cost =  0.6140, Train acc =  0.7578 Val cost =  0.7654, Val acc =  0.7362\n",
      "Epoch 110, Batch 17150:  Train cost =  0.5425, Train acc =  0.8242 Val cost =  0.6133, Val acc =  0.7863\n",
      "Epoch 111, Batch 17200:  Train cost =  0.4211, Train acc =  0.8281 Val cost =  0.6057, Val acc =  0.7885\n",
      "Epoch 111, Batch 17250:  Train cost =  0.3852, Train acc =  0.8750 Val cost =  0.6040, Val acc =  0.7869\n",
      "Epoch 111, Batch 17300:  Train cost =  0.4730, Train acc =  0.8359 Val cost =  0.6187, Val acc =  0.7826\n",
      "Epoch 112, Batch 17350:  Train cost =  0.4693, Train acc =  0.8086 Val cost =  0.6183, Val acc =  0.7830\n",
      "Epoch 112, Batch 17400:  Train cost =  0.3828, Train acc =  0.8828 Val cost =  0.5625, Val acc =  0.8013\n",
      "Epoch 112, Batch 17450:  Train cost =  0.3964, Train acc =  0.8516 Val cost =  0.6365, Val acc =  0.7801\n",
      "Epoch 113, Batch 17500:  Train cost =  0.4895, Train acc =  0.8125 Val cost =  0.7072, Val acc =  0.7586\n",
      "Epoch 113, Batch 17550:  Train cost =  0.4686, Train acc =  0.8516 Val cost =  0.6374, Val acc =  0.7774\n",
      "Epoch 113, Batch 17600:  Train cost =  0.4456, Train acc =  0.8633 Val cost =  0.6131, Val acc =  0.7880\n",
      "Epoch 114, Batch 17650:  Train cost =  0.3187, Train acc =  0.9023 Val cost =  0.5509, Val acc =  0.8046\n",
      "Epoch 114, Batch 17700:  Train cost =  0.3153, Train acc =  0.9141 Val cost =  0.5579, Val acc =  0.8045\n",
      "Epoch 114, Batch 17750:  Train cost =  0.5021, Train acc =  0.8516 Val cost =  0.5953, Val acc =  0.7910\n",
      "Epoch 115, Batch 17800:  Train cost =  0.4514, Train acc =  0.8516 Val cost =  0.6674, Val acc =  0.7709\n",
      "Epoch 115, Batch 17850:  Train cost =  0.3321, Train acc =  0.9023 Val cost =  0.5590, Val acc =  0.8015\n",
      "Epoch 115, Batch 17900:  Train cost =  0.2488, Train acc =  0.9062 Val cost =  0.5649, Val acc =  0.8027\n",
      "Epoch 116, Batch 17950:  Train cost =  0.4453, Train acc =  0.8555 Val cost =  0.6449, Val acc =  0.7748\n",
      "Epoch 116, Batch 18000:  Train cost =  0.3736, Train acc =  0.8633 Val cost =  0.5983, Val acc =  0.7939\n",
      "Epoch 116, Batch 18050:  Train cost =  0.4075, Train acc =  0.8633 Val cost =  0.6371, Val acc =  0.7762\n",
      "Epoch 117, Batch 18100:  Train cost =  0.3570, Train acc =  0.8516 Val cost =  0.5708, Val acc =  0.8001\n",
      "Epoch 117, Batch 18150:  Train cost =  0.3797, Train acc =  0.8633 Val cost =  0.5909, Val acc =  0.7942\n",
      "Epoch 117, Batch 18200:  Train cost =  0.4036, Train acc =  0.8594 Val cost =  0.5979, Val acc =  0.7910\n",
      "Epoch 117, Batch 18250:  Train cost =  0.4056, Train acc =  0.8516 Val cost =  0.5700, Val acc =  0.7999\n",
      "Epoch 118, Batch 18300:  Train cost =  0.3798, Train acc =  0.8594 Val cost =  0.5576, Val acc =  0.8060\n",
      "Epoch 118, Batch 18350:  Train cost =  0.2982, Train acc =  0.9023 Val cost =  0.5952, Val acc =  0.7927\n",
      "Epoch 118, Batch 18400:  Train cost =  0.3549, Train acc =  0.8555 Val cost =  0.6638, Val acc =  0.7693\n",
      "Epoch 119, Batch 18450:  Train cost =  0.3741, Train acc =  0.8750 Val cost =  0.6422, Val acc =  0.7775\n",
      "Epoch 119, Batch 18500:  Train cost =  0.3703, Train acc =  0.8789 Val cost =  0.5869, Val acc =  0.7946\n",
      "Epoch 119, Batch 18550:  Train cost =  0.6397, Train acc =  0.7812 Val cost =  0.7844, Val acc =  0.7354\n",
      "Epoch 120, Batch 18600:  Train cost =  0.4195, Train acc =  0.8398 Val cost =  0.6446, Val acc =  0.7739\n",
      "Epoch 120, Batch 18650:  Train cost =  0.3182, Train acc =  0.9023 Val cost =  0.5550, Val acc =  0.8033\n",
      "Epoch 120, Batch 18700:  Train cost =  0.5888, Train acc =  0.8008 Val cost =  0.6859, Val acc =  0.7677\n",
      "Epoch 121, Batch 18750:  Train cost =  0.3876, Train acc =  0.8750 Val cost =  0.5495, Val acc =  0.8056\n",
      "Epoch 121, Batch 18800:  Train cost =  0.3717, Train acc =  0.8711 Val cost =  0.6224, Val acc =  0.7845\n",
      "Epoch 121, Batch 18850:  Train cost =  0.2612, Train acc =  0.9062 Val cost =  0.5330, Val acc =  0.8124\n",
      "Epoch 122, Batch 18900:  Train cost =  0.3842, Train acc =  0.8555 Val cost =  0.5689, Val acc =  0.8057\n",
      "Epoch 122, Batch 18950:  Train cost =  0.4081, Train acc =  0.8398 Val cost =  0.6201, Val acc =  0.7834\n",
      "Epoch 122, Batch 19000:  Train cost =  0.4831, Train acc =  0.8359 Val cost =  0.6488, Val acc =  0.7772\n",
      "Epoch 123, Batch 19050:  Train cost =  0.4164, Train acc =  0.8516 Val cost =  0.6537, Val acc =  0.7751\n",
      "Epoch 123, Batch 19100:  Train cost =  0.5128, Train acc =  0.8164 Val cost =  0.6538, Val acc =  0.7730\n",
      "Epoch 123, Batch 19150:  Train cost =  0.3883, Train acc =  0.8594 Val cost =  0.5866, Val acc =  0.7952\n",
      "Epoch 124, Batch 19200:  Train cost =  0.3330, Train acc =  0.8594 Val cost =  0.6058, Val acc =  0.7915\n",
      "Epoch 124, Batch 19250:  Train cost =  0.3500, Train acc =  0.8672 Val cost =  0.5668, Val acc =  0.8027\n",
      "Epoch 124, Batch 19300:  Train cost =  0.5011, Train acc =  0.8281 Val cost =  0.6908, Val acc =  0.7630\n",
      "Epoch 125, Batch 19350:  Train cost =  0.4020, Train acc =  0.8789 Val cost =  0.6615, Val acc =  0.7728\n",
      "Epoch 125, Batch 19400:  Train cost =  0.2777, Train acc =  0.9023 Val cost =  0.5375, Val acc =  0.8107\n",
      "Epoch 125, Batch 19450:  Train cost =  0.4888, Train acc =  0.8398 Val cost =  0.6799, Val acc =  0.7670\n",
      "Epoch 125, Batch 19500:  Train cost =  0.3600, Train acc =  0.8711 Val cost =  0.5785, Val acc =  0.7991\n",
      "Epoch 126, Batch 19550:  Train cost =  0.3391, Train acc =  0.8789 Val cost =  0.6015, Val acc =  0.7915\n",
      "Epoch 126, Batch 19600:  Train cost =  0.3644, Train acc =  0.8555 Val cost =  0.5751, Val acc =  0.7985\n",
      "Epoch 126, Batch 19650:  Train cost =  0.3550, Train acc =  0.8945 Val cost =  0.5691, Val acc =  0.8033\n",
      "Epoch 127, Batch 19700:  Train cost =  0.3533, Train acc =  0.8945 Val cost =  0.5638, Val acc =  0.8044\n",
      "Epoch 127, Batch 19750:  Train cost =  0.3433, Train acc =  0.8750 Val cost =  0.5737, Val acc =  0.7969\n",
      "Epoch 127, Batch 19800:  Train cost =  0.3587, Train acc =  0.8906 Val cost =  0.5408, Val acc =  0.8089\n",
      "Epoch 128, Batch 19850:  Train cost =  0.5143, Train acc =  0.8320 Val cost =  0.6977, Val acc =  0.7587\n",
      "Epoch 128, Batch 19900:  Train cost =  0.3025, Train acc =  0.9102 Val cost =  0.5906, Val acc =  0.7930\n",
      "Epoch 128, Batch 19950:  Train cost =  0.5260, Train acc =  0.8164 Val cost =  0.6649, Val acc =  0.7692\n"
     ]
    },
    {
     "name": "stdout",
     "output_type": "stream",
     "text": [
      "Epoch 129, Batch 20000:  Train cost =  0.4078, Train acc =  0.8828 Val cost =  0.5947, Val acc =  0.7904\n",
      "Epoch 129, Batch 20050:  Train cost =  0.3436, Train acc =  0.8594 Val cost =  0.6450, Val acc =  0.7776\n",
      "Epoch 129, Batch 20100:  Train cost =  0.4517, Train acc =  0.8477 Val cost =  0.6250, Val acc =  0.7866\n",
      "Epoch 130, Batch 20150:  Train cost =  0.3533, Train acc =  0.8789 Val cost =  0.5649, Val acc =  0.8025\n",
      "Epoch 130, Batch 20200:  Train cost =  0.2958, Train acc =  0.9062 Val cost =  0.5610, Val acc =  0.8029\n",
      "Epoch 130, Batch 20250:  Train cost =  0.3506, Train acc =  0.8438 Val cost =  0.5650, Val acc =  0.8005\n",
      "Epoch 131, Batch 20300:  Train cost =  0.2772, Train acc =  0.9297 Val cost =  0.6115, Val acc =  0.7915\n",
      "Epoch 131, Batch 20350:  Train cost =  0.3629, Train acc =  0.8789 Val cost =  0.5770, Val acc =  0.8001\n",
      "Epoch 131, Batch 20400:  Train cost =  0.2987, Train acc =  0.8828 Val cost =  0.5895, Val acc =  0.7969\n",
      "Epoch 132, Batch 20450:  Train cost =  0.2472, Train acc =  0.9336 Val cost =  0.5436, Val acc =  0.8116\n",
      "Epoch 132, Batch 20500:  Train cost =  0.4535, Train acc =  0.8203 Val cost =  0.6417, Val acc =  0.7823\n",
      "Epoch 132, Batch 20550:  Train cost =  0.3070, Train acc =  0.8867 Val cost =  0.5479, Val acc =  0.8130\n",
      "Epoch 133, Batch 20600:  Train cost =  0.2658, Train acc =  0.9297 Val cost =  0.5236, Val acc =  0.8171\n",
      "Epoch 133, Batch 20650:  Train cost =  0.3964, Train acc =  0.8633 Val cost =  0.6309, Val acc =  0.7822\n",
      "Epoch 133, Batch 20700:  Train cost =  0.3128, Train acc =  0.9023 Val cost =  0.5912, Val acc =  0.7968\n",
      "Epoch 134, Batch 20750:  Train cost =  0.4448, Train acc =  0.8477 Val cost =  0.6327, Val acc =  0.7812\n",
      "Epoch 134, Batch 20800:  Train cost =  0.3810, Train acc =  0.8711 Val cost =  0.6225, Val acc =  0.7845\n",
      "Epoch 134, Batch 20850:  Train cost =  0.3778, Train acc =  0.8633 Val cost =  0.6222, Val acc =  0.7836\n",
      "Epoch 134, Batch 20900:  Train cost =  0.4131, Train acc =  0.8477 Val cost =  0.6209, Val acc =  0.7856\n",
      "Epoch 135, Batch 20950:  Train cost =  0.3061, Train acc =  0.8906 Val cost =  0.5622, Val acc =  0.8048\n",
      "Epoch 135, Batch 21000:  Train cost =  0.3019, Train acc =  0.8867 Val cost =  0.5349, Val acc =  0.8120\n",
      "Epoch 135, Batch 21050:  Train cost =  0.2828, Train acc =  0.8984 Val cost =  0.5476, Val acc =  0.8129\n",
      "Epoch 136, Batch 21100:  Train cost =  0.3304, Train acc =  0.8828 Val cost =  0.5681, Val acc =  0.8078\n",
      "Epoch 136, Batch 21150:  Train cost =  0.3482, Train acc =  0.9062 Val cost =  0.5603, Val acc =  0.8053\n",
      "Epoch 136, Batch 21200:  Train cost =  0.4022, Train acc =  0.8672 Val cost =  0.5689, Val acc =  0.8032\n",
      "Epoch 137, Batch 21250:  Train cost =  0.3989, Train acc =  0.8398 Val cost =  0.5948, Val acc =  0.7930\n",
      "Epoch 137, Batch 21300:  Train cost =  0.3765, Train acc =  0.8750 Val cost =  0.6341, Val acc =  0.7828\n",
      "Epoch 137, Batch 21350:  Train cost =  0.3518, Train acc =  0.8789 Val cost =  0.6690, Val acc =  0.7671\n",
      "Epoch 138, Batch 21400:  Train cost =  0.3552, Train acc =  0.8906 Val cost =  0.5503, Val acc =  0.8104\n",
      "Epoch 138, Batch 21450:  Train cost =  0.3165, Train acc =  0.8906 Val cost =  0.5518, Val acc =  0.8094\n",
      "Epoch 138, Batch 21500:  Train cost =  0.3300, Train acc =  0.8867 Val cost =  0.5430, Val acc =  0.8108\n",
      "Epoch 139, Batch 21550:  Train cost =  0.3100, Train acc =  0.8906 Val cost =  0.5774, Val acc =  0.7994\n",
      "Epoch 139, Batch 21600:  Train cost =  0.2889, Train acc =  0.9180 Val cost =  0.5547, Val acc =  0.8055\n",
      "Epoch 139, Batch 21650:  Train cost =  0.3740, Train acc =  0.8633 Val cost =  0.5377, Val acc =  0.8135\n",
      "Epoch 140, Batch 21700:  Train cost =  0.3030, Train acc =  0.9023 Val cost =  0.5472, Val acc =  0.8127\n",
      "Epoch 140, Batch 21750:  Train cost =  0.2917, Train acc =  0.8984 Val cost =  0.6281, Val acc =  0.7847\n",
      "Epoch 140, Batch 21800:  Train cost =  0.4157, Train acc =  0.8516 Val cost =  0.6407, Val acc =  0.7757\n",
      "Epoch 141, Batch 21850:  Train cost =  0.2507, Train acc =  0.8984 Val cost =  0.5333, Val acc =  0.8156\n",
      "Epoch 141, Batch 21900:  Train cost =  0.2778, Train acc =  0.9062 Val cost =  0.5488, Val acc =  0.8088\n",
      "Epoch 141, Batch 21950:  Train cost =  0.3345, Train acc =  0.8789 Val cost =  0.6192, Val acc =  0.7810\n",
      "Epoch 142, Batch 22000:  Train cost =  0.3098, Train acc =  0.8945 Val cost =  0.5696, Val acc =  0.8029\n",
      "Epoch 142, Batch 22050:  Train cost =  0.4004, Train acc =  0.8516 Val cost =  0.5878, Val acc =  0.7954\n",
      "Epoch 142, Batch 22100:  Train cost =  0.4918, Train acc =  0.8164 Val cost =  0.6581, Val acc =  0.7735\n",
      "Epoch 142, Batch 22150:  Train cost =  0.3439, Train acc =  0.8711 Val cost =  0.6054, Val acc =  0.7912\n",
      "Epoch 143, Batch 22200:  Train cost =  0.3151, Train acc =  0.8906 Val cost =  0.5620, Val acc =  0.8006\n",
      "Epoch 143, Batch 22250:  Train cost =  0.3529, Train acc =  0.8750 Val cost =  0.6042, Val acc =  0.7874\n",
      "Epoch 143, Batch 22300:  Train cost =  0.5225, Train acc =  0.8164 Val cost =  0.7462, Val acc =  0.7492\n",
      "Epoch 144, Batch 22350:  Train cost =  0.3057, Train acc =  0.9219 Val cost =  0.5782, Val acc =  0.8007\n",
      "Epoch 144, Batch 22400:  Train cost =  0.4725, Train acc =  0.8281 Val cost =  0.6916, Val acc =  0.7649\n",
      "Epoch 144, Batch 22450:  Train cost =  0.3750, Train acc =  0.8750 Val cost =  0.6083, Val acc =  0.7888\n",
      "Epoch 145, Batch 22500:  Train cost =  0.2926, Train acc =  0.9180 Val cost =  0.5424, Val acc =  0.8110\n",
      "Epoch 145, Batch 22550:  Train cost =  0.3669, Train acc =  0.8828 Val cost =  0.5458, Val acc =  0.8102\n",
      "Epoch 145, Batch 22600:  Train cost =  0.3300, Train acc =  0.8906 Val cost =  0.5835, Val acc =  0.7976\n",
      "Epoch 146, Batch 22650:  Train cost =  0.3101, Train acc =  0.8867 Val cost =  0.5513, Val acc =  0.8067\n",
      "Epoch 146, Batch 22700:  Train cost =  0.3107, Train acc =  0.9023 Val cost =  0.5899, Val acc =  0.7965\n",
      "Epoch 146, Batch 22750:  Train cost =  0.2772, Train acc =  0.9062 Val cost =  0.5828, Val acc =  0.8016\n",
      "Epoch 147, Batch 22800:  Train cost =  0.5114, Train acc =  0.8359 Val cost =  0.7820, Val acc =  0.7408\n",
      "Epoch 147, Batch 22850:  Train cost =  0.4109, Train acc =  0.8711 Val cost =  0.5553, Val acc =  0.8077\n",
      "Epoch 147, Batch 22900:  Train cost =  0.3723, Train acc =  0.8516 Val cost =  0.6241, Val acc =  0.7829\n",
      "Epoch 148, Batch 22950:  Train cost =  0.3393, Train acc =  0.8789 Val cost =  0.5737, Val acc =  0.7997\n",
      "Epoch 148, Batch 23000:  Train cost =  0.4042, Train acc =  0.8750 Val cost =  0.6217, Val acc =  0.7875\n",
      "Epoch 148, Batch 23050:  Train cost =  0.2958, Train acc =  0.9141 Val cost =  0.6117, Val acc =  0.7884\n",
      "Epoch 149, Batch 23100:  Train cost =  0.3372, Train acc =  0.8672 Val cost =  0.5891, Val acc =  0.7949\n",
      "Epoch 149, Batch 23150:  Train cost =  0.5086, Train acc =  0.8164 Val cost =  0.7065, Val acc =  0.7592\n",
      "Epoch 149, Batch 23200:  Train cost =  0.4157, Train acc =  0.8594 Val cost =  0.5772, Val acc =  0.8021\n",
      "Epoch 150, Batch 23250:  Train cost =  0.3158, Train acc =  0.9062 Val cost =  0.5965, Val acc =  0.7926\n",
      "Epoch 150, Batch 23300:  Train cost =  0.2678, Train acc =  0.9102 Val cost =  0.5373, Val acc =  0.8122\n",
      "Epoch 150, Batch 23350:  Train cost =  0.2840, Train acc =  0.8828 Val cost =  0.5164, Val acc =  0.8180\n",
      "Epoch 150, Batch 23400:  Train cost =  0.2858, Train acc =  0.8984 Val cost =  0.6132, Val acc =  0.7857\n",
      "Epoch 151, Batch 23450:  Train cost =  0.3261, Train acc =  0.8828 Val cost =  0.5318, Val acc =  0.8174\n",
      "Epoch 151, Batch 23500:  Train cost =  0.2931, Train acc =  0.8984 Val cost =  0.5461, Val acc =  0.8125\n",
      "Epoch 151, Batch 23550:  Train cost =  0.2724, Train acc =  0.9180 Val cost =  0.5380, Val acc =  0.8126\n",
      "Epoch 152, Batch 23600:  Train cost =  0.2252, Train acc =  0.9414 Val cost =  0.5576, Val acc =  0.8048\n",
      "Epoch 152, Batch 23650:  Train cost =  0.2945, Train acc =  0.8906 Val cost =  0.5400, Val acc =  0.8127\n",
      "Epoch 152, Batch 23700:  Train cost =  0.4810, Train acc =  0.8281 Val cost =  0.5958, Val acc =  0.7953\n",
      "Epoch 153, Batch 23750:  Train cost =  0.3247, Train acc =  0.8828 Val cost =  0.6036, Val acc =  0.7944\n",
      "Epoch 153, Batch 23800:  Train cost =  0.2411, Train acc =  0.9219 Val cost =  0.5139, Val acc =  0.8220\n",
      "Epoch 153, Batch 23850:  Train cost =  0.2726, Train acc =  0.9023 Val cost =  0.5662, Val acc =  0.8053\n",
      "Epoch 154, Batch 23900:  Train cost =  0.4490, Train acc =  0.8672 Val cost =  0.6070, Val acc =  0.7921\n"
     ]
    },
    {
     "name": "stdout",
     "output_type": "stream",
     "text": [
      "Epoch 154, Batch 23950:  Train cost =  0.4582, Train acc =  0.8281 Val cost =  0.6541, Val acc =  0.7791\n",
      "Epoch 154, Batch 24000:  Train cost =  0.3154, Train acc =  0.8945 Val cost =  0.5482, Val acc =  0.8136\n",
      "Epoch 155, Batch 24050:  Train cost =  0.2763, Train acc =  0.8867 Val cost =  0.5733, Val acc =  0.8012\n",
      "Epoch 155, Batch 24100:  Train cost =  0.4062, Train acc =  0.8477 Val cost =  0.6129, Val acc =  0.7867\n",
      "Epoch 155, Batch 24150:  Train cost =  0.2874, Train acc =  0.9062 Val cost =  0.5441, Val acc =  0.8086\n",
      "Epoch 156, Batch 24200:  Train cost =  0.3144, Train acc =  0.8750 Val cost =  0.5879, Val acc =  0.7955\n",
      "Epoch 156, Batch 24250:  Train cost =  0.3939, Train acc =  0.8750 Val cost =  0.6033, Val acc =  0.7898\n",
      "Epoch 156, Batch 24300:  Train cost =  0.3061, Train acc =  0.8945 Val cost =  0.5633, Val acc =  0.8045\n",
      "Epoch 157, Batch 24350:  Train cost =  0.5165, Train acc =  0.8242 Val cost =  0.6544, Val acc =  0.7808\n",
      "Epoch 157, Batch 24400:  Train cost =  0.2523, Train acc =  0.9219 Val cost =  0.5684, Val acc =  0.8038\n",
      "Epoch 157, Batch 24450:  Train cost =  0.4386, Train acc =  0.8359 Val cost =  0.6982, Val acc =  0.7646\n",
      "Epoch 158, Batch 24500:  Train cost =  0.3212, Train acc =  0.8984 Val cost =  0.5831, Val acc =  0.7971\n",
      "Epoch 158, Batch 24550:  Train cost =  0.2967, Train acc =  0.8906 Val cost =  0.5935, Val acc =  0.7945\n",
      "Epoch 158, Batch 24600:  Train cost =  0.2840, Train acc =  0.9023 Val cost =  0.5626, Val acc =  0.8030\n",
      "Epoch 159, Batch 24650:  Train cost =  0.3029, Train acc =  0.8945 Val cost =  0.5507, Val acc =  0.8076\n",
      "Epoch 159, Batch 24700:  Train cost =  0.2946, Train acc =  0.9023 Val cost =  0.5498, Val acc =  0.8077\n",
      "Epoch 159, Batch 24750:  Train cost =  0.2856, Train acc =  0.8945 Val cost =  0.5501, Val acc =  0.8115\n",
      "Epoch 159, Batch 24800:  Train cost =  0.3421, Train acc =  0.8789 Val cost =  0.5380, Val acc =  0.8127\n",
      "Epoch 160, Batch 24850:  Train cost =  0.3275, Train acc =  0.8789 Val cost =  0.5627, Val acc =  0.8015\n",
      "Epoch 160, Batch 24900:  Train cost =  0.3434, Train acc =  0.9023 Val cost =  0.5907, Val acc =  0.7987\n",
      "Epoch 160, Batch 24950:  Train cost =  0.3239, Train acc =  0.8789 Val cost =  0.6145, Val acc =  0.7882\n"
     ]
    }
   ],
   "source": [
    "session.run(tf.global_variables_initializer())\n",
    "\n",
    "batch_count = 0\n",
    "info = {'train_cost':[], 'train_acc':[], 'valid_cost':[], 'valid_acc':[]}\n",
    "for epoch in range(epochs):\n",
    "    mini_batches = prepare_mini_batches(train_data_norm, train_labels_ohe, batch_size)\n",
    "\n",
    "    while mini_batches:\n",
    "        data_batch, label_batch = mini_batches.pop()\n",
    "        batch_count += 1\n",
    "\n",
    "        session.run(optimizer, feed_dict={inputs: data_batch, \n",
    "                                          targets: label_batch,\n",
    "                                          keep_prob: keep_probability,\n",
    "                                          is_training: True})\n",
    "        if (batch_count % 50) == 0:\n",
    "            train_cost = session.run(cost, feed_dict={\n",
    "                    inputs: data_batch, targets: label_batch, keep_prob: 1. ,is_training: False})\n",
    "\n",
    "            train_acc = session.run(accuracy, feed_dict={\n",
    "                inputs: data_batch, targets: label_batch, keep_prob: 1., is_training: False})\n",
    "\n",
    "            info[\"train_cost\"].append(train_cost)\n",
    "            info[\"train_acc\"].append(train_acc)\n",
    "\n",
    "            valid_cost = session.run(cost, feed_dict={\n",
    "                inputs: val_data_norm, targets: val_labels_ohe, keep_prob: 1., is_training: False})\n",
    "\n",
    "            valid_acc = session.run(accuracy, feed_dict={\n",
    "                inputs: val_data_norm, targets: val_labels_ohe, keep_prob: 1., is_training: False})\n",
    "\n",
    "            info[\"valid_cost\"].append(valid_cost)\n",
    "            info[\"valid_acc\"].append(valid_acc)\n",
    "\n",
    "            print('Epoch {}, Batch {}:  '.format(epoch + 1, batch_count), end='')\n",
    "            print(\"Train cost = \", \"{:.4f},\".format(train_cost), \n",
    "                  \"Train acc = \", \"{:.4f}\".format(train_acc),\n",
    "                  \"Val cost = \", \"{:.4f},\".format(valid_cost), \n",
    "                  \"Val acc = \", \"{:.4f}\".format(valid_acc))"
   ]
  },
  {
   "cell_type": "markdown",
   "metadata": {},
   "source": [
    "#### Results"
   ]
  },
  {
   "cell_type": "code",
   "execution_count": 29,
   "metadata": {},
   "outputs": [
    {
     "data": {
      "image/png": "[encoded data removed]",
      "text/plain": [
       "<matplotlib.figure.Figure at 0x112ab8550>"
      ]
     },
     "metadata": {},
     "output_type": "display_data"
    }
   ],
   "source": [
    "fig1 = plt.figure()\n",
    "ax1 = fig1.add_subplot(111)\n",
    "ax1.plot(info['train_acc'], label='Training acc')\n",
    "ax1.plot(info['valid_acc'], label='Validation acc')\n",
    "blue_patch = mpatches.Patch(color='#699cef', label='Training accuracy')\n",
    "orange_patch = mpatches.Patch(color='orange', label='Validation accuracy')\n",
    "ax1.legend(handles=[blue_patch, orange_patch])\n",
    "plt.show()"
   ]
  },
  {
   "cell_type": "code",
   "execution_count": 30,
   "metadata": {},
   "outputs": [
    {
     "data": {
      "image/png": "[encoded data removed]",
      "text/plain": [
       "<matplotlib.figure.Figure at 0x12bf3cac8>"
      ]
     },
     "metadata": {},
     "output_type": "display_data"
    }
   ],
   "source": [
    "fig1 = plt.figure()\n",
    "ax2 = fig1.add_subplot(111)\n",
    "ax2.plot(info['train_cost'], label='Training loss')\n",
    "ax2.plot(info['valid_cost'], label='Validation loss')\n",
    "blue_patch = mpatches.Patch(color='#699cef', label='Training cross-entropy')\n",
    "orange_patch = mpatches.Patch(color='orange', label='Validation cross-entropy')\n",
    "ax2.legend(handles=[blue_patch, orange_patch])\n",
    "plt.show()"
   ]
  },
  {
   "cell_type": "markdown",
   "metadata": {},
   "source": [
    "#### Test accuracy"
   ]
  },
  {
   "cell_type": "code",
   "execution_count": 31,
   "metadata": {},
   "outputs": [
    {
     "name": "stdout",
     "output_type": "stream",
     "text": [
      "Test data accuracy: 0.8003\n"
     ]
    }
   ],
   "source": [
    "test_acc = session.run(accuracy, feed_dict={\n",
    "    inputs: test_data_norm, targets: test_labels_ohe, keep_prob: 1., is_training: False})\n",
    "print(\"Test data accuracy: \" + str(test_acc))"
   ]
  },
  {
   "cell_type": "code",
   "execution_count": 32,
   "metadata": {
    "collapsed": true
   },
   "outputs": [],
   "source": [
    "session.close()"
   ]
  }
 ],
 "metadata": {
  "kernelspec": {
   "display_name": "Python 3",
   "language": "python",
   "name": "python3"
  },
  "language_info": {
   "codemirror_mode": {
    "name": "ipython",
    "version": 3
   },
   "file_extension": ".py",
   "mimetype": "text/x-python",
   "name": "python",
   "nbconvert_exporter": "python",
   "pygments_lexer": "ipython3",
   "version": "3.6.1"
  }
 },
 "nbformat": 4,
 "nbformat_minor": 2
}
