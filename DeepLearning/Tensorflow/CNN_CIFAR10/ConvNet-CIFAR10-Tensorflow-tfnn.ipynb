{
 "cells": [
  {
   "cell_type": "code",
   "execution_count": 1,
   "metadata": {
    "collapsed": true
   },
   "outputs": [],
   "source": [
    "import os\n",
    "import tarfile\n",
    "import numpy as np\n",
    "import pickle\n",
    "import random\n",
    "import matplotlib.pyplot as plt\n",
    "import matplotlib.patches as mpatches\n",
    "import tensorflow as tf\n",
    "from urllib.request import urlretrieve\n",
    "from tqdm import tqdm"
   ]
  },
  {
   "cell_type": "code",
   "execution_count": 2,
   "metadata": {
    "collapsed": true
   },
   "outputs": [],
   "source": [
    "%matplotlib inline"
   ]
  },
  {
   "cell_type": "markdown",
   "metadata": {},
   "source": [
    "#### Dataset info"
   ]
  },
  {
   "cell_type": "markdown",
   "metadata": {},
   "source": [
    "CIFAR-10 is a dataset of 60 000 32x32 colour images, collected by Alex Krizhevsky, Vinod Nair, and Geoffrey Hinton. There are 10 different classes with 6000 images per class:\n",
    "\n",
    "- airplane\n",
    "- automobile\n",
    "- bird\n",
    "- cat\n",
    "- deer\n",
    "- dog\n",
    "- frog\n",
    "- horse\n",
    "- ship\n",
    "- truck\n",
    "\n",
    "Dataset is divided into 5 batches with the following naming convention 'data_batch_1', 'data_batch_2' and so on..."
   ]
  },
  {
   "cell_type": "code",
   "execution_count": 3,
   "metadata": {
    "collapsed": true
   },
   "outputs": [],
   "source": [
    "#: https://www.cs.toronto.edu/~kriz/cifar.html\n",
    "DATA_URL = \"https://www.cs.toronto.edu/~kriz/cifar-10-python.tar.gz\"\n",
    "TARG_TZ_FILEPATH = \"./cifar-10-python.tar.gz\"\n",
    "CIFAR10_FILES_FOLDER = './cifar-10-batches-py/'\n",
    "\n",
    "TRAIN_BATCH_FILES = [\n",
    "    \"data_batch_1\",\n",
    "    \"data_batch_2\",\n",
    "    \"data_batch_3\",\n",
    "    \"data_batch_4\",\n",
    "    \"data_batch_5\"\n",
    "]\n",
    "\n",
    "TEST_BATCH_FILE = \"test_batch\"\n",
    "\n",
    "LABELS = ['airplane', 'automobile', 'bird', 'cat', 'deer', 'dog', 'frog', 'horse', 'ship', 'truck']\n",
    "NUM_CLASSES = 10\n",
    "\n",
    "MAX_PIXEL_VALUE = 255\n",
    "IMAGE_WIDTH = 32\n",
    "IMAGE_HEIGHT = 32\n",
    "CHANNELS = 3\n",
    "\n",
    "DATA_I = 0\n",
    "LABELS_I = 1"
   ]
  },
  {
   "cell_type": "markdown",
   "metadata": {},
   "source": [
    "#### Download dataset"
   ]
  },
  {
   "cell_type": "code",
   "execution_count": 4,
   "metadata": {
    "collapsed": true
   },
   "outputs": [],
   "source": [
    "class DLProgress(tqdm):\n",
    "    last_block = 0\n",
    "\n",
    "    def hook(self, block_num=1, block_size=1, total_size=None):\n",
    "        self.total = total_size\n",
    "        self.update((block_num - self.last_block) * block_size)\n",
    "        self.last_block = block_num\n",
    "\n",
    "if not os.path.isfile(TARG_TZ_FILEPATH):\n",
    "    with DLProgress(unit=\"B\", unit_scale=True, miniters=1, desc=\"CIFAR-10\") as pbar:\n",
    "        urlretrieve(DATA_URL, TARG_TZ_FILEPATH, pbar.hook)"
   ]
  },
  {
   "cell_type": "markdown",
   "metadata": {},
   "source": [
    "#### Exctracting data"
   ]
  },
  {
   "cell_type": "markdown",
   "metadata": {},
   "source": [
    "- Unpacking"
   ]
  },
  {
   "cell_type": "code",
   "execution_count": 5,
   "metadata": {
    "collapsed": true
   },
   "outputs": [],
   "source": [
    "if not os.path.isdir(CIFAR10_FILES_FOLDER):\n",
    "    with tarfile.open(TARG_TZ_FILEPATH) as tar:\n",
    "        tar.extractall()\n",
    "        tar.close()"
   ]
  },
  {
   "cell_type": "markdown",
   "metadata": {},
   "source": [
    "- Loading train batches"
   ]
  },
  {
   "cell_type": "code",
   "execution_count": 6,
   "metadata": {
    "collapsed": true
   },
   "outputs": [],
   "source": [
    "train_batches = list()\n",
    "\n",
    "for batch_file in TRAIN_BATCH_FILES: \n",
    "    with open(CIFAR10_FILES_FOLDER + batch_file, mode='rb') as file:\n",
    "        batch = pickle.load(file, encoding='latin1')\n",
    "        \n",
    "        # array of 10000 * 1 length\n",
    "        labels = batch['labels']\n",
    "        \n",
    "        # all channels in single 10000 * 3072 length array\n",
    "        batch_data = batch['data']\n",
    "        \n",
    "        # reshaping to 10000 * 3 * 32 * 32\n",
    "        data = batch_data.reshape((len(batch_data), CHANNELS, IMAGE_WIDTH, IMAGE_HEIGHT))\n",
    "        \n",
    "        # fix indexing\n",
    "        data = data.transpose(0, 2, 3, 1)\n",
    "  \n",
    "        train_batches.append((data, labels))"
   ]
  },
  {
   "cell_type": "markdown",
   "metadata": {},
   "source": [
    "- Load test batch"
   ]
  },
  {
   "cell_type": "code",
   "execution_count": 7,
   "metadata": {
    "collapsed": true
   },
   "outputs": [],
   "source": [
    "test_batch = None\n",
    "\n",
    "with open(CIFAR10_FILES_FOLDER + TEST_BATCH_FILE, mode='rb') as file:\n",
    "        batch = pickle.load(file, encoding='latin1')\n",
    "        \n",
    "        # array of 10000 * 1 length\n",
    "        labels = batch['labels']\n",
    "        \n",
    "         # all channels in single 10000 * 3072 length array\n",
    "        batch_data = batch['data']\n",
    "        \n",
    "        # reshaping to 10000 * 3 * 32 * 32\n",
    "        data = batch_data.reshape((len(batch_data), CHANNELS, IMAGE_WIDTH, IMAGE_HEIGHT))\n",
    "        \n",
    "        # fix indexing\n",
    "        data = data.transpose(0, 2, 3, 1)\n",
    "        \n",
    "        test_batch = (data, labels)"
   ]
  },
  {
   "cell_type": "markdown",
   "metadata": {},
   "source": [
    "#### Present extracted dataset"
   ]
  },
  {
   "cell_type": "code",
   "execution_count": 8,
   "metadata": {
    "collapsed": true
   },
   "outputs": [],
   "source": [
    "def present_batch(batch, batch_index):\n",
    "    features, labels = batch \n",
    "    print(\"Batch no.\" + str(batch_index))\n",
    "    print(\"    - Samples in batch: \" + str(len(features)))\n",
    "    print(\"    - Labels num: \" + str(dict(zip(*np.unique(labels, return_counts=True)))))\n",
    "    \n",
    "def present_sample(batch, sample_id):\n",
    "    features, labels = batch \n",
    "    \n",
    "    sample_image = features[sample_id]\n",
    "    sample_label = labels[sample_id]\n",
    "    \n",
    "    print(\"Sample no.\" + str(sample_id))\n",
    "    print(\"    - Min Value: {} Max Value: {}\".format(sample_image.min(), sample_image.max()))\n",
    "    print(\"    - Shape: {}\".format(sample_image.shape))\n",
    "    print(\"    - Label - Label Id: {} Name: {}\".format(sample_label, LABELS[sample_label]))\n",
    "    \n",
    "    plt.axis('off')\n",
    "    plt.imshow(sample_image)"
   ]
  },
  {
   "cell_type": "code",
   "execution_count": 9,
   "metadata": {
    "scrolled": true
   },
   "outputs": [
    {
     "name": "stdout",
     "output_type": "stream",
     "text": [
      "Batch no.0\n",
      "    - Samples in batch: 10000\n",
      "    - Labels num: {0: 1005, 1: 974, 2: 1032, 3: 1016, 4: 999, 5: 937, 6: 1030, 7: 1001, 8: 1025, 9: 981}\n",
      "Batch no.1\n",
      "    - Samples in batch: 10000\n",
      "    - Labels num: {0: 984, 1: 1007, 2: 1010, 3: 995, 4: 1010, 5: 988, 6: 1008, 7: 1026, 8: 987, 9: 985}\n",
      "Batch no.2\n",
      "    - Samples in batch: 10000\n",
      "    - Labels num: {0: 994, 1: 1042, 2: 965, 3: 997, 4: 990, 5: 1029, 6: 978, 7: 1015, 8: 961, 9: 1029}\n",
      "Batch no.3\n",
      "    - Samples in batch: 10000\n",
      "    - Labels num: {0: 1003, 1: 963, 2: 1041, 3: 976, 4: 1004, 5: 1021, 6: 1004, 7: 981, 8: 1024, 9: 983}\n",
      "Batch no.4\n",
      "    - Samples in batch: 10000\n",
      "    - Labels num: {0: 1014, 1: 1014, 2: 952, 3: 1016, 4: 997, 5: 1025, 6: 980, 7: 977, 8: 1003, 9: 1022}\n"
     ]
    }
   ],
   "source": [
    "for index, batch in enumerate(train_batches):\n",
    "    present_batch(batch, index)"
   ]
  },
  {
   "cell_type": "code",
   "execution_count": 10,
   "metadata": {},
   "outputs": [
    {
     "name": "stdout",
     "output_type": "stream",
     "text": [
      "Sample no.7164\n",
      "    - Min Value: 26 Max Value: 246\n",
      "    - Shape: (32, 32, 3)\n",
      "    - Label - Label Id: 5 Name: dog\n"
     ]
    },
    {
     "data": {
      "image/png": "[encoded data removed]",
      "text/plain": [
       "<matplotlib.figure.Figure at 0x11ac8ec50>"
      ]
     },
     "metadata": {},
     "output_type": "display_data"
    }
   ],
   "source": [
    "present_sample(train_batches[0], 7164)"
   ]
  },
  {
   "cell_type": "markdown",
   "metadata": {},
   "source": [
    "#### Split data into train, val , test sets"
   ]
  },
  {
   "cell_type": "markdown",
   "metadata": {},
   "source": [
    "- data is already shuffled"
   ]
  },
  {
   "cell_type": "markdown",
   "metadata": {},
   "source": [
    "- concat all batches together"
   ]
  },
  {
   "cell_type": "code",
   "execution_count": 11,
   "metadata": {
    "collapsed": true
   },
   "outputs": [],
   "source": [
    "train_data = list()\n",
    "train_labels = list()\n",
    "for batch in train_batches:\n",
    "    for data, label in zip(batch[DATA_I], batch[LABELS_I]):\n",
    "        train_data.append(data)\n",
    "        train_labels.append(label)\n",
    "assert len(train_data) == len(train_labels)\n",
    "        \n",
    "test_data = list()\n",
    "test_labels = list()\n",
    "for data, label in zip(test_batch[DATA_I], test_batch[LABELS_I]):\n",
    "    test_data.append(data)\n",
    "    test_labels.append(label)\n",
    "assert len(test_data) == len(test_labels)"
   ]
  },
  {
   "cell_type": "markdown",
   "metadata": {},
   "source": [
    "- split data"
   ]
  },
  {
   "cell_type": "code",
   "execution_count": 12,
   "metadata": {
    "collapsed": true
   },
   "outputs": [],
   "source": [
    "split_ratio = 0.2\n",
    "split_index = int(len(train_data) * split_ratio)\n",
    "\n",
    "val_data = train_data[:split_index]\n",
    "val_labels = train_labels[:split_index]\n",
    "\n",
    "train_data = train_data[split_index:]\n",
    "train_labels = train_labels[split_index:]"
   ]
  },
  {
   "cell_type": "code",
   "execution_count": 13,
   "metadata": {},
   "outputs": [
    {
     "name": "stdout",
     "output_type": "stream",
     "text": [
      "Train samples: 40000\n",
      "Validation samples: 10000\n",
      "Test samples: 10000\n"
     ]
    }
   ],
   "source": [
    "print(\"Train samples: \" + str(len(train_data)))\n",
    "print(\"Validation samples: \" + str(len(val_data)))\n",
    "print(\"Test samples: \" + str(len(test_data)))"
   ]
  },
  {
   "cell_type": "markdown",
   "metadata": {},
   "source": [
    "#### Preprocess data"
   ]
  },
  {
   "cell_type": "code",
   "execution_count": 14,
   "metadata": {
    "collapsed": true
   },
   "outputs": [],
   "source": [
    "def normalize(data):\n",
    "    return data / MAX_PIXEL_VALUE\n",
    "\n",
    "def ohe_label(label):\n",
    "    labels_num = len(LABELS)\n",
    "  \n",
    "    encoding_array = np.zeros([labels_num])  \n",
    "    encoding_array[label] = 1\n",
    "        \n",
    "    return encoding_array"
   ]
  },
  {
   "cell_type": "code",
   "execution_count": 15,
   "metadata": {
    "collapsed": true
   },
   "outputs": [],
   "source": [
    "train_data_norm = [normalize(data) for data in train_data]\n",
    "train_labels_ohe = [ohe_label(label) for label in train_labels]\n",
    "\n",
    "val_data_norm = [normalize(data) for data in val_data]\n",
    "val_labels_ohe = [ohe_label(label) for label in val_labels]\n",
    "\n",
    "test_data_norm = [normalize(data) for data in test_data]\n",
    "test_labels_ohe = [ohe_label(label) for label in test_labels]"
   ]
  },
  {
   "cell_type": "code",
   "execution_count": 16,
   "metadata": {},
   "outputs": [
    {
     "name": "stdout",
     "output_type": "stream",
     "text": [
      "Sample no.7124\n",
      "    - Min Value: 0.00784313725490196 Max Value: 0.9137254901960784\n",
      "    - Label: [ 0.  0.  0.  1.  0.  0.  0.  0.  0.  0.]\n"
     ]
    }
   ],
   "source": [
    "sample_to_inspect = 7124\n",
    "sample = train_data_norm[sample_to_inspect]\n",
    "label = train_labels_ohe[sample_to_inspect]\n",
    "print(\"Sample no.\" + str(sample_to_inspect))\n",
    "print(\"    - Min Value: {} Max Value: {}\".format(sample.min(), sample.max()))\n",
    "print(\"    - Label: \" + str(label))"
   ]
  },
  {
   "cell_type": "markdown",
   "metadata": {},
   "source": [
    "#### Building ConvNet - parts"
   ]
  },
  {
   "cell_type": "code",
   "execution_count": 17,
   "metadata": {
    "collapsed": true
   },
   "outputs": [],
   "source": [
    "def conv_net_image_input(image_width, image_height, channels):\n",
    "    return tf.placeholder(tf.float32, shape=[None, image_width, image_height, channels], name='inputs')"
   ]
  },
  {
   "cell_type": "code",
   "execution_count": 18,
   "metadata": {
    "collapsed": true
   },
   "outputs": [],
   "source": [
    "def conv_net_label_input(n_classes):\n",
    "    return tf.placeholder(tf.float32, shape=[None, n_classes], name='labels')"
   ]
  },
  {
   "cell_type": "code",
   "execution_count": 19,
   "metadata": {
    "collapsed": true
   },
   "outputs": [],
   "source": [
    "def conv_net_keep_prob_input():\n",
    "    return tf.placeholder(tf.float32, name=\"keep_prob\")"
   ]
  },
  {
   "cell_type": "code",
   "execution_count": 20,
   "metadata": {
    "collapsed": true
   },
   "outputs": [],
   "source": [
    "def conv2d(tensor, layers, kernel_size, strides, activation,\n",
    "           weights_init_mean=0.0, weights_init_stddev=0.08, padding=\"SAME\"):\n",
    "    \n",
    "    weights_shape = (kernel_size[0], kernel_size[1], int(tensor.get_shape()[3]), layers)\n",
    "    weights = tf.Variable(tf.truncated_normal(weights_shape, mean=weights_init_mean, stddev=weights_init_stddev))\n",
    "    \n",
    "    bias_shape = [layers]\n",
    "    bias = tf.Variable(tf.truncated_normal(bias_shape, mean=weights_init_mean, stddev=weights_init_stddev))\n",
    "    \n",
    "    conv = tf.nn.conv2d(tensor, weights, strides=strides, padding=padding)\n",
    "    conv_with_bias = tf.nn.bias_add(conv, bias)\n",
    "    \n",
    "    return activation(conv_with_bias)"
   ]
  },
  {
   "cell_type": "code",
   "execution_count": 21,
   "metadata": {
    "collapsed": true
   },
   "outputs": [],
   "source": [
    "def max_pool(tensor, kernel, strides, padding=\"SAME\"):\n",
    "    return tf.nn.max_pool(tensor, ksize=kernel, strides=strides, padding=padding)"
   ]
  },
  {
   "cell_type": "code",
   "execution_count": 22,
   "metadata": {
    "collapsed": true
   },
   "outputs": [],
   "source": [
    "def flatten(tensor):\n",
    "    conv_output_shape = tensor.get_shape().as_list()\n",
    "    return tf.reshape(tensor, [-1, conv_output_shape[1] * conv_output_shape[2] * conv_output_shape[3]])"
   ]
  },
  {
   "cell_type": "code",
   "execution_count": 23,
   "metadata": {
    "collapsed": true
   },
   "outputs": [],
   "source": [
    "def fully_conn(tensor, layer_size, activation, weights_init_mean=0.0, weights_init_stddev=0.08):\n",
    "    weights_shape = (int(tensor.get_shape()[1]), layer_size)\n",
    "    weights = tf.Variable(tf.truncated_normal(weights_shape, mean=weights_init_mean, stddev=weights_init_stddev)) \n",
    "    \n",
    "    bias_shape = [layer_size]\n",
    "    bias = tf.Variable(tf.truncated_normal(bias_shape, mean=weights_init_mean, stddev=weights_init_stddev))\n",
    "    layer = tf.nn.bias_add(tf.matmul(tensor, weights), bias)    \n",
    "    \n",
    "    return activation(layer)"
   ]
  },
  {
   "cell_type": "code",
   "execution_count": 24,
   "metadata": {
    "collapsed": true
   },
   "outputs": [],
   "source": [
    "def output(tensor, layer_size, weights_init_mean=0.0, weights_init_stddev=0.08):\n",
    "    weights_size = (int(tensor.get_shape()[1]), layer_size)\n",
    "    weights = tf.Variable(tf.truncated_normal(weights_size, mean=weights_init_mean, stddev=weights_init_stddev)) \n",
    "    \n",
    "    bias_shape = [layer_size]\n",
    "    bias = tf.Variable(tf.truncated_normal(bias_shape, mean=weights_init_mean, stddev=weights_init_stddev))\n",
    "    output_layer = tf.nn.bias_add(tf.matmul(tensor, weights), bias)    \n",
    "    \n",
    "    return output_layer"
   ]
  },
  {
   "cell_type": "code",
   "execution_count": 25,
   "metadata": {
    "collapsed": true
   },
   "outputs": [],
   "source": [
    "def conv_net(x, keep_prob):   \n",
    "    kernel_size_3x3 = 3, 3\n",
    "    kernel_size_2x2 = [1, 2, 2, 1]\n",
    "    strides_1x1x1x1 = [1, 1, 1, 1]\n",
    "    strides_1x2x2x1 = [1, 2, 2, 1]\n",
    "    \n",
    "    # Conv Layer - 1, Input 32x32x3 -> MaxPool 2x2 -> Dropout -> Output 16x16x32\n",
    "    conv1_layer = conv2d(x, 32, kernel_size_3x3, strides_1x1x1x1, tf.nn.elu)\n",
    "    conv1_layer_mpool = max_pool(conv1_layer, kernel_size_2x2, strides_1x2x2x1)\n",
    "    conv1_layer_dropout = tf.nn.dropout(conv1_layer_mpool, keep_prob)\n",
    "    \n",
    "    # Conv Layer - 2, Input 16x16x32 -> MaxPool 2x2 -> Dropout -> Output 8x8x32\n",
    "    conv2_layer = conv2d(conv1_layer_dropout, 32, kernel_size_3x3, strides_1x1x1x1, tf.nn.elu)\n",
    "    conv2_layer_mpool = max_pool(conv2_layer, kernel_size_2x2, strides_1x2x2x1)\n",
    "    conv2_layer_dropout = tf.nn.dropout(conv2_layer_mpool, keep_prob)\n",
    "    \n",
    "    # Conv Layer - 3, Input 8x8x32 -> MaxPool 2x2 -> Dropout -> Output 4x4x64\n",
    "    conv3_layer = conv2d(conv2_layer_dropout, 64, kernel_size_3x3, strides_1x1x1x1, tf.nn.elu)\n",
    "    conv3_layer_mpool = max_pool(conv3_layer, kernel_size_2x2, strides_1x2x2x1)\n",
    "    conv3_layer_dropout = tf.nn.dropout(conv3_layer_mpool, keep_prob)\n",
    "    \n",
    "    # Dense Layer - 1, Size 384 -> Dropout\n",
    "    flatten_conv_output = flatten(conv3_layer_dropout)\n",
    "    con1_layer = fully_conn(flatten_conv_output, 384, tf.nn.elu)\n",
    "    con1_layer_dropout = tf.nn.dropout(con1_layer, keep_prob)\n",
    "    \n",
    "    # Dense Layer - 2, Size 128 -> Dropout\n",
    "    con2_layer = fully_conn(con1_layer_dropout, 128, tf.nn.elu)\n",
    "    con2_layer_dropout = tf.nn.dropout(con2_layer, keep_prob)\n",
    "\n",
    "    return output(con2_layer_dropout, NUM_CLASSES)"
   ]
  },
  {
   "cell_type": "markdown",
   "metadata": {},
   "source": [
    "#### Batch utils"
   ]
  },
  {
   "cell_type": "code",
   "execution_count": 26,
   "metadata": {
    "collapsed": true
   },
   "outputs": [],
   "source": [
    "def prepare_mini_batches(data, labels, batch_size):\n",
    "    assert len(data) == len(labels)\n",
    "    \n",
    "    all_batches = list()\n",
    "    for i in range(0, len(data)):\n",
    "        all_batches.append((data[i], labels[i]))\n",
    "    random.shuffle(all_batches)\n",
    "        \n",
    "    mini_batches = list()\n",
    "    while len(all_batches) >= batch_size:\n",
    "        \n",
    "        data_batch = list()\n",
    "        labels_batch = list()\n",
    "        for j in range(0, batch_size):\n",
    "            data, labels = all_batches.pop()\n",
    "            data_batch.append(data)\n",
    "            labels_batch.append(labels)\n",
    "            \n",
    "        mini_batches.append((np.array(data_batch), np.array(labels_batch)))\n",
    "    \n",
    "    return mini_batches"
   ]
  },
  {
   "cell_type": "markdown",
   "metadata": {},
   "source": [
    "#### Building ConvNet - assemble"
   ]
  },
  {
   "cell_type": "markdown",
   "metadata": {},
   "source": [
    "- Reset Tensorflow graph"
   ]
  },
  {
   "cell_type": "code",
   "execution_count": 27,
   "metadata": {
    "collapsed": true
   },
   "outputs": [],
   "source": [
    "tf.reset_default_graph()"
   ]
  },
  {
   "cell_type": "markdown",
   "metadata": {},
   "source": [
    "- Assemble model"
   ]
  },
  {
   "cell_type": "code",
   "execution_count": 28,
   "metadata": {
    "collapsed": true,
    "scrolled": false
   },
   "outputs": [],
   "source": [
    "inputs = conv_net_image_input(IMAGE_WIDTH, IMAGE_HEIGHT, CHANNELS)\n",
    "targets = conv_net_label_input(NUM_CLASSES)\n",
    "keep_prob = conv_net_keep_prob_input()\n",
    "\n",
    "model = conv_net(inputs, keep_prob)"
   ]
  },
  {
   "cell_type": "markdown",
   "metadata": {},
   "source": [
    "- Cost function, training optimizer, correct predictions, accuracy"
   ]
  },
  {
   "cell_type": "code",
   "execution_count": 29,
   "metadata": {
    "collapsed": true
   },
   "outputs": [],
   "source": [
    "cost = tf.reduce_mean(tf.nn.softmax_cross_entropy_with_logits(logits=model, labels=targets))\n",
    "optimizer = tf.train.AdamOptimizer().minimize(cost)\n",
    "correct_pred = tf.equal(tf.argmax(model, 1), tf.argmax(targets, 1))\n",
    "accuracy = tf.reduce_mean(tf.cast(correct_pred, tf.float32), name='accuracy')"
   ]
  },
  {
   "cell_type": "markdown",
   "metadata": {},
   "source": [
    "#### Hyperparameters"
   ]
  },
  {
   "cell_type": "code",
   "execution_count": 30,
   "metadata": {
    "collapsed": true
   },
   "outputs": [],
   "source": [
    "epochs = 110\n",
    "batch_size = 256\n",
    "keep_probability = 0.65"
   ]
  },
  {
   "cell_type": "markdown",
   "metadata": {},
   "source": [
    "#### Training cycle"
   ]
  },
  {
   "cell_type": "code",
   "execution_count": 31,
   "metadata": {
    "collapsed": true
   },
   "outputs": [],
   "source": [
    "session = tf.Session()"
   ]
  },
  {
   "cell_type": "code",
   "execution_count": 32,
   "metadata": {
    "scrolled": false
   },
   "outputs": [
    {
     "name": "stdout",
     "output_type": "stream",
     "text": [
      "Epoch 1, Batch 50:  Train cost =  1.9324, Train acc =  0.2891 Val cost =  1.9443, Val acc =  0.2615\n",
      "Epoch 1, Batch 100:  Train cost =  1.6951, Train acc =  0.3867 Val cost =  1.7297, Val acc =  0.3545\n",
      "Epoch 1, Batch 150:  Train cost =  1.9492, Train acc =  0.2852 Val cost =  1.9246, Val acc =  0.3050\n",
      "Epoch 2, Batch 200:  Train cost =  1.9677, Train acc =  0.3516 Val cost =  1.9926, Val acc =  0.3209\n",
      "Epoch 2, Batch 250:  Train cost =  1.6036, Train acc =  0.4023 Val cost =  1.5955, Val acc =  0.4163\n",
      "Epoch 2, Batch 300:  Train cost =  1.5686, Train acc =  0.4492 Val cost =  1.5699, Val acc =  0.4293\n",
      "Epoch 3, Batch 350:  Train cost =  1.7496, Train acc =  0.4141 Val cost =  1.6801, Val acc =  0.4126\n",
      "Epoch 3, Batch 400:  Train cost =  1.4986, Train acc =  0.4414 Val cost =  1.4801, Val acc =  0.4833\n",
      "Epoch 3, Batch 450:  Train cost =  1.5564, Train acc =  0.4414 Val cost =  1.4628, Val acc =  0.4842\n",
      "Epoch 4, Batch 500:  Train cost =  1.4856, Train acc =  0.4570 Val cost =  1.4303, Val acc =  0.4925\n",
      "Epoch 4, Batch 550:  Train cost =  1.3144, Train acc =  0.5234 Val cost =  1.4745, Val acc =  0.4822\n",
      "Epoch 4, Batch 600:  Train cost =  1.5290, Train acc =  0.5000 Val cost =  1.3518, Val acc =  0.5256\n",
      "Epoch 5, Batch 650:  Train cost =  1.3361, Train acc =  0.5195 Val cost =  1.3221, Val acc =  0.5401\n",
      "Epoch 5, Batch 700:  Train cost =  1.5267, Train acc =  0.5000 Val cost =  1.7255, Val acc =  0.4534\n",
      "Epoch 5, Batch 750:  Train cost =  1.3913, Train acc =  0.5195 Val cost =  1.3730, Val acc =  0.5308\n",
      "Epoch 6, Batch 800:  Train cost =  1.3716, Train acc =  0.5547 Val cost =  1.4119, Val acc =  0.5186\n",
      "Epoch 6, Batch 850:  Train cost =  1.3541, Train acc =  0.5430 Val cost =  1.2479, Val acc =  0.5588\n",
      "Epoch 6, Batch 900:  Train cost =  1.1335, Train acc =  0.5664 Val cost =  1.2020, Val acc =  0.5843\n",
      "Epoch 7, Batch 950:  Train cost =  1.1389, Train acc =  0.5625 Val cost =  1.2497, Val acc =  0.5660\n",
      "Epoch 7, Batch 1000:  Train cost =  1.1696, Train acc =  0.5820 Val cost =  1.1699, Val acc =  0.5927\n",
      "Epoch 7, Batch 1050:  Train cost =  1.2299, Train acc =  0.5508 Val cost =  1.3131, Val acc =  0.5492\n",
      "Epoch 8, Batch 1100:  Train cost =  1.2144, Train acc =  0.5898 Val cost =  1.1810, Val acc =  0.5870\n",
      "Epoch 8, Batch 1150:  Train cost =  1.0614, Train acc =  0.6406 Val cost =  1.0556, Val acc =  0.6273\n",
      "Epoch 8, Batch 1200:  Train cost =  1.1304, Train acc =  0.6172 Val cost =  1.0638, Val acc =  0.6248\n",
      "Epoch 9, Batch 1250:  Train cost =  1.1333, Train acc =  0.6016 Val cost =  1.2405, Val acc =  0.5669\n",
      "Epoch 9, Batch 1300:  Train cost =  1.2463, Train acc =  0.5430 Val cost =  1.2273, Val acc =  0.5800\n",
      "Epoch 9, Batch 1350:  Train cost =  0.9788, Train acc =  0.6602 Val cost =  1.1255, Val acc =  0.6118\n",
      "Epoch 9, Batch 1400:  Train cost =  0.8279, Train acc =  0.6914 Val cost =  1.0024, Val acc =  0.6494\n",
      "Epoch 10, Batch 1450:  Train cost =  0.9211, Train acc =  0.6797 Val cost =  0.9824, Val acc =  0.6545\n",
      "Epoch 10, Batch 1500:  Train cost =  1.1216, Train acc =  0.6055 Val cost =  1.1570, Val acc =  0.5964\n",
      "Epoch 10, Batch 1550:  Train cost =  0.9383, Train acc =  0.6758 Val cost =  1.0098, Val acc =  0.6416\n",
      "Epoch 11, Batch 1600:  Train cost =  0.8808, Train acc =  0.6797 Val cost =  1.0027, Val acc =  0.6397\n",
      "Epoch 11, Batch 1650:  Train cost =  1.1564, Train acc =  0.6016 Val cost =  1.1096, Val acc =  0.6192\n",
      "Epoch 11, Batch 1700:  Train cost =  0.9789, Train acc =  0.6406 Val cost =  1.1356, Val acc =  0.6128\n",
      "Epoch 12, Batch 1750:  Train cost =  0.9054, Train acc =  0.7070 Val cost =  0.9327, Val acc =  0.6689\n",
      "Epoch 12, Batch 1800:  Train cost =  1.0095, Train acc =  0.6094 Val cost =  0.9369, Val acc =  0.6644\n",
      "Epoch 12, Batch 1850:  Train cost =  0.9746, Train acc =  0.6484 Val cost =  0.9770, Val acc =  0.6492\n",
      "Epoch 13, Batch 1900:  Train cost =  0.8321, Train acc =  0.6875 Val cost =  0.9461, Val acc =  0.6597\n",
      "Epoch 13, Batch 1950:  Train cost =  0.8258, Train acc =  0.6641 Val cost =  0.9268, Val acc =  0.6710\n",
      "Epoch 13, Batch 2000:  Train cost =  0.9483, Train acc =  0.6445 Val cost =  1.0478, Val acc =  0.6334\n",
      "Epoch 14, Batch 2050:  Train cost =  0.8589, Train acc =  0.6484 Val cost =  1.0162, Val acc =  0.6487\n",
      "Epoch 14, Batch 2100:  Train cost =  0.8563, Train acc =  0.7031 Val cost =  0.9897, Val acc =  0.6484\n",
      "Epoch 14, Batch 2150:  Train cost =  0.8520, Train acc =  0.6992 Val cost =  0.9270, Val acc =  0.6755\n",
      "Epoch 15, Batch 2200:  Train cost =  0.8721, Train acc =  0.6992 Val cost =  0.9871, Val acc =  0.6541\n",
      "Epoch 15, Batch 2250:  Train cost =  0.9884, Train acc =  0.6875 Val cost =  0.9884, Val acc =  0.6560\n",
      "Epoch 15, Batch 2300:  Train cost =  0.9278, Train acc =  0.6680 Val cost =  0.9565, Val acc =  0.6654\n",
      "Epoch 16, Batch 2350:  Train cost =  0.9313, Train acc =  0.6953 Val cost =  0.9835, Val acc =  0.6573\n",
      "Epoch 16, Batch 2400:  Train cost =  0.7629, Train acc =  0.7617 Val cost =  0.9268, Val acc =  0.6741\n",
      "Epoch 16, Batch 2450:  Train cost =  0.6877, Train acc =  0.7852 Val cost =  0.8442, Val acc =  0.6995\n",
      "Epoch 17, Batch 2500:  Train cost =  0.7684, Train acc =  0.7344 Val cost =  0.9254, Val acc =  0.6764\n",
      "Epoch 17, Batch 2550:  Train cost =  0.7510, Train acc =  0.7070 Val cost =  0.8598, Val acc =  0.6964\n",
      "Epoch 17, Batch 2600:  Train cost =  0.9518, Train acc =  0.6602 Val cost =  0.8699, Val acc =  0.6931\n",
      "Epoch 17, Batch 2650:  Train cost =  0.8230, Train acc =  0.7148 Val cost =  0.8633, Val acc =  0.6986\n",
      "Epoch 18, Batch 2700:  Train cost =  0.7153, Train acc =  0.7500 Val cost =  0.8408, Val acc =  0.7045\n",
      "Epoch 18, Batch 2750:  Train cost =  0.7509, Train acc =  0.7188 Val cost =  0.8590, Val acc =  0.6978\n",
      "Epoch 18, Batch 2800:  Train cost =  0.7863, Train acc =  0.7383 Val cost =  0.8244, Val acc =  0.7127\n",
      "Epoch 19, Batch 2850:  Train cost =  0.8353, Train acc =  0.7266 Val cost =  0.8556, Val acc =  0.6995\n",
      "Epoch 19, Batch 2900:  Train cost =  0.8052, Train acc =  0.7148 Val cost =  0.9254, Val acc =  0.6793\n",
      "Epoch 19, Batch 2950:  Train cost =  0.8039, Train acc =  0.6875 Val cost =  0.8193, Val acc =  0.7114\n",
      "Epoch 20, Batch 3000:  Train cost =  0.7900, Train acc =  0.7383 Val cost =  0.9186, Val acc =  0.6822\n",
      "Epoch 20, Batch 3050:  Train cost =  0.6720, Train acc =  0.7539 Val cost =  0.8162, Val acc =  0.7144\n",
      "Epoch 20, Batch 3100:  Train cost =  0.6842, Train acc =  0.7148 Val cost =  0.8255, Val acc =  0.7114\n",
      "Epoch 21, Batch 3150:  Train cost =  0.8141, Train acc =  0.7305 Val cost =  0.8940, Val acc =  0.6869\n",
      "Epoch 21, Batch 3200:  Train cost =  0.7213, Train acc =  0.7344 Val cost =  0.8196, Val acc =  0.7117\n",
      "Epoch 21, Batch 3250:  Train cost =  0.6233, Train acc =  0.7852 Val cost =  0.8460, Val acc =  0.7055\n",
      "Epoch 22, Batch 3300:  Train cost =  0.5645, Train acc =  0.8086 Val cost =  0.7808, Val acc =  0.7277\n",
      "Epoch 22, Batch 3350:  Train cost =  0.7171, Train acc =  0.7109 Val cost =  0.7854, Val acc =  0.7279\n",
      "Epoch 22, Batch 3400:  Train cost =  0.7788, Train acc =  0.7383 Val cost =  0.7850, Val acc =  0.7259\n",
      "Epoch 23, Batch 3450:  Train cost =  0.7447, Train acc =  0.7422 Val cost =  0.8487, Val acc =  0.7098\n",
      "Epoch 23, Batch 3500:  Train cost =  0.8162, Train acc =  0.7070 Val cost =  0.8015, Val acc =  0.7223\n",
      "Epoch 23, Batch 3550:  Train cost =  0.7362, Train acc =  0.7461 Val cost =  0.8000, Val acc =  0.7164\n",
      "Epoch 24, Batch 3600:  Train cost =  0.6740, Train acc =  0.7422 Val cost =  0.8208, Val acc =  0.7170\n",
      "Epoch 24, Batch 3650:  Train cost =  0.6813, Train acc =  0.7773 Val cost =  0.8266, Val acc =  0.7094\n",
      "Epoch 24, Batch 3700:  Train cost =  0.8175, Train acc =  0.7109 Val cost =  0.7853, Val acc =  0.7251\n",
      "Epoch 25, Batch 3750:  Train cost =  0.6836, Train acc =  0.7617 Val cost =  0.7924, Val acc =  0.7240\n",
      "Epoch 25, Batch 3800:  Train cost =  0.6739, Train acc =  0.7578 Val cost =  0.7861, Val acc =  0.7282\n",
      "Epoch 25, Batch 3850:  Train cost =  0.7234, Train acc =  0.7422 Val cost =  0.8180, Val acc =  0.7171\n",
      "Epoch 25, Batch 3900:  Train cost =  0.6171, Train acc =  0.7852 Val cost =  0.7893, Val acc =  0.7247\n",
      "Epoch 26, Batch 3950:  Train cost =  0.6543, Train acc =  0.7773 Val cost =  0.7501, Val acc =  0.7389\n",
      "Epoch 26, Batch 4000:  Train cost =  0.5938, Train acc =  0.8008 Val cost =  0.8013, Val acc =  0.7228\n",
      "Epoch 26, Batch 4050:  Train cost =  0.6475, Train acc =  0.7812 Val cost =  0.7764, Val acc =  0.7318\n"
     ]
    },
    {
     "name": "stdout",
     "output_type": "stream",
     "text": [
      "Epoch 27, Batch 4100:  Train cost =  0.6929, Train acc =  0.7695 Val cost =  0.7344, Val acc =  0.7405\n",
      "Epoch 27, Batch 4150:  Train cost =  0.6332, Train acc =  0.7695 Val cost =  0.7630, Val acc =  0.7320\n",
      "Epoch 27, Batch 4200:  Train cost =  0.5277, Train acc =  0.8125 Val cost =  0.7533, Val acc =  0.7416\n",
      "Epoch 28, Batch 4250:  Train cost =  0.6855, Train acc =  0.7656 Val cost =  0.7391, Val acc =  0.7401\n",
      "Epoch 28, Batch 4300:  Train cost =  0.6052, Train acc =  0.7812 Val cost =  0.7191, Val acc =  0.7505\n",
      "Epoch 28, Batch 4350:  Train cost =  0.6227, Train acc =  0.7852 Val cost =  0.7578, Val acc =  0.7361\n",
      "Epoch 29, Batch 4400:  Train cost =  0.5544, Train acc =  0.7891 Val cost =  0.7309, Val acc =  0.7473\n",
      "Epoch 29, Batch 4450:  Train cost =  0.6333, Train acc =  0.7773 Val cost =  0.7197, Val acc =  0.7451\n",
      "Epoch 29, Batch 4500:  Train cost =  0.5204, Train acc =  0.8203 Val cost =  0.7017, Val acc =  0.7542\n",
      "Epoch 30, Batch 4550:  Train cost =  0.6893, Train acc =  0.7539 Val cost =  0.8598, Val acc =  0.7015\n",
      "Epoch 30, Batch 4600:  Train cost =  0.5941, Train acc =  0.8086 Val cost =  0.7592, Val acc =  0.7414\n",
      "Epoch 30, Batch 4650:  Train cost =  0.5786, Train acc =  0.8281 Val cost =  0.7083, Val acc =  0.7550\n",
      "Epoch 31, Batch 4700:  Train cost =  0.4532, Train acc =  0.8477 Val cost =  0.7416, Val acc =  0.7411\n",
      "Epoch 31, Batch 4750:  Train cost =  0.4919, Train acc =  0.7969 Val cost =  0.7569, Val acc =  0.7392\n",
      "Epoch 31, Batch 4800:  Train cost =  0.5879, Train acc =  0.7969 Val cost =  0.7387, Val acc =  0.7451\n",
      "Epoch 32, Batch 4850:  Train cost =  0.5948, Train acc =  0.8047 Val cost =  0.7946, Val acc =  0.7243\n",
      "Epoch 32, Batch 4900:  Train cost =  0.6442, Train acc =  0.7930 Val cost =  0.7761, Val acc =  0.7341\n",
      "Epoch 32, Batch 4950:  Train cost =  0.6260, Train acc =  0.8008 Val cost =  0.7101, Val acc =  0.7546\n",
      "Epoch 33, Batch 5000:  Train cost =  0.6508, Train acc =  0.7812 Val cost =  0.7104, Val acc =  0.7514\n",
      "Epoch 33, Batch 5050:  Train cost =  0.5393, Train acc =  0.8008 Val cost =  0.7839, Val acc =  0.7251\n",
      "Epoch 33, Batch 5100:  Train cost =  0.7293, Train acc =  0.7266 Val cost =  0.8221, Val acc =  0.7104\n",
      "Epoch 34, Batch 5150:  Train cost =  0.4182, Train acc =  0.8477 Val cost =  0.7095, Val acc =  0.7538\n",
      "Epoch 34, Batch 5200:  Train cost =  0.6721, Train acc =  0.7891 Val cost =  0.7451, Val acc =  0.7420\n",
      "Epoch 34, Batch 5250:  Train cost =  0.5705, Train acc =  0.7930 Val cost =  0.6760, Val acc =  0.7641\n",
      "Epoch 34, Batch 5300:  Train cost =  0.4779, Train acc =  0.8242 Val cost =  0.6787, Val acc =  0.7639\n",
      "Epoch 35, Batch 5350:  Train cost =  0.4802, Train acc =  0.8242 Val cost =  0.6946, Val acc =  0.7512\n",
      "Epoch 35, Batch 5400:  Train cost =  0.6388, Train acc =  0.7773 Val cost =  0.7169, Val acc =  0.7489\n",
      "Epoch 35, Batch 5450:  Train cost =  0.4919, Train acc =  0.8242 Val cost =  0.6927, Val acc =  0.7600\n",
      "Epoch 36, Batch 5500:  Train cost =  0.5764, Train acc =  0.7891 Val cost =  0.6720, Val acc =  0.7636\n",
      "Epoch 36, Batch 5550:  Train cost =  0.5851, Train acc =  0.7891 Val cost =  0.7325, Val acc =  0.7463\n",
      "Epoch 36, Batch 5600:  Train cost =  0.5078, Train acc =  0.8359 Val cost =  0.6612, Val acc =  0.7708\n",
      "Epoch 37, Batch 5650:  Train cost =  0.4617, Train acc =  0.8516 Val cost =  0.7024, Val acc =  0.7565\n",
      "Epoch 37, Batch 5700:  Train cost =  0.6085, Train acc =  0.7617 Val cost =  0.7889, Val acc =  0.7271\n",
      "Epoch 37, Batch 5750:  Train cost =  0.5078, Train acc =  0.8203 Val cost =  0.6905, Val acc =  0.7571\n",
      "Epoch 38, Batch 5800:  Train cost =  0.4221, Train acc =  0.8398 Val cost =  0.6736, Val acc =  0.7667\n",
      "Epoch 38, Batch 5850:  Train cost =  0.5169, Train acc =  0.8320 Val cost =  0.6839, Val acc =  0.7657\n",
      "Epoch 38, Batch 5900:  Train cost =  0.4674, Train acc =  0.8359 Val cost =  0.6874, Val acc =  0.7568\n",
      "Epoch 39, Batch 5950:  Train cost =  0.4700, Train acc =  0.8477 Val cost =  0.7065, Val acc =  0.7554\n",
      "Epoch 39, Batch 6000:  Train cost =  0.4342, Train acc =  0.8594 Val cost =  0.6747, Val acc =  0.7635\n",
      "Epoch 39, Batch 6050:  Train cost =  0.4609, Train acc =  0.8672 Val cost =  0.6862, Val acc =  0.7624\n",
      "Epoch 40, Batch 6100:  Train cost =  0.4658, Train acc =  0.8281 Val cost =  0.6734, Val acc =  0.7627\n",
      "Epoch 40, Batch 6150:  Train cost =  0.4787, Train acc =  0.8516 Val cost =  0.6422, Val acc =  0.7725\n",
      "Epoch 40, Batch 6200:  Train cost =  0.4565, Train acc =  0.8320 Val cost =  0.6508, Val acc =  0.7747\n",
      "Epoch 41, Batch 6250:  Train cost =  0.4168, Train acc =  0.8750 Val cost =  0.6447, Val acc =  0.7719\n",
      "Epoch 41, Batch 6300:  Train cost =  0.6105, Train acc =  0.7812 Val cost =  0.7149, Val acc =  0.7506\n",
      "Epoch 41, Batch 6350:  Train cost =  0.5013, Train acc =  0.8359 Val cost =  0.6715, Val acc =  0.7671\n",
      "Epoch 42, Batch 6400:  Train cost =  0.5476, Train acc =  0.7891 Val cost =  0.6954, Val acc =  0.7594\n",
      "Epoch 42, Batch 6450:  Train cost =  0.4400, Train acc =  0.8203 Val cost =  0.6991, Val acc =  0.7582\n",
      "Epoch 42, Batch 6500:  Train cost =  0.4433, Train acc =  0.8398 Val cost =  0.7035, Val acc =  0.7551\n",
      "Epoch 42, Batch 6550:  Train cost =  0.4823, Train acc =  0.8047 Val cost =  0.7117, Val acc =  0.7531\n",
      "Epoch 43, Batch 6600:  Train cost =  0.5218, Train acc =  0.8203 Val cost =  0.6733, Val acc =  0.7686\n",
      "Epoch 43, Batch 6650:  Train cost =  0.4625, Train acc =  0.8320 Val cost =  0.6508, Val acc =  0.7729\n",
      "Epoch 43, Batch 6700:  Train cost =  0.4793, Train acc =  0.8398 Val cost =  0.6582, Val acc =  0.7700\n",
      "Epoch 44, Batch 6750:  Train cost =  0.4526, Train acc =  0.8203 Val cost =  0.6753, Val acc =  0.7634\n",
      "Epoch 44, Batch 6800:  Train cost =  0.4811, Train acc =  0.8242 Val cost =  0.6388, Val acc =  0.7751\n",
      "Epoch 44, Batch 6850:  Train cost =  0.4140, Train acc =  0.8633 Val cost =  0.6479, Val acc =  0.7729\n",
      "Epoch 45, Batch 6900:  Train cost =  0.4050, Train acc =  0.8594 Val cost =  0.6490, Val acc =  0.7750\n",
      "Epoch 45, Batch 6950:  Train cost =  0.4109, Train acc =  0.8516 Val cost =  0.6339, Val acc =  0.7777\n",
      "Epoch 45, Batch 7000:  Train cost =  0.4516, Train acc =  0.8477 Val cost =  0.6661, Val acc =  0.7657\n",
      "Epoch 46, Batch 7050:  Train cost =  0.4155, Train acc =  0.8320 Val cost =  0.6752, Val acc =  0.7609\n",
      "Epoch 46, Batch 7100:  Train cost =  0.5332, Train acc =  0.8164 Val cost =  0.6697, Val acc =  0.7700\n",
      "Epoch 46, Batch 7150:  Train cost =  0.4417, Train acc =  0.8594 Val cost =  0.6507, Val acc =  0.7720\n",
      "Epoch 47, Batch 7200:  Train cost =  0.4495, Train acc =  0.8242 Val cost =  0.6995, Val acc =  0.7558\n",
      "Epoch 47, Batch 7250:  Train cost =  0.5098, Train acc =  0.8047 Val cost =  0.6576, Val acc =  0.7704\n",
      "Epoch 47, Batch 7300:  Train cost =  0.3692, Train acc =  0.8555 Val cost =  0.6448, Val acc =  0.7759\n",
      "Epoch 48, Batch 7350:  Train cost =  0.3974, Train acc =  0.8750 Val cost =  0.6465, Val acc =  0.7766\n",
      "Epoch 48, Batch 7400:  Train cost =  0.3728, Train acc =  0.8867 Val cost =  0.6524, Val acc =  0.7728\n",
      "Epoch 48, Batch 7450:  Train cost =  0.4143, Train acc =  0.8711 Val cost =  0.6473, Val acc =  0.7741\n",
      "Epoch 49, Batch 7500:  Train cost =  0.4614, Train acc =  0.8438 Val cost =  0.6363, Val acc =  0.7782\n",
      "Epoch 49, Batch 7550:  Train cost =  0.4776, Train acc =  0.8398 Val cost =  0.6238, Val acc =  0.7814\n",
      "Epoch 49, Batch 7600:  Train cost =  0.3338, Train acc =  0.9102 Val cost =  0.6324, Val acc =  0.7804\n",
      "Epoch 50, Batch 7650:  Train cost =  0.3150, Train acc =  0.8984 Val cost =  0.6357, Val acc =  0.7758\n",
      "Epoch 50, Batch 7700:  Train cost =  0.4122, Train acc =  0.8672 Val cost =  0.6383, Val acc =  0.7768\n",
      "Epoch 50, Batch 7750:  Train cost =  0.4025, Train acc =  0.8555 Val cost =  0.6226, Val acc =  0.7859\n",
      "Epoch 50, Batch 7800:  Train cost =  0.3452, Train acc =  0.9062 Val cost =  0.6334, Val acc =  0.7815\n",
      "Epoch 51, Batch 7850:  Train cost =  0.4841, Train acc =  0.8203 Val cost =  0.6386, Val acc =  0.7797\n",
      "Epoch 51, Batch 7900:  Train cost =  0.3252, Train acc =  0.8906 Val cost =  0.6406, Val acc =  0.7789\n",
      "Epoch 51, Batch 7950:  Train cost =  0.3289, Train acc =  0.8750 Val cost =  0.6184, Val acc =  0.7867\n",
      "Epoch 52, Batch 8000:  Train cost =  0.4031, Train acc =  0.8711 Val cost =  0.6523, Val acc =  0.7723\n",
      "Epoch 52, Batch 8050:  Train cost =  0.4194, Train acc =  0.8516 Val cost =  0.6195, Val acc =  0.7853\n"
     ]
    },
    {
     "name": "stdout",
     "output_type": "stream",
     "text": [
      "Epoch 52, Batch 8100:  Train cost =  0.3654, Train acc =  0.8789 Val cost =  0.6065, Val acc =  0.7842\n",
      "Epoch 53, Batch 8150:  Train cost =  0.3486, Train acc =  0.8828 Val cost =  0.6298, Val acc =  0.7796\n",
      "Epoch 53, Batch 8200:  Train cost =  0.4191, Train acc =  0.8438 Val cost =  0.6434, Val acc =  0.7776\n",
      "Epoch 53, Batch 8250:  Train cost =  0.4320, Train acc =  0.8516 Val cost =  0.6488, Val acc =  0.7794\n",
      "Epoch 54, Batch 8300:  Train cost =  0.4627, Train acc =  0.8398 Val cost =  0.6485, Val acc =  0.7708\n",
      "Epoch 54, Batch 8350:  Train cost =  0.3928, Train acc =  0.8594 Val cost =  0.6284, Val acc =  0.7836\n",
      "Epoch 54, Batch 8400:  Train cost =  0.5607, Train acc =  0.8125 Val cost =  0.6915, Val acc =  0.7639\n",
      "Epoch 55, Batch 8450:  Train cost =  0.3471, Train acc =  0.8906 Val cost =  0.6588, Val acc =  0.7704\n",
      "Epoch 55, Batch 8500:  Train cost =  0.3413, Train acc =  0.8945 Val cost =  0.6189, Val acc =  0.7873\n",
      "Epoch 55, Batch 8550:  Train cost =  0.3012, Train acc =  0.9062 Val cost =  0.6100, Val acc =  0.7848\n",
      "Epoch 56, Batch 8600:  Train cost =  0.3535, Train acc =  0.8711 Val cost =  0.6629, Val acc =  0.7741\n",
      "Epoch 56, Batch 8650:  Train cost =  0.3426, Train acc =  0.8984 Val cost =  0.6374, Val acc =  0.7778\n",
      "Epoch 56, Batch 8700:  Train cost =  0.4396, Train acc =  0.8164 Val cost =  0.6634, Val acc =  0.7734\n",
      "Epoch 57, Batch 8750:  Train cost =  0.3504, Train acc =  0.8828 Val cost =  0.6616, Val acc =  0.7761\n",
      "Epoch 57, Batch 8800:  Train cost =  0.3601, Train acc =  0.8945 Val cost =  0.6264, Val acc =  0.7846\n",
      "Epoch 57, Batch 8850:  Train cost =  0.4007, Train acc =  0.8477 Val cost =  0.6342, Val acc =  0.7797\n",
      "Epoch 58, Batch 8900:  Train cost =  0.3739, Train acc =  0.8711 Val cost =  0.6515, Val acc =  0.7708\n",
      "Epoch 58, Batch 8950:  Train cost =  0.3755, Train acc =  0.8750 Val cost =  0.6419, Val acc =  0.7795\n",
      "Epoch 58, Batch 9000:  Train cost =  0.3360, Train acc =  0.9141 Val cost =  0.6605, Val acc =  0.7727\n",
      "Epoch 59, Batch 9050:  Train cost =  0.3659, Train acc =  0.8750 Val cost =  0.6581, Val acc =  0.7739\n",
      "Epoch 59, Batch 9100:  Train cost =  0.3249, Train acc =  0.8828 Val cost =  0.6444, Val acc =  0.7829\n",
      "Epoch 59, Batch 9150:  Train cost =  0.4048, Train acc =  0.8477 Val cost =  0.6844, Val acc =  0.7658\n",
      "Epoch 59, Batch 9200:  Train cost =  0.3987, Train acc =  0.8555 Val cost =  0.6232, Val acc =  0.7830\n",
      "Epoch 60, Batch 9250:  Train cost =  0.3807, Train acc =  0.8633 Val cost =  0.6597, Val acc =  0.7750\n",
      "Epoch 60, Batch 9300:  Train cost =  0.3782, Train acc =  0.8555 Val cost =  0.6170, Val acc =  0.7865\n",
      "Epoch 60, Batch 9350:  Train cost =  0.3050, Train acc =  0.8906 Val cost =  0.6003, Val acc =  0.7917\n",
      "Epoch 61, Batch 9400:  Train cost =  0.3517, Train acc =  0.8828 Val cost =  0.6098, Val acc =  0.7869\n",
      "Epoch 61, Batch 9450:  Train cost =  0.2877, Train acc =  0.9023 Val cost =  0.6210, Val acc =  0.7884\n",
      "Epoch 61, Batch 9500:  Train cost =  0.3564, Train acc =  0.8750 Val cost =  0.6166, Val acc =  0.7891\n",
      "Epoch 62, Batch 9550:  Train cost =  0.3486, Train acc =  0.8789 Val cost =  0.6078, Val acc =  0.7919\n",
      "Epoch 62, Batch 9600:  Train cost =  0.3681, Train acc =  0.8594 Val cost =  0.6291, Val acc =  0.7808\n",
      "Epoch 62, Batch 9650:  Train cost =  0.3765, Train acc =  0.8555 Val cost =  0.6295, Val acc =  0.7800\n",
      "Epoch 63, Batch 9700:  Train cost =  0.3758, Train acc =  0.8867 Val cost =  0.6399, Val acc =  0.7820\n",
      "Epoch 63, Batch 9750:  Train cost =  0.3318, Train acc =  0.8906 Val cost =  0.6347, Val acc =  0.7808\n",
      "Epoch 63, Batch 9800:  Train cost =  0.3757, Train acc =  0.8711 Val cost =  0.6190, Val acc =  0.7871\n",
      "Epoch 64, Batch 9850:  Train cost =  0.3439, Train acc =  0.8789 Val cost =  0.6590, Val acc =  0.7733\n",
      "Epoch 64, Batch 9900:  Train cost =  0.3343, Train acc =  0.8906 Val cost =  0.6086, Val acc =  0.7860\n",
      "Epoch 64, Batch 9950:  Train cost =  0.3441, Train acc =  0.8867 Val cost =  0.6500, Val acc =  0.7754\n",
      "Epoch 65, Batch 10000:  Train cost =  0.2885, Train acc =  0.9062 Val cost =  0.6248, Val acc =  0.7833\n",
      "Epoch 65, Batch 10050:  Train cost =  0.2583, Train acc =  0.9102 Val cost =  0.5962, Val acc =  0.7935\n",
      "Epoch 65, Batch 10100:  Train cost =  0.3681, Train acc =  0.8633 Val cost =  0.6329, Val acc =  0.7845\n",
      "Epoch 66, Batch 10150:  Train cost =  0.3728, Train acc =  0.8672 Val cost =  0.6780, Val acc =  0.7680\n",
      "Epoch 66, Batch 10200:  Train cost =  0.3387, Train acc =  0.8750 Val cost =  0.6647, Val acc =  0.7757\n",
      "Epoch 66, Batch 10250:  Train cost =  0.2755, Train acc =  0.9102 Val cost =  0.6083, Val acc =  0.7908\n",
      "Epoch 67, Batch 10300:  Train cost =  0.3275, Train acc =  0.8672 Val cost =  0.6392, Val acc =  0.7847\n",
      "Epoch 67, Batch 10350:  Train cost =  0.2700, Train acc =  0.9258 Val cost =  0.6273, Val acc =  0.7838\n",
      "Epoch 67, Batch 10400:  Train cost =  0.2660, Train acc =  0.9258 Val cost =  0.5990, Val acc =  0.7958\n",
      "Epoch 67, Batch 10450:  Train cost =  0.3430, Train acc =  0.8633 Val cost =  0.6110, Val acc =  0.7922\n",
      "Epoch 68, Batch 10500:  Train cost =  0.2946, Train acc =  0.9023 Val cost =  0.6259, Val acc =  0.7856\n",
      "Epoch 68, Batch 10550:  Train cost =  0.2788, Train acc =  0.9062 Val cost =  0.5912, Val acc =  0.7978\n",
      "Epoch 68, Batch 10600:  Train cost =  0.3176, Train acc =  0.8828 Val cost =  0.6280, Val acc =  0.7847\n",
      "Epoch 69, Batch 10650:  Train cost =  0.2834, Train acc =  0.9102 Val cost =  0.5997, Val acc =  0.7961\n",
      "Epoch 69, Batch 10700:  Train cost =  0.3162, Train acc =  0.8984 Val cost =  0.6503, Val acc =  0.7767\n",
      "Epoch 69, Batch 10750:  Train cost =  0.2798, Train acc =  0.9023 Val cost =  0.6562, Val acc =  0.7774\n",
      "Epoch 70, Batch 10800:  Train cost =  0.3197, Train acc =  0.8750 Val cost =  0.6055, Val acc =  0.7938\n",
      "Epoch 70, Batch 10850:  Train cost =  0.3640, Train acc =  0.8789 Val cost =  0.6063, Val acc =  0.7911\n",
      "Epoch 70, Batch 10900:  Train cost =  0.2297, Train acc =  0.9297 Val cost =  0.5941, Val acc =  0.7947\n",
      "Epoch 71, Batch 10950:  Train cost =  0.2877, Train acc =  0.8906 Val cost =  0.6395, Val acc =  0.7788\n",
      "Epoch 71, Batch 11000:  Train cost =  0.2851, Train acc =  0.8867 Val cost =  0.6355, Val acc =  0.7842\n",
      "Epoch 71, Batch 11050:  Train cost =  0.3629, Train acc =  0.8516 Val cost =  0.6133, Val acc =  0.7917\n",
      "Epoch 72, Batch 11100:  Train cost =  0.2898, Train acc =  0.9102 Val cost =  0.6115, Val acc =  0.7875\n",
      "Epoch 72, Batch 11150:  Train cost =  0.2842, Train acc =  0.9062 Val cost =  0.6134, Val acc =  0.7891\n",
      "Epoch 72, Batch 11200:  Train cost =  0.2758, Train acc =  0.9023 Val cost =  0.6137, Val acc =  0.7887\n",
      "Epoch 73, Batch 11250:  Train cost =  0.2471, Train acc =  0.9141 Val cost =  0.6152, Val acc =  0.7867\n",
      "Epoch 73, Batch 11300:  Train cost =  0.3037, Train acc =  0.9023 Val cost =  0.6602, Val acc =  0.7787\n",
      "Epoch 73, Batch 11350:  Train cost =  0.2851, Train acc =  0.8906 Val cost =  0.6131, Val acc =  0.7906\n",
      "Epoch 74, Batch 11400:  Train cost =  0.3303, Train acc =  0.8984 Val cost =  0.6184, Val acc =  0.7919\n",
      "Epoch 74, Batch 11450:  Train cost =  0.3223, Train acc =  0.8750 Val cost =  0.6144, Val acc =  0.7884\n",
      "Epoch 74, Batch 11500:  Train cost =  0.2878, Train acc =  0.9141 Val cost =  0.5919, Val acc =  0.7986\n",
      "Epoch 75, Batch 11550:  Train cost =  0.2684, Train acc =  0.9297 Val cost =  0.5917, Val acc =  0.7975\n",
      "Epoch 75, Batch 11600:  Train cost =  0.3017, Train acc =  0.8906 Val cost =  0.6170, Val acc =  0.7868\n",
      "Epoch 75, Batch 11650:  Train cost =  0.2946, Train acc =  0.8984 Val cost =  0.6232, Val acc =  0.7892\n",
      "Epoch 75, Batch 11700:  Train cost =  0.3830, Train acc =  0.8750 Val cost =  0.6628, Val acc =  0.7780\n",
      "Epoch 76, Batch 11750:  Train cost =  0.3405, Train acc =  0.9023 Val cost =  0.6233, Val acc =  0.7871\n",
      "Epoch 76, Batch 11800:  Train cost =  0.2397, Train acc =  0.9180 Val cost =  0.5975, Val acc =  0.7954\n",
      "Epoch 76, Batch 11850:  Train cost =  0.3191, Train acc =  0.8867 Val cost =  0.6464, Val acc =  0.7801\n",
      "Epoch 77, Batch 11900:  Train cost =  0.3142, Train acc =  0.9062 Val cost =  0.6023, Val acc =  0.7968\n",
      "Epoch 77, Batch 11950:  Train cost =  0.3138, Train acc =  0.8867 Val cost =  0.5987, Val acc =  0.7937\n",
      "Epoch 77, Batch 12000:  Train cost =  0.2324, Train acc =  0.9297 Val cost =  0.5946, Val acc =  0.7995\n",
      "Epoch 78, Batch 12050:  Train cost =  0.2809, Train acc =  0.9062 Val cost =  0.5924, Val acc =  0.7993\n"
     ]
    },
    {
     "name": "stdout",
     "output_type": "stream",
     "text": [
      "Epoch 78, Batch 12100:  Train cost =  0.3471, Train acc =  0.8828 Val cost =  0.6281, Val acc =  0.7885\n",
      "Epoch 78, Batch 12150:  Train cost =  0.2441, Train acc =  0.9297 Val cost =  0.6248, Val acc =  0.7904\n",
      "Epoch 79, Batch 12200:  Train cost =  0.2724, Train acc =  0.9102 Val cost =  0.5881, Val acc =  0.7990\n",
      "Epoch 79, Batch 12250:  Train cost =  0.2720, Train acc =  0.8945 Val cost =  0.5971, Val acc =  0.7960\n",
      "Epoch 79, Batch 12300:  Train cost =  0.2780, Train acc =  0.8984 Val cost =  0.6025, Val acc =  0.7977\n",
      "Epoch 80, Batch 12350:  Train cost =  0.2589, Train acc =  0.9180 Val cost =  0.6213, Val acc =  0.7917\n",
      "Epoch 80, Batch 12400:  Train cost =  0.3074, Train acc =  0.8945 Val cost =  0.6102, Val acc =  0.7962\n",
      "Epoch 80, Batch 12450:  Train cost =  0.3327, Train acc =  0.8906 Val cost =  0.6008, Val acc =  0.7975\n",
      "Epoch 81, Batch 12500:  Train cost =  0.3176, Train acc =  0.8789 Val cost =  0.6070, Val acc =  0.7958\n",
      "Epoch 81, Batch 12550:  Train cost =  0.3152, Train acc =  0.9062 Val cost =  0.6215, Val acc =  0.7878\n",
      "Epoch 81, Batch 12600:  Train cost =  0.3496, Train acc =  0.8828 Val cost =  0.6298, Val acc =  0.7845\n",
      "Epoch 82, Batch 12650:  Train cost =  0.2284, Train acc =  0.9375 Val cost =  0.6205, Val acc =  0.7902\n",
      "Epoch 82, Batch 12700:  Train cost =  0.2456, Train acc =  0.9180 Val cost =  0.6219, Val acc =  0.7874\n",
      "Epoch 82, Batch 12750:  Train cost =  0.2759, Train acc =  0.9062 Val cost =  0.6101, Val acc =  0.7924\n",
      "Epoch 83, Batch 12800:  Train cost =  0.2626, Train acc =  0.9180 Val cost =  0.5888, Val acc =  0.7979\n",
      "Epoch 83, Batch 12850:  Train cost =  0.3200, Train acc =  0.8984 Val cost =  0.6080, Val acc =  0.7926\n",
      "Epoch 83, Batch 12900:  Train cost =  0.2297, Train acc =  0.9062 Val cost =  0.5985, Val acc =  0.7937\n",
      "Epoch 84, Batch 12950:  Train cost =  0.3075, Train acc =  0.9023 Val cost =  0.5966, Val acc =  0.7981\n",
      "Epoch 84, Batch 13000:  Train cost =  0.2385, Train acc =  0.9219 Val cost =  0.6098, Val acc =  0.7934\n",
      "Epoch 84, Batch 13050:  Train cost =  0.3503, Train acc =  0.8984 Val cost =  0.6700, Val acc =  0.7733\n",
      "Epoch 84, Batch 13100:  Train cost =  0.2955, Train acc =  0.8906 Val cost =  0.5949, Val acc =  0.7964\n",
      "Epoch 85, Batch 13150:  Train cost =  0.2651, Train acc =  0.9023 Val cost =  0.6237, Val acc =  0.7871\n",
      "Epoch 85, Batch 13200:  Train cost =  0.2507, Train acc =  0.9258 Val cost =  0.6217, Val acc =  0.7892\n",
      "Epoch 85, Batch 13250:  Train cost =  0.2670, Train acc =  0.9258 Val cost =  0.5963, Val acc =  0.7987\n",
      "Epoch 86, Batch 13300:  Train cost =  0.2818, Train acc =  0.9062 Val cost =  0.6444, Val acc =  0.7811\n",
      "Epoch 86, Batch 13350:  Train cost =  0.3102, Train acc =  0.9062 Val cost =  0.6378, Val acc =  0.7835\n",
      "Epoch 86, Batch 13400:  Train cost =  0.2484, Train acc =  0.9062 Val cost =  0.6039, Val acc =  0.7907\n",
      "Epoch 87, Batch 13450:  Train cost =  0.2198, Train acc =  0.9258 Val cost =  0.5959, Val acc =  0.7960\n",
      "Epoch 87, Batch 13500:  Train cost =  0.2632, Train acc =  0.9180 Val cost =  0.6074, Val acc =  0.7938\n",
      "Epoch 87, Batch 13550:  Train cost =  0.2420, Train acc =  0.9336 Val cost =  0.5895, Val acc =  0.8004\n",
      "Epoch 88, Batch 13600:  Train cost =  0.2809, Train acc =  0.9141 Val cost =  0.6274, Val acc =  0.7866\n",
      "Epoch 88, Batch 13650:  Train cost =  0.3196, Train acc =  0.9062 Val cost =  0.6272, Val acc =  0.7847\n",
      "Epoch 88, Batch 13700:  Train cost =  0.3005, Train acc =  0.9180 Val cost =  0.5994, Val acc =  0.7931\n",
      "Epoch 89, Batch 13750:  Train cost =  0.2923, Train acc =  0.9023 Val cost =  0.5843, Val acc =  0.8022\n",
      "Epoch 89, Batch 13800:  Train cost =  0.2395, Train acc =  0.9180 Val cost =  0.5904, Val acc =  0.8002\n",
      "Epoch 89, Batch 13850:  Train cost =  0.3026, Train acc =  0.8789 Val cost =  0.6227, Val acc =  0.7906\n",
      "Epoch 90, Batch 13900:  Train cost =  0.2037, Train acc =  0.9570 Val cost =  0.6044, Val acc =  0.7985\n",
      "Epoch 90, Batch 13950:  Train cost =  0.2320, Train acc =  0.9219 Val cost =  0.6250, Val acc =  0.7876\n",
      "Epoch 90, Batch 14000:  Train cost =  0.2487, Train acc =  0.9258 Val cost =  0.6202, Val acc =  0.7904\n",
      "Epoch 91, Batch 14050:  Train cost =  0.2021, Train acc =  0.9570 Val cost =  0.6388, Val acc =  0.7842\n",
      "Epoch 91, Batch 14100:  Train cost =  0.2772, Train acc =  0.8906 Val cost =  0.5993, Val acc =  0.7966\n",
      "Epoch 91, Batch 14150:  Train cost =  0.2946, Train acc =  0.9102 Val cost =  0.6117, Val acc =  0.7933\n",
      "Epoch 92, Batch 14200:  Train cost =  0.2665, Train acc =  0.9219 Val cost =  0.6323, Val acc =  0.7875\n",
      "Epoch 92, Batch 14250:  Train cost =  0.2081, Train acc =  0.9375 Val cost =  0.6169, Val acc =  0.7921\n",
      "Epoch 92, Batch 14300:  Train cost =  0.2990, Train acc =  0.9023 Val cost =  0.6700, Val acc =  0.7767\n",
      "Epoch 92, Batch 14350:  Train cost =  0.2287, Train acc =  0.9102 Val cost =  0.5879, Val acc =  0.7990\n",
      "Epoch 93, Batch 14400:  Train cost =  0.2410, Train acc =  0.9453 Val cost =  0.6070, Val acc =  0.7941\n",
      "Epoch 93, Batch 14450:  Train cost =  0.3002, Train acc =  0.9141 Val cost =  0.6852, Val acc =  0.7711\n",
      "Epoch 93, Batch 14500:  Train cost =  0.2293, Train acc =  0.9414 Val cost =  0.6175, Val acc =  0.7934\n",
      "Epoch 94, Batch 14550:  Train cost =  0.2318, Train acc =  0.9258 Val cost =  0.5901, Val acc =  0.7998\n",
      "Epoch 94, Batch 14600:  Train cost =  0.2456, Train acc =  0.9258 Val cost =  0.5914, Val acc =  0.7947\n",
      "Epoch 94, Batch 14650:  Train cost =  0.3053, Train acc =  0.8828 Val cost =  0.6219, Val acc =  0.7895\n",
      "Epoch 95, Batch 14700:  Train cost =  0.2120, Train acc =  0.9492 Val cost =  0.6237, Val acc =  0.7862\n",
      "Epoch 95, Batch 14750:  Train cost =  0.2003, Train acc =  0.9297 Val cost =  0.6057, Val acc =  0.7939\n",
      "Epoch 95, Batch 14800:  Train cost =  0.2395, Train acc =  0.9180 Val cost =  0.5970, Val acc =  0.7962\n",
      "Epoch 96, Batch 14850:  Train cost =  0.2190, Train acc =  0.9219 Val cost =  0.6015, Val acc =  0.7947\n",
      "Epoch 96, Batch 14900:  Train cost =  0.2431, Train acc =  0.9297 Val cost =  0.5867, Val acc =  0.8001\n",
      "Epoch 96, Batch 14950:  Train cost =  0.2721, Train acc =  0.9219 Val cost =  0.5893, Val acc =  0.7965\n",
      "Epoch 97, Batch 15000:  Train cost =  0.2321, Train acc =  0.9023 Val cost =  0.6155, Val acc =  0.7880\n",
      "Epoch 97, Batch 15050:  Train cost =  0.1977, Train acc =  0.9453 Val cost =  0.5886, Val acc =  0.7989\n",
      "Epoch 97, Batch 15100:  Train cost =  0.1788, Train acc =  0.9688 Val cost =  0.5960, Val acc =  0.7997\n",
      "Epoch 98, Batch 15150:  Train cost =  0.2243, Train acc =  0.9258 Val cost =  0.6213, Val acc =  0.7926\n",
      "Epoch 98, Batch 15200:  Train cost =  0.2554, Train acc =  0.9297 Val cost =  0.5887, Val acc =  0.8019\n",
      "Epoch 98, Batch 15250:  Train cost =  0.2908, Train acc =  0.9102 Val cost =  0.6129, Val acc =  0.7933\n",
      "Epoch 99, Batch 15300:  Train cost =  0.2312, Train acc =  0.9297 Val cost =  0.6030, Val acc =  0.7957\n",
      "Epoch 99, Batch 15350:  Train cost =  0.1919, Train acc =  0.9375 Val cost =  0.5823, Val acc =  0.8028\n",
      "Epoch 99, Batch 15400:  Train cost =  0.2328, Train acc =  0.9375 Val cost =  0.6335, Val acc =  0.7907\n",
      "Epoch 100, Batch 15450:  Train cost =  0.2241, Train acc =  0.9336 Val cost =  0.5955, Val acc =  0.8004\n",
      "Epoch 100, Batch 15500:  Train cost =  0.2259, Train acc =  0.9297 Val cost =  0.6297, Val acc =  0.7865\n",
      "Epoch 100, Batch 15550:  Train cost =  0.2635, Train acc =  0.9102 Val cost =  0.6128, Val acc =  0.7896\n",
      "Epoch 100, Batch 15600:  Train cost =  0.2765, Train acc =  0.9062 Val cost =  0.5874, Val acc =  0.7990\n",
      "Epoch 101, Batch 15650:  Train cost =  0.2576, Train acc =  0.9141 Val cost =  0.6042, Val acc =  0.7943\n",
      "Epoch 101, Batch 15700:  Train cost =  0.2093, Train acc =  0.9297 Val cost =  0.5952, Val acc =  0.7971\n",
      "Epoch 101, Batch 15750:  Train cost =  0.2233, Train acc =  0.9297 Val cost =  0.5872, Val acc =  0.7984\n",
      "Epoch 102, Batch 15800:  Train cost =  0.1845, Train acc =  0.9453 Val cost =  0.6011, Val acc =  0.7980\n",
      "Epoch 102, Batch 15850:  Train cost =  0.2042, Train acc =  0.9414 Val cost =  0.6009, Val acc =  0.7948\n",
      "Epoch 102, Batch 15900:  Train cost =  0.2682, Train acc =  0.9102 Val cost =  0.6087, Val acc =  0.7957\n",
      "Epoch 103, Batch 15950:  Train cost =  0.1833, Train acc =  0.9453 Val cost =  0.5795, Val acc =  0.8025\n",
      "Epoch 103, Batch 16000:  Train cost =  0.2128, Train acc =  0.9336 Val cost =  0.6053, Val acc =  0.7975\n"
     ]
    },
    {
     "name": "stdout",
     "output_type": "stream",
     "text": [
      "Epoch 103, Batch 16050:  Train cost =  0.1698, Train acc =  0.9805 Val cost =  0.5759, Val acc =  0.8048\n",
      "Epoch 104, Batch 16100:  Train cost =  0.2176, Train acc =  0.9297 Val cost =  0.6238, Val acc =  0.7890\n",
      "Epoch 104, Batch 16150:  Train cost =  0.2293, Train acc =  0.9375 Val cost =  0.6044, Val acc =  0.7973\n",
      "Epoch 104, Batch 16200:  Train cost =  0.2394, Train acc =  0.9141 Val cost =  0.5863, Val acc =  0.8000\n",
      "Epoch 105, Batch 16250:  Train cost =  0.2205, Train acc =  0.9336 Val cost =  0.5976, Val acc =  0.7967\n",
      "Epoch 105, Batch 16300:  Train cost =  0.1864, Train acc =  0.9531 Val cost =  0.5985, Val acc =  0.7972\n",
      "Epoch 105, Batch 16350:  Train cost =  0.2345, Train acc =  0.9180 Val cost =  0.6162, Val acc =  0.7972\n",
      "Epoch 106, Batch 16400:  Train cost =  0.2583, Train acc =  0.9180 Val cost =  0.5947, Val acc =  0.8011\n",
      "Epoch 106, Batch 16450:  Train cost =  0.1879, Train acc =  0.9414 Val cost =  0.6074, Val acc =  0.7938\n",
      "Epoch 106, Batch 16500:  Train cost =  0.2162, Train acc =  0.9336 Val cost =  0.5964, Val acc =  0.7963\n",
      "Epoch 107, Batch 16550:  Train cost =  0.1918, Train acc =  0.9258 Val cost =  0.5978, Val acc =  0.7998\n",
      "Epoch 107, Batch 16600:  Train cost =  0.1260, Train acc =  0.9688 Val cost =  0.6411, Val acc =  0.7852\n",
      "Epoch 107, Batch 16650:  Train cost =  0.2484, Train acc =  0.9062 Val cost =  0.5799, Val acc =  0.8033\n",
      "Epoch 108, Batch 16700:  Train cost =  0.1912, Train acc =  0.9453 Val cost =  0.5954, Val acc =  0.8000\n",
      "Epoch 108, Batch 16750:  Train cost =  0.1725, Train acc =  0.9570 Val cost =  0.5974, Val acc =  0.7967\n",
      "Epoch 108, Batch 16800:  Train cost =  0.2123, Train acc =  0.9375 Val cost =  0.5847, Val acc =  0.8016\n",
      "Epoch 109, Batch 16850:  Train cost =  0.2006, Train acc =  0.9453 Val cost =  0.6093, Val acc =  0.7959\n",
      "Epoch 109, Batch 16900:  Train cost =  0.2576, Train acc =  0.9180 Val cost =  0.6072, Val acc =  0.7950\n",
      "Epoch 109, Batch 16950:  Train cost =  0.2391, Train acc =  0.9258 Val cost =  0.6020, Val acc =  0.7975\n",
      "Epoch 109, Batch 17000:  Train cost =  0.1793, Train acc =  0.9570 Val cost =  0.6053, Val acc =  0.7956\n",
      "Epoch 110, Batch 17050:  Train cost =  0.2197, Train acc =  0.9297 Val cost =  0.6068, Val acc =  0.7930\n",
      "Epoch 110, Batch 17100:  Train cost =  0.2096, Train acc =  0.9297 Val cost =  0.6249, Val acc =  0.7911\n",
      "Epoch 110, Batch 17150:  Train cost =  0.1990, Train acc =  0.9414 Val cost =  0.5997, Val acc =  0.7975\n"
     ]
    }
   ],
   "source": [
    "session.run(tf.global_variables_initializer())\n",
    "\n",
    "batch_count = 0\n",
    "info = {'train_cost':[], 'train_acc':[], 'valid_cost':[], 'valid_acc':[]}\n",
    "for epoch in range(epochs):\n",
    "    mini_batches = prepare_mini_batches(train_data_norm, train_labels_ohe, batch_size)\n",
    "\n",
    "    while mini_batches:\n",
    "        data_batch, label_batch = mini_batches.pop()\n",
    "        batch_count += 1\n",
    "\n",
    "        session.run(optimizer, feed_dict={inputs: data_batch, \n",
    "                                          targets: label_batch, \n",
    "                                          keep_prob: keep_probability})\n",
    "        if (batch_count % 50) == 0:\n",
    "            train_cost = session.run(cost, feed_dict={\n",
    "                    inputs: data_batch, targets: label_batch, keep_prob: 1.})\n",
    "\n",
    "            train_acc = session.run(accuracy, feed_dict={\n",
    "                inputs: data_batch, targets: label_batch, keep_prob: 1.})\n",
    "\n",
    "            info[\"train_cost\"].append(train_cost)\n",
    "            info[\"train_acc\"].append(train_acc)\n",
    "\n",
    "            valid_cost = session.run(cost, feed_dict={\n",
    "                inputs: val_data_norm, targets: val_labels_ohe, keep_prob: 1.})\n",
    "\n",
    "            valid_acc = session.run(accuracy, feed_dict={\n",
    "                inputs: val_data_norm, targets: val_labels_ohe, keep_prob: 1.})\n",
    "\n",
    "            info[\"valid_cost\"].append(valid_cost)\n",
    "            info[\"valid_acc\"].append(valid_acc)\n",
    "\n",
    "            print('Epoch {}, Batch {}:  '.format(epoch + 1, batch_count), end='')\n",
    "            print(\"Train cost = \", \"{:.4f},\".format(train_cost), \n",
    "                  \"Train acc = \", \"{:.4f}\".format(train_acc),\n",
    "                  \"Val cost = \", \"{:.4f},\".format(valid_cost), \n",
    "                  \"Val acc = \", \"{:.4f}\".format(valid_acc))      "
   ]
  },
  {
   "cell_type": "markdown",
   "metadata": {},
   "source": [
    "#### Results"
   ]
  },
  {
   "cell_type": "code",
   "execution_count": 33,
   "metadata": {},
   "outputs": [
    {
     "data": {
      "image/png": "[encoded data removed]",
      "text/plain": [
       "<matplotlib.figure.Figure at 0x128b75518>"
      ]
     },
     "metadata": {},
     "output_type": "display_data"
    }
   ],
   "source": [
    "fig1 = plt.figure()\n",
    "ax1 = fig1.add_subplot(111)\n",
    "ax1.plot(info['train_acc'], label='Training acc')\n",
    "ax1.plot(info['valid_acc'], label='Validation acc')\n",
    "blue_patch = mpatches.Patch(color='#699cef', label='Training accuracy')\n",
    "orange_patch = mpatches.Patch(color='orange', label='Validation accuracy')\n",
    "ax1.legend(handles=[blue_patch, orange_patch])\n",
    "plt.show()"
   ]
  },
  {
   "cell_type": "code",
   "execution_count": 34,
   "metadata": {},
   "outputs": [
    {
     "data": {
      "image/png": "[encoded data removed]",
      "text/plain": [
       "<matplotlib.figure.Figure at 0x10e7b6208>"
      ]
     },
     "metadata": {},
     "output_type": "display_data"
    }
   ],
   "source": [
    "fig1 = plt.figure()\n",
    "ax2 = fig1.add_subplot(111)\n",
    "ax2.plot(info['train_cost'], label='Training loss')\n",
    "ax2.plot(info['valid_cost'], label='Validation loss')\n",
    "blue_patch = mpatches.Patch(color='#699cef', label='Training cross-entropy')\n",
    "orange_patch = mpatches.Patch(color='orange', label='Validation cross-entropy')\n",
    "ax2.legend(handles=[blue_patch, orange_patch])\n",
    "plt.show()"
   ]
  },
  {
   "cell_type": "markdown",
   "metadata": {},
   "source": [
    "#### Test accuracy"
   ]
  },
  {
   "cell_type": "code",
   "execution_count": 35,
   "metadata": {},
   "outputs": [
    {
     "name": "stdout",
     "output_type": "stream",
     "text": [
      "Test data accuracy: 0.7944\n"
     ]
    }
   ],
   "source": [
    "test_acc = session.run(accuracy, feed_dict={inputs: test_data_norm, \n",
    "                                            targets: test_labels_ohe, \n",
    "                                            keep_prob: 1.})\n",
    "print(\"Test data accuracy: \" + str(test_acc))"
   ]
  },
  {
   "cell_type": "code",
   "execution_count": 36,
   "metadata": {
    "collapsed": true
   },
   "outputs": [],
   "source": [
    "session.close()"
   ]
  }
 ],
 "metadata": {
  "kernelspec": {
   "display_name": "Python 3",
   "language": "python",
   "name": "python3"
  },
  "language_info": {
   "codemirror_mode": {
    "name": "ipython",
    "version": 3
   },
   "file_extension": ".py",
   "mimetype": "text/x-python",
   "name": "python",
   "nbconvert_exporter": "python",
   "pygments_lexer": "ipython3",
   "version": "3.6.1"
  }
 },
 "nbformat": 4,
 "nbformat_minor": 2
}
