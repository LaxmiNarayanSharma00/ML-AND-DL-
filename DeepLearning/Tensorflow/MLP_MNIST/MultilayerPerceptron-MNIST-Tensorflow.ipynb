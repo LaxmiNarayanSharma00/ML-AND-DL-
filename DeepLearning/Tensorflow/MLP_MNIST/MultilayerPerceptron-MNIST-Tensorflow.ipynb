{
 "cells": [
  {
   "cell_type": "code",
   "execution_count": 1,
   "metadata": {
    "collapsed": true
   },
   "outputs": [],
   "source": [
    "import tensorflow.examples.tutorials.mnist as mnist\n",
    "import tensorflow as tf\n",
    "import matplotlib.pyplot as plt\n",
    "import matplotlib.patches as mpatches\n",
    "import numpy as np\n",
    "import random"
   ]
  },
  {
   "cell_type": "code",
   "execution_count": 2,
   "metadata": {
    "collapsed": true
   },
   "outputs": [],
   "source": [
    "%matplotlib inline"
   ]
  },
  {
   "cell_type": "markdown",
   "metadata": {},
   "source": [
    "#### Dataset info"
   ]
  },
  {
   "cell_type": "code",
   "execution_count": 3,
   "metadata": {
    "collapsed": true
   },
   "outputs": [],
   "source": [
    "# source: http://yann.lecun.com/exdb/mnist/\n",
    "IMAGE_WIDTH = 28\n",
    "IMAGE_HEIGHT = 28\n",
    "NUM_CHANNELS = 1\n",
    "PIXEL_DEPTH = 255\n",
    "NUM_LABELS = 10"
   ]
  },
  {
   "cell_type": "markdown",
   "metadata": {},
   "source": [
    "#### Loading files\n",
    "Data is already preprocessed, shuffled and normalized."
   ]
  },
  {
   "cell_type": "code",
   "execution_count": 4,
   "metadata": {},
   "outputs": [
    {
     "name": "stdout",
     "output_type": "stream",
     "text": [
      "Successfully downloaded train-images-idx3-ubyte.gz 9912422 bytes.\n",
      "Extracting tensorflow/examples/tutorials/mnist/train-images-idx3-ubyte.gz\n",
      "Successfully downloaded train-labels-idx1-ubyte.gz 28881 bytes.\n",
      "Extracting tensorflow/examples/tutorials/mnist/train-labels-idx1-ubyte.gz\n",
      "Successfully downloaded t10k-images-idx3-ubyte.gz 1648877 bytes.\n",
      "Extracting tensorflow/examples/tutorials/mnist/t10k-images-idx3-ubyte.gz\n",
      "Successfully downloaded t10k-labels-idx1-ubyte.gz 4542 bytes.\n",
      "Extracting tensorflow/examples/tutorials/mnist/t10k-labels-idx1-ubyte.gz\n"
     ]
    }
   ],
   "source": [
    "mnist_dataset = mnist.input_data.read_data_sets('tensorflow/examples/tutorials/mnist', \n",
    "                                                one_hot=True)"
   ]
  },
  {
   "cell_type": "markdown",
   "metadata": {},
   "source": [
    "#### Divide data"
   ]
  },
  {
   "cell_type": "code",
   "execution_count": 5,
   "metadata": {
    "collapsed": true
   },
   "outputs": [],
   "source": [
    "trainX = mnist_dataset.train.images\n",
    "valX = mnist_dataset.validation.images\n",
    "testX = mnist_dataset.test.images\n",
    "\n",
    "trainY = mnist_dataset.train.labels.astype(np.float32)\n",
    "valY = mnist_dataset.validation.labels.astype(np.float32)\n",
    "testY = mnist_dataset.test.labels.astype(np.float32)"
   ]
  },
  {
   "cell_type": "code",
   "execution_count": 6,
   "metadata": {
    "collapsed": true
   },
   "outputs": [],
   "source": [
    "TRAIN_IMAGES_NUM = trainX.shape[0]\n",
    "TEST_IMAGES_NUM = testX.shape[0]"
   ]
  },
  {
   "cell_type": "markdown",
   "metadata": {},
   "source": [
    "#### Present data"
   ]
  },
  {
   "cell_type": "code",
   "execution_count": 7,
   "metadata": {
    "collapsed": true
   },
   "outputs": [],
   "source": [
    "def show_digit(trainX, trainY, index):\n",
    "    image = trainX[index].reshape([IMAGE_WIDTH, IMAGE_HEIGHT])\n",
    "    label = trainY[index]\n",
    "    plt.title(\"Training data, index: {},  Label: {}\".format(index, label))\n",
    "    plt.imshow(image, cmap=\"gray_r\")\n",
    "    plt.show()"
   ]
  },
  {
   "cell_type": "code",
   "execution_count": 8,
   "metadata": {},
   "outputs": [
    {
     "name": "stdout",
     "output_type": "stream",
     "text": [
      "trainX shape: (55000, 784)\n",
      "trainY shape: (55000, 10)\n",
      "valX shape: (5000, 784)\n",
      "valY shape: (5000, 10)\n",
      "testX shape: (10000, 784)\n",
      "testY shape: (10000, 10)\n"
     ]
    },
    {
     "data": {
      "image/png": "[encoded data removed]",
      "text/plain": [
       "<matplotlib.figure.Figure at 0x113a271d0>"
      ]
     },
     "metadata": {},
     "output_type": "display_data"
    }
   ],
   "source": [
    "print(\"trainX shape: \" + str(trainX.shape))\n",
    "print(\"trainY shape: \" + str(trainY.shape))\n",
    "print(\"valX shape: \" + str(valX.shape))\n",
    "print(\"valY shape: \" + str(valY.shape))\n",
    "print(\"testX shape: \" + str(testX.shape))\n",
    "print(\"testY shape: \" + str(testY.shape))\n",
    "show_digit(trainX, trainY, np.random.randint(1, TRAIN_IMAGES_NUM + 1))"
   ]
  },
  {
   "cell_type": "markdown",
   "metadata": {},
   "source": [
    "#### Neural Network preparation"
   ]
  },
  {
   "cell_type": "code",
   "execution_count": 9,
   "metadata": {
    "collapsed": true
   },
   "outputs": [],
   "source": [
    "input_nodes = IMAGE_WIDTH * IMAGE_HEIGHT\n",
    "hidden_layer_1_nodes = 300\n",
    "hidden_layer_2_nodes = 75\n",
    "output_layer_nodes = NUM_LABELS "
   ]
  },
  {
   "cell_type": "code",
   "execution_count": 10,
   "metadata": {
    "collapsed": true
   },
   "outputs": [],
   "source": [
    "# reset tensorflow graph\n",
    "tf.reset_default_graph()\n",
    "\n",
    "# placeholders for inputs, labels and learning rate\n",
    "inputs_ = tf.placeholder(tf.float32, [None, input_nodes], name=\"inputs\")\n",
    "targets_ = tf.placeholder(tf.float32, [None, output_layer_nodes], name=\"targets\")\n",
    "learning_rate_ = tf.placeholder(tf.float32, None, name=\"learning_rate\")\n",
    "keep_prob_ = tf.placeholder(tf.float32, name=\"keep_prob\")\n",
    "\n",
    "# init layer input to hidden 1 - weights and biases\n",
    "layer_1_weight_shape = [input_nodes, hidden_layer_1_nodes]\n",
    "weights_input_to_h1_min = -1/np.sqrt(input_nodes)\n",
    "weights_input_to_h1_max = 1/np.sqrt(input_nodes)\n",
    "\n",
    "weights_input_to_h1 = tf.Variable(tf.random_uniform(\n",
    "    layer_1_weight_shape, weights_input_to_h1_min, weights_input_to_h1_max), name=\"w_i_h1\")\n",
    "\n",
    "bias_input_to_h1 = tf.Variable(tf.zeros([hidden_layer_1_nodes]), name=\"b_i_h1\")\n",
    "\n",
    "# init layer hidden 1 to hidden 2 - weights and biases\n",
    "layer_2_weight_shape = [hidden_layer_1_nodes, hidden_layer_2_nodes]\n",
    "weights_h1_to_h2_min = -1/np.sqrt(hidden_layer_1_nodes)\n",
    "weights_h1_to_h2_max = 1/np.sqrt(hidden_layer_1_nodes)\n",
    "\n",
    "weights_h1_to_h2 = tf.Variable(tf.random_uniform(\n",
    "    layer_2_weight_shape, weights_h1_to_h2_min, weights_h1_to_h2_max), name=\"w_h1_h2\")\n",
    "\n",
    "bias_h1_to_h2 = tf.Variable(tf.zeros([hidden_layer_2_nodes]), name=\"b_h1_h2\")\n",
    "\n",
    "# init hidden 2 to output - weights and biases\n",
    "layer_3_weight_shape = [hidden_layer_2_nodes, output_layer_nodes]\n",
    "weights_h2_to_o_min = -1/np.sqrt(hidden_layer_2_nodes)\n",
    "weights_h2_to_o_max = 1/np.sqrt(hidden_layer_2_nodes)\n",
    "\n",
    "weights_h2_to_o = tf.Variable(tf.random_uniform(\n",
    "    layer_3_weight_shape, weights_h2_to_o_min, weights_h2_to_o_max), name=\"w_h2_o\")\n",
    "\n",
    "bias_h2_to_o = tf.Variable(tf.zeros([output_layer_nodes]), name=\"b_h2_o\")\n",
    "\n",
    "# layers\n",
    "input_to_h1_layer = tf.matmul(inputs_, weights_input_to_h1) + bias_input_to_h1\n",
    "input_to_h1_layer_activated = tf.nn.relu(input_to_h1_layer)\n",
    "input_to_h1_layer_activated = tf.nn.dropout(input_to_h1_layer_activated, keep_prob_)\n",
    "\n",
    "h1_to_h2_layer = tf.matmul(input_to_h1_layer_activated, weights_h1_to_h2) + bias_h1_to_h2\n",
    "h1_to_h2_layer_activated = tf.nn.relu(h1_to_h2_layer)\n",
    "h1_to_h2_layer_activated = tf.nn.dropout(h1_to_h2_layer_activated, keep_prob_)\n",
    "\n",
    "h2_to_o_layer_logits = tf.matmul(h1_to_h2_layer_activated, weights_h2_to_o) + bias_h2_to_o"
   ]
  },
  {
   "cell_type": "markdown",
   "metadata": {},
   "source": [
    "#### Loss and accuracy assessment"
   ]
  },
  {
   "cell_type": "code",
   "execution_count": 11,
   "metadata": {
    "collapsed": true
   },
   "outputs": [],
   "source": [
    "# loss function\n",
    "loss_function = tf.reduce_mean(\n",
    "    tf.nn.softmax_cross_entropy_with_logits(logits=h2_to_o_layer_logits, labels=targets_))\n",
    "\n",
    "# gradient descent optimiser\n",
    "optimizer = tf.train.GradientDescentOptimizer(learning_rate_).minimize(loss_function)\n",
    "\n",
    "# accuracy\n",
    "correct_prediction = tf.equal(tf.argmax(h2_to_o_layer_logits, 1), tf.argmax(targets_, 1))\n",
    "accuracy = tf.reduce_mean(tf.cast(correct_prediction, tf.float32))"
   ]
  },
  {
   "cell_type": "markdown",
   "metadata": {},
   "source": [
    "#### Batch preparation"
   ]
  },
  {
   "cell_type": "markdown",
   "metadata": {},
   "source": [
    "My own implementation:"
   ]
  },
  {
   "cell_type": "code",
   "execution_count": 12,
   "metadata": {
    "collapsed": true
   },
   "outputs": [],
   "source": [
    "def prepare_mini_batches(data, labels, batch_size):\n",
    "    assert len(data) == len(labels)\n",
    "    \n",
    "    all_batches = list()\n",
    "    for i in range(0, len(data)):\n",
    "        all_batches.append((data[i], labels[i]))\n",
    "    random.shuffle(all_batches)\n",
    "        \n",
    "    mini_batches = list()\n",
    "    while len(all_batches) >= batch_size:\n",
    "        \n",
    "        data_batch = list()\n",
    "        labels_batch = list()\n",
    "        for j in range(0, batch_size):\n",
    "            data, labels = all_batches.pop()\n",
    "            data_batch.append(data)\n",
    "            labels_batch.append(labels)\n",
    "            \n",
    "        mini_batches.append((np.array(data_batch), np.array(labels_batch)))\n",
    "    \n",
    "    return mini_batches"
   ]
  },
  {
   "cell_type": "code",
   "execution_count": 13,
   "metadata": {},
   "outputs": [
    {
     "name": "stdout",
     "output_type": "stream",
     "text": [
      "Input data mini-batch: (128, 784)\n",
      "Input data labels mini-batch: (128, 10)\n"
     ]
    }
   ],
   "source": [
    "# divide trainX, trainY data into batches of size 128, data is copied\n",
    "mini_batches_example = prepare_mini_batches(trainX, trainY, 128)\n",
    "\n",
    "# pop next batches\n",
    "exampleX_batches, exampleY_batches = mini_batches_example.pop()\n",
    "print(\"Input data mini-batch: \" + str(exampleX_batches.shape))\n",
    "print(\"Input data labels mini-batch: \" + str(exampleY_batches.shape))"
   ]
  },
  {
   "cell_type": "markdown",
   "metadata": {},
   "source": [
    "Similar but <u>NOT THE SAME</u> result could be achieved by using `mnist_dataset.train` object."
   ]
  },
  {
   "cell_type": "code",
   "execution_count": 14,
   "metadata": {},
   "outputs": [
    {
     "name": "stdout",
     "output_type": "stream",
     "text": [
      "Input data mini-batch: (128, 784)\n",
      "Input data labels mini-batch: (128, 10)\n"
     ]
    }
   ],
   "source": [
    "# fetching next 128 size RANDOM batches from data in mnist_dataset.traing\n",
    "tf_exampleX_batches, tf_exampleY_batches = mnist_dataset.train.next_batch(128)\n",
    "print(\"Input data mini-batch: \" + str(tf_exampleX_batches.shape))\n",
    "print(\"Input data labels mini-batch: \" + str(tf_exampleY_batches.shape))"
   ]
  },
  {
   "cell_type": "markdown",
   "metadata": {},
   "source": [
    "Main difference between two approaches is:\n",
    "\n",
    "a) With my implementation you make sure that if you iterate over *mini_batches* received from *prepare_mini_batches* function - your whole train data will be inserted into net but with random order. \n",
    "\n",
    "b) With tensorflow implementation you simply receive randomly picked *batch_size* samples. That way it is possible that some of samples from train set will enter net more often than others."
   ]
  },
  {
   "cell_type": "markdown",
   "metadata": {},
   "source": [
    "#### Hyperparameters"
   ]
  },
  {
   "cell_type": "code",
   "execution_count": 15,
   "metadata": {
    "collapsed": true
   },
   "outputs": [],
   "source": [
    "epochs = 65\n",
    "batch_size = 128\n",
    "learning_rate = 0.05\n",
    "keep_prob = 0.5"
   ]
  },
  {
   "cell_type": "markdown",
   "metadata": {
    "collapsed": true
   },
   "source": [
    "####  Training cycle"
   ]
  },
  {
   "cell_type": "code",
   "execution_count": 16,
   "metadata": {
    "collapsed": true
   },
   "outputs": [],
   "source": [
    "session = tf.Session()"
   ]
  },
  {
   "cell_type": "code",
   "execution_count": 17,
   "metadata": {
    "scrolled": false
   },
   "outputs": [
    {
     "name": "stdout",
     "output_type": "stream",
     "text": [
      "Epoch: 1/65:\n",
      "      - Training loss: 1.14778 (acc: 0.717821)\n",
      "      - Validation loss: 0.486557 (acc: 0.8764)\n",
      "Epoch: 2/65:\n",
      "      - Training loss: 0.389732 (acc: 0.894959)\n",
      "      - Validation loss: 0.323815 (acc: 0.9112)\n",
      "Epoch: 3/65:\n",
      "      - Training loss: 0.292478 (acc: 0.917668)\n",
      "      - Validation loss: 0.261096 (acc: 0.9274)\n",
      "Epoch: 4/65:\n",
      "      - Training loss: 0.239951 (acc: 0.931144)\n",
      "      - Validation loss: 0.217409 (acc: 0.9398)\n",
      "Epoch: 5/65:\n",
      "      - Training loss: 0.203764 (acc: 0.941106)\n",
      "      - Validation loss: 0.187195 (acc: 0.9486)\n",
      "Epoch: 6/65:\n",
      "      - Training loss: 0.176166 (acc: 0.94859)\n",
      "      - Validation loss: 0.168334 (acc: 0.9518)\n",
      "Epoch: 7/65:\n",
      "      - Training loss: 0.156396 (acc: 0.954418)\n",
      "      - Validation loss: 0.153051 (acc: 0.9584)\n",
      "Epoch: 8/65:\n",
      "      - Training loss: 0.13935 (acc: 0.960118)\n",
      "      - Validation loss: 0.138312 (acc: 0.9626)\n",
      "Epoch: 9/65:\n",
      "      - Training loss: 0.126407 (acc: 0.963105)\n",
      "      - Validation loss: 0.130054 (acc: 0.965)\n",
      "Epoch: 10/65:\n",
      "      - Training loss: 0.115764 (acc: 0.9658)\n",
      "      - Validation loss: 0.12294 (acc: 0.9654)\n",
      "Epoch: 11/65:\n",
      "      - Training loss: 0.105635 (acc: 0.969515)\n",
      "      - Validation loss: 0.115104 (acc: 0.9674)\n",
      "Epoch: 12/65:\n",
      "      - Training loss: 0.0983689 (acc: 0.971518)\n",
      "      - Validation loss: 0.112794 (acc: 0.969)\n",
      "Epoch: 13/65:\n",
      "      - Training loss: 0.091781 (acc: 0.973594)\n",
      "      - Validation loss: 0.105063 (acc: 0.9706)\n",
      "Epoch: 14/65:\n",
      "      - Training loss: 0.0860418 (acc: 0.975652)\n",
      "      - Validation loss: 0.102895 (acc: 0.9712)\n",
      "Epoch: 15/65:\n",
      "      - Training loss: 0.0810301 (acc: 0.976745)\n",
      "      - Validation loss: 0.0967638 (acc: 0.9728)\n",
      "Epoch: 16/65:\n",
      "      - Training loss: 0.0761993 (acc: 0.978019)\n",
      "      - Validation loss: 0.0941112 (acc: 0.9736)\n",
      "Epoch: 17/65:\n",
      "      - Training loss: 0.0718926 (acc: 0.979367)\n",
      "      - Validation loss: 0.0909572 (acc: 0.9744)\n",
      "Epoch: 18/65:\n",
      "      - Training loss: 0.0686733 (acc: 0.980259)\n",
      "      - Validation loss: 0.0885251 (acc: 0.976)\n",
      "Epoch: 19/65:\n",
      "      - Training loss: 0.0646351 (acc: 0.981261)\n",
      "      - Validation loss: 0.0853919 (acc: 0.9764)\n",
      "Epoch: 20/65:\n",
      "      - Training loss: 0.0617828 (acc: 0.982809)\n",
      "      - Validation loss: 0.0842196 (acc: 0.9762)\n",
      "Epoch: 21/65:\n",
      "      - Training loss: 0.058975 (acc: 0.983173)\n",
      "      - Validation loss: 0.0850128 (acc: 0.9776)\n",
      "Epoch: 22/65:\n",
      "      - Training loss: 0.0563393 (acc: 0.984411)\n",
      "      - Validation loss: 0.0808883 (acc: 0.977)\n",
      "Epoch: 23/65:\n",
      "      - Training loss: 0.0534516 (acc: 0.984976)\n",
      "      - Validation loss: 0.080022 (acc: 0.9776)\n",
      "Epoch: 24/65:\n",
      "      - Training loss: 0.0513053 (acc: 0.985541)\n",
      "      - Validation loss: 0.0795938 (acc: 0.979)\n",
      "Epoch: 25/65:\n",
      "      - Training loss: 0.0487141 (acc: 0.986469)\n",
      "      - Validation loss: 0.0773711 (acc: 0.9786)\n",
      "Epoch: 26/65:\n",
      "      - Training loss: 0.0472352 (acc: 0.986742)\n",
      "      - Validation loss: 0.076755 (acc: 0.9788)\n",
      "Epoch: 27/65:\n",
      "      - Training loss: 0.0455069 (acc: 0.987198)\n",
      "      - Validation loss: 0.0747866 (acc: 0.9798)\n",
      "Epoch: 28/65:\n",
      "      - Training loss: 0.0434798 (acc: 0.987999)\n",
      "      - Validation loss: 0.0760883 (acc: 0.9786)\n",
      "Epoch: 29/65:\n",
      "      - Training loss: 0.0421112 (acc: 0.988108)\n",
      "      - Validation loss: 0.0735953 (acc: 0.9798)\n",
      "Epoch: 30/65:\n",
      "      - Training loss: 0.0401033 (acc: 0.9888)\n",
      "      - Validation loss: 0.0742509 (acc: 0.9786)\n",
      "Epoch: 31/65:\n",
      "      - Training loss: 0.0383967 (acc: 0.989438)\n",
      "      - Validation loss: 0.0721316 (acc: 0.9812)\n",
      "Epoch: 32/65:\n",
      "      - Training loss: 0.0376265 (acc: 0.989656)\n",
      "      - Validation loss: 0.0748066 (acc: 0.9788)\n",
      "Epoch: 33/65:\n",
      "      - Training loss: 0.0360857 (acc: 0.990111)\n",
      "      - Validation loss: 0.074346 (acc: 0.9782)\n",
      "Epoch: 34/65:\n",
      "      - Training loss: 0.034989 (acc: 0.990421)\n",
      "      - Validation loss: 0.0718217 (acc: 0.98)\n",
      "Epoch: 35/65:\n",
      "      - Training loss: 0.0335129 (acc: 0.991022)\n",
      "      - Validation loss: 0.0719014 (acc: 0.9812)\n",
      "Epoch: 36/65:\n",
      "      - Training loss: 0.0324727 (acc: 0.991131)\n",
      "      - Validation loss: 0.0705067 (acc: 0.9798)\n",
      "Epoch: 37/65:\n",
      "      - Training loss: 0.0310904 (acc: 0.991841)\n",
      "      - Validation loss: 0.0699909 (acc: 0.9814)\n",
      "Epoch: 38/65:\n",
      "      - Training loss: 0.0304451 (acc: 0.991896)\n",
      "      - Validation loss: 0.0687461 (acc: 0.9818)\n",
      "Epoch: 39/65:\n",
      "      - Training loss: 0.0296781 (acc: 0.992096)\n",
      "      - Validation loss: 0.0682599 (acc: 0.9818)\n",
      "Epoch: 40/65:\n",
      "      - Training loss: 0.0284026 (acc: 0.992096)\n",
      "      - Validation loss: 0.0705859 (acc: 0.9808)\n",
      "Epoch: 41/65:\n",
      "      - Training loss: 0.0274918 (acc: 0.992734)\n",
      "      - Validation loss: 0.0668382 (acc: 0.9816)\n",
      "Epoch: 42/65:\n",
      "      - Training loss: 0.0268539 (acc: 0.992625)\n",
      "      - Validation loss: 0.0688185 (acc: 0.9814)\n",
      "Epoch: 43/65:\n",
      "      - Training loss: 0.0258579 (acc: 0.993043)\n",
      "      - Validation loss: 0.0693078 (acc: 0.9808)\n",
      "Epoch: 44/65:\n",
      "      - Training loss: 0.0252898 (acc: 0.993426)\n",
      "      - Validation loss: 0.0680176 (acc: 0.9816)\n",
      "Epoch: 45/65:\n",
      "      - Training loss: 0.0240155 (acc: 0.993808)\n",
      "      - Validation loss: 0.0695146 (acc: 0.981)\n",
      "Epoch: 46/65:\n",
      "      - Training loss: 0.0236558 (acc: 0.993808)\n",
      "      - Validation loss: 0.0684718 (acc: 0.9814)\n",
      "Epoch: 47/65:\n",
      "      - Training loss: 0.0223018 (acc: 0.994282)\n",
      "      - Validation loss: 0.0668802 (acc: 0.9816)\n",
      "Epoch: 48/65:\n",
      "      - Training loss: 0.0221407 (acc: 0.994245)\n",
      "      - Validation loss: 0.0680675 (acc: 0.9818)\n",
      "Epoch: 49/65:\n",
      "      - Training loss: 0.0211189 (acc: 0.994537)\n",
      "      - Validation loss: 0.0674974 (acc: 0.9824)\n",
      "Epoch: 50/65:\n",
      "      - Training loss: 0.0203342 (acc: 0.994682)\n",
      "      - Validation loss: 0.0664568 (acc: 0.9808)\n",
      "Epoch: 51/65:\n",
      "      - Training loss: 0.0200384 (acc: 0.994992)\n",
      "      - Validation loss: 0.0675002 (acc: 0.9818)\n",
      "Epoch: 52/65:\n",
      "      - Training loss: 0.0193576 (acc: 0.995047)\n",
      "      - Validation loss: 0.0664609 (acc: 0.9816)\n",
      "Epoch: 53/65:\n",
      "      - Training loss: 0.0189627 (acc: 0.995047)\n",
      "      - Validation loss: 0.0649628 (acc: 0.982)\n",
      "Epoch: 54/65:\n",
      "      - Training loss: 0.018251 (acc: 0.995302)\n",
      "      - Validation loss: 0.0656379 (acc: 0.982)\n",
      "Epoch: 55/65:\n",
      "      - Training loss: 0.0179571 (acc: 0.995338)\n",
      "      - Validation loss: 0.0651698 (acc: 0.9832)\n",
      "Epoch: 56/65:\n",
      "      - Training loss: 0.0177572 (acc: 0.995411)\n",
      "      - Validation loss: 0.0658033 (acc: 0.9824)\n",
      "Epoch: 57/65:\n",
      "      - Training loss: 0.0173288 (acc: 0.995447)\n",
      "      - Validation loss: 0.066129 (acc: 0.9824)\n",
      "Epoch: 58/65:\n",
      "      - Training loss: 0.0167919 (acc: 0.995575)\n",
      "      - Validation loss: 0.067079 (acc: 0.9824)\n",
      "Epoch: 59/65:\n",
      "      - Training loss: 0.0159437 (acc: 0.995921)\n",
      "      - Validation loss: 0.0657597 (acc: 0.9822)\n",
      "Epoch: 60/65:\n",
      "      - Training loss: 0.0153053 (acc: 0.996139)\n",
      "      - Validation loss: 0.0637636 (acc: 0.983)\n",
      "Epoch: 61/65:\n",
      "      - Training loss: 0.015249 (acc: 0.996194)\n",
      "      - Validation loss: 0.0657762 (acc: 0.982)\n",
      "Epoch: 62/65:\n",
      "      - Training loss: 0.01454 (acc: 0.996267)\n",
      "      - Validation loss: 0.0654124 (acc: 0.9826)\n",
      "Epoch: 63/65:\n",
      "      - Training loss: 0.0142997 (acc: 0.996412)\n",
      "      - Validation loss: 0.0662283 (acc: 0.9814)\n",
      "Epoch: 64/65:\n",
      "      - Training loss: 0.0140377 (acc: 0.996503)\n",
      "      - Validation loss: 0.0673679 (acc: 0.9818)\n",
      "Epoch: 65/65:\n",
      "      - Training loss: 0.0136003 (acc: 0.996595)\n",
      "      - Validation loss: 0.0681207 (acc: 0.982)\n"
     ]
    }
   ],
   "source": [
    "info = {'train':[], 'validation':[], 'train_acc':[], 'validation_acc':[]}\n",
    "\n",
    "session.run(tf.global_variables_initializer())\n",
    "for epoch in range(epochs):\n",
    "    mini_batches = prepare_mini_batches(trainX, trainY, batch_size)\n",
    "\n",
    "    epoch_losses = []\n",
    "    epoch_accuracy = []\n",
    "    while mini_batches:\n",
    "        data_inputs, data_labels = mini_batches.pop()\n",
    "\n",
    "        session.run(\n",
    "            optimizer, feed_dict={inputs_: data_inputs, \n",
    "                                  targets_: data_labels, \n",
    "                                  learning_rate_: learning_rate,\n",
    "                                  keep_prob_: keep_prob})\n",
    "\n",
    "        batch_loss = session.run(\n",
    "            loss_function, feed_dict={inputs_: data_inputs, \n",
    "                                      targets_: data_labels,\n",
    "                                      keep_prob_: 1.})\n",
    "\n",
    "        batch_acc = session.run(accuracy, feed_dict={inputs_:data_inputs, \n",
    "                                                              targets_: data_labels,\n",
    "                                                              keep_prob_: 1.})\n",
    "\n",
    "        epoch_losses.append(batch_loss)\n",
    "        epoch_accuracy.append(batch_acc)\n",
    "\n",
    "    train_loss = np.mean(epoch_losses)\n",
    "    info['train'].append(train_loss)\n",
    "\n",
    "    train_accuracy = np.mean(epoch_accuracy)\n",
    "    info['train_acc'].append(train_accuracy)\n",
    "\n",
    "    val_loss = session.run(loss_function, feed_dict={inputs_: valX, \n",
    "                                                              targets_: valY,\n",
    "                                                              keep_prob_: 1.})\n",
    "    info['validation'].append(val_loss)\n",
    "\n",
    "    val_accuracy = session.run(accuracy, feed_dict={inputs_: valX,\n",
    "                                                             targets_: valY,\n",
    "                                                             keep_prob_: 1.})\n",
    "    info['validation_acc'].append(val_accuracy)\n",
    "\n",
    "    print(\"Epoch: \" + str(epoch + 1) + \"/\" + str(epochs) + \":\\n\"\n",
    "          + \"      - Training loss: \" + str(train_loss) + \" (acc: \" + str(train_accuracy) + \")\\n\"\n",
    "          + \"      - Validation loss: \" + str(val_loss) + \" (acc: \" + str(val_accuracy) + \")\")"
   ]
  },
  {
   "cell_type": "markdown",
   "metadata": {},
   "source": [
    "#### Results"
   ]
  },
  {
   "cell_type": "code",
   "execution_count": 18,
   "metadata": {},
   "outputs": [
    {
     "data": {
      "image/png": "[encoded data removed]",
      "text/plain": [
       "<matplotlib.figure.Figure at 0x11d7d7128>"
      ]
     },
     "metadata": {},
     "output_type": "display_data"
    }
   ],
   "source": [
    "fig1 = plt.figure()\n",
    "ax1 = fig1.add_subplot(111)\n",
    "ax1.plot(info['train_acc'], label='Training acc')\n",
    "ax1.plot(info['validation_acc'], label='Validation acc')\n",
    "blue_patch = mpatches.Patch(color='#699cef', label='Training accuracy')\n",
    "orange_patch = mpatches.Patch(color='orange', label='Validation accuracy')\n",
    "ax1.legend(handles=[blue_patch, orange_patch])\n",
    "plt.show()"
   ]
  },
  {
   "cell_type": "code",
   "execution_count": 19,
   "metadata": {},
   "outputs": [
    {
     "data": {
      "image/png": "[encoded data removed]",
      "text/plain": [
       "<matplotlib.figure.Figure at 0x11e285860>"
      ]
     },
     "metadata": {},
     "output_type": "display_data"
    }
   ],
   "source": [
    "fig1 = plt.figure()\n",
    "ax2 = fig1.add_subplot(111)\n",
    "ax2.plot(info['train'], label='Training loss')\n",
    "ax2.plot(info['validation'], label='Validation loss')\n",
    "blue_patch = mpatches.Patch(color='#699cef', label='Training cross-entropy')\n",
    "orange_patch = mpatches.Patch(color='orange', label='Validation cross-entropy')\n",
    "ax2.legend(handles=[blue_patch, orange_patch])\n",
    "plt.show()"
   ]
  },
  {
   "cell_type": "code",
   "execution_count": 20,
   "metadata": {},
   "outputs": [
    {
     "name": "stdout",
     "output_type": "stream",
     "text": [
      "Test dataset accuracy: 0.9794\n"
     ]
    }
   ],
   "source": [
    "test_accuracy = session.run(accuracy, feed_dict={inputs_: testX, \n",
    "                                                 targets_: testY,\n",
    "                                                 keep_prob_: 1.})\n",
    "print(\"Test dataset accuracy: \" + str(test_accuracy))"
   ]
  },
  {
   "cell_type": "code",
   "execution_count": 21,
   "metadata": {
    "collapsed": true
   },
   "outputs": [],
   "source": [
    "session.close()"
   ]
  }
 ],
 "metadata": {
  "kernelspec": {
   "display_name": "Python 3",
   "language": "python",
   "name": "python3"
  },
  "language_info": {
   "codemirror_mode": {
    "name": "ipython",
    "version": 3
   },
   "file_extension": ".py",
   "mimetype": "text/x-python",
   "name": "python",
   "nbconvert_exporter": "python",
   "pygments_lexer": "ipython3",
   "version": "3.6.1"
  }
 },
 "nbformat": 4,
 "nbformat_minor": 2
}
