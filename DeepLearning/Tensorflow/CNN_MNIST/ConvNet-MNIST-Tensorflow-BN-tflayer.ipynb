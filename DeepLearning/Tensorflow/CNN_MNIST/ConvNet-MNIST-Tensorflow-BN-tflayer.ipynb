{
 "cells": [
  {
   "cell_type": "code",
   "execution_count": 1,
   "metadata": {
    "collapsed": true
   },
   "outputs": [],
   "source": [
    "import tensorflow.examples.tutorials.mnist as mnist\n",
    "import tensorflow as tf\n",
    "import matplotlib.pyplot as plt\n",
    "import matplotlib.patches as mpatches\n",
    "import numpy as np\n",
    "import random"
   ]
  },
  {
   "cell_type": "code",
   "execution_count": 2,
   "metadata": {
    "collapsed": true
   },
   "outputs": [],
   "source": [
    "%matplotlib inline"
   ]
  },
  {
   "cell_type": "markdown",
   "metadata": {},
   "source": [
    "#### Dataset info"
   ]
  },
  {
   "cell_type": "code",
   "execution_count": 3,
   "metadata": {
    "collapsed": true
   },
   "outputs": [],
   "source": [
    "# source: http://yann.lecun.com/exdb/mnist/\n",
    "IMAGE_WIDTH = 28\n",
    "IMAGE_HEIGHT = 28\n",
    "NUM_CHANNELS = 1\n",
    "PIXEL_DEPTH = 255\n",
    "NUM_LABELS = 10"
   ]
  },
  {
   "cell_type": "markdown",
   "metadata": {},
   "source": [
    "#### Loading files\n",
    "Data is already preprocessed, shuffled and normalized."
   ]
  },
  {
   "cell_type": "code",
   "execution_count": 4,
   "metadata": {},
   "outputs": [
    {
     "name": "stdout",
     "output_type": "stream",
     "text": [
      "Extracting tensorflow/examples/tutorials/mnist/train-images-idx3-ubyte.gz\n",
      "Extracting tensorflow/examples/tutorials/mnist/train-labels-idx1-ubyte.gz\n",
      "Extracting tensorflow/examples/tutorials/mnist/t10k-images-idx3-ubyte.gz\n",
      "Extracting tensorflow/examples/tutorials/mnist/t10k-labels-idx1-ubyte.gz\n"
     ]
    }
   ],
   "source": [
    "mnist_dataset = mnist.input_data.read_data_sets('tensorflow/examples/tutorials/mnist', one_hot=True)"
   ]
  },
  {
   "cell_type": "markdown",
   "metadata": {},
   "source": [
    "#### Divide data"
   ]
  },
  {
   "cell_type": "code",
   "execution_count": 5,
   "metadata": {
    "collapsed": true
   },
   "outputs": [],
   "source": [
    "trainX = mnist_dataset.train.images\n",
    "valX = mnist_dataset.validation.images\n",
    "testX = mnist_dataset.test.images\n",
    "\n",
    "trainY = mnist_dataset.train.labels.astype(np.float32)\n",
    "valY = mnist_dataset.validation.labels.astype(np.float32)\n",
    "testY = mnist_dataset.test.labels.astype(np.float32)"
   ]
  },
  {
   "cell_type": "code",
   "execution_count": 6,
   "metadata": {
    "collapsed": true
   },
   "outputs": [],
   "source": [
    "TRAIN_IMAGES_NUM = trainX.shape[0]\n",
    "TEST_IMAGES_NUM = testX.shape[0]"
   ]
  },
  {
   "cell_type": "markdown",
   "metadata": {},
   "source": [
    "#### Present data"
   ]
  },
  {
   "cell_type": "code",
   "execution_count": 7,
   "metadata": {
    "collapsed": true
   },
   "outputs": [],
   "source": [
    "def show_digit(trainX, trainY, index):\n",
    "    image = trainX[index].reshape([IMAGE_WIDTH, IMAGE_HEIGHT])\n",
    "    label = trainY[index]\n",
    "    plt.title(\"Training data, index: {},  Label: {}\".format(index, label))\n",
    "    plt.imshow(image, cmap=\"gray_r\")\n",
    "    plt.show()"
   ]
  },
  {
   "cell_type": "code",
   "execution_count": 8,
   "metadata": {},
   "outputs": [
    {
     "name": "stdout",
     "output_type": "stream",
     "text": [
      "trainX shape: (55000, 784)\n",
      "trainY shape: (55000, 10)\n",
      "valX shape: (5000, 784)\n",
      "valY shape: (5000, 10)\n",
      "testX shape: (10000, 784)\n",
      "testY shape: (10000, 10)\n"
     ]
    },
    {
     "data": {
      "image/png": "[encoded data removed]",
      "text/plain": [
       "<matplotlib.figure.Figure at 0x1199ef208>"
      ]
     },
     "metadata": {},
     "output_type": "display_data"
    }
   ],
   "source": [
    "print(\"trainX shape: \" + str(trainX.shape))\n",
    "print(\"trainY shape: \" + str(trainY.shape))\n",
    "print(\"valX shape: \" + str(valX.shape))\n",
    "print(\"valY shape: \" + str(valY.shape))\n",
    "print(\"testX shape: \" + str(testX.shape))\n",
    "print(\"testY shape: \" + str(testY.shape))\n",
    "show_digit(trainX, trainY, np.random.randint(1, TRAIN_IMAGES_NUM + 1))"
   ]
  },
  {
   "cell_type": "markdown",
   "metadata": {},
   "source": [
    "#### Neural Network preparation"
   ]
  },
  {
   "cell_type": "code",
   "execution_count": 9,
   "metadata": {
    "collapsed": true
   },
   "outputs": [],
   "source": [
    "def conv_net_image_input(image_width, image_height, channels):\n",
    "    return tf.placeholder(tf.float32, shape=[None, image_width * image_height * channels], name='inputs')"
   ]
  },
  {
   "cell_type": "code",
   "execution_count": 10,
   "metadata": {
    "collapsed": true
   },
   "outputs": [],
   "source": [
    "def conv_net_label_input(n_classes):\n",
    "    return tf.placeholder(tf.float32, shape=[None, n_classes], name='labels')"
   ]
  },
  {
   "cell_type": "code",
   "execution_count": 11,
   "metadata": {
    "collapsed": true
   },
   "outputs": [],
   "source": [
    "def conv_net_keep_prob_input():\n",
    "    return tf.placeholder(tf.float32, name=\"keep_prob\")"
   ]
  },
  {
   "cell_type": "code",
   "execution_count": 12,
   "metadata": {
    "collapsed": true
   },
   "outputs": [],
   "source": [
    "def conv_net_is_training_placeholder():\n",
    "    return tf.placeholder(tf.bool)"
   ]
  },
  {
   "cell_type": "code",
   "execution_count": 13,
   "metadata": {
    "collapsed": true
   },
   "outputs": [],
   "source": [
    "def conv_net(inputs, keep_prob, is_training):   \n",
    "    \n",
    "    # Reshape into image\n",
    "    input_layer = tf.reshape(inputs, [-1, IMAGE_WIDTH, IMAGE_HEIGHT, NUM_CHANNELS])\n",
    "    \n",
    "    # Conv Layer - 1, Input 28x28x1 -> BatchNorm -> ReLU -> MaxPooling -> Output 14x14x16\n",
    "    conv1_layer = tf.layers.conv2d(inputs=input_layer, filters=16, kernel_size=5, strides=1, \n",
    "                                   padding=\"SAME\", use_bias=False, activation=None,\n",
    "                                   kernel_initializer=tf.contrib.layers.xavier_initializer())\n",
    "    conv1_layer_norm = tf.layers.batch_normalization(conv1_layer, training=is_training)\n",
    "    conv1_layer_activated = tf.nn.relu(conv1_layer_norm)\n",
    "    conv1_layer_mpool = tf.layers.max_pooling2d(conv1_layer_activated, pool_size=2, strides=2)\n",
    "    \n",
    "    # Conv Layer - 2, Input 16x16x16 -> BatchNorm -> ReLU -> MaxPooling -> Output 7x7x32\n",
    "    conv2_layer = tf.layers.conv2d(inputs=conv1_layer_mpool, filters=32, kernel_size=3, strides=1, \n",
    "                                   padding=\"SAME\", use_bias=False, activation=None, \n",
    "                                   kernel_initializer=tf.contrib.layers.xavier_initializer())\n",
    "    conv2_layer_norm = tf.layers.batch_normalization(conv2_layer, training=is_training)\n",
    "    conv2_layer_activated = tf.nn.relu(conv2_layer_norm)\n",
    "    conv2_layer_mpool = tf.layers.max_pooling2d(conv2_layer_activated, pool_size=2, strides=2)\n",
    "\n",
    "    # Conv Layer - 3, Input 7x7x32 -> BatchNorm -> ReLU -> MaxPooling -> Output 4x4x64\n",
    "    conv3_layer = tf.layers.conv2d(inputs=conv2_layer_mpool, filters=64, kernel_size=3, strides=1,\n",
    "                                   padding=\"SAME\", use_bias=False, activation=None,\n",
    "                                   kernel_initializer=tf.contrib.layers.xavier_initializer())\n",
    "    conv3_layer_norm = tf.layers.batch_normalization(conv3_layer, training=is_training)\n",
    "    conv3_layer_activated = tf.nn.relu(conv3_layer_norm)\n",
    "    conv3_layer_mpool = tf.layers.max_pooling2d(conv3_layer_activated, pool_size=2, strides=2)\n",
    "    \n",
    "    # Conv Layer Flattened\n",
    "    conv_output_shape = conv3_layer_mpool.get_shape().as_list()\n",
    "    flatten=tf.reshape(conv3_layer_mpool,\n",
    "                       [-1, conv_output_shape[1] * conv_output_shape[2] * conv_output_shape[3]])\n",
    "    \n",
    "    # Dense Layer - 1\n",
    "    dense1_layer = tf.layers.dense(inputs=flatten, units=128, use_bias=False, activation=None)\n",
    "    dense1_layer_norm = tf.layers.batch_normalization(dense1_layer, training=is_training)\n",
    "    dense1_layer_activated = tf.nn.relu(dense1_layer_norm)\n",
    "    dense1_layer_dropout = tf.layers.dropout(inputs=dense1_layer_activated, rate=keep_prob)\n",
    "    \n",
    "    # Output Layer \n",
    "    output = tf.layers.dense(inputs=dense1_layer_dropout, units=NUM_LABELS, activation=None)\n",
    "    \n",
    "    return output"
   ]
  },
  {
   "cell_type": "markdown",
   "metadata": {},
   "source": [
    "#### Batches utils"
   ]
  },
  {
   "cell_type": "code",
   "execution_count": 14,
   "metadata": {
    "collapsed": true
   },
   "outputs": [],
   "source": [
    "def prepare_mini_batches(data, labels, batch_size):\n",
    "    assert len(data) == len(labels)\n",
    "    \n",
    "    all_batches = list()\n",
    "    for i in range(0, len(data)):\n",
    "        all_batches.append((data[i], labels[i]))\n",
    "    random.shuffle(all_batches)\n",
    "        \n",
    "    mini_batches = list()\n",
    "    while len(all_batches) >= batch_size:\n",
    "        \n",
    "        data_batch = list()\n",
    "        labels_batch = list()\n",
    "        for j in range(0, batch_size):\n",
    "            data, labels = all_batches.pop()\n",
    "            data_batch.append(data)\n",
    "            labels_batch.append(labels)\n",
    "            \n",
    "        mini_batches.append((np.array(data_batch), np.array(labels_batch)))\n",
    "    \n",
    "    return mini_batches"
   ]
  },
  {
   "cell_type": "markdown",
   "metadata": {},
   "source": [
    "#### Building model"
   ]
  },
  {
   "cell_type": "code",
   "execution_count": 15,
   "metadata": {
    "collapsed": true
   },
   "outputs": [],
   "source": [
    "tf.reset_default_graph()"
   ]
  },
  {
   "cell_type": "code",
   "execution_count": 16,
   "metadata": {
    "collapsed": true
   },
   "outputs": [],
   "source": [
    "inputs = conv_net_image_input(IMAGE_WIDTH, IMAGE_HEIGHT, NUM_CHANNELS)\n",
    "targets = conv_net_label_input(NUM_LABELS)\n",
    "keep_prob = conv_net_keep_prob_input()\n",
    "is_training = conv_net_is_training_placeholder()\n",
    "\n",
    "model = conv_net(inputs, keep_prob, is_training)"
   ]
  },
  {
   "cell_type": "code",
   "execution_count": 17,
   "metadata": {
    "collapsed": true
   },
   "outputs": [],
   "source": [
    "cost = tf.reduce_mean(tf.nn.softmax_cross_entropy_with_logits(logits=model, labels=targets))\n",
    "\n",
    "optimizer_step = 1e-4\n",
    "with tf.control_dependencies(tf.get_collection(tf.GraphKeys.UPDATE_OPS)):\n",
    "    optimizer = tf.train.AdamOptimizer(optimizer_step).minimize(cost)\n",
    "\n",
    "correct_pred = tf.equal(tf.argmax(model, 1), tf.argmax(targets, 1))\n",
    "accuracy = tf.reduce_mean(tf.cast(correct_pred, tf.float32), name='accuracy')"
   ]
  },
  {
   "cell_type": "markdown",
   "metadata": {},
   "source": [
    "#### Hyperparameters"
   ]
  },
  {
   "cell_type": "code",
   "execution_count": 18,
   "metadata": {
    "collapsed": true
   },
   "outputs": [],
   "source": [
    "epochs = 15\n",
    "batch_size = 256\n",
    "keep_probability = 0.5"
   ]
  },
  {
   "cell_type": "markdown",
   "metadata": {},
   "source": [
    "#### Training cycle"
   ]
  },
  {
   "cell_type": "code",
   "execution_count": 19,
   "metadata": {
    "collapsed": true
   },
   "outputs": [],
   "source": [
    "session = tf.Session()"
   ]
  },
  {
   "cell_type": "code",
   "execution_count": 20,
   "metadata": {},
   "outputs": [
    {
     "name": "stdout",
     "output_type": "stream",
     "text": [
      "Epoch 1, Batch 50:  Train cost = 2.3918, Train acc = 0.1211 Val cost = 2.3693, Val acc = 0.1286\n",
      "Epoch 1, Batch 100:  Train cost = 2.7842, Train acc = 0.1016 Val cost = 2.7233, Val acc = 0.1126\n",
      "Epoch 1, Batch 150:  Train cost = 3.0882, Train acc = 0.1133 Val cost = 3.0632, Val acc = 0.1126\n",
      "Epoch 1, Batch 200:  Train cost = 3.3367, Train acc = 0.1172 Val cost = 3.1859, Val acc = 0.1136\n",
      "Epoch 2, Batch 250:  Train cost = 3.0281, Train acc = 0.1602 Val cost = 3.0320, Val acc = 0.1414\n",
      "Epoch 2, Batch 300:  Train cost = 2.7021, Train acc = 0.1953 Val cost = 2.6623, Val acc = 0.1970\n",
      "Epoch 2, Batch 350:  Train cost = 2.0839, Train acc = 0.3438 Val cost = 2.0668, Val acc = 0.3276\n",
      "Epoch 2, Batch 400:  Train cost = 1.4528, Train acc = 0.5508 Val cost = 1.4189, Val acc = 0.5344\n",
      "Epoch 3, Batch 450:  Train cost = 0.9105, Train acc = 0.6953 Val cost = 0.9089, Val acc = 0.7018\n",
      "Epoch 3, Batch 500:  Train cost = 0.4560, Train acc = 0.8633 Val cost = 0.4993, Val acc = 0.8610\n",
      "Epoch 3, Batch 550:  Train cost = 0.2987, Train acc = 0.9336 Val cost = 0.2932, Val acc = 0.9324\n",
      "Epoch 3, Batch 600:  Train cost = 0.2218, Train acc = 0.9570 Val cost = 0.1975, Val acc = 0.9586\n",
      "Epoch 4, Batch 650:  Train cost = 0.1318, Train acc = 0.9805 Val cost = 0.1368, Val acc = 0.9738\n",
      "Epoch 4, Batch 700:  Train cost = 0.1723, Train acc = 0.9531 Val cost = 0.1066, Val acc = 0.9776\n",
      "Epoch 4, Batch 750:  Train cost = 0.1086, Train acc = 0.9844 Val cost = 0.0923, Val acc = 0.9808\n",
      "Epoch 4, Batch 800:  Train cost = 0.0842, Train acc = 0.9805 Val cost = 0.0905, Val acc = 0.9816\n",
      "Epoch 4, Batch 850:  Train cost = 0.0720, Train acc = 0.9883 Val cost = 0.0840, Val acc = 0.9824\n",
      "Epoch 5, Batch 900:  Train cost = 0.0550, Train acc = 0.9922 Val cost = 0.0815, Val acc = 0.9820\n",
      "Epoch 5, Batch 950:  Train cost = 0.0724, Train acc = 0.9844 Val cost = 0.0755, Val acc = 0.9834\n",
      "Epoch 5, Batch 1000:  Train cost = 0.0781, Train acc = 0.9805 Val cost = 0.0728, Val acc = 0.9848\n",
      "Epoch 5, Batch 1050:  Train cost = 0.0674, Train acc = 0.9805 Val cost = 0.0709, Val acc = 0.9838\n",
      "Epoch 6, Batch 1100:  Train cost = 0.0552, Train acc = 0.9922 Val cost = 0.0688, Val acc = 0.9838\n",
      "Epoch 6, Batch 1150:  Train cost = 0.0518, Train acc = 0.9922 Val cost = 0.0655, Val acc = 0.9854\n",
      "Epoch 6, Batch 1200:  Train cost = 0.0780, Train acc = 0.9805 Val cost = 0.0633, Val acc = 0.9848\n",
      "Epoch 6, Batch 1250:  Train cost = 0.0450, Train acc = 0.9844 Val cost = 0.0637, Val acc = 0.9850\n",
      "Epoch 7, Batch 1300:  Train cost = 0.0477, Train acc = 0.9961 Val cost = 0.0603, Val acc = 0.9850\n",
      "Epoch 7, Batch 1350:  Train cost = 0.1032, Train acc = 0.9688 Val cost = 0.0625, Val acc = 0.9858\n",
      "Epoch 7, Batch 1400:  Train cost = 0.0975, Train acc = 0.9727 Val cost = 0.0564, Val acc = 0.9862\n",
      "Epoch 7, Batch 1450:  Train cost = 0.0490, Train acc = 0.9844 Val cost = 0.0549, Val acc = 0.9868\n",
      "Epoch 8, Batch 1500:  Train cost = 0.0373, Train acc = 0.9961 Val cost = 0.0546, Val acc = 0.9862\n",
      "Epoch 8, Batch 1550:  Train cost = 0.0751, Train acc = 0.9883 Val cost = 0.0537, Val acc = 0.9872\n",
      "Epoch 8, Batch 1600:  Train cost = 0.0936, Train acc = 0.9766 Val cost = 0.0525, Val acc = 0.9862\n",
      "Epoch 8, Batch 1650:  Train cost = 0.0486, Train acc = 0.9883 Val cost = 0.0511, Val acc = 0.9874\n",
      "Epoch 8, Batch 1700:  Train cost = 0.0418, Train acc = 0.9805 Val cost = 0.0508, Val acc = 0.9876\n",
      "Epoch 9, Batch 1750:  Train cost = 0.0229, Train acc = 1.0000 Val cost = 0.0489, Val acc = 0.9882\n",
      "Epoch 9, Batch 1800:  Train cost = 0.0314, Train acc = 0.9883 Val cost = 0.0484, Val acc = 0.9876\n",
      "Epoch 9, Batch 1850:  Train cost = 0.0720, Train acc = 0.9766 Val cost = 0.0474, Val acc = 0.9884\n",
      "Epoch 9, Batch 1900:  Train cost = 0.0176, Train acc = 1.0000 Val cost = 0.0469, Val acc = 0.9894\n",
      "Epoch 10, Batch 1950:  Train cost = 0.0323, Train acc = 0.9922 Val cost = 0.0466, Val acc = 0.9880\n",
      "Epoch 10, Batch 2000:  Train cost = 0.0320, Train acc = 0.9961 Val cost = 0.0456, Val acc = 0.9890\n",
      "Epoch 10, Batch 2050:  Train cost = 0.0394, Train acc = 0.9922 Val cost = 0.0448, Val acc = 0.9892\n",
      "Epoch 10, Batch 2100:  Train cost = 0.0337, Train acc = 0.9922 Val cost = 0.0459, Val acc = 0.9882\n",
      "Epoch 11, Batch 2150:  Train cost = 0.0233, Train acc = 0.9961 Val cost = 0.0465, Val acc = 0.9886\n",
      "Epoch 11, Batch 2200:  Train cost = 0.0334, Train acc = 0.9883 Val cost = 0.0433, Val acc = 0.9898\n",
      "Epoch 11, Batch 2250:  Train cost = 0.0295, Train acc = 0.9922 Val cost = 0.0428, Val acc = 0.9898\n",
      "Epoch 11, Batch 2300:  Train cost = 0.0170, Train acc = 1.0000 Val cost = 0.0437, Val acc = 0.9896\n",
      "Epoch 11, Batch 2350:  Train cost = 0.0259, Train acc = 0.9961 Val cost = 0.0418, Val acc = 0.9894\n",
      "Epoch 12, Batch 2400:  Train cost = 0.0145, Train acc = 1.0000 Val cost = 0.0415, Val acc = 0.9898\n",
      "Epoch 12, Batch 2450:  Train cost = 0.0202, Train acc = 0.9961 Val cost = 0.0418, Val acc = 0.9890\n",
      "Epoch 12, Batch 2500:  Train cost = 0.0138, Train acc = 1.0000 Val cost = 0.0398, Val acc = 0.9904\n",
      "Epoch 12, Batch 2550:  Train cost = 0.0249, Train acc = 0.9922 Val cost = 0.0425, Val acc = 0.9888\n",
      "Epoch 13, Batch 2600:  Train cost = 0.0191, Train acc = 1.0000 Val cost = 0.0395, Val acc = 0.9914\n",
      "Epoch 13, Batch 2650:  Train cost = 0.0158, Train acc = 1.0000 Val cost = 0.0403, Val acc = 0.9894\n",
      "Epoch 13, Batch 2700:  Train cost = 0.0131, Train acc = 1.0000 Val cost = 0.0393, Val acc = 0.9898\n",
      "Epoch 13, Batch 2750:  Train cost = 0.0363, Train acc = 0.9883 Val cost = 0.0377, Val acc = 0.9906\n",
      "Epoch 14, Batch 2800:  Train cost = 0.0160, Train acc = 1.0000 Val cost = 0.0377, Val acc = 0.9900\n",
      "Epoch 14, Batch 2850:  Train cost = 0.0273, Train acc = 0.9922 Val cost = 0.0370, Val acc = 0.9908\n",
      "Epoch 14, Batch 2900:  Train cost = 0.0166, Train acc = 0.9961 Val cost = 0.0378, Val acc = 0.9904\n",
      "Epoch 14, Batch 2950:  Train cost = 0.0174, Train acc = 0.9961 Val cost = 0.0356, Val acc = 0.9912\n",
      "Epoch 15, Batch 3000:  Train cost = 0.0213, Train acc = 0.9961 Val cost = 0.0382, Val acc = 0.9908\n",
      "Epoch 15, Batch 3050:  Train cost = 0.0228, Train acc = 1.0000 Val cost = 0.0365, Val acc = 0.9914\n",
      "Epoch 15, Batch 3100:  Train cost = 0.0193, Train acc = 0.9961 Val cost = 0.0360, Val acc = 0.9904\n",
      "Epoch 15, Batch 3150:  Train cost = 0.0185, Train acc = 0.9961 Val cost = 0.0352, Val acc = 0.9910\n",
      "Epoch 15, Batch 3200:  Train cost = 0.0095, Train acc = 1.0000 Val cost = 0.0352, Val acc = 0.9914\n"
     ]
    }
   ],
   "source": [
    "session.run(tf.global_variables_initializer())\n",
    "\n",
    "batch_count = 0\n",
    "info = {'train_cost':[], 'train_acc':[], 'valid_cost':[], 'valid_acc':[]}\n",
    "for epoch in range(epochs):\n",
    "    mini_batches = prepare_mini_batches(trainX, trainY, batch_size)\n",
    "\n",
    "    while mini_batches:\n",
    "        data_batch, label_batch = mini_batches.pop()\n",
    "        batch_count += 1\n",
    "\n",
    "        session.run(optimizer, feed_dict={inputs: data_batch, \n",
    "                                          targets: label_batch, \n",
    "                                          keep_prob: keep_probability, \n",
    "                                          is_training: True})\n",
    "        if (batch_count % 50) == 0:\n",
    "            train_cost = session.run(cost, feed_dict={\n",
    "                    inputs: data_batch, targets: label_batch, keep_prob: 1., is_training: False})\n",
    "\n",
    "            train_acc = session.run(accuracy, feed_dict={\n",
    "                inputs: data_batch, targets: label_batch, keep_prob: 1., is_training: False})\n",
    "\n",
    "            info[\"train_cost\"].append(train_cost)\n",
    "            info[\"train_acc\"].append(train_acc)\n",
    "\n",
    "            valid_cost = session.run(cost, feed_dict={\n",
    "                inputs: valX, targets: valY, keep_prob: 1., is_training: False})\n",
    "\n",
    "            valid_acc = session.run(accuracy, feed_dict={\n",
    "                inputs: valX, targets: valY, keep_prob: 1., is_training: False})\n",
    "\n",
    "            info[\"valid_cost\"].append(valid_cost)\n",
    "            info[\"valid_acc\"].append(valid_acc)\n",
    "\n",
    "            print('Epoch {}, Batch {}:  '.format(epoch + 1, batch_count), end='')\n",
    "            print(\"Train cost = {:.4f},\".format(train_cost), \n",
    "                  \"Train acc = {:.4f}\".format(train_acc),\n",
    "                  \"Val cost = {:.4f},\".format(valid_cost), \n",
    "                  \"Val acc = {:.4f}\".format(valid_acc))    "
   ]
  },
  {
   "cell_type": "code",
   "execution_count": 21,
   "metadata": {},
   "outputs": [
    {
     "data": {
      "image/png": "[encoded data removed]",
      "text/plain": [
       "<matplotlib.figure.Figure at 0x124269f98>"
      ]
     },
     "metadata": {},
     "output_type": "display_data"
    }
   ],
   "source": [
    "fig1 = plt.figure()\n",
    "ax1 = fig1.add_subplot(111)\n",
    "ax1.plot(info['train_acc'], label='Training acc')\n",
    "ax1.plot(info['valid_acc'], label='Validation acc')\n",
    "blue_patch = mpatches.Patch(color='#699cef', label='Training accuracy')\n",
    "orange_patch = mpatches.Patch(color='orange', label='Validation accuracy')\n",
    "ax1.legend(handles=[blue_patch, orange_patch])\n",
    "plt.show()"
   ]
  },
  {
   "cell_type": "code",
   "execution_count": 22,
   "metadata": {},
   "outputs": [
    {
     "data": {
      "image/png": "[encoded data removed]",
      "text/plain": [
       "<matplotlib.figure.Figure at 0x124f71eb8>"
      ]
     },
     "metadata": {},
     "output_type": "display_data"
    }
   ],
   "source": [
    "fig1 = plt.figure()\n",
    "ax2 = fig1.add_subplot(111)\n",
    "ax2.plot(info['train_cost'], label='Training loss')\n",
    "ax2.plot(info['valid_cost'], label='Validation loss')\n",
    "blue_patch = mpatches.Patch(color='#699cef', label='Training cross-entropy')\n",
    "orange_patch = mpatches.Patch(color='orange', label='Validation cross-entropy')\n",
    "ax2.legend(handles=[blue_patch, orange_patch])\n",
    "plt.show()"
   ]
  },
  {
   "cell_type": "markdown",
   "metadata": {},
   "source": [
    "#### Test accuracy"
   ]
  },
  {
   "cell_type": "code",
   "execution_count": 23,
   "metadata": {},
   "outputs": [
    {
     "name": "stdout",
     "output_type": "stream",
     "text": [
      "Test data accuracy: 0.9918\n"
     ]
    }
   ],
   "source": [
    "test_acc = session.run(accuracy, feed_dict={\n",
    "    inputs: valX, targets: valY, keep_prob: 1., is_training: False})\n",
    "print(\"Test data accuracy: \" + str(test_acc))"
   ]
  },
  {
   "cell_type": "code",
   "execution_count": 24,
   "metadata": {
    "collapsed": true
   },
   "outputs": [],
   "source": [
    "session.close()"
   ]
  }
 ],
 "metadata": {
  "kernelspec": {
   "display_name": "Python 3",
   "language": "python",
   "name": "python3"
  },
  "language_info": {
   "codemirror_mode": {
    "name": "ipython",
    "version": 3
   },
   "file_extension": ".py",
   "mimetype": "text/x-python",
   "name": "python",
   "nbconvert_exporter": "python",
   "pygments_lexer": "ipython3",
   "version": "3.6.1"
  }
 },
 "nbformat": 4,
 "nbformat_minor": 2
}
