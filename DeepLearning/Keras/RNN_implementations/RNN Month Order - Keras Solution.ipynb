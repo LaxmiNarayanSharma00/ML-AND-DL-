{
 "cells": [
  {
   "cell_type": "markdown",
   "metadata": {
    "colab_type": "text",
    "id": "63rrklrpuwHb"
   },
   "source": [
    "In this Notebook I will show how teach Recurrent Neural Network to understand month order (or any other order)."
   ]
  },
  {
   "cell_type": "markdown",
   "metadata": {
    "colab_type": "text",
    "id": "rBM0y4fLu7Sy"
   },
   "source": [
    "### Import"
   ]
  },
  {
   "cell_type": "code",
   "execution_count": null,
   "metadata": {
    "colab": {
     "autoexec": {
      "startup": false,
      "wait_interval": 0
     },
     "base_uri": "https://localhost:8080/",
     "height": 34
    },
    "colab_type": "code",
    "executionInfo": {
     "elapsed": 4340,
     "status": "ok",
     "timestamp": 1523801040477,
     "user": {
      "displayName": "Kamil Krzyk",
      "photoUrl": "https://lh3.googleusercontent.com/a/default-user=s128",
      "userId": "104323976945449992696"
     },
     "user_tz": -120
    },
    "id": "49dJdnidufQZ",
    "outputId": "fc1c13f1-f036-4491-b95c-978c9452dff7"
   },
   "outputs": [
    {
     "name": "stderr",
     "output_type": "stream",
     "text": [
      "Using TensorFlow backend.\n"
     ]
    }
   ],
   "source": [
    "!pip install -q keras\n",
    "import keras\n",
    "from keras.models import Sequential\n",
    "from keras.layers import Dense, LSTM\n",
    "from keras.optimizers import Adam\n",
    "\n",
    "import tensorflow as tf\n",
    "\n",
    "import matplotlib.pyplot as plt\n",
    "%matplotlib inline\n",
    "\n",
    "import os\n",
    "import random as rn\n",
    "import numpy as np\n",
    "\n",
    "# Randomness control\n",
    "os.environ['PYTHONHASHSEED'] = '0'\n",
    "RANDOM_SEED = 3939\n",
    "np.random.seed(RANDOM_SEED)\n",
    "rn.seed(RANDOM_SEED)\n",
    "session_conf = tf.ConfigProto(intra_op_parallelism_threads=1, \n",
    "                              inter_op_parallelism_threads=1)\n",
    "\n",
    "tf.set_random_seed(RANDOM_SEED)to analyse whole folder \n",
    "cnn - architecture \n",
    "gan \n",
    "\n",
    "to read \n",
    "dcgan \n",
    "wgan\n",
    "wgan-gp\n",
    "pix2pix \n",
    "\n",
    "cycle-gan\n",
    "sess = tf.Session(graph=tf.get_default_graph(), config=session_conf)\n",
    "keras.backend.set_session(sess)"
   ]
  },
  {
   "cell_type": "markdown",
   "metadata": {
    "colab_type": "text",
    "id": "2EtjgYCAvBpC"
   },
   "source": [
    "### Constants"
   ]
  },
  {
   "cell_type": "code",
   "execution_count": 0,
   "metadata": {
    "colab": {
     "autoexec": {
      "startup": false,
      "wait_interval": 0
     }
    },
    "colab_type": "code",
    "id": "Gog205QEvB_4"
   },
   "outputs": [],
   "source": [
    "MONTH_LIST = [\"Jan\", \"Feb\", \"Mar\", \"Apr\", \"May\", \"Jun\", \"Jul\", \"Aug\", \"Sep\",\n",
    "              \"Oct\", \"Nov\", \"Dec\"]\n",
    "\n",
    "SEQ_LENGTH = 1\n",
    "FEATURE_NUM = 1"
   ]
  },
  {
   "cell_type": "markdown",
   "metadata": {
    "colab_type": "text",
    "id": "C8C5-ijNycA8"
   },
   "source": [
    "### Prepare data"
   ]
  },
  {
   "cell_type": "markdown",
   "metadata": {
    "colab_type": "text",
    "id": "CPDhv-LM09Pg"
   },
   "source": [
    "Prepare `month_to_id` and `id_to_month` dictionaries."
   ]
  },
  {
   "cell_type": "code",
   "execution_count": 3,
   "metadata": {
    "colab": {
     "autoexec": {
      "startup": false,
      "wait_interval": 0
     },
     "base_uri": "https://localhost:8080/",
     "height": 221
    },
    "colab_type": "code",
    "executionInfo": {
     "elapsed": 634,
     "status": "ok",
     "timestamp": 1523801041852,
     "user": {
      "displayName": "Kamil Krzyk",
      "photoUrl": "https://lh3.googleusercontent.com/a/default-user=s128",
      "userId": "104323976945449992696"
     },
     "user_tz": -120
    },
    "id": "2COBl_GKybmd",
    "outputId": "ca89efe3-feb7-4abb-c91a-af58c6740944"
   },
   "outputs": [
    {
     "name": "stdout",
     "output_type": "stream",
     "text": [
      "('Mar', 2)\n",
      "('Feb', 1)\n",
      "('Aug', 7)\n",
      "('Sep', 8)\n",
      "('Apr', 3)\n",
      "('Jun', 5)\n",
      "('Jul', 6)\n",
      "('Jan', 0)\n",
      "('May', 4)\n",
      "('Nov', 10)\n",
      "('Dec', 11)\n",
      "('Oct', 9)\n"
     ]
    }
   ],
   "source": [
    "month_to_id = dict((m, i) for i, m in enumerate(MONTH_LIST))\n",
    "for m, id in month_to_id.items():\n",
    "  print(m, id)"
   ]
  },
  {
   "cell_type": "code",
   "execution_count": 4,
   "metadata": {
    "colab": {
     "autoexec": {
      "startup": false,
      "wait_interval": 0
     },
     "base_uri": "https://localhost:8080/",
     "height": 221
    },
    "colab_type": "code",
    "executionInfo": {
     "elapsed": 656,
     "status": "ok",
     "timestamp": 1523801042562,
     "user": {
      "displayName": "Kamil Krzyk",
      "photoUrl": "https://lh3.googleusercontent.com/a/default-user=s128",
      "userId": "104323976945449992696"
     },
     "user_tz": -120
    },
    "id": "CJoULaVB1MgT",
    "outputId": "50075c67-b08e-4541-cdf0-7a42edb95d45"
   },
   "outputs": [
    {
     "name": "stdout",
     "output_type": "stream",
     "text": [
      "(0, 'Jan')\n",
      "(1, 'Feb')\n",
      "(2, 'Mar')\n",
      "(3, 'Apr')\n",
      "(4, 'May')\n",
      "(5, 'Jun')\n",
      "(6, 'Jul')\n",
      "(7, 'Aug')\n",
      "(8, 'Sep')\n",
      "(9, 'Oct')\n",
      "(10, 'Nov')\n",
      "(11, 'Dec')\n"
     ]
    }
   ],
   "source": [
    "id_to_month = dict((i, m) for i, m in enumerate(MONTH_LIST))\n",
    "for id, month in id_to_month.items():\n",
    "  print(id, month)"
   ]
  },
  {
   "cell_type": "markdown",
   "metadata": {
    "colab_type": "text",
    "id": "wduNIXmV4TBq"
   },
   "source": [
    "Encoding data into input/output sequences"
   ]
  },
  {
   "cell_type": "code",
   "execution_count": 7,
   "metadata": {
    "colab": {
     "autoexec": {
      "startup": false,
      "wait_interval": 0
     },
     "base_uri": "https://localhost:8080/",
     "height": 85
    },
    "colab_type": "code",
    "executionInfo": {
     "elapsed": 1056,
     "status": "ok",
     "timestamp": 1523801061819,
     "user": {
      "displayName": "Kamil Krzyk",
      "photoUrl": "https://lh3.googleusercontent.com/a/default-user=s128",
      "userId": "104323976945449992696"
     },
     "user_tz": -120
    },
    "id": "2rY_U12WxTi-",
    "outputId": "fe507237-1083-4ae4-f44b-0e2fbe4a94e1"
   },
   "outputs": [
    {
     "name": "stdout",
     "output_type": "stream",
     "text": [
      "X sequences: \n",
      "[[0], [1], [2], [3], [4], [5], [6], [7], [8], [9], [10]]\n",
      "y sequences: \n",
      "[1, 2, 3, 4, 5, 6, 7, 8, 9, 10, 11]\n"
     ]
    }
   ],
   "source": [
    "def data_to_sequence(data, data_to_id_dict):\n",
    "    seq_Xs, seq_ys = list(), list()\n",
    "    \n",
    "    for i in range(0, len(data) - SEQ_LENGTH):\n",
    "        seq_X = data[i:i + SEQ_LENGTH]\n",
    "        seq_y = data[i + SEQ_LENGTH]\n",
    "        \n",
    "        seq_Xs.append([data_to_id_dict[i] for i in seq_X])\n",
    "        seq_ys.append(data_to_id_dict[seq_y])\n",
    "        \n",
    "    return seq_Xs, seq_ys\n",
    "    \n",
    "seq_Xs, seq_ys = data_to_sequence(MONTH_LIST, month_to_id)\n",
    "\n",
    "print(\"X sequences: \\n{}\".format(seq_Xs))\n",
    "print(\"y sequences: \\n{}\".format(seq_ys))"
   ]
  },
  {
   "cell_type": "markdown",
   "metadata": {
    "colab_type": "text",
    "id": "RExwkujXHawE"
   },
   "source": [
    "Assemble train_X, train_y"
   ]
  },
  {
   "cell_type": "code",
   "execution_count": 0,
   "metadata": {
    "colab": {
     "autoexec": {
      "startup": false,
      "wait_interval": 0
     }
    },
    "colab_type": "code",
    "id": "TDiapq8x38s3"
   },
   "outputs": [],
   "source": [
    "train_X = np.reshape(seq_Xs, (len(seq_Xs), SEQ_LENGTH, FEATURE_NUM))\n",
    "train_y = keras.utils.to_categorical(seq_ys)"
   ]
  },
  {
   "cell_type": "markdown",
   "metadata": {
    "colab_type": "text",
    "id": "dwXH-XMvIDHo"
   },
   "source": [
    "Normalize"
   ]
  },
  {
   "cell_type": "code",
   "execution_count": 0,
   "metadata": {
    "colab": {
     "autoexec": {
      "startup": false,
      "wait_interval": 0
     }
    },
    "colab_type": "code",
    "id": "aCdBMUkC8q8h"
   },
   "outputs": [],
   "source": [
    "train_X = train_X / float(len(MONTH_LIST))"
   ]
  },
  {
   "cell_type": "markdown",
   "metadata": {
    "colab_type": "text",
    "id": "zPYoBA2QILX9"
   },
   "source": [
    "### Model"
   ]
  },
  {
   "cell_type": "markdown",
   "metadata": {
    "colab_type": "text",
    "id": "WgcWSf19IdbH"
   },
   "source": [
    "Structure"
   ]
  },
  {
   "cell_type": "code",
   "execution_count": 0,
   "metadata": {
    "colab": {
     "autoexec": {
      "startup": false,
      "wait_interval": 0
     }
    },
    "colab_type": "code",
    "id": "71fkN3ioIK20"
   },
   "outputs": [],
   "source": [
    "model = Sequential([\n",
    "    LSTM(128, input_shape=(train_X.shape[1], train_X.shape[2])),\n",
    "    Dense(train_y.shape[1], activation='softmax')   \n",
    "])\n",
    "\n",
    "model.compile(loss='categorical_crossentropy', optimizer=Adam(), \n",
    "              metrics=['accuracy'])"
   ]
  },
  {
   "cell_type": "markdown",
   "metadata": {
    "colab_type": "text",
    "id": "f43GoOKOIev9"
   },
   "source": [
    "Training"
   ]
  },
  {
   "cell_type": "code",
   "execution_count": 0,
   "metadata": {
    "colab": {
     "autoexec": {
      "startup": false,
      "wait_interval": 0
     }
    },
    "colab_type": "code",
    "id": "uqCYOtMXIgmh"
   },
   "outputs": [],
   "source": [
    "history = model.fit(train_X, train_y, \n",
    "                    epochs=500, \n",
    "                    batch_size=1, \n",
    "                    verbose=0, \n",
    "                    shuffle=False)"
   ]
  },
  {
   "cell_type": "markdown",
   "metadata": {
    "colab_type": "text",
    "id": "xtKMEtM1oA1A"
   },
   "source": [
    "Evaluation"
   ]
  },
  {
   "cell_type": "code",
   "execution_count": 18,
   "metadata": {
    "colab": {
     "autoexec": {
      "startup": false,
      "wait_interval": 0
     },
     "base_uri": "https://localhost:8080/",
     "height": 403
    },
    "colab_type": "code",
    "executionInfo": {
     "elapsed": 644,
     "status": "ok",
     "timestamp": 1523801298407,
     "user": {
      "displayName": "Kamil Krzyk",
      "photoUrl": "https://lh3.googleusercontent.com/a/default-user=s128",
      "userId": "104323976945449992696"
     },
     "user_tz": -120
    },
    "id": "wx30kJzVoL_I",
    "outputId": "3557d2f5-440e-4dfc-88a7-3ba63c5985cd"
   },
   "outputs": [
    {
     "data": {
      "image/png": "[encoded data removed]",
      "text/plain": [
       "<matplotlib.figure.Figure at 0x7f379720da90>"
      ]
     },
     "metadata": {
      "tags": []
     },
     "output_type": "display_data"
    }
   ],
   "source": [
    "f, ax = plt.subplots()\n",
    "f.set_size_inches(10, 6)\n",
    "    \n",
    "ax.plot(history.history[\"loss\"], c=\"r\")\n",
    "ax.set_title(\"Error (Categorical Cross-Entropy)\")\n",
    "ax.set_ylabel(\"Value\")\n",
    "ax.set_xlabel(\"Epoch\")\n",
    "ax.legend([\"Training\", \"Validation\"], loc=\"best\");"
   ]
  },
  {
   "cell_type": "markdown",
   "metadata": {
    "colab_type": "text",
    "id": "fhETVcZqpSN3"
   },
   "source": [
    "Prediction"
   ]
  },
  {
   "cell_type": "code",
   "execution_count": 0,
   "metadata": {
    "colab": {
     "autoexec": {
      "startup": false,
      "wait_interval": 0
     }
    },
    "colab_type": "code",
    "id": "us0nHIshJG8I"
   },
   "outputs": [],
   "source": [
    "def predict_next_month(data, model, data_to_id_dict, id_to_data_dict):\n",
    "  month_seq = np.reshape(data_to_id_dict[data], (1, SEQ_LENGTH, FEATURE_NUM))\n",
    "  month_seq = month_seq / float(len(MONTH_LIST))\n",
    "\n",
    "  prediction = model.predict(month_seq, verbose=0)\n",
    "                         \n",
    "  data_index = np.argmax(prediction)\n",
    "  return id_to_data_dict[data_index]"
   ]
  },
  {
   "cell_type": "code",
   "execution_count": 36,
   "metadata": {
    "colab": {
     "autoexec": {
      "startup": false,
      "wait_interval": 0
     },
     "base_uri": "https://localhost:8080/",
     "height": 221
    },
    "colab_type": "code",
    "executionInfo": {
     "elapsed": 653,
     "status": "ok",
     "timestamp": 1523802445132,
     "user": {
      "displayName": "Kamil Krzyk",
      "photoUrl": "https://lh3.googleusercontent.com/a/default-user=s128",
      "userId": "104323976945449992696"
     },
     "user_tz": -120
    },
    "id": "TEWTR79xrWQw",
    "outputId": "a27ba184-5b70-423a-f343-d3abb5b38fc8"
   },
   "outputs": [
    {
     "name": "stdout",
     "output_type": "stream",
     "text": [
      "Jan -> Feb\n",
      "Feb -> Mar\n",
      "Mar -> Apr\n",
      "Apr -> May\n",
      "May -> Jun\n",
      "Jun -> Jul\n",
      "Jul -> Aug\n",
      "Aug -> Sep\n",
      "Sep -> Oct\n",
      "Oct -> Nov\n",
      "Nov -> Dec\n",
      "Dec -> Dec\n"
     ]
    }
   ],
   "source": [
    "for month in MONTH_LIST:\n",
    "  prediction = predict_next_month(month, model, month_to_id, id_to_month)\n",
    "  print(\"{} -> {}\".format(month, prediction))"
   ]
  }
 ],
 "metadata": {
  "colab": {
   "collapsed_sections": [],
   "default_view": {},
   "name": "RNN Month Order - Keras Solution.ipynb",
   "provenance": [],
   "version": "0.3.2",
   "views": {}
  },
  "language_info": {
   "name": "python"
  }
 },
 "nbformat": 4,
 "nbformat_minor": 0
}
